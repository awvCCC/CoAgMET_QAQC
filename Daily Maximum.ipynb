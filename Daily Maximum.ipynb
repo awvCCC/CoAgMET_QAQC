{
 "cells": [
  {
   "cell_type": "code",
   "execution_count": 1,
   "metadata": {},
   "outputs": [],
   "source": [
    "# Loads the libraries required to build the environment we will be using in this tutorial\n",
    "import os\n",
    "import urllib\n",
    "import pandas as pd\n",
    "import numpy as np\n",
    "import matplotlib.pyplot as plt\n",
    "import seaborn as sns\n",
    "import plotly.graph_objects as go\n",
    "from scipy import stats\n",
    "import calendar"
   ]
  },
  {
   "cell_type": "code",
   "execution_count": 289,
   "metadata": {},
   "outputs": [],
   "source": [
    "path = r'C:\\Users\\student\\Documents\\Alistair CoAgMET Projects\\Pythonstuff\\QC\\maximums'\n",
    "os.chdir(path)\n",
    "\n",
    "csv = r'C:\\Users\\student\\Documents\\Alistair CoAgMET Projects\\Pythonstuff\\QC\\normals\\test.csv'\n",
    "\n",
    "urllib.request.urlretrieve(\n",
    "    'http://coagmet.colostate.edu/cgi-bin/web_services.pl?type=daily&sids=yum02&sdate=1996-05-08&edate=2018-12-31&elems=tave,tmax,tmin,vp,rhmax,rhmin,sr,wrun,pp,st5mx,st5mn,st15mx,st15mn',\n",
    "    filename=csv)\n",
    "df = pd.read_csv(csv)\n",
    "\n",
    "df = df.reset_index()\n",
    "\n",
    "df.columns.values[0] = 'station'\n",
    "df.columns.values[1] = 'date'\n",
    "df.columns.values[2] = 'tmean'\n",
    "df.columns.values[3] = 'tmax'\n",
    "df.columns.values[4] = 'tmin'\n",
    "df.columns.values[5] = 'vp'\n",
    "df.columns.values[6] = 'rhmax'\n",
    "df.columns.values[7] = 'rhmin'\n",
    "df.columns.values[8] = 'sr'\n",
    "df.columns.values[9] = 'wrun'\n",
    "df.columns.values[10] = 'pp'\n",
    "df.columns.values[11] = 'st5mx'\n",
    "df.columns.values[12] = 'st5mn'\n",
    "df.columns.values[13] = 'st15mx'\n",
    "df.columns.values[14] = 'st15mn'\n",
    "\n",
    "df['date'] = pd.to_datetime(df.date)\n",
    "df['Julian'] = df.date.dt.strftime('%j')"
   ]
  },
  {
   "cell_type": "code",
   "execution_count": 290,
   "metadata": {},
   "outputs": [],
   "source": [
    "normals = df.groupby(['Julian']).max().reset_index()"
   ]
  },
  {
   "cell_type": "code",
   "execution_count": 291,
   "metadata": {},
   "outputs": [],
   "source": [
    "normals.pp = normals.pp / 25.4\n",
    "normals.tmean = 9.0/5.0 * (normals.tmean + 32)\n",
    "normals.tmax = 9.0/5.0 * (normals.tmax + 32)\n",
    "normals.tmin = 9.0/5.0 * (normals.tmin + 32)\n",
    "normals.st5mx = 9.0/5.0 * (normals.st5mx + 32)\n",
    "normals.st5mn = 9.0/5.0 * (normals.st5mn + 32)\n",
    "normals.st15mx = 9.0/5.0 * (normals.st15mx + 32)\n",
    "normals.st15mn = 9.0/5.0 * (normals.st15mn + 32)\n",
    "normals.wrun = normals.wrun / 1.609344"
   ]
  },
  {
   "cell_type": "code",
   "execution_count": 292,
   "metadata": {},
   "outputs": [],
   "source": [
    "normals.to_csv(path + r'\\yum01.csv')"
   ]
  },
  {
   "cell_type": "code",
   "execution_count": null,
   "metadata": {},
   "outputs": [],
   "source": []
  }
 ],
 "metadata": {
  "kernelspec": {
   "display_name": "Python 3",
   "language": "python",
   "name": "python3"
  },
  "language_info": {
   "codemirror_mode": {
    "name": "ipython",
    "version": 3
   },
   "file_extension": ".py",
   "mimetype": "text/x-python",
   "name": "python",
   "nbconvert_exporter": "python",
   "pygments_lexer": "ipython3",
   "version": "3.7.3"
  }
 },
 "nbformat": 4,
 "nbformat_minor": 2
}
