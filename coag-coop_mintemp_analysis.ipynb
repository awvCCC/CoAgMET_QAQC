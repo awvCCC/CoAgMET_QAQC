{
 "cells": [
  {
   "cell_type": "code",
   "execution_count": 33,
   "metadata": {},
   "outputs": [],
   "source": [
    "import os\n",
    "import pandas as pd\n",
    "import numpy as np\n",
    "import plotly.graph_objects as go\n",
    "from scipy import stats\n",
    "import calendar"
   ]
  },
  {
   "cell_type": "code",
   "execution_count": 34,
   "metadata": {},
   "outputs": [],
   "source": [
    "path = r'C:\\Users\\student\\Documents\\Alistair CoAgMET Projects\\Pythonstuff\\TempComparison'\n",
    "os.chdir(path)"
   ]
  },
  {
   "cell_type": "code",
   "execution_count": 35,
   "metadata": {},
   "outputs": [],
   "source": [
    "bnv01_csv = r\"C:\\Users\\student\\Documents\\Alistair CoAgMET Projects\\Pythonstuff\\TempComparison\\resample\\min\\bnv01_coop_tmincomp.csv\"\n",
    "orm01_csv = r\"C:\\Users\\student\\Documents\\Alistair CoAgMET Projects\\Pythonstuff\\TempComparison\\resample\\min\\orm01_coop_tmincomp.csv\"\n",
    "rfd01_csv = r\"C:\\Users\\student\\Documents\\Alistair CoAgMET Projects\\Pythonstuff\\TempComparison\\resample\\min\\rfd01_coop_tmincomp.csv\"\n",
    "wls01_csv = r\"C:\\Users\\student\\Documents\\Alistair CoAgMET Projects\\Pythonstuff\\TempComparison\\resample\\min\\wls01_coop_tmincomp.csv\""
   ]
  },
  {
   "cell_type": "code",
   "execution_count": 36,
   "metadata": {},
   "outputs": [],
   "source": [
    "bnv01 = pd.read_csv(bnv01_csv)\n",
    "orm01 = pd.read_csv(orm01_csv)\n",
    "rfd01 = pd.read_csv(rfd01_csv)\n",
    "wls01 = pd.read_csv(wls01_csv)"
   ]
  },
  {
   "cell_type": "code",
   "execution_count": 37,
   "metadata": {},
   "outputs": [],
   "source": [
    "bnv01 = bnv01.round(decimals=2)\n",
    "orm01 = orm01.round(decimals=2)\n",
    "rfd01 = rfd01.round(decimals=2)\n",
    "wls01 = wls01.round(decimals=2)"
   ]
  },
  {
   "cell_type": "code",
   "execution_count": 38,
   "metadata": {},
   "outputs": [],
   "source": [
    "bnv01['date'] = pd.to_datetime(bnv01.date)\n",
    "orm01['date'] = pd.to_datetime(orm01.date)\n",
    "rfd01['date'] = pd.to_datetime(rfd01.date)\n",
    "wls01['date'] = pd.to_datetime(wls01.date)"
   ]
  },
  {
   "cell_type": "code",
   "execution_count": 39,
   "metadata": {},
   "outputs": [],
   "source": [
    "bnv01_monthly = bnv01.groupby('month').mean().reset_index()\n",
    "orm01_monthly = orm01.groupby('month').mean().reset_index()\n",
    "rfd01_monthly = rfd01.groupby('month').mean().reset_index()\n",
    "wls01_monthly = wls01.groupby('month').mean().reset_index()"
   ]
  },
  {
   "cell_type": "code",
   "execution_count": 40,
   "metadata": {},
   "outputs": [],
   "source": [
    "bnv01_monthly['month'] = bnv01_monthly['month'].apply(lambda x: calendar.month_abbr[x])\n",
    "orm01_monthly['month'] = orm01_monthly['month'].apply(lambda x: calendar.month_abbr[x])\n",
    "rfd01_monthly['month'] = rfd01_monthly['month'].apply(lambda x: calendar.month_abbr[x])\n",
    "wls01_monthly['month'] = wls01_monthly['month'].apply(lambda x: calendar.month_abbr[x])"
   ]
  },
  {
   "cell_type": "code",
   "execution_count": 42,
   "metadata": {},
   "outputs": [
    {
     "ename": "TypeError",
     "evalue": "can only concatenate str (not \"method\") to str",
     "output_type": "error",
     "traceback": [
      "\u001b[1;31m---------------------------------------------------------------------------\u001b[0m",
      "\u001b[1;31mTypeError\u001b[0m                                 Traceback (most recent call last)",
      "\u001b[1;32m<ipython-input-42-c8da29ff147f>\u001b[0m in \u001b[0;36m<module>\u001b[1;34m\u001b[0m\n\u001b[0;32m      4\u001b[0m                                      yaxis=go.layout.YAxis(title=go.layout.yaxis.Title(text='Temperature (°F)'))))\n\u001b[0;32m      5\u001b[0m bnv01_fig.add_trace(\n\u001b[1;32m----> 6\u001b[1;33m     go.Bar(x=bnv01_monthly.month,y=bnv01_monthly.tmin,text='Difference: ' + bnv01_monthly.diff,name='BNV01'))\n\u001b[0m\u001b[0;32m      7\u001b[0m bnv01_fig = add_trace(\n\u001b[0;32m      8\u001b[0m     go.Bar(x=bnv01_monthly.month,y=bnv01_monthly.mint,text='Difference: ' + bnv01_monthly.diff,name='Bunea Vista 2S'))            \n",
      "\u001b[1;31mTypeError\u001b[0m: can only concatenate str (not \"method\") to str"
     ]
    }
   ],
   "source": [
    "bnv01_fig = go.Figure(data=[go.Bar()],\n",
    "                     layout=go.Layout(title=go.layout.Title(text='Average Monthly Min Temp Comparison'),\n",
    "                                     xaxis=go.layout.XAxis(title=go.layout.xaxis.Title(text='Month')),\n",
    "                                     yaxis=go.layout.YAxis(title=go.layout.yaxis.Title(text='Temperature (°F)'))))\n",
    "bnv01_fig.add_trace(\n",
    "    go.Bar(x=bnv01_monthly.month,y=bnv01_monthly.tmin,text='Difference: ' + bnv01_monthly.diff,name='BNV01'))\n",
    "bnv01_fig = add_trace(\n",
    "    go.Bar(x=bnv01_monthly.month,y=bnv01_monthly.mint,text='Difference: ' + bnv01_monthly.diff,name='Bunea Vista 2S'))            \n",
    "bnv01_fig.show()"
   ]
  },
  {
   "cell_type": "code",
   "execution_count": 32,
   "metadata": {},
   "outputs": [
    {
     "data": {
      "text/html": [
       "<div>\n",
       "<style scoped>\n",
       "    .dataframe tbody tr th:only-of-type {\n",
       "        vertical-align: middle;\n",
       "    }\n",
       "\n",
       "    .dataframe tbody tr th {\n",
       "        vertical-align: top;\n",
       "    }\n",
       "\n",
       "    .dataframe thead th {\n",
       "        text-align: right;\n",
       "    }\n",
       "</style>\n",
       "<table border=\"1\" class=\"dataframe\">\n",
       "  <thead>\n",
       "    <tr style=\"text-align: right;\">\n",
       "      <th></th>\n",
       "      <th>month</th>\n",
       "      <th>Unnamed: 0</th>\n",
       "      <th>tmin</th>\n",
       "      <th>mint</th>\n",
       "      <th>diff</th>\n",
       "    </tr>\n",
       "  </thead>\n",
       "  <tbody>\n",
       "    <tr>\n",
       "      <th>0</th>\n",
       "      <td>Jan</td>\n",
       "      <td>1364.833333</td>\n",
       "      <td>8.737655</td>\n",
       "      <td>10.843434</td>\n",
       "      <td>-2.105780</td>\n",
       "    </tr>\n",
       "    <tr>\n",
       "      <th>1</th>\n",
       "      <td>Feb</td>\n",
       "      <td>1435.877778</td>\n",
       "      <td>12.443090</td>\n",
       "      <td>14.677778</td>\n",
       "      <td>-2.234688</td>\n",
       "    </tr>\n",
       "    <tr>\n",
       "      <th>2</th>\n",
       "      <td>Mar</td>\n",
       "      <td>1423.709184</td>\n",
       "      <td>18.057255</td>\n",
       "      <td>22.076531</td>\n",
       "      <td>-4.019276</td>\n",
       "    </tr>\n",
       "    <tr>\n",
       "      <th>3</th>\n",
       "      <td>Apr</td>\n",
       "      <td>1445.387435</td>\n",
       "      <td>22.623121</td>\n",
       "      <td>27.225131</td>\n",
       "      <td>-4.602009</td>\n",
       "    </tr>\n",
       "    <tr>\n",
       "      <th>4</th>\n",
       "      <td>May</td>\n",
       "      <td>1494.101942</td>\n",
       "      <td>30.019650</td>\n",
       "      <td>35.004854</td>\n",
       "      <td>-4.985204</td>\n",
       "    </tr>\n",
       "    <tr>\n",
       "      <th>5</th>\n",
       "      <td>Jun</td>\n",
       "      <td>1540.529412</td>\n",
       "      <td>38.696724</td>\n",
       "      <td>45.264706</td>\n",
       "      <td>-6.567982</td>\n",
       "    </tr>\n",
       "    <tr>\n",
       "      <th>6</th>\n",
       "      <td>Jul</td>\n",
       "      <td>1562.405530</td>\n",
       "      <td>45.254047</td>\n",
       "      <td>50.456221</td>\n",
       "      <td>-5.202174</td>\n",
       "    </tr>\n",
       "    <tr>\n",
       "      <th>7</th>\n",
       "      <td>Aug</td>\n",
       "      <td>1581.600985</td>\n",
       "      <td>42.211755</td>\n",
       "      <td>47.699507</td>\n",
       "      <td>-5.487753</td>\n",
       "    </tr>\n",
       "    <tr>\n",
       "      <th>8</th>\n",
       "      <td>Sep</td>\n",
       "      <td>1634.811518</td>\n",
       "      <td>35.983061</td>\n",
       "      <td>41.942408</td>\n",
       "      <td>-5.959348</td>\n",
       "    </tr>\n",
       "    <tr>\n",
       "      <th>9</th>\n",
       "      <td>Oct</td>\n",
       "      <td>1501.127273</td>\n",
       "      <td>25.858695</td>\n",
       "      <td>30.304545</td>\n",
       "      <td>-4.445851</td>\n",
       "    </tr>\n",
       "    <tr>\n",
       "      <th>10</th>\n",
       "      <td>Nov</td>\n",
       "      <td>1484.280193</td>\n",
       "      <td>14.994913</td>\n",
       "      <td>20.743961</td>\n",
       "      <td>-5.749048</td>\n",
       "    </tr>\n",
       "    <tr>\n",
       "      <th>11</th>\n",
       "      <td>Dec</td>\n",
       "      <td>1540.930233</td>\n",
       "      <td>9.432069</td>\n",
       "      <td>11.995349</td>\n",
       "      <td>-2.563280</td>\n",
       "    </tr>\n",
       "  </tbody>\n",
       "</table>\n",
       "</div>"
      ],
      "text/plain": [
       "   month   Unnamed: 0       tmin       mint      diff\n",
       "0    Jan  1364.833333   8.737655  10.843434 -2.105780\n",
       "1    Feb  1435.877778  12.443090  14.677778 -2.234688\n",
       "2    Mar  1423.709184  18.057255  22.076531 -4.019276\n",
       "3    Apr  1445.387435  22.623121  27.225131 -4.602009\n",
       "4    May  1494.101942  30.019650  35.004854 -4.985204\n",
       "5    Jun  1540.529412  38.696724  45.264706 -6.567982\n",
       "6    Jul  1562.405530  45.254047  50.456221 -5.202174\n",
       "7    Aug  1581.600985  42.211755  47.699507 -5.487753\n",
       "8    Sep  1634.811518  35.983061  41.942408 -5.959348\n",
       "9    Oct  1501.127273  25.858695  30.304545 -4.445851\n",
       "10   Nov  1484.280193  14.994913  20.743961 -5.749048\n",
       "11   Dec  1540.930233   9.432069  11.995349 -2.563280"
      ]
     },
     "execution_count": 32,
     "metadata": {},
     "output_type": "execute_result"
    }
   ],
   "source": [
    "bnv01_monthly"
   ]
  },
  {
   "cell_type": "code",
   "execution_count": null,
   "metadata": {},
   "outputs": [],
   "source": []
  }
 ],
 "metadata": {
  "kernelspec": {
   "display_name": "Python 3",
   "language": "python",
   "name": "python3"
  },
  "language_info": {
   "codemirror_mode": {
    "name": "ipython",
    "version": 3
   },
   "file_extension": ".py",
   "mimetype": "text/x-python",
   "name": "python",
   "nbconvert_exporter": "python",
   "pygments_lexer": "ipython3",
   "version": "3.7.3"
  },
  "toc": {
   "base_numbering": 1,
   "nav_menu": {},
   "number_sections": true,
   "sideBar": true,
   "skip_h1_title": false,
   "title_cell": "Table of Contents",
   "title_sidebar": "Contents",
   "toc_cell": false,
   "toc_position": {},
   "toc_section_display": true,
   "toc_window_display": false
  },
  "varInspector": {
   "cols": {
    "lenName": 16,
    "lenType": 16,
    "lenVar": 40
   },
   "kernels_config": {
    "python": {
     "delete_cmd_postfix": "",
     "delete_cmd_prefix": "del ",
     "library": "var_list.py",
     "varRefreshCmd": "print(var_dic_list())"
    },
    "r": {
     "delete_cmd_postfix": ") ",
     "delete_cmd_prefix": "rm(",
     "library": "var_list.r",
     "varRefreshCmd": "cat(var_dic_list()) "
    }
   },
   "types_to_exclude": [
    "module",
    "function",
    "builtin_function_or_method",
    "instance",
    "_Feature"
   ],
   "window_display": false
  }
 },
 "nbformat": 4,
 "nbformat_minor": 2
}
