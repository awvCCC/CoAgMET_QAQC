{
 "cells": [
  {
   "cell_type": "code",
   "execution_count": 60,
   "metadata": {},
   "outputs": [],
   "source": [
    "import os\n",
    "import pandas as pd\n",
    "import urllib\n",
    "import plotly.graph_objects as go\n",
    "from sklearn.preprocessing import StandardScaler\n",
    "from sklearn.decomposition import PCA\n",
    "import numpy as np"
   ]
  },
  {
   "cell_type": "code",
   "execution_count": 32,
   "metadata": {},
   "outputs": [],
   "source": [
    "path = r'C:\\Users\\student\\Documents\\Alistair CoAgMET Projects\\Pythonstuff\\QC\\data_exploration\\pca\\rh'"
   ]
  },
  {
   "cell_type": "code",
   "execution_count": 33,
   "metadata": {},
   "outputs": [],
   "source": [
    "os.chdir(path)\n",
    "\n",
    "fmcsv = (path + r'\\fm_csv.csv')\n",
    "dycsv = (path + r'\\dy_csv.csv')\n",
    "\n",
    "f = open(fmcsv,'w+')\n",
    "d = open(fmcsv,'w+')"
   ]
  },
  {
   "cell_type": "code",
   "execution_count": 34,
   "metadata": {},
   "outputs": [],
   "source": [
    "urllib.request.urlretrieve('http://coagmet.colostate.edu/cgi-bin/web_services.pl?type=five_minute' + \n",
    "                          '&sids=rfd01&sdate=1992-06-04&edate=2018-12-31' +\n",
    "                          '&elems=tmean,rh,vp,sr,ws,wind_vec,pp,st5,st15,gust,gustdir',\n",
    "                          filename=fmcsv)\n",
    "fmdf = pd.read_csv(fmcsv)"
   ]
  },
  {
   "cell_type": "code",
   "execution_count": 35,
   "metadata": {},
   "outputs": [],
   "source": [
    "fmdf = fmdf.reset_index()\n",
    "fmdf.columns = ['station','datetime','tmean','rh','vp','sr','ws','wind_vec','pp','st5','st15',\n",
    "               'gust','gustdir']"
   ]
  },
  {
   "cell_type": "code",
   "execution_count": 36,
   "metadata": {},
   "outputs": [],
   "source": [
    "fmdf['datetime'] = pd.to_datetime(fmdf.datetime,errors='coerce')\n",
    "\n",
    "idx_max = fmdf.groupby(fmdf.datetime.dt.date,sort=False)['rh'].idxmax()\n",
    "idx_min = fmdf.groupby(fmdf.datetime.dt.date,sort=False)['rh'].idxmin()\n",
    "\n",
    "fmdf_max = fmdf.loc[idx_max,]\n",
    "fmdf_min = fmdf.loc[idx_min,]"
   ]
  },
  {
   "cell_type": "code",
   "execution_count": 37,
   "metadata": {},
   "outputs": [],
   "source": [
    "stdev = fmdf.groupby(fmdf.datetime.dt.date,sort=False).std()\n",
    "\n",
    "stdev = stdev.reset_index()\n",
    "\n",
    "stdev['datetime'] = pd.to_datetime(stdev.datetime, errors='coerce')\n",
    "\n",
    "stdev.columns = ['datetime','tmean_stdev','rh_stdev','vp_stdev','sr_stdev',\n",
    "                 'ws_stdev','wind_vec_stdev','pp','st5_stdev',\n",
    "                 'st15_stdev','gust_stdev','gustdir_stdev']\n",
    "\n",
    "stdev = stdev.drop('pp',axis=1)"
   ]
  },
  {
   "cell_type": "code",
   "execution_count": 38,
   "metadata": {},
   "outputs": [],
   "source": [
    "fmdf_max['datetime'] = pd.to_datetime(fmdf_max.datetime, errors='coerce')\n",
    "fmdf_min['datetime'] = pd.to_datetime(fmdf_min.datetime, errors='coerce')\n",
    "\n",
    "fmdf_max['date'] = fmdf_max.datetime.dt.date\n",
    "fmdf_min['date'] = fmdf_min.datetime.dt.date"
   ]
  },
  {
   "cell_type": "code",
   "execution_count": 39,
   "metadata": {},
   "outputs": [],
   "source": [
    "fmdf_max.columns = ['station','datetime_max','tmean_max','rh_max','vp_max','sr_max',\n",
    "                   'ws_max','wind_vec_max','pp','st5_max','st15_max','gust_max',\n",
    "                   'gustdir_max','date']\n",
    "\n",
    "fmdf_max = fmdf_max.drop('pp',axis=1)"
   ]
  },
  {
   "cell_type": "code",
   "execution_count": 40,
   "metadata": {},
   "outputs": [],
   "source": [
    "fmdf_min.columns = ['station','datetime_min','tmean_min','rh_min','vp_min','sr_min',\n",
    "                   'ws_min','wind_vec_min','pp','st5_min','st15_min','gust_min',\n",
    "                   'gustdir_min','date']\n",
    "\n",
    "fmdf_min = fmdf_min.drop('pp',axis=1)"
   ]
  },
  {
   "cell_type": "code",
   "execution_count": 41,
   "metadata": {},
   "outputs": [],
   "source": [
    "fmdf_mxmn = fmdf_max.merge(fmdf_min, on=fmdf_max.date)\n",
    "\n",
    "fmdf_mxmn.columns.values[0] = 'date'\n",
    "fmdf_mxmn.columns.values[1] = 'station'\n",
    "\n",
    "stuff = ['date_x','station_y','date_y']\n",
    "\n",
    "fmdf_mxmn = fmdf_mxmn.drop(stuff,axis=1)"
   ]
  },
  {
   "cell_type": "code",
   "execution_count": 42,
   "metadata": {},
   "outputs": [
    {
     "data": {
      "text/plain": [
       "'2016-12-13'"
      ]
     },
     "execution_count": 42,
     "metadata": {},
     "output_type": "execute_result"
    }
   ],
   "source": [
    "first_obs = fmdf_mxmn.date[0]\n",
    "str(first_obs)"
   ]
  },
  {
   "cell_type": "code",
   "execution_count": 43,
   "metadata": {},
   "outputs": [],
   "source": [
    "urllib.request.urlretrieve(\n",
    "    'http://coagmet.colostate.edu/cgi-bin/web_services.pl?type=daily' +\n",
    "    '&sids=rfd01&sdate=' + str(first_obs) + '&edate=2018-12-31&elems=' +\n",
    "    'rhmax,rhmxtm,rhmin,rhmntm',filename=dycsv)\n",
    "\n",
    "dydf = pd.read_csv(dycsv)\n",
    "dydf = dydf.reset_index()\n",
    "dydf.columns = ['station','date','rhmax','rhmax_time','rhmin','rhmin_time']"
   ]
  },
  {
   "cell_type": "code",
   "execution_count": 44,
   "metadata": {},
   "outputs": [],
   "source": [
    "dydf = dydf.drop(dydf.tail(1).index)"
   ]
  },
  {
   "cell_type": "code",
   "execution_count": 45,
   "metadata": {},
   "outputs": [],
   "source": [
    "dydf['rhmxtm'] = dydf['date'] + ' ' + dydf['rhmax_time']\n",
    "dydf['rhmxtm'] = pd.to_datetime(dydf['rhmxtm'],format='%Y/%m/%d %H:%M:%S')\n",
    "\n",
    "dydf['rhmntm'] = dydf['date'] + ' ' + dydf['rhmin_time']\n",
    "dydf['rhmntm'] = pd.to_datetime(dydf['rhmntm'],format='%Y/%m/%d %H:%M:%S')\n",
    "\n",
    "dydf['date'] = pd.to_datetime(dydf.date, errors='coerce')"
   ]
  },
  {
   "cell_type": "code",
   "execution_count": 46,
   "metadata": {},
   "outputs": [],
   "source": [
    "df = fmdf_mxmn.merge(dydf,on=fmdf_mxmn.date)"
   ]
  },
  {
   "cell_type": "code",
   "execution_count": 47,
   "metadata": {},
   "outputs": [],
   "source": [
    "df.columns.values[0] = 'date'\n",
    "df.columns.values[2] = 'station'\n",
    "\n",
    "stuff = ['station_y','date_y','date_x']\n",
    "df = df.drop(stuff, axis=1)"
   ]
  },
  {
   "cell_type": "code",
   "execution_count": 48,
   "metadata": {},
   "outputs": [],
   "source": [
    "df['rhmax_diff'] = abs(df.rh_max - df.rhmax)\n",
    "df['rhmin_diff'] = abs(df.rh_min - df.rhmin)\n",
    "\n",
    "df['rhmxtm_diff'] = abs(df.datetime_max.values - df.rhmxtm.values)\n",
    "df['rhmxtm_diff'] = df['rhmxtm_diff'] / np.timedelta64(1,'m')\n",
    "\n",
    "df['rhmntm_diff'] = abs(df.datetime_min.values - df.rhmntm.values)\n",
    "df['rhmntm_diff'] = df['rhmntm_diff'] / np.timedelta64(1,'m')"
   ]
  },
  {
   "cell_type": "code",
   "execution_count": 49,
   "metadata": {},
   "outputs": [
    {
     "data": {
      "text/html": [
       "<div>\n",
       "<style scoped>\n",
       "    .dataframe tbody tr th:only-of-type {\n",
       "        vertical-align: middle;\n",
       "    }\n",
       "\n",
       "    .dataframe tbody tr th {\n",
       "        vertical-align: top;\n",
       "    }\n",
       "\n",
       "    .dataframe thead th {\n",
       "        text-align: right;\n",
       "    }\n",
       "</style>\n",
       "<table border=\"1\" class=\"dataframe\">\n",
       "  <thead>\n",
       "    <tr style=\"text-align: right;\">\n",
       "      <th></th>\n",
       "      <th>tmean_max</th>\n",
       "      <th>rh_max</th>\n",
       "      <th>vp_max</th>\n",
       "      <th>sr_max</th>\n",
       "      <th>ws_max</th>\n",
       "      <th>wind_vec_max</th>\n",
       "      <th>st5_max</th>\n",
       "      <th>st15_max</th>\n",
       "      <th>gust_max</th>\n",
       "      <th>gustdir_max</th>\n",
       "      <th>...</th>\n",
       "      <th>st5_min</th>\n",
       "      <th>st15_min</th>\n",
       "      <th>gust_min</th>\n",
       "      <th>gustdir_min</th>\n",
       "      <th>rhmax</th>\n",
       "      <th>rhmin</th>\n",
       "      <th>rhmax_diff</th>\n",
       "      <th>rhmin_diff</th>\n",
       "      <th>rhmxtm_diff</th>\n",
       "      <th>rhmntm_diff</th>\n",
       "    </tr>\n",
       "  </thead>\n",
       "  <tbody>\n",
       "    <tr>\n",
       "      <th>count</th>\n",
       "      <td>749.000000</td>\n",
       "      <td>749.000000</td>\n",
       "      <td>749.000000</td>\n",
       "      <td>749.000000</td>\n",
       "      <td>749.000000</td>\n",
       "      <td>749.000000</td>\n",
       "      <td>749.000000</td>\n",
       "      <td>749.000000</td>\n",
       "      <td>749.000000</td>\n",
       "      <td>748.000000</td>\n",
       "      <td>...</td>\n",
       "      <td>749.000000</td>\n",
       "      <td>749.000000</td>\n",
       "      <td>749.000000</td>\n",
       "      <td>749.000000</td>\n",
       "      <td>749.000000</td>\n",
       "      <td>749.000000</td>\n",
       "      <td>749.000000</td>\n",
       "      <td>749.000000</td>\n",
       "      <td>749.000000</td>\n",
       "      <td>749.000000</td>\n",
       "    </tr>\n",
       "    <tr>\n",
       "      <th>mean</th>\n",
       "      <td>3.934009</td>\n",
       "      <td>0.881567</td>\n",
       "      <td>0.857244</td>\n",
       "      <td>0.760677</td>\n",
       "      <td>1.045202</td>\n",
       "      <td>176.857713</td>\n",
       "      <td>11.488377</td>\n",
       "      <td>13.426597</td>\n",
       "      <td>1.652844</td>\n",
       "      <td>206.766979</td>\n",
       "      <td>...</td>\n",
       "      <td>17.055653</td>\n",
       "      <td>14.313287</td>\n",
       "      <td>4.598131</td>\n",
       "      <td>149.651335</td>\n",
       "      <td>0.883192</td>\n",
       "      <td>0.258182</td>\n",
       "      <td>0.013299</td>\n",
       "      <td>0.015138</td>\n",
       "      <td>46.052960</td>\n",
       "      <td>25.677125</td>\n",
       "    </tr>\n",
       "    <tr>\n",
       "      <th>std</th>\n",
       "      <td>9.835219</td>\n",
       "      <td>0.131782</td>\n",
       "      <td>0.542611</td>\n",
       "      <td>2.182054</td>\n",
       "      <td>1.272226</td>\n",
       "      <td>120.326706</td>\n",
       "      <td>9.235922</td>\n",
       "      <td>9.120970</td>\n",
       "      <td>1.658638</td>\n",
       "      <td>98.269567</td>\n",
       "      <td>...</td>\n",
       "      <td>11.324238</td>\n",
       "      <td>9.645004</td>\n",
       "      <td>2.764295</td>\n",
       "      <td>93.257259</td>\n",
       "      <td>0.137883</td>\n",
       "      <td>0.177416</td>\n",
       "      <td>0.048826</td>\n",
       "      <td>0.014820</td>\n",
       "      <td>199.299904</td>\n",
       "      <td>82.240711</td>\n",
       "    </tr>\n",
       "    <tr>\n",
       "      <th>min</th>\n",
       "      <td>-22.800000</td>\n",
       "      <td>0.364000</td>\n",
       "      <td>0.087000</td>\n",
       "      <td>0.000000</td>\n",
       "      <td>0.000000</td>\n",
       "      <td>0.000000</td>\n",
       "      <td>-5.065000</td>\n",
       "      <td>-1.805000</td>\n",
       "      <td>0.000000</td>\n",
       "      <td>0.000000</td>\n",
       "      <td>...</td>\n",
       "      <td>-1.493000</td>\n",
       "      <td>-1.330000</td>\n",
       "      <td>0.000000</td>\n",
       "      <td>0.024000</td>\n",
       "      <td>0.130000</td>\n",
       "      <td>0.033000</td>\n",
       "      <td>0.000000</td>\n",
       "      <td>0.001000</td>\n",
       "      <td>0.000000</td>\n",
       "      <td>0.000000</td>\n",
       "    </tr>\n",
       "    <tr>\n",
       "      <th>25%</th>\n",
       "      <td>-4.537000</td>\n",
       "      <td>0.843000</td>\n",
       "      <td>0.382000</td>\n",
       "      <td>0.000000</td>\n",
       "      <td>0.122000</td>\n",
       "      <td>54.520000</td>\n",
       "      <td>2.482000</td>\n",
       "      <td>4.679000</td>\n",
       "      <td>0.800000</td>\n",
       "      <td>141.400000</td>\n",
       "      <td>...</td>\n",
       "      <td>6.852000</td>\n",
       "      <td>5.099000</td>\n",
       "      <td>2.525000</td>\n",
       "      <td>80.200000</td>\n",
       "      <td>0.848000</td>\n",
       "      <td>0.127000</td>\n",
       "      <td>0.002000</td>\n",
       "      <td>0.006000</td>\n",
       "      <td>1.500000</td>\n",
       "      <td>2.166667</td>\n",
       "    </tr>\n",
       "    <tr>\n",
       "      <th>50%</th>\n",
       "      <td>3.448000</td>\n",
       "      <td>0.925000</td>\n",
       "      <td>0.688000</td>\n",
       "      <td>0.000000</td>\n",
       "      <td>0.683000</td>\n",
       "      <td>199.000000</td>\n",
       "      <td>10.140000</td>\n",
       "      <td>12.240000</td>\n",
       "      <td>1.250000</td>\n",
       "      <td>230.400000</td>\n",
       "      <td>...</td>\n",
       "      <td>15.940000</td>\n",
       "      <td>13.140000</td>\n",
       "      <td>4.025000</td>\n",
       "      <td>126.900000</td>\n",
       "      <td>0.931000</td>\n",
       "      <td>0.207000</td>\n",
       "      <td>0.005000</td>\n",
       "      <td>0.012000</td>\n",
       "      <td>3.000000</td>\n",
       "      <td>4.500000</td>\n",
       "    </tr>\n",
       "    <tr>\n",
       "      <th>75%</th>\n",
       "      <td>13.360000</td>\n",
       "      <td>0.972000</td>\n",
       "      <td>1.311000</td>\n",
       "      <td>0.363000</td>\n",
       "      <td>1.358000</td>\n",
       "      <td>282.600000</td>\n",
       "      <td>20.940000</td>\n",
       "      <td>22.950000</td>\n",
       "      <td>2.000000</td>\n",
       "      <td>285.525000</td>\n",
       "      <td>...</td>\n",
       "      <td>28.020000</td>\n",
       "      <td>24.300000</td>\n",
       "      <td>6.050000</td>\n",
       "      <td>226.600000</td>\n",
       "      <td>0.975000</td>\n",
       "      <td>0.332000</td>\n",
       "      <td>0.011000</td>\n",
       "      <td>0.021000</td>\n",
       "      <td>5.833333</td>\n",
       "      <td>16.000000</td>\n",
       "    </tr>\n",
       "    <tr>\n",
       "      <th>max</th>\n",
       "      <td>23.970000</td>\n",
       "      <td>1.039000</td>\n",
       "      <td>2.261000</td>\n",
       "      <td>24.650000</td>\n",
       "      <td>8.630000</td>\n",
       "      <td>359.300000</td>\n",
       "      <td>30.560000</td>\n",
       "      <td>30.810000</td>\n",
       "      <td>10.620000</td>\n",
       "      <td>353.900000</td>\n",
       "      <td>...</td>\n",
       "      <td>38.850000</td>\n",
       "      <td>31.530000</td>\n",
       "      <td>18.580000</td>\n",
       "      <td>354.500000</td>\n",
       "      <td>1.037000</td>\n",
       "      <td>0.992000</td>\n",
       "      <td>0.612000</td>\n",
       "      <td>0.287000</td>\n",
       "      <td>1435.000000</td>\n",
       "      <td>1383.500000</td>\n",
       "    </tr>\n",
       "  </tbody>\n",
       "</table>\n",
       "<p>8 rows × 26 columns</p>\n",
       "</div>"
      ],
      "text/plain": [
       "        tmean_max      rh_max      vp_max      sr_max      ws_max  \\\n",
       "count  749.000000  749.000000  749.000000  749.000000  749.000000   \n",
       "mean     3.934009    0.881567    0.857244    0.760677    1.045202   \n",
       "std      9.835219    0.131782    0.542611    2.182054    1.272226   \n",
       "min    -22.800000    0.364000    0.087000    0.000000    0.000000   \n",
       "25%     -4.537000    0.843000    0.382000    0.000000    0.122000   \n",
       "50%      3.448000    0.925000    0.688000    0.000000    0.683000   \n",
       "75%     13.360000    0.972000    1.311000    0.363000    1.358000   \n",
       "max     23.970000    1.039000    2.261000   24.650000    8.630000   \n",
       "\n",
       "       wind_vec_max     st5_max    st15_max    gust_max  gustdir_max  ...  \\\n",
       "count    749.000000  749.000000  749.000000  749.000000   748.000000  ...   \n",
       "mean     176.857713   11.488377   13.426597    1.652844   206.766979  ...   \n",
       "std      120.326706    9.235922    9.120970    1.658638    98.269567  ...   \n",
       "min        0.000000   -5.065000   -1.805000    0.000000     0.000000  ...   \n",
       "25%       54.520000    2.482000    4.679000    0.800000   141.400000  ...   \n",
       "50%      199.000000   10.140000   12.240000    1.250000   230.400000  ...   \n",
       "75%      282.600000   20.940000   22.950000    2.000000   285.525000  ...   \n",
       "max      359.300000   30.560000   30.810000   10.620000   353.900000  ...   \n",
       "\n",
       "          st5_min    st15_min    gust_min  gustdir_min       rhmax  \\\n",
       "count  749.000000  749.000000  749.000000   749.000000  749.000000   \n",
       "mean    17.055653   14.313287    4.598131   149.651335    0.883192   \n",
       "std     11.324238    9.645004    2.764295    93.257259    0.137883   \n",
       "min     -1.493000   -1.330000    0.000000     0.024000    0.130000   \n",
       "25%      6.852000    5.099000    2.525000    80.200000    0.848000   \n",
       "50%     15.940000   13.140000    4.025000   126.900000    0.931000   \n",
       "75%     28.020000   24.300000    6.050000   226.600000    0.975000   \n",
       "max     38.850000   31.530000   18.580000   354.500000    1.037000   \n",
       "\n",
       "            rhmin  rhmax_diff  rhmin_diff  rhmxtm_diff  rhmntm_diff  \n",
       "count  749.000000  749.000000  749.000000   749.000000   749.000000  \n",
       "mean     0.258182    0.013299    0.015138    46.052960    25.677125  \n",
       "std      0.177416    0.048826    0.014820   199.299904    82.240711  \n",
       "min      0.033000    0.000000    0.001000     0.000000     0.000000  \n",
       "25%      0.127000    0.002000    0.006000     1.500000     2.166667  \n",
       "50%      0.207000    0.005000    0.012000     3.000000     4.500000  \n",
       "75%      0.332000    0.011000    0.021000     5.833333    16.000000  \n",
       "max      0.992000    0.612000    0.287000  1435.000000  1383.500000  \n",
       "\n",
       "[8 rows x 26 columns]"
      ]
     },
     "execution_count": 49,
     "metadata": {},
     "output_type": "execute_result"
    }
   ],
   "source": [
    "summary = df.describe()\n",
    "summary"
   ]
  },
  {
   "cell_type": "code",
   "execution_count": 50,
   "metadata": {},
   "outputs": [],
   "source": [
    "df = df.merge(stdev,on=stdev.datetime)"
   ]
  },
  {
   "cell_type": "code",
   "execution_count": 51,
   "metadata": {},
   "outputs": [],
   "source": [
    "stuff = ['date','datetime']\n",
    "df = df.drop(stuff,axis=1)"
   ]
  },
  {
   "cell_type": "code",
   "execution_count": 52,
   "metadata": {},
   "outputs": [],
   "source": [
    "df.columns.values[0] = 'date'"
   ]
  },
  {
   "cell_type": "code",
   "execution_count": 53,
   "metadata": {},
   "outputs": [],
   "source": [
    "stuff = ['station']\n",
    "df = df.drop(stuff, axis=1)"
   ]
  },
  {
   "cell_type": "code",
   "execution_count": 54,
   "metadata": {},
   "outputs": [
    {
     "data": {
      "text/plain": [
       "['date',\n",
       " 'datetime_max',\n",
       " 'tmean_max',\n",
       " 'rh_max',\n",
       " 'vp_max',\n",
       " 'sr_max',\n",
       " 'ws_max',\n",
       " 'wind_vec_max',\n",
       " 'st5_max',\n",
       " 'st15_max',\n",
       " 'gust_max',\n",
       " 'gustdir_max',\n",
       " 'datetime_min',\n",
       " 'tmean_min',\n",
       " 'rh_min',\n",
       " 'vp_min',\n",
       " 'sr_min',\n",
       " 'ws_min',\n",
       " 'wind_vec_min',\n",
       " 'st5_min',\n",
       " 'st15_min',\n",
       " 'gust_min',\n",
       " 'gustdir_min',\n",
       " 'rhmax',\n",
       " 'rhmax_time',\n",
       " 'rhmin',\n",
       " 'rhmin_time',\n",
       " 'rhmxtm',\n",
       " 'rhmntm',\n",
       " 'rhmax_diff',\n",
       " 'rhmin_diff',\n",
       " 'rhmxtm_diff',\n",
       " 'rhmntm_diff',\n",
       " 'tmean_stdev',\n",
       " 'rh_stdev',\n",
       " 'vp_stdev',\n",
       " 'sr_stdev',\n",
       " 'ws_stdev',\n",
       " 'wind_vec_stdev',\n",
       " 'st5_stdev',\n",
       " 'st15_stdev',\n",
       " 'gust_stdev',\n",
       " 'gustdir_stdev']"
      ]
     },
     "execution_count": 54,
     "metadata": {},
     "output_type": "execute_result"
    }
   ],
   "source": [
    "list(df.columns)"
   ]
  },
  {
   "cell_type": "code",
   "execution_count": 56,
   "metadata": {},
   "outputs": [],
   "source": [
    "features = ['tmean_max','rh_max','vp_max','sr_max','ws_max','wind_vec_max',\n",
    "            'st5_max','st15_max','gust_max','gustdir_max','tmean_min','rh_min',\n",
    "            'vp_min','sr_min','ws_min','wind_vec_min','st5_min','st15_min','gust_min','gustdir_min',\n",
    "            'rhmax','rhmin','rhmax_diff','rhmin_diff',\n",
    "            'rhmxtm_diff','rhmntm_diff','tmean_stdev','rh_stdev','vp_stdev','sr_stdev','ws_stdev',\n",
    "            'wind_vec_stdev','st5_stdev','st15_stdev','gust_stdev','gustdir_stdev']\n",
    "df_to_standardize = df.dropna()\n",
    "x = df.loc[:, features].values\n",
    "y = df.loc[:,['rhmax_diff']].values\n",
    "\n",
    "x = StandardScaler().fit_transform(x)"
   ]
  },
  {
   "cell_type": "code",
   "execution_count": 59,
   "metadata": {},
   "outputs": [
    {
     "name": "stdout",
     "output_type": "stream",
     "text": [
      "[[-1.2986532  -0.02708871 -1.07191513 ... -1.86565615 -1.48640448\n",
      "  -1.44387914]\n",
      " [-1.47059947  0.43610593 -1.10511025 ... -1.7177399  -0.3523904\n",
      "  -0.18917288]\n",
      " [-1.60693558 -0.28526277 -1.19547473 ... -1.62967851 -1.36657047\n",
      "   0.16269961]\n",
      " ...\n",
      " [-1.40853602  0.5424129  -1.0737593  ... -1.70935906 -1.16921732\n",
      "  -0.33170244]\n",
      " [-1.65780726  0.04884484 -1.19178638 ... -1.82667375 -1.23303702\n",
      "   0.4785021 ]\n",
      " [-0.42091323 -3.02646387 -1.04425254 ...         nan         nan\n",
      "          nan]]\n"
     ]
    }
   ],
   "source": [
    "print(x)"
   ]
  },
  {
   "cell_type": "code",
   "execution_count": null,
   "metadata": {},
   "outputs": [],
   "source": [
    "pca = PCA(n_components=2)\n",
    "\n"
   ]
  }
 ],
 "metadata": {
  "kernelspec": {
   "display_name": "Python 3",
   "language": "python",
   "name": "python3"
  },
  "language_info": {
   "codemirror_mode": {
    "name": "ipython",
    "version": 3
   },
   "file_extension": ".py",
   "mimetype": "text/x-python",
   "name": "python",
   "nbconvert_exporter": "python",
   "pygments_lexer": "ipython3",
   "version": "3.7.3"
  },
  "toc": {
   "base_numbering": 1,
   "nav_menu": {},
   "number_sections": true,
   "sideBar": true,
   "skip_h1_title": false,
   "title_cell": "Table of Contents",
   "title_sidebar": "Contents",
   "toc_cell": false,
   "toc_position": {},
   "toc_section_display": true,
   "toc_window_display": false
  },
  "varInspector": {
   "cols": {
    "lenName": 16,
    "lenType": 16,
    "lenVar": 40
   },
   "kernels_config": {
    "python": {
     "delete_cmd_postfix": "",
     "delete_cmd_prefix": "del ",
     "library": "var_list.py",
     "varRefreshCmd": "print(var_dic_list())"
    },
    "r": {
     "delete_cmd_postfix": ") ",
     "delete_cmd_prefix": "rm(",
     "library": "var_list.r",
     "varRefreshCmd": "cat(var_dic_list()) "
    }
   },
   "types_to_exclude": [
    "module",
    "function",
    "builtin_function_or_method",
    "instance",
    "_Feature"
   ],
   "window_display": false
  }
 },
 "nbformat": 4,
 "nbformat_minor": 2
}
