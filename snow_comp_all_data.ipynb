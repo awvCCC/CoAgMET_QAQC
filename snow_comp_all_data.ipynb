{
 "cells": [
  {
   "cell_type": "code",
   "execution_count": 70,
   "metadata": {},
   "outputs": [],
   "source": [
    "import os\n",
    "import pandas as pd\n",
    "import numpy as np\n",
    "import plotly.graph_objects as go\n",
    "import calendar\n",
    "from scipy import stats"
   ]
  },
  {
   "cell_type": "code",
   "execution_count": 71,
   "metadata": {},
   "outputs": [],
   "source": [
    "path = (r'C:\\Users\\student\\Documents\\Alistair CoAgMET Projects\\Pythonstuff\\PrecipComparison' + \n",
    "        r'\\snowfall_comp')\n",
    "os.chdir(path)"
   ]
  },
  {
   "cell_type": "code",
   "execution_count": 72,
   "metadata": {},
   "outputs": [],
   "source": [
    "akr_csv = (r\"C:\\Users\\student\\Documents\\Alistair CoAgMET Projects\\Pythonstuff\\PrecipComparison\" +\n",
    "           r\"\\snowfall_comp\\akr02_precip_snow_coopcomp.csv\")\n",
    "bnv_csv = (r\"C:\\Users\\student\\Documents\\Alistair CoAgMET Projects\\Pythonstuff\\PrecipComparison\" +\n",
    "           r\"\\snowfall_comp\\bnv01_precip_snow_coopcomp.csv\")\n",
    "orm_csv = (r\"C:\\Users\\student\\Documents\\Alistair CoAgMET Projects\\Pythonstuff\\PrecipComparison\" + \n",
    "           \"\\snowfall_comp\\orm01_precip_snow_coopcomp.csv\")\n",
    "rfd_csv = (r\"C:\\Users\\student\\Documents\\Alistair CoAgMET Projects\\Pythonstuff\\PrecipComparison\" + \n",
    "           r\"\\snowfall_comp\\rfd01_precip_snow_coopcomp.csv\")\n",
    "wls_csv = (r\"C:\\Users\\student\\Documents\\Alistair CoAgMET Projects\\Pythonstuff\\PrecipComparison\" + \n",
    "           r\"\\snowfall_comp\\wls01_precip_snow_coopcomp.csv\")"
   ]
  },
  {
   "cell_type": "code",
   "execution_count": 73,
   "metadata": {},
   "outputs": [],
   "source": [
    "akr_df = pd.read_csv(akr_csv)\n",
    "bnv_df = pd.read_csv(bnv_csv)\n",
    "orm_df = pd.read_csv(orm_csv)\n",
    "rfd_df = pd.read_csv(rfd_csv)\n",
    "wls_df = pd.read_csv(wls_csv)"
   ]
  },
  {
   "cell_type": "code",
   "execution_count": 74,
   "metadata": {},
   "outputs": [],
   "source": [
    "frames = [akr_df,bnv_df,orm_df,rfd_df,wls_df]\n",
    "df = pd.concat(frames)"
   ]
  },
  {
   "cell_type": "code",
   "execution_count": 75,
   "metadata": {},
   "outputs": [],
   "source": [
    "df = df.replace('M',np.nan,regex=True)\n",
    "df_traces = df.replace('T',0.005,regex=True)\n",
    "df_no_traces = df.replace('T',0,regex=True)"
   ]
  },
  {
   "cell_type": "code",
   "execution_count": 76,
   "metadata": {},
   "outputs": [],
   "source": [
    "df_traces.coop_precip = df_traces.coop_precip.astype(float)\n",
    "df_no_traces.coop_precip = df_no_traces.coop_precip.astype(float)\n",
    "\n",
    "df_traces.snow = df_traces.snow.astype(float)\n",
    "df_no_traces.snow = df_no_traces.snow.astype(float)\n",
    "\n",
    "df_traces['snowfall'] = np.nan\n",
    "df_no_traces['snowfall'] = np.nan\n",
    "\n",
    "df_traces['snowfall'] = np.where(df_traces['snow'] > 0,1,df_traces['snowfall'])\n",
    "df_no_traces['snowfall'] = np.where(df_no_traces['snow'] > 0,1,df_no_traces['snowfall'])\n",
    "\n"
   ]
  },
  {
   "cell_type": "code",
   "execution_count": 77,
   "metadata": {},
   "outputs": [],
   "source": [
    "df_traces['date'] = pd.to_datetime(df_traces.date,errors='coerce')\n",
    "df_no_traces['date'] = pd.to_datetime(df_no_traces.date,errors='coerce')"
   ]
  },
  {
   "cell_type": "code",
   "execution_count": 78,
   "metadata": {},
   "outputs": [],
   "source": [
    "df_traces['month'] = df_traces.date.dt.month\n",
    "df_no_traces['month'] = df_no_traces.date.dt.month\n",
    "\n",
    "df_traces['year'] = df_traces.date.dt.year\n",
    "df_no_traces['year'] = df_no_traces.date.dt.year"
   ]
  },
  {
   "cell_type": "code",
   "execution_count": 79,
   "metadata": {},
   "outputs": [],
   "source": [
    "stuff = ['Unnamed: 0']\n",
    "df_traces = df_traces.drop(stuff,axis=1)\n",
    "df_no_traces = df_no_traces.drop(stuff,axis=1)"
   ]
  },
  {
   "cell_type": "code",
   "execution_count": 80,
   "metadata": {},
   "outputs": [],
   "source": [
    "monthly_traces = df_traces.groupby(['month','year']).sum().reset_index()\n",
    "monthly_no_traces = df_no_traces.groupby(['month','year']).sum().reset_index()\n"
   ]
  },
  {
   "cell_type": "code",
   "execution_count": 81,
   "metadata": {},
   "outputs": [],
   "source": [
    "cols = ['month','year','coag_precip','coop_precip','snow','snowfall']\n",
    "\n",
    "monthly_trace_pp = monthly_traces[cols]\n",
    "monthly_no_trace_pp = monthly_no_traces[cols]"
   ]
  },
  {
   "cell_type": "code",
   "execution_count": 82,
   "metadata": {},
   "outputs": [],
   "source": [
    "it_snowed = monthly_trace_pp.snow > 0\n",
    "monthly_trace_pp = monthly_trace_pp[it_snowed]\n",
    "\n",
    "it_snowed = monthly_no_trace_pp.snow > 0\n",
    "monthly_no_trace_pp = monthly_no_trace_pp[it_snowed]"
   ]
  },
  {
   "cell_type": "code",
   "execution_count": 83,
   "metadata": {},
   "outputs": [],
   "source": [
    "#monthly_trace_pp['month'] = monthly_trace_pp.month.astype(int)\n",
    "#monthly_no_trace_pp['month'] = monthly_no_trace_pp.month.astype(int)\n",
    "\n",
    "monthly_trace_pp['month'] = monthly_trace_pp['month'].apply(lambda x: calendar.month_abbr[x])\n",
    "monthly_no_trace_pp['month'] = monthly_no_trace_pp['month'].apply(lambda x: calendar.month_abbr[x])\n",
    "\n",
    "monthly_trace_pp['year'] = monthly_trace_pp.year.astype(str)\n",
    "monthly_no_trace_pp['year'] = monthly_no_trace_pp.year.astype(str)\n",
    "\n",
    "monthly_trace_pp['ym'] = (monthly_trace_pp['month']) + '-' + (monthly_trace_pp['year'])\n",
    "monthly_no_trace_pp['ym'] = (monthly_no_trace_pp['month']) + '-' + (monthly_no_trace_pp['year'])\n",
    "\n",
    "monthly_trace_pp['snowfall'] = monthly_trace_pp.snowfall.astype(str)\n",
    "monthly_no_trace_pp['snowfall'] = monthly_no_trace_pp.snowfall.astype(str)"
   ]
  },
  {
   "cell_type": "code",
   "execution_count": 84,
   "metadata": {},
   "outputs": [],
   "source": [
    "monthly_trace_pp['rez'] = monthly_trace_pp.coag_precip - monthly_trace_pp.coop_precip\n",
    "monthly_no_trace_pp['rez'] = monthly_no_trace_pp.coag_precip - monthly_no_trace_pp.coop_precip"
   ]
  },
  {
   "cell_type": "code",
   "execution_count": 85,
   "metadata": {},
   "outputs": [],
   "source": [
    "monthly_trace_pp = monthly_trace_pp.round(decimals=2)\n",
    "monthly_no_trace_pp = monthly_no_trace_pp.round(decimals=2)"
   ]
  },
  {
   "cell_type": "code",
   "execution_count": 89,
   "metadata": {},
   "outputs": [
    {
     "data": {
      "application/vnd.plotly.v1+json": {
       "config": {
        "plotlyServerURL": "https://plot.ly"
       },
       "data": [
        {
         "type": "scatter"
        },
        {
         "mode": "markers",
         "text": [
          "Jan-1993<br \\>Snowfall Events: 17.0",
          "Jan-1994<br \\>Snowfall Events: 13.0",
          "Jan-1995<br \\>Snowfall Events: 6.0",
          "Jan-1996<br \\>Snowfall Events: 15.0",
          "Jan-1997<br \\>Snowfall Events: 13.0",
          "Jan-1998<br \\>Snowfall Events: 7.0",
          "Jan-1999<br \\>Snowfall Events: 8.0",
          "Jan-2000<br \\>Snowfall Events: 9.0",
          "Jan-2001<br \\>Snowfall Events: 10.0",
          "Jan-2002<br \\>Snowfall Events: 6.0",
          "Jan-2003<br \\>Snowfall Events: 2.0",
          "Jan-2004<br \\>Snowfall Events: 6.0",
          "Jan-2005<br \\>Snowfall Events: 9.0",
          "Jan-2006<br \\>Snowfall Events: 9.0",
          "Jan-2007<br \\>Snowfall Events: 18.0",
          "Jan-2008<br \\>Snowfall Events: 19.0",
          "Jan-2009<br \\>Snowfall Events: 10.0",
          "Jan-2010<br \\>Snowfall Events: 8.0",
          "Jan-2011<br \\>Snowfall Events: 14.0",
          "Jan-2012<br \\>Snowfall Events: 11.0",
          "Jan-2013<br \\>Snowfall Events: 21.0",
          "Jan-2014<br \\>Snowfall Events: 30.0",
          "Jan-2015<br \\>Snowfall Events: 16.0",
          "Jan-2016<br \\>Snowfall Events: 18.0",
          "Jan-2017<br \\>Snowfall Events: 34.0",
          "Jan-2018<br \\>Snowfall Events: 16.0",
          "Feb-1993<br \\>Snowfall Events: 17.0",
          "Feb-1994<br \\>Snowfall Events: 11.0",
          "Feb-1995<br \\>Snowfall Events: 13.0",
          "Feb-1996<br \\>Snowfall Events: 6.0",
          "Feb-1997<br \\>Snowfall Events: 17.0",
          "Feb-1998<br \\>Snowfall Events: 11.0",
          "Feb-1999<br \\>Snowfall Events: 3.0",
          "Feb-2000<br \\>Snowfall Events: 5.0",
          "Feb-2001<br \\>Snowfall Events: 13.0",
          "Feb-2002<br \\>Snowfall Events: 1.0",
          "Feb-2003<br \\>Snowfall Events: 9.0",
          "Feb-2004<br \\>Snowfall Events: 10.0",
          "Feb-2005<br \\>Snowfall Events: 3.0",
          "Feb-2006<br \\>Snowfall Events: 7.0",
          "Feb-2007<br \\>Snowfall Events: 13.0",
          "Feb-2008<br \\>Snowfall Events: 14.0",
          "Feb-2009<br \\>Snowfall Events: 4.0",
          "Feb-2010<br \\>Snowfall Events: 21.0",
          "Feb-2011<br \\>Snowfall Events: 17.0",
          "Feb-2012<br \\>Snowfall Events: 28.0",
          "Feb-2013<br \\>Snowfall Events: 26.0",
          "Feb-2014<br \\>Snowfall Events: 33.0",
          "Feb-2015<br \\>Snowfall Events: 31.0",
          "Feb-2016<br \\>Snowfall Events: 19.0",
          "Feb-2017<br \\>Snowfall Events: 12.0",
          "Feb-2018<br \\>Snowfall Events: 28.0",
          "Mar-1993<br \\>Snowfall Events: 11.0",
          "Mar-1994<br \\>Snowfall Events: 8.0",
          "Mar-1995<br \\>Snowfall Events: 15.0",
          "Mar-1996<br \\>Snowfall Events: 13.0",
          "Mar-1997<br \\>Snowfall Events: 4.0",
          "Mar-1998<br \\>Snowfall Events: 8.0",
          "Mar-1999<br \\>Snowfall Events: 10.0",
          "Mar-2000<br \\>Snowfall Events: 13.0",
          "Mar-2001<br \\>Snowfall Events: 9.0",
          "Mar-2002<br \\>Snowfall Events: 9.0",
          "Mar-2003<br \\>Snowfall Events: 4.0",
          "Mar-2004<br \\>Snowfall Events: 2.0",
          "Mar-2005<br \\>Snowfall Events: 7.0",
          "Mar-2006<br \\>Snowfall Events: 10.0",
          "Mar-2007<br \\>Snowfall Events: 2.0",
          "Mar-2008<br \\>Snowfall Events: 11.0",
          "Mar-2009<br \\>Snowfall Events: 10.0",
          "Mar-2010<br \\>Snowfall Events: 8.0",
          "Mar-2011<br \\>Snowfall Events: 16.0",
          "Mar-2012<br \\>Snowfall Events: 6.0",
          "Mar-2013<br \\>Snowfall Events: 20.0",
          "Mar-2014<br \\>Snowfall Events: 21.0",
          "Mar-2015<br \\>Snowfall Events: 13.0",
          "Mar-2016<br \\>Snowfall Events: 20.0",
          "Mar-2017<br \\>Snowfall Events: 5.0",
          "Mar-2018<br \\>Snowfall Events: 7.0",
          "Apr-1993<br \\>Snowfall Events: 8.0",
          "Apr-1994<br \\>Snowfall Events: 11.0",
          "Apr-1995<br \\>Snowfall Events: 9.0",
          "Apr-1996<br \\>Snowfall Events: 5.0",
          "Apr-1997<br \\>Snowfall Events: 10.0",
          "Apr-1998<br \\>Snowfall Events: 2.0",
          "Apr-1999<br \\>Snowfall Events: 7.0",
          "Apr-2000<br \\>Snowfall Events: 5.0",
          "Apr-2001<br \\>Snowfall Events: 4.0",
          "Apr-2003<br \\>Snowfall Events: 2.0",
          "Apr-2004<br \\>Snowfall Events: 6.0",
          "Apr-2005<br \\>Snowfall Events: 3.0",
          "Apr-2006<br \\>Snowfall Events: 1.0",
          "Apr-2007<br \\>Snowfall Events: 9.0",
          "Apr-2008<br \\>Snowfall Events: 5.0",
          "Apr-2009<br \\>Snowfall Events: 6.0",
          "Apr-2010<br \\>Snowfall Events: 4.0",
          "Apr-2011<br \\>Snowfall Events: 11.0",
          "Apr-2012<br \\>Snowfall Events: 8.0",
          "Apr-2013<br \\>Snowfall Events: 22.0",
          "Apr-2014<br \\>Snowfall Events: 14.0",
          "Apr-2015<br \\>Snowfall Events: 6.0",
          "Apr-2016<br \\>Snowfall Events: 14.0",
          "Apr-2017<br \\>Snowfall Events: 16.0",
          "Apr-2018<br \\>Snowfall Events: 14.0",
          "May-1995<br \\>Snowfall Events: 1.0",
          "May-1999<br \\>Snowfall Events: 1.0",
          "May-2001<br \\>Snowfall Events: 1.0",
          "May-2003<br \\>Snowfall Events: 1.0",
          "May-2008<br \\>Snowfall Events: 2.0",
          "May-2011<br \\>Snowfall Events: 5.0",
          "May-2012<br \\>Snowfall Events: 4.0",
          "May-2013<br \\>Snowfall Events: 8.0",
          "May-2014<br \\>Snowfall Events: 6.0",
          "May-2015<br \\>Snowfall Events: 9.0",
          "May-2016<br \\>Snowfall Events: 5.0",
          "May-2017<br \\>Snowfall Events: 5.0",
          "Jun-2010<br \\>Snowfall Events: 2.0",
          "Jun-2017<br \\>Snowfall Events: 2.0",
          "Jun-2018<br \\>Snowfall Events: 3.0",
          "Aug-2007<br \\>Snowfall Events: 1.0",
          "Aug-2016<br \\>Snowfall Events: 1.0",
          "Aug-2017<br \\>Snowfall Events: 2.0",
          "Sep-1994<br \\>Snowfall Events: 1.0",
          "Sep-1995<br \\>Snowfall Events: 3.0",
          "Sep-1996<br \\>Snowfall Events: 1.0",
          "Sep-1999<br \\>Snowfall Events: 2.0",
          "Sep-2009<br \\>Snowfall Events: 1.0",
          "Sep-2013<br \\>Snowfall Events: 1.0",
          "Sep-2016<br \\>Snowfall Events: 1.0",
          "Sep-2017<br \\>Snowfall Events: 2.0",
          "Oct-1992<br \\>Snowfall Events: 1.0",
          "Oct-1993<br \\>Snowfall Events: 3.0",
          "Oct-1995<br \\>Snowfall Events: 1.0",
          "Oct-1996<br \\>Snowfall Events: 1.0",
          "Oct-1997<br \\>Snowfall Events: 5.0",
          "Oct-1998<br \\>Snowfall Events: 5.0",
          "Oct-1999<br \\>Snowfall Events: 1.0",
          "Oct-2000<br \\>Snowfall Events: 1.0",
          "Oct-2001<br \\>Snowfall Events: 1.0",
          "Oct-2002<br \\>Snowfall Events: 2.0",
          "Oct-2006<br \\>Snowfall Events: 3.0",
          "Oct-2009<br \\>Snowfall Events: 11.0",
          "Oct-2010<br \\>Snowfall Events: 3.0",
          "Oct-2011<br \\>Snowfall Events: 6.0",
          "Oct-2012<br \\>Snowfall Events: 9.0",
          "Oct-2013<br \\>Snowfall Events: 9.0",
          "Oct-2014<br \\>Snowfall Events: 1.0",
          "Oct-2015<br \\>Snowfall Events: 2.0",
          "Oct-2016<br \\>Snowfall Events: 1.0",
          "Oct-2017<br \\>Snowfall Events: 5.0",
          "Oct-2018<br \\>Snowfall Events: 9.0",
          "Nov-1992<br \\>Snowfall Events: 15.0",
          "Nov-1993<br \\>Snowfall Events: 6.0",
          "Nov-1994<br \\>Snowfall Events: 8.0",
          "Nov-1995<br \\>Snowfall Events: 7.0",
          "Nov-1996<br \\>Snowfall Events: 7.0",
          "Nov-1997<br \\>Snowfall Events: 14.0",
          "Nov-1998<br \\>Snowfall Events: 3.0",
          "Nov-1999<br \\>Snowfall Events: 3.0",
          "Nov-2000<br \\>Snowfall Events: 5.0",
          "Nov-2001<br \\>Snowfall Events: 4.0",
          "Nov-2002<br \\>Snowfall Events: 3.0",
          "Nov-2003<br \\>Snowfall Events: 3.0",
          "Nov-2004<br \\>Snowfall Events: 13.0",
          "Nov-2006<br \\>Snowfall Events: 6.0",
          "Nov-2007<br \\>Snowfall Events: 5.0",
          "Nov-2008<br \\>Snowfall Events: 5.0",
          "Nov-2009<br \\>Snowfall Events: 6.0",
          "Nov-2010<br \\>Snowfall Events: 18.0",
          "Nov-2011<br \\>Snowfall Events: 9.0",
          "Nov-2012<br \\>Snowfall Events: 4.0",
          "Nov-2013<br \\>Snowfall Events: 20.0",
          "Nov-2014<br \\>Snowfall Events: 23.0",
          "Nov-2015<br \\>Snowfall Events: 29.0",
          "Nov-2016<br \\>Snowfall Events: 6.0",
          "Nov-2017<br \\>Snowfall Events: 4.0",
          "Nov-2018<br \\>Snowfall Events: 17.0",
          "Dec-1992<br \\>Snowfall Events: 16.0",
          "Dec-1993<br \\>Snowfall Events: 7.0",
          "Dec-1994<br \\>Snowfall Events: 7.0",
          "Dec-1995<br \\>Snowfall Events: 5.0",
          "Dec-1996<br \\>Snowfall Events: 7.0",
          "Dec-1997<br \\>Snowfall Events: 17.0",
          "Dec-1998<br \\>Snowfall Events: 10.0",
          "Dec-1999<br \\>Snowfall Events: 6.0",
          "Dec-2000<br \\>Snowfall Events: 12.0",
          "Dec-2001<br \\>Snowfall Events: 3.0",
          "Dec-2002<br \\>Snowfall Events: 6.0",
          "Dec-2003<br \\>Snowfall Events: 5.0",
          "Dec-2004<br \\>Snowfall Events: 4.0",
          "Dec-2005<br \\>Snowfall Events: 10.0",
          "Dec-2006<br \\>Snowfall Events: 13.0",
          "Dec-2007<br \\>Snowfall Events: 24.0",
          "Dec-2008<br \\>Snowfall Events: 18.0",
          "Dec-2009<br \\>Snowfall Events: 17.0",
          "Dec-2010<br \\>Snowfall Events: 12.0",
          "Dec-2011<br \\>Snowfall Events: 26.0",
          "Dec-2012<br \\>Snowfall Events: 22.0",
          "Dec-2013<br \\>Snowfall Events: 23.0",
          "Dec-2014<br \\>Snowfall Events: 29.0",
          "Dec-2015<br \\>Snowfall Events: 32.0",
          "Dec-2016<br \\>Snowfall Events: 24.0",
          "Dec-2017<br \\>Snowfall Events: 21.0",
          "Dec-2018<br \\>Snowfall Events: 21.0"
         ],
         "type": "scatter",
         "x": [
          5.74,
          10.03,
          3.72,
          7.54,
          15.23,
          2.52,
          2.52,
          5.03,
          17.61,
          6.02,
          2.5,
          6.61,
          9.41,
          13.5,
          31.12,
          15.23,
          4.21,
          9.41,
          9.01,
          4.82,
          12.43,
          45.91,
          19.51,
          12.52,
          48.43,
          15.34,
          17.53,
          1.84,
          9.03,
          4.51,
          15.54,
          6.03,
          2.2,
          2.51,
          18.22,
          1,
          10.21,
          14.1,
          3,
          2.11,
          6.53,
          15.73,
          5.81,
          14.93,
          18.43,
          25.24,
          23.54,
          31.83,
          48.4,
          43.91,
          8.22,
          28.22,
          13.22,
          9.52,
          17.51,
          14.53,
          3.02,
          8.4,
          10.02,
          15.82,
          17.02,
          4.52,
          1.51,
          5,
          9.5,
          13.81,
          1.3,
          11.7,
          27.4,
          14.5,
          16.32,
          2.22,
          28.22,
          18.82,
          9.63,
          18.45,
          0.62,
          8.62,
          6.03,
          15.61,
          15.4,
          3.51,
          8.52,
          0.5,
          6.51,
          2.02,
          17,
          1,
          2.02,
          9.01,
          1,
          11,
          9.1,
          7.2,
          2.8,
          7.92,
          2.11,
          37.03,
          22.42,
          22.9,
          39.12,
          41.42,
          12.73,
          2,
          0,
          1,
          1,
          2.6,
          6.01,
          3.8,
          11.51,
          7.2,
          12.62,
          4.81,
          7.8,
          0.01,
          0.01,
          0.02,
          0,
          0,
          0.01,
          0,
          6.01,
          2,
          4,
          0,
          0,
          0,
          0.01,
          1,
          2.71,
          4,
          2,
          26,
          0.02,
          0,
          0,
          0,
          0.5,
          6.6,
          28.2,
          0.8,
          15.8,
          6.82,
          7.42,
          0,
          1.7,
          0.1,
          7.1,
          12.61,
          18.02,
          13.51,
          18.1,
          2.52,
          2.92,
          11.54,
          1.51,
          8,
          4.01,
          8.51,
          2,
          4,
          15.72,
          8.11,
          2.41,
          8.5,
          5.4,
          7.93,
          13.11,
          2.31,
          30.12,
          31.24,
          35.84,
          4.91,
          2.7,
          13.02,
          10.65,
          5.61,
          8.02,
          1.01,
          4.53,
          20.53,
          12.51,
          4.52,
          5.54,
          7.5,
          5.3,
          10.2,
          8.5,
          8.82,
          39.21,
          36.22,
          18.12,
          27.2,
          21.02,
          36.51,
          25.11,
          19.52,
          38.64,
          40.62,
          20.64,
          11.54,
          10.94
         ],
         "y": [
          -0.37,
          -0.04,
          -0.89,
          -0.28,
          -0.63,
          -0.05,
          -0.11,
          -0.58,
          -1.38,
          -0.34,
          -0.22,
          -0.48,
          -0.34,
          -0.64,
          -0.7,
          -0.28,
          -0.15,
          -0.31,
          -0.18,
          -0.17,
          -0.64,
          -1.99,
          -0.62,
          0.01,
          -1.4,
          -1.03,
          -1.26,
          -0.19,
          -0.52,
          -0.09,
          -0.48,
          -0.1,
          -0.18,
          -0.55,
          -0.66,
          -0.07,
          -0.66,
          -0.54,
          -0.12,
          -0.1,
          -0.03,
          -0.99,
          -0.09,
          -0.43,
          -0.81,
          -1.41,
          -0.72,
          -0.46,
          -2.49,
          -3.38,
          -0.12,
          -0.77,
          -0.66,
          -0.5,
          -0.88,
          -1.14,
          -0.07,
          -0.52,
          -0.64,
          -2.22,
          -1.26,
          -0.12,
          -2.07,
          -0.71,
          -0.02,
          -0.74,
          -0.17,
          -0.26,
          -1.18,
          0.1,
          -0.19,
          -0.02,
          -2.17,
          -0.83,
          -0.38,
          -1.73,
          -1.09,
          -0.27,
          -0.39,
          -0.46,
          -0.95,
          0.5,
          -0.93,
          -0.12,
          -2.91,
          -1.76,
          -1.34,
          -2.72,
          -1.71,
          0.12,
          -0.01,
          -0.76,
          -0.47,
          -0.09,
          0.12,
          0,
          -0.77,
          -1.97,
          -2.12,
          -1.9,
          -2.47,
          -6.87,
          -1.46,
          0.65,
          -2.51,
          -4.11,
          -4.2,
          -0.22,
          -0.52,
          -1.34,
          -0.46,
          -0.66,
          -2.7,
          -0.19,
          -4.01,
          -0.09,
          -0.71,
          -1.2,
          -0.51,
          -1.35,
          -2.69,
          -0.37,
          0.25,
          -2.13,
          -2.08,
          0.02,
          -2.18,
          -0.11,
          -1.16,
          -0.51,
          -1.66,
          -0.08,
          1.11,
          -2.01,
          -2.21,
          -0.94,
          -2.04,
          -0.64,
          -1.15,
          -0.94,
          -1.21,
          -0.15,
          -0.65,
          -0.56,
          -0.66,
          -1.05,
          -1.09,
          -0.15,
          -0.82,
          -3.1,
          -0.5,
          -1.85,
          -1.2,
          -0.02,
          0.01,
          -0.6,
          -1.08,
          -0.64,
          -0.6,
          -0.82,
          -0.32,
          -0.28,
          -1.16,
          -0.45,
          -0.11,
          -0.12,
          -0.12,
          -0.09,
          -0.49,
          0.03,
          -1.44,
          -1.45,
          -1.85,
          -0.73,
          -0.11,
          -0.88,
          -0.52,
          -0.52,
          -0.62,
          -0.07,
          -0.42,
          -1.35,
          -0.37,
          -0.62,
          -0.37,
          -0.19,
          -0.12,
          -0.22,
          -0.57,
          -0.24,
          -2.57,
          -2.87,
          -0.26,
          -1.46,
          -0.94,
          -1.76,
          -1.72,
          -1.02,
          -2.42,
          -2.23,
          -1.08,
          -0.32,
          -0.55
         ]
        }
       ],
       "layout": {
        "template": {
         "data": {
          "bar": [
           {
            "error_x": {
             "color": "#2a3f5f"
            },
            "error_y": {
             "color": "#2a3f5f"
            },
            "marker": {
             "line": {
              "color": "#E5ECF6",
              "width": 0.5
             }
            },
            "type": "bar"
           }
          ],
          "barpolar": [
           {
            "marker": {
             "line": {
              "color": "#E5ECF6",
              "width": 0.5
             }
            },
            "type": "barpolar"
           }
          ],
          "carpet": [
           {
            "aaxis": {
             "endlinecolor": "#2a3f5f",
             "gridcolor": "white",
             "linecolor": "white",
             "minorgridcolor": "white",
             "startlinecolor": "#2a3f5f"
            },
            "baxis": {
             "endlinecolor": "#2a3f5f",
             "gridcolor": "white",
             "linecolor": "white",
             "minorgridcolor": "white",
             "startlinecolor": "#2a3f5f"
            },
            "type": "carpet"
           }
          ],
          "choropleth": [
           {
            "colorbar": {
             "outlinewidth": 0,
             "ticks": ""
            },
            "type": "choropleth"
           }
          ],
          "contour": [
           {
            "colorbar": {
             "outlinewidth": 0,
             "ticks": ""
            },
            "colorscale": [
             [
              0,
              "#0d0887"
             ],
             [
              0.1111111111111111,
              "#46039f"
             ],
             [
              0.2222222222222222,
              "#7201a8"
             ],
             [
              0.3333333333333333,
              "#9c179e"
             ],
             [
              0.4444444444444444,
              "#bd3786"
             ],
             [
              0.5555555555555556,
              "#d8576b"
             ],
             [
              0.6666666666666666,
              "#ed7953"
             ],
             [
              0.7777777777777778,
              "#fb9f3a"
             ],
             [
              0.8888888888888888,
              "#fdca26"
             ],
             [
              1,
              "#f0f921"
             ]
            ],
            "type": "contour"
           }
          ],
          "contourcarpet": [
           {
            "colorbar": {
             "outlinewidth": 0,
             "ticks": ""
            },
            "type": "contourcarpet"
           }
          ],
          "heatmap": [
           {
            "colorbar": {
             "outlinewidth": 0,
             "ticks": ""
            },
            "colorscale": [
             [
              0,
              "#0d0887"
             ],
             [
              0.1111111111111111,
              "#46039f"
             ],
             [
              0.2222222222222222,
              "#7201a8"
             ],
             [
              0.3333333333333333,
              "#9c179e"
             ],
             [
              0.4444444444444444,
              "#bd3786"
             ],
             [
              0.5555555555555556,
              "#d8576b"
             ],
             [
              0.6666666666666666,
              "#ed7953"
             ],
             [
              0.7777777777777778,
              "#fb9f3a"
             ],
             [
              0.8888888888888888,
              "#fdca26"
             ],
             [
              1,
              "#f0f921"
             ]
            ],
            "type": "heatmap"
           }
          ],
          "heatmapgl": [
           {
            "colorbar": {
             "outlinewidth": 0,
             "ticks": ""
            },
            "colorscale": [
             [
              0,
              "#0d0887"
             ],
             [
              0.1111111111111111,
              "#46039f"
             ],
             [
              0.2222222222222222,
              "#7201a8"
             ],
             [
              0.3333333333333333,
              "#9c179e"
             ],
             [
              0.4444444444444444,
              "#bd3786"
             ],
             [
              0.5555555555555556,
              "#d8576b"
             ],
             [
              0.6666666666666666,
              "#ed7953"
             ],
             [
              0.7777777777777778,
              "#fb9f3a"
             ],
             [
              0.8888888888888888,
              "#fdca26"
             ],
             [
              1,
              "#f0f921"
             ]
            ],
            "type": "heatmapgl"
           }
          ],
          "histogram": [
           {
            "marker": {
             "colorbar": {
              "outlinewidth": 0,
              "ticks": ""
             }
            },
            "type": "histogram"
           }
          ],
          "histogram2d": [
           {
            "colorbar": {
             "outlinewidth": 0,
             "ticks": ""
            },
            "colorscale": [
             [
              0,
              "#0d0887"
             ],
             [
              0.1111111111111111,
              "#46039f"
             ],
             [
              0.2222222222222222,
              "#7201a8"
             ],
             [
              0.3333333333333333,
              "#9c179e"
             ],
             [
              0.4444444444444444,
              "#bd3786"
             ],
             [
              0.5555555555555556,
              "#d8576b"
             ],
             [
              0.6666666666666666,
              "#ed7953"
             ],
             [
              0.7777777777777778,
              "#fb9f3a"
             ],
             [
              0.8888888888888888,
              "#fdca26"
             ],
             [
              1,
              "#f0f921"
             ]
            ],
            "type": "histogram2d"
           }
          ],
          "histogram2dcontour": [
           {
            "colorbar": {
             "outlinewidth": 0,
             "ticks": ""
            },
            "colorscale": [
             [
              0,
              "#0d0887"
             ],
             [
              0.1111111111111111,
              "#46039f"
             ],
             [
              0.2222222222222222,
              "#7201a8"
             ],
             [
              0.3333333333333333,
              "#9c179e"
             ],
             [
              0.4444444444444444,
              "#bd3786"
             ],
             [
              0.5555555555555556,
              "#d8576b"
             ],
             [
              0.6666666666666666,
              "#ed7953"
             ],
             [
              0.7777777777777778,
              "#fb9f3a"
             ],
             [
              0.8888888888888888,
              "#fdca26"
             ],
             [
              1,
              "#f0f921"
             ]
            ],
            "type": "histogram2dcontour"
           }
          ],
          "mesh3d": [
           {
            "colorbar": {
             "outlinewidth": 0,
             "ticks": ""
            },
            "type": "mesh3d"
           }
          ],
          "parcoords": [
           {
            "line": {
             "colorbar": {
              "outlinewidth": 0,
              "ticks": ""
             }
            },
            "type": "parcoords"
           }
          ],
          "scatter": [
           {
            "marker": {
             "colorbar": {
              "outlinewidth": 0,
              "ticks": ""
             }
            },
            "type": "scatter"
           }
          ],
          "scatter3d": [
           {
            "line": {
             "colorbar": {
              "outlinewidth": 0,
              "ticks": ""
             }
            },
            "marker": {
             "colorbar": {
              "outlinewidth": 0,
              "ticks": ""
             }
            },
            "type": "scatter3d"
           }
          ],
          "scattercarpet": [
           {
            "marker": {
             "colorbar": {
              "outlinewidth": 0,
              "ticks": ""
             }
            },
            "type": "scattercarpet"
           }
          ],
          "scattergeo": [
           {
            "marker": {
             "colorbar": {
              "outlinewidth": 0,
              "ticks": ""
             }
            },
            "type": "scattergeo"
           }
          ],
          "scattergl": [
           {
            "marker": {
             "colorbar": {
              "outlinewidth": 0,
              "ticks": ""
             }
            },
            "type": "scattergl"
           }
          ],
          "scattermapbox": [
           {
            "marker": {
             "colorbar": {
              "outlinewidth": 0,
              "ticks": ""
             }
            },
            "type": "scattermapbox"
           }
          ],
          "scatterpolar": [
           {
            "marker": {
             "colorbar": {
              "outlinewidth": 0,
              "ticks": ""
             }
            },
            "type": "scatterpolar"
           }
          ],
          "scatterpolargl": [
           {
            "marker": {
             "colorbar": {
              "outlinewidth": 0,
              "ticks": ""
             }
            },
            "type": "scatterpolargl"
           }
          ],
          "scatterternary": [
           {
            "marker": {
             "colorbar": {
              "outlinewidth": 0,
              "ticks": ""
             }
            },
            "type": "scatterternary"
           }
          ],
          "surface": [
           {
            "colorbar": {
             "outlinewidth": 0,
             "ticks": ""
            },
            "colorscale": [
             [
              0,
              "#0d0887"
             ],
             [
              0.1111111111111111,
              "#46039f"
             ],
             [
              0.2222222222222222,
              "#7201a8"
             ],
             [
              0.3333333333333333,
              "#9c179e"
             ],
             [
              0.4444444444444444,
              "#bd3786"
             ],
             [
              0.5555555555555556,
              "#d8576b"
             ],
             [
              0.6666666666666666,
              "#ed7953"
             ],
             [
              0.7777777777777778,
              "#fb9f3a"
             ],
             [
              0.8888888888888888,
              "#fdca26"
             ],
             [
              1,
              "#f0f921"
             ]
            ],
            "type": "surface"
           }
          ],
          "table": [
           {
            "cells": {
             "fill": {
              "color": "#EBF0F8"
             },
             "line": {
              "color": "white"
             }
            },
            "header": {
             "fill": {
              "color": "#C8D4E3"
             },
             "line": {
              "color": "white"
             }
            },
            "type": "table"
           }
          ]
         },
         "layout": {
          "annotationdefaults": {
           "arrowcolor": "#2a3f5f",
           "arrowhead": 0,
           "arrowwidth": 1
          },
          "colorscale": {
           "diverging": [
            [
             0,
             "#8e0152"
            ],
            [
             0.1,
             "#c51b7d"
            ],
            [
             0.2,
             "#de77ae"
            ],
            [
             0.3,
             "#f1b6da"
            ],
            [
             0.4,
             "#fde0ef"
            ],
            [
             0.5,
             "#f7f7f7"
            ],
            [
             0.6,
             "#e6f5d0"
            ],
            [
             0.7,
             "#b8e186"
            ],
            [
             0.8,
             "#7fbc41"
            ],
            [
             0.9,
             "#4d9221"
            ],
            [
             1,
             "#276419"
            ]
           ],
           "sequential": [
            [
             0,
             "#0d0887"
            ],
            [
             0.1111111111111111,
             "#46039f"
            ],
            [
             0.2222222222222222,
             "#7201a8"
            ],
            [
             0.3333333333333333,
             "#9c179e"
            ],
            [
             0.4444444444444444,
             "#bd3786"
            ],
            [
             0.5555555555555556,
             "#d8576b"
            ],
            [
             0.6666666666666666,
             "#ed7953"
            ],
            [
             0.7777777777777778,
             "#fb9f3a"
            ],
            [
             0.8888888888888888,
             "#fdca26"
            ],
            [
             1,
             "#f0f921"
            ]
           ],
           "sequentialminus": [
            [
             0,
             "#0d0887"
            ],
            [
             0.1111111111111111,
             "#46039f"
            ],
            [
             0.2222222222222222,
             "#7201a8"
            ],
            [
             0.3333333333333333,
             "#9c179e"
            ],
            [
             0.4444444444444444,
             "#bd3786"
            ],
            [
             0.5555555555555556,
             "#d8576b"
            ],
            [
             0.6666666666666666,
             "#ed7953"
            ],
            [
             0.7777777777777778,
             "#fb9f3a"
            ],
            [
             0.8888888888888888,
             "#fdca26"
            ],
            [
             1,
             "#f0f921"
            ]
           ]
          },
          "colorway": [
           "#636efa",
           "#EF553B",
           "#00cc96",
           "#ab63fa",
           "#FFA15A",
           "#19d3f3",
           "#FF6692",
           "#B6E880",
           "#FF97FF",
           "#FECB52"
          ],
          "font": {
           "color": "#2a3f5f"
          },
          "geo": {
           "bgcolor": "white",
           "lakecolor": "white",
           "landcolor": "#E5ECF6",
           "showlakes": true,
           "showland": true,
           "subunitcolor": "white"
          },
          "hoverlabel": {
           "align": "left"
          },
          "hovermode": "closest",
          "mapbox": {
           "style": "light"
          },
          "paper_bgcolor": "white",
          "plot_bgcolor": "#E5ECF6",
          "polar": {
           "angularaxis": {
            "gridcolor": "white",
            "linecolor": "white",
            "ticks": ""
           },
           "bgcolor": "#E5ECF6",
           "radialaxis": {
            "gridcolor": "white",
            "linecolor": "white",
            "ticks": ""
           }
          },
          "scene": {
           "xaxis": {
            "backgroundcolor": "#E5ECF6",
            "gridcolor": "white",
            "gridwidth": 2,
            "linecolor": "white",
            "showbackground": true,
            "ticks": "",
            "zerolinecolor": "white"
           },
           "yaxis": {
            "backgroundcolor": "#E5ECF6",
            "gridcolor": "white",
            "gridwidth": 2,
            "linecolor": "white",
            "showbackground": true,
            "ticks": "",
            "zerolinecolor": "white"
           },
           "zaxis": {
            "backgroundcolor": "#E5ECF6",
            "gridcolor": "white",
            "gridwidth": 2,
            "linecolor": "white",
            "showbackground": true,
            "ticks": "",
            "zerolinecolor": "white"
           }
          },
          "shapedefaults": {
           "line": {
            "color": "#2a3f5f"
           }
          },
          "ternary": {
           "aaxis": {
            "gridcolor": "white",
            "linecolor": "white",
            "ticks": ""
           },
           "baxis": {
            "gridcolor": "white",
            "linecolor": "white",
            "ticks": ""
           },
           "bgcolor": "#E5ECF6",
           "caxis": {
            "gridcolor": "white",
            "linecolor": "white",
            "ticks": ""
           }
          },
          "title": {
           "x": 0.05
          },
          "xaxis": {
           "automargin": true,
           "gridcolor": "white",
           "linecolor": "white",
           "ticks": "",
           "zerolinecolor": "white",
           "zerolinewidth": 2
          },
          "yaxis": {
           "automargin": true,
           "gridcolor": "white",
           "linecolor": "white",
           "ticks": "",
           "zerolinecolor": "white",
           "zerolinewidth": 2
          }
         }
        },
        "title": {
         "text": "Monthly Preicp Difference vs Monthly Snowfall (Traces Included)"
        },
        "xaxis": {
         "title": {
          "text": "Snowfall (inches)"
         }
        },
        "yaxis": {
         "title": {
          "text": "Precip Differnce (inches)"
         }
        }
       }
      },
      "text/html": [
       "<div>\n",
       "        \n",
       "        \n",
       "            <div id=\"7ede1140-c528-46cc-8e2a-ad610f556be5\" class=\"plotly-graph-div\" style=\"height:525px; width:100%;\"></div>\n",
       "            <script type=\"text/javascript\">\n",
       "                require([\"plotly\"], function(Plotly) {\n",
       "                    window.PLOTLYENV=window.PLOTLYENV || {};\n",
       "                    \n",
       "                if (document.getElementById(\"7ede1140-c528-46cc-8e2a-ad610f556be5\")) {\n",
       "                    Plotly.newPlot(\n",
       "                        '7ede1140-c528-46cc-8e2a-ad610f556be5',\n",
       "                        [{\"type\": \"scatter\"}, {\"mode\": \"markers\", \"text\": [\"Jan-1993<br \\\\>Snowfall Events: 17.0\", \"Jan-1994<br \\\\>Snowfall Events: 13.0\", \"Jan-1995<br \\\\>Snowfall Events: 6.0\", \"Jan-1996<br \\\\>Snowfall Events: 15.0\", \"Jan-1997<br \\\\>Snowfall Events: 13.0\", \"Jan-1998<br \\\\>Snowfall Events: 7.0\", \"Jan-1999<br \\\\>Snowfall Events: 8.0\", \"Jan-2000<br \\\\>Snowfall Events: 9.0\", \"Jan-2001<br \\\\>Snowfall Events: 10.0\", \"Jan-2002<br \\\\>Snowfall Events: 6.0\", \"Jan-2003<br \\\\>Snowfall Events: 2.0\", \"Jan-2004<br \\\\>Snowfall Events: 6.0\", \"Jan-2005<br \\\\>Snowfall Events: 9.0\", \"Jan-2006<br \\\\>Snowfall Events: 9.0\", \"Jan-2007<br \\\\>Snowfall Events: 18.0\", \"Jan-2008<br \\\\>Snowfall Events: 19.0\", \"Jan-2009<br \\\\>Snowfall Events: 10.0\", \"Jan-2010<br \\\\>Snowfall Events: 8.0\", \"Jan-2011<br \\\\>Snowfall Events: 14.0\", \"Jan-2012<br \\\\>Snowfall Events: 11.0\", \"Jan-2013<br \\\\>Snowfall Events: 21.0\", \"Jan-2014<br \\\\>Snowfall Events: 30.0\", \"Jan-2015<br \\\\>Snowfall Events: 16.0\", \"Jan-2016<br \\\\>Snowfall Events: 18.0\", \"Jan-2017<br \\\\>Snowfall Events: 34.0\", \"Jan-2018<br \\\\>Snowfall Events: 16.0\", \"Feb-1993<br \\\\>Snowfall Events: 17.0\", \"Feb-1994<br \\\\>Snowfall Events: 11.0\", \"Feb-1995<br \\\\>Snowfall Events: 13.0\", \"Feb-1996<br \\\\>Snowfall Events: 6.0\", \"Feb-1997<br \\\\>Snowfall Events: 17.0\", \"Feb-1998<br \\\\>Snowfall Events: 11.0\", \"Feb-1999<br \\\\>Snowfall Events: 3.0\", \"Feb-2000<br \\\\>Snowfall Events: 5.0\", \"Feb-2001<br \\\\>Snowfall Events: 13.0\", \"Feb-2002<br \\\\>Snowfall Events: 1.0\", \"Feb-2003<br \\\\>Snowfall Events: 9.0\", \"Feb-2004<br \\\\>Snowfall Events: 10.0\", \"Feb-2005<br \\\\>Snowfall Events: 3.0\", \"Feb-2006<br \\\\>Snowfall Events: 7.0\", \"Feb-2007<br \\\\>Snowfall Events: 13.0\", \"Feb-2008<br \\\\>Snowfall Events: 14.0\", \"Feb-2009<br \\\\>Snowfall Events: 4.0\", \"Feb-2010<br \\\\>Snowfall Events: 21.0\", \"Feb-2011<br \\\\>Snowfall Events: 17.0\", \"Feb-2012<br \\\\>Snowfall Events: 28.0\", \"Feb-2013<br \\\\>Snowfall Events: 26.0\", \"Feb-2014<br \\\\>Snowfall Events: 33.0\", \"Feb-2015<br \\\\>Snowfall Events: 31.0\", \"Feb-2016<br \\\\>Snowfall Events: 19.0\", \"Feb-2017<br \\\\>Snowfall Events: 12.0\", \"Feb-2018<br \\\\>Snowfall Events: 28.0\", \"Mar-1993<br \\\\>Snowfall Events: 11.0\", \"Mar-1994<br \\\\>Snowfall Events: 8.0\", \"Mar-1995<br \\\\>Snowfall Events: 15.0\", \"Mar-1996<br \\\\>Snowfall Events: 13.0\", \"Mar-1997<br \\\\>Snowfall Events: 4.0\", \"Mar-1998<br \\\\>Snowfall Events: 8.0\", \"Mar-1999<br \\\\>Snowfall Events: 10.0\", \"Mar-2000<br \\\\>Snowfall Events: 13.0\", \"Mar-2001<br \\\\>Snowfall Events: 9.0\", \"Mar-2002<br \\\\>Snowfall Events: 9.0\", \"Mar-2003<br \\\\>Snowfall Events: 4.0\", \"Mar-2004<br \\\\>Snowfall Events: 2.0\", \"Mar-2005<br \\\\>Snowfall Events: 7.0\", \"Mar-2006<br \\\\>Snowfall Events: 10.0\", \"Mar-2007<br \\\\>Snowfall Events: 2.0\", \"Mar-2008<br \\\\>Snowfall Events: 11.0\", \"Mar-2009<br \\\\>Snowfall Events: 10.0\", \"Mar-2010<br \\\\>Snowfall Events: 8.0\", \"Mar-2011<br \\\\>Snowfall Events: 16.0\", \"Mar-2012<br \\\\>Snowfall Events: 6.0\", \"Mar-2013<br \\\\>Snowfall Events: 20.0\", \"Mar-2014<br \\\\>Snowfall Events: 21.0\", \"Mar-2015<br \\\\>Snowfall Events: 13.0\", \"Mar-2016<br \\\\>Snowfall Events: 20.0\", \"Mar-2017<br \\\\>Snowfall Events: 5.0\", \"Mar-2018<br \\\\>Snowfall Events: 7.0\", \"Apr-1993<br \\\\>Snowfall Events: 8.0\", \"Apr-1994<br \\\\>Snowfall Events: 11.0\", \"Apr-1995<br \\\\>Snowfall Events: 9.0\", \"Apr-1996<br \\\\>Snowfall Events: 5.0\", \"Apr-1997<br \\\\>Snowfall Events: 10.0\", \"Apr-1998<br \\\\>Snowfall Events: 2.0\", \"Apr-1999<br \\\\>Snowfall Events: 7.0\", \"Apr-2000<br \\\\>Snowfall Events: 5.0\", \"Apr-2001<br \\\\>Snowfall Events: 4.0\", \"Apr-2003<br \\\\>Snowfall Events: 2.0\", \"Apr-2004<br \\\\>Snowfall Events: 6.0\", \"Apr-2005<br \\\\>Snowfall Events: 3.0\", \"Apr-2006<br \\\\>Snowfall Events: 1.0\", \"Apr-2007<br \\\\>Snowfall Events: 9.0\", \"Apr-2008<br \\\\>Snowfall Events: 5.0\", \"Apr-2009<br \\\\>Snowfall Events: 6.0\", \"Apr-2010<br \\\\>Snowfall Events: 4.0\", \"Apr-2011<br \\\\>Snowfall Events: 11.0\", \"Apr-2012<br \\\\>Snowfall Events: 8.0\", \"Apr-2013<br \\\\>Snowfall Events: 22.0\", \"Apr-2014<br \\\\>Snowfall Events: 14.0\", \"Apr-2015<br \\\\>Snowfall Events: 6.0\", \"Apr-2016<br \\\\>Snowfall Events: 14.0\", \"Apr-2017<br \\\\>Snowfall Events: 16.0\", \"Apr-2018<br \\\\>Snowfall Events: 14.0\", \"May-1995<br \\\\>Snowfall Events: 1.0\", \"May-1999<br \\\\>Snowfall Events: 1.0\", \"May-2001<br \\\\>Snowfall Events: 1.0\", \"May-2003<br \\\\>Snowfall Events: 1.0\", \"May-2008<br \\\\>Snowfall Events: 2.0\", \"May-2011<br \\\\>Snowfall Events: 5.0\", \"May-2012<br \\\\>Snowfall Events: 4.0\", \"May-2013<br \\\\>Snowfall Events: 8.0\", \"May-2014<br \\\\>Snowfall Events: 6.0\", \"May-2015<br \\\\>Snowfall Events: 9.0\", \"May-2016<br \\\\>Snowfall Events: 5.0\", \"May-2017<br \\\\>Snowfall Events: 5.0\", \"Jun-2010<br \\\\>Snowfall Events: 2.0\", \"Jun-2017<br \\\\>Snowfall Events: 2.0\", \"Jun-2018<br \\\\>Snowfall Events: 3.0\", \"Aug-2007<br \\\\>Snowfall Events: 1.0\", \"Aug-2016<br \\\\>Snowfall Events: 1.0\", \"Aug-2017<br \\\\>Snowfall Events: 2.0\", \"Sep-1994<br \\\\>Snowfall Events: 1.0\", \"Sep-1995<br \\\\>Snowfall Events: 3.0\", \"Sep-1996<br \\\\>Snowfall Events: 1.0\", \"Sep-1999<br \\\\>Snowfall Events: 2.0\", \"Sep-2009<br \\\\>Snowfall Events: 1.0\", \"Sep-2013<br \\\\>Snowfall Events: 1.0\", \"Sep-2016<br \\\\>Snowfall Events: 1.0\", \"Sep-2017<br \\\\>Snowfall Events: 2.0\", \"Oct-1992<br \\\\>Snowfall Events: 1.0\", \"Oct-1993<br \\\\>Snowfall Events: 3.0\", \"Oct-1995<br \\\\>Snowfall Events: 1.0\", \"Oct-1996<br \\\\>Snowfall Events: 1.0\", \"Oct-1997<br \\\\>Snowfall Events: 5.0\", \"Oct-1998<br \\\\>Snowfall Events: 5.0\", \"Oct-1999<br \\\\>Snowfall Events: 1.0\", \"Oct-2000<br \\\\>Snowfall Events: 1.0\", \"Oct-2001<br \\\\>Snowfall Events: 1.0\", \"Oct-2002<br \\\\>Snowfall Events: 2.0\", \"Oct-2006<br \\\\>Snowfall Events: 3.0\", \"Oct-2009<br \\\\>Snowfall Events: 11.0\", \"Oct-2010<br \\\\>Snowfall Events: 3.0\", \"Oct-2011<br \\\\>Snowfall Events: 6.0\", \"Oct-2012<br \\\\>Snowfall Events: 9.0\", \"Oct-2013<br \\\\>Snowfall Events: 9.0\", \"Oct-2014<br \\\\>Snowfall Events: 1.0\", \"Oct-2015<br \\\\>Snowfall Events: 2.0\", \"Oct-2016<br \\\\>Snowfall Events: 1.0\", \"Oct-2017<br \\\\>Snowfall Events: 5.0\", \"Oct-2018<br \\\\>Snowfall Events: 9.0\", \"Nov-1992<br \\\\>Snowfall Events: 15.0\", \"Nov-1993<br \\\\>Snowfall Events: 6.0\", \"Nov-1994<br \\\\>Snowfall Events: 8.0\", \"Nov-1995<br \\\\>Snowfall Events: 7.0\", \"Nov-1996<br \\\\>Snowfall Events: 7.0\", \"Nov-1997<br \\\\>Snowfall Events: 14.0\", \"Nov-1998<br \\\\>Snowfall Events: 3.0\", \"Nov-1999<br \\\\>Snowfall Events: 3.0\", \"Nov-2000<br \\\\>Snowfall Events: 5.0\", \"Nov-2001<br \\\\>Snowfall Events: 4.0\", \"Nov-2002<br \\\\>Snowfall Events: 3.0\", \"Nov-2003<br \\\\>Snowfall Events: 3.0\", \"Nov-2004<br \\\\>Snowfall Events: 13.0\", \"Nov-2006<br \\\\>Snowfall Events: 6.0\", \"Nov-2007<br \\\\>Snowfall Events: 5.0\", \"Nov-2008<br \\\\>Snowfall Events: 5.0\", \"Nov-2009<br \\\\>Snowfall Events: 6.0\", \"Nov-2010<br \\\\>Snowfall Events: 18.0\", \"Nov-2011<br \\\\>Snowfall Events: 9.0\", \"Nov-2012<br \\\\>Snowfall Events: 4.0\", \"Nov-2013<br \\\\>Snowfall Events: 20.0\", \"Nov-2014<br \\\\>Snowfall Events: 23.0\", \"Nov-2015<br \\\\>Snowfall Events: 29.0\", \"Nov-2016<br \\\\>Snowfall Events: 6.0\", \"Nov-2017<br \\\\>Snowfall Events: 4.0\", \"Nov-2018<br \\\\>Snowfall Events: 17.0\", \"Dec-1992<br \\\\>Snowfall Events: 16.0\", \"Dec-1993<br \\\\>Snowfall Events: 7.0\", \"Dec-1994<br \\\\>Snowfall Events: 7.0\", \"Dec-1995<br \\\\>Snowfall Events: 5.0\", \"Dec-1996<br \\\\>Snowfall Events: 7.0\", \"Dec-1997<br \\\\>Snowfall Events: 17.0\", \"Dec-1998<br \\\\>Snowfall Events: 10.0\", \"Dec-1999<br \\\\>Snowfall Events: 6.0\", \"Dec-2000<br \\\\>Snowfall Events: 12.0\", \"Dec-2001<br \\\\>Snowfall Events: 3.0\", \"Dec-2002<br \\\\>Snowfall Events: 6.0\", \"Dec-2003<br \\\\>Snowfall Events: 5.0\", \"Dec-2004<br \\\\>Snowfall Events: 4.0\", \"Dec-2005<br \\\\>Snowfall Events: 10.0\", \"Dec-2006<br \\\\>Snowfall Events: 13.0\", \"Dec-2007<br \\\\>Snowfall Events: 24.0\", \"Dec-2008<br \\\\>Snowfall Events: 18.0\", \"Dec-2009<br \\\\>Snowfall Events: 17.0\", \"Dec-2010<br \\\\>Snowfall Events: 12.0\", \"Dec-2011<br \\\\>Snowfall Events: 26.0\", \"Dec-2012<br \\\\>Snowfall Events: 22.0\", \"Dec-2013<br \\\\>Snowfall Events: 23.0\", \"Dec-2014<br \\\\>Snowfall Events: 29.0\", \"Dec-2015<br \\\\>Snowfall Events: 32.0\", \"Dec-2016<br \\\\>Snowfall Events: 24.0\", \"Dec-2017<br \\\\>Snowfall Events: 21.0\", \"Dec-2018<br \\\\>Snowfall Events: 21.0\"], \"type\": \"scatter\", \"x\": [5.74, 10.03, 3.72, 7.54, 15.23, 2.52, 2.52, 5.03, 17.61, 6.02, 2.5, 6.61, 9.41, 13.5, 31.12, 15.23, 4.21, 9.41, 9.01, 4.82, 12.43, 45.91, 19.51, 12.52, 48.43, 15.34, 17.53, 1.84, 9.03, 4.51, 15.54, 6.03, 2.2, 2.51, 18.22, 1.0, 10.21, 14.1, 3.0, 2.11, 6.53, 15.73, 5.81, 14.93, 18.43, 25.24, 23.54, 31.83, 48.4, 43.91, 8.22, 28.22, 13.22, 9.52, 17.51, 14.53, 3.02, 8.4, 10.02, 15.82, 17.02, 4.52, 1.51, 5.0, 9.5, 13.81, 1.3, 11.7, 27.4, 14.5, 16.32, 2.22, 28.22, 18.82, 9.63, 18.45, 0.62, 8.62, 6.03, 15.61, 15.4, 3.51, 8.52, 0.5, 6.51, 2.02, 17.0, 1.0, 2.02, 9.01, 1.0, 11.0, 9.1, 7.2, 2.8, 7.92, 2.11, 37.03, 22.42, 22.9, 39.12, 41.42, 12.73, 2.0, 0.0, 1.0, 1.0, 2.6, 6.01, 3.8, 11.51, 7.2, 12.62, 4.81, 7.8, 0.01, 0.01, 0.02, 0.0, 0.0, 0.01, 0.0, 6.01, 2.0, 4.0, 0.0, 0.0, 0.0, 0.01, 1.0, 2.71, 4.0, 2.0, 26.0, 0.02, 0.0, 0.0, 0.0, 0.5, 6.6, 28.2, 0.8, 15.8, 6.82, 7.42, 0.0, 1.7, 0.1, 7.1, 12.61, 18.02, 13.51, 18.1, 2.52, 2.92, 11.54, 1.51, 8.0, 4.01, 8.51, 2.0, 4.0, 15.72, 8.11, 2.41, 8.5, 5.4, 7.93, 13.11, 2.31, 30.12, 31.24, 35.84, 4.91, 2.7, 13.02, 10.65, 5.61, 8.02, 1.01, 4.53, 20.53, 12.51, 4.52, 5.54, 7.5, 5.3, 10.2, 8.5, 8.82, 39.21, 36.22, 18.12, 27.2, 21.02, 36.51, 25.11, 19.52, 38.64, 40.62, 20.64, 11.54, 10.94], \"y\": [-0.37, -0.04, -0.89, -0.28, -0.63, -0.05, -0.11, -0.58, -1.38, -0.34, -0.22, -0.48, -0.34, -0.64, -0.7, -0.28, -0.15, -0.31, -0.18, -0.17, -0.64, -1.99, -0.62, 0.01, -1.4, -1.03, -1.26, -0.19, -0.52, -0.09, -0.48, -0.1, -0.18, -0.55, -0.66, -0.07, -0.66, -0.54, -0.12, -0.1, -0.03, -0.99, -0.09, -0.43, -0.81, -1.41, -0.72, -0.46, -2.49, -3.38, -0.12, -0.77, -0.66, -0.5, -0.88, -1.14, -0.07, -0.52, -0.64, -2.22, -1.26, -0.12, -2.07, -0.71, -0.02, -0.74, -0.17, -0.26, -1.18, 0.1, -0.19, -0.02, -2.17, -0.83, -0.38, -1.73, -1.09, -0.27, -0.39, -0.46, -0.95, 0.5, -0.93, -0.12, -2.91, -1.76, -1.34, -2.72, -1.71, 0.12, -0.01, -0.76, -0.47, -0.09, 0.12, 0.0, -0.77, -1.97, -2.12, -1.9, -2.47, -6.87, -1.46, 0.65, -2.51, -4.11, -4.2, -0.22, -0.52, -1.34, -0.46, -0.66, -2.7, -0.19, -4.01, -0.09, -0.71, -1.2, -0.51, -1.35, -2.69, -0.37, 0.25, -2.13, -2.08, 0.02, -2.18, -0.11, -1.16, -0.51, -1.66, -0.08, 1.11, -2.01, -2.21, -0.94, -2.04, -0.64, -1.15, -0.94, -1.21, -0.15, -0.65, -0.56, -0.66, -1.05, -1.09, -0.15, -0.82, -3.1, -0.5, -1.85, -1.2, -0.02, 0.01, -0.6, -1.08, -0.64, -0.6, -0.82, -0.32, -0.28, -1.16, -0.45, -0.11, -0.12, -0.12, -0.09, -0.49, 0.03, -1.44, -1.45, -1.85, -0.73, -0.11, -0.88, -0.52, -0.52, -0.62, -0.07, -0.42, -1.35, -0.37, -0.62, -0.37, -0.19, -0.12, -0.22, -0.57, -0.24, -2.57, -2.87, -0.26, -1.46, -0.94, -1.76, -1.72, -1.02, -2.42, -2.23, -1.08, -0.32, -0.55]}],\n",
       "                        {\"template\": {\"data\": {\"bar\": [{\"error_x\": {\"color\": \"#2a3f5f\"}, \"error_y\": {\"color\": \"#2a3f5f\"}, \"marker\": {\"line\": {\"color\": \"#E5ECF6\", \"width\": 0.5}}, \"type\": \"bar\"}], \"barpolar\": [{\"marker\": {\"line\": {\"color\": \"#E5ECF6\", \"width\": 0.5}}, \"type\": \"barpolar\"}], \"carpet\": [{\"aaxis\": {\"endlinecolor\": \"#2a3f5f\", \"gridcolor\": \"white\", \"linecolor\": \"white\", \"minorgridcolor\": \"white\", \"startlinecolor\": \"#2a3f5f\"}, \"baxis\": {\"endlinecolor\": \"#2a3f5f\", \"gridcolor\": \"white\", \"linecolor\": \"white\", \"minorgridcolor\": \"white\", \"startlinecolor\": \"#2a3f5f\"}, \"type\": \"carpet\"}], \"choropleth\": [{\"colorbar\": {\"outlinewidth\": 0, \"ticks\": \"\"}, \"type\": \"choropleth\"}], \"contour\": [{\"colorbar\": {\"outlinewidth\": 0, \"ticks\": \"\"}, \"colorscale\": [[0.0, \"#0d0887\"], [0.1111111111111111, \"#46039f\"], [0.2222222222222222, \"#7201a8\"], [0.3333333333333333, \"#9c179e\"], [0.4444444444444444, \"#bd3786\"], [0.5555555555555556, \"#d8576b\"], [0.6666666666666666, \"#ed7953\"], [0.7777777777777778, \"#fb9f3a\"], [0.8888888888888888, \"#fdca26\"], [1.0, \"#f0f921\"]], \"type\": \"contour\"}], \"contourcarpet\": [{\"colorbar\": {\"outlinewidth\": 0, \"ticks\": \"\"}, \"type\": \"contourcarpet\"}], \"heatmap\": [{\"colorbar\": {\"outlinewidth\": 0, \"ticks\": \"\"}, \"colorscale\": [[0.0, \"#0d0887\"], [0.1111111111111111, \"#46039f\"], [0.2222222222222222, \"#7201a8\"], [0.3333333333333333, \"#9c179e\"], [0.4444444444444444, \"#bd3786\"], [0.5555555555555556, \"#d8576b\"], [0.6666666666666666, \"#ed7953\"], [0.7777777777777778, \"#fb9f3a\"], [0.8888888888888888, \"#fdca26\"], [1.0, \"#f0f921\"]], \"type\": \"heatmap\"}], \"heatmapgl\": [{\"colorbar\": {\"outlinewidth\": 0, \"ticks\": \"\"}, \"colorscale\": [[0.0, \"#0d0887\"], [0.1111111111111111, \"#46039f\"], [0.2222222222222222, \"#7201a8\"], [0.3333333333333333, \"#9c179e\"], [0.4444444444444444, \"#bd3786\"], [0.5555555555555556, \"#d8576b\"], [0.6666666666666666, \"#ed7953\"], [0.7777777777777778, \"#fb9f3a\"], [0.8888888888888888, \"#fdca26\"], [1.0, \"#f0f921\"]], \"type\": \"heatmapgl\"}], \"histogram\": [{\"marker\": {\"colorbar\": {\"outlinewidth\": 0, \"ticks\": \"\"}}, \"type\": \"histogram\"}], \"histogram2d\": [{\"colorbar\": {\"outlinewidth\": 0, \"ticks\": \"\"}, \"colorscale\": [[0.0, \"#0d0887\"], [0.1111111111111111, \"#46039f\"], [0.2222222222222222, \"#7201a8\"], [0.3333333333333333, \"#9c179e\"], [0.4444444444444444, \"#bd3786\"], [0.5555555555555556, \"#d8576b\"], [0.6666666666666666, \"#ed7953\"], [0.7777777777777778, \"#fb9f3a\"], [0.8888888888888888, \"#fdca26\"], [1.0, \"#f0f921\"]], \"type\": \"histogram2d\"}], \"histogram2dcontour\": [{\"colorbar\": {\"outlinewidth\": 0, \"ticks\": \"\"}, \"colorscale\": [[0.0, \"#0d0887\"], [0.1111111111111111, \"#46039f\"], [0.2222222222222222, \"#7201a8\"], [0.3333333333333333, \"#9c179e\"], [0.4444444444444444, \"#bd3786\"], [0.5555555555555556, \"#d8576b\"], [0.6666666666666666, \"#ed7953\"], [0.7777777777777778, \"#fb9f3a\"], [0.8888888888888888, \"#fdca26\"], [1.0, \"#f0f921\"]], \"type\": \"histogram2dcontour\"}], \"mesh3d\": [{\"colorbar\": {\"outlinewidth\": 0, \"ticks\": \"\"}, \"type\": \"mesh3d\"}], \"parcoords\": [{\"line\": {\"colorbar\": {\"outlinewidth\": 0, \"ticks\": \"\"}}, \"type\": \"parcoords\"}], \"scatter\": [{\"marker\": {\"colorbar\": {\"outlinewidth\": 0, \"ticks\": \"\"}}, \"type\": \"scatter\"}], \"scatter3d\": [{\"line\": {\"colorbar\": {\"outlinewidth\": 0, \"ticks\": \"\"}}, \"marker\": {\"colorbar\": {\"outlinewidth\": 0, \"ticks\": \"\"}}, \"type\": \"scatter3d\"}], \"scattercarpet\": [{\"marker\": {\"colorbar\": {\"outlinewidth\": 0, \"ticks\": \"\"}}, \"type\": \"scattercarpet\"}], \"scattergeo\": [{\"marker\": {\"colorbar\": {\"outlinewidth\": 0, \"ticks\": \"\"}}, \"type\": \"scattergeo\"}], \"scattergl\": [{\"marker\": {\"colorbar\": {\"outlinewidth\": 0, \"ticks\": \"\"}}, \"type\": \"scattergl\"}], \"scattermapbox\": [{\"marker\": {\"colorbar\": {\"outlinewidth\": 0, \"ticks\": \"\"}}, \"type\": \"scattermapbox\"}], \"scatterpolar\": [{\"marker\": {\"colorbar\": {\"outlinewidth\": 0, \"ticks\": \"\"}}, \"type\": \"scatterpolar\"}], \"scatterpolargl\": [{\"marker\": {\"colorbar\": {\"outlinewidth\": 0, \"ticks\": \"\"}}, \"type\": \"scatterpolargl\"}], \"scatterternary\": [{\"marker\": {\"colorbar\": {\"outlinewidth\": 0, \"ticks\": \"\"}}, \"type\": \"scatterternary\"}], \"surface\": [{\"colorbar\": {\"outlinewidth\": 0, \"ticks\": \"\"}, \"colorscale\": [[0.0, \"#0d0887\"], [0.1111111111111111, \"#46039f\"], [0.2222222222222222, \"#7201a8\"], [0.3333333333333333, \"#9c179e\"], [0.4444444444444444, \"#bd3786\"], [0.5555555555555556, \"#d8576b\"], [0.6666666666666666, \"#ed7953\"], [0.7777777777777778, \"#fb9f3a\"], [0.8888888888888888, \"#fdca26\"], [1.0, \"#f0f921\"]], \"type\": \"surface\"}], \"table\": [{\"cells\": {\"fill\": {\"color\": \"#EBF0F8\"}, \"line\": {\"color\": \"white\"}}, \"header\": {\"fill\": {\"color\": \"#C8D4E3\"}, \"line\": {\"color\": \"white\"}}, \"type\": \"table\"}]}, \"layout\": {\"annotationdefaults\": {\"arrowcolor\": \"#2a3f5f\", \"arrowhead\": 0, \"arrowwidth\": 1}, \"colorscale\": {\"diverging\": [[0, \"#8e0152\"], [0.1, \"#c51b7d\"], [0.2, \"#de77ae\"], [0.3, \"#f1b6da\"], [0.4, \"#fde0ef\"], [0.5, \"#f7f7f7\"], [0.6, \"#e6f5d0\"], [0.7, \"#b8e186\"], [0.8, \"#7fbc41\"], [0.9, \"#4d9221\"], [1, \"#276419\"]], \"sequential\": [[0.0, \"#0d0887\"], [0.1111111111111111, \"#46039f\"], [0.2222222222222222, \"#7201a8\"], [0.3333333333333333, \"#9c179e\"], [0.4444444444444444, \"#bd3786\"], [0.5555555555555556, \"#d8576b\"], [0.6666666666666666, \"#ed7953\"], [0.7777777777777778, \"#fb9f3a\"], [0.8888888888888888, \"#fdca26\"], [1.0, \"#f0f921\"]], \"sequentialminus\": [[0.0, \"#0d0887\"], [0.1111111111111111, \"#46039f\"], [0.2222222222222222, \"#7201a8\"], [0.3333333333333333, \"#9c179e\"], [0.4444444444444444, \"#bd3786\"], [0.5555555555555556, \"#d8576b\"], [0.6666666666666666, \"#ed7953\"], [0.7777777777777778, \"#fb9f3a\"], [0.8888888888888888, \"#fdca26\"], [1.0, \"#f0f921\"]]}, \"colorway\": [\"#636efa\", \"#EF553B\", \"#00cc96\", \"#ab63fa\", \"#FFA15A\", \"#19d3f3\", \"#FF6692\", \"#B6E880\", \"#FF97FF\", \"#FECB52\"], \"font\": {\"color\": \"#2a3f5f\"}, \"geo\": {\"bgcolor\": \"white\", \"lakecolor\": \"white\", \"landcolor\": \"#E5ECF6\", \"showlakes\": true, \"showland\": true, \"subunitcolor\": \"white\"}, \"hoverlabel\": {\"align\": \"left\"}, \"hovermode\": \"closest\", \"mapbox\": {\"style\": \"light\"}, \"paper_bgcolor\": \"white\", \"plot_bgcolor\": \"#E5ECF6\", \"polar\": {\"angularaxis\": {\"gridcolor\": \"white\", \"linecolor\": \"white\", \"ticks\": \"\"}, \"bgcolor\": \"#E5ECF6\", \"radialaxis\": {\"gridcolor\": \"white\", \"linecolor\": \"white\", \"ticks\": \"\"}}, \"scene\": {\"xaxis\": {\"backgroundcolor\": \"#E5ECF6\", \"gridcolor\": \"white\", \"gridwidth\": 2, \"linecolor\": \"white\", \"showbackground\": true, \"ticks\": \"\", \"zerolinecolor\": \"white\"}, \"yaxis\": {\"backgroundcolor\": \"#E5ECF6\", \"gridcolor\": \"white\", \"gridwidth\": 2, \"linecolor\": \"white\", \"showbackground\": true, \"ticks\": \"\", \"zerolinecolor\": \"white\"}, \"zaxis\": {\"backgroundcolor\": \"#E5ECF6\", \"gridcolor\": \"white\", \"gridwidth\": 2, \"linecolor\": \"white\", \"showbackground\": true, \"ticks\": \"\", \"zerolinecolor\": \"white\"}}, \"shapedefaults\": {\"line\": {\"color\": \"#2a3f5f\"}}, \"ternary\": {\"aaxis\": {\"gridcolor\": \"white\", \"linecolor\": \"white\", \"ticks\": \"\"}, \"baxis\": {\"gridcolor\": \"white\", \"linecolor\": \"white\", \"ticks\": \"\"}, \"bgcolor\": \"#E5ECF6\", \"caxis\": {\"gridcolor\": \"white\", \"linecolor\": \"white\", \"ticks\": \"\"}}, \"title\": {\"x\": 0.05}, \"xaxis\": {\"automargin\": true, \"gridcolor\": \"white\", \"linecolor\": \"white\", \"ticks\": \"\", \"zerolinecolor\": \"white\", \"zerolinewidth\": 2}, \"yaxis\": {\"automargin\": true, \"gridcolor\": \"white\", \"linecolor\": \"white\", \"ticks\": \"\", \"zerolinecolor\": \"white\", \"zerolinewidth\": 2}}}, \"title\": {\"text\": \"Monthly Preicp Difference vs Monthly Snowfall (Traces Included)\"}, \"xaxis\": {\"title\": {\"text\": \"Snowfall (inches)\"}}, \"yaxis\": {\"title\": {\"text\": \"Precip Differnce (inches)\"}}},\n",
       "                        {\"responsive\": true}\n",
       "                    ).then(function(){\n",
       "                            \n",
       "var gd = document.getElementById('7ede1140-c528-46cc-8e2a-ad610f556be5');\n",
       "var x = new MutationObserver(function (mutations, observer) {{\n",
       "        var display = window.getComputedStyle(gd).display;\n",
       "        if (!display || display === 'none') {{\n",
       "            console.log([gd, 'removed!']);\n",
       "            Plotly.purge(gd);\n",
       "            observer.disconnect();\n",
       "        }}\n",
       "}});\n",
       "\n",
       "// Listen for the removal of the full notebook cells\n",
       "var notebookContainer = gd.closest('#notebook-container');\n",
       "if (notebookContainer) {{\n",
       "    x.observe(notebookContainer, {childList: true});\n",
       "}}\n",
       "\n",
       "// Listen for the clearing of the current output cell\n",
       "var outputEl = gd.closest('.output');\n",
       "if (outputEl) {{\n",
       "    x.observe(outputEl, {childList: true});\n",
       "}}\n",
       "\n",
       "                        })\n",
       "                };\n",
       "                });\n",
       "            </script>\n",
       "        </div>"
      ]
     },
     "metadata": {},
     "output_type": "display_data"
    }
   ],
   "source": [
    "precip_comp_fig_trace = go.Figure(\n",
    "    data=[go.Scatter()],\n",
    "    layout=go.Layout(\n",
    "        title=go.layout.Title(\n",
    "            text='Monthly Preicp Difference vs Monthly Snowfall (Traces Included)'),\n",
    "        xaxis=go.layout.XAxis(\n",
    "            title=go.layout.xaxis.Title(text='Snowfall (inches)')),\n",
    "        yaxis=go.layout.YAxis(title=go.layout.yaxis.Title(text='Precip Differnce (inches)'))))\n",
    "\n",
    "precip_comp_fig_trace.add_trace(\n",
    "    go.Scatter(x=monthly_trace_pp.snow,y=monthly_trace_pp.rez,\n",
    "               text=monthly_trace_pp.ym + '<br \\>' + 'Snowfall Events: ' + monthly_trace_pp.snowfall,\n",
    "               mode='markers'))"
   ]
  },
  {
   "cell_type": "code",
   "execution_count": 90,
   "metadata": {},
   "outputs": [
    {
     "data": {
      "application/vnd.plotly.v1+json": {
       "config": {
        "plotlyServerURL": "https://plot.ly"
       },
       "data": [
        {
         "type": "scatter"
        },
        {
         "mode": "markers",
         "text": [
          "Jan-1993<br \\>Snowfall Events: 8.0",
          "Jan-1994<br \\>Snowfall Events: 7.0",
          "Jan-1995<br \\>Snowfall Events: 3.0",
          "Jan-1996<br \\>Snowfall Events: 7.0",
          "Jan-1997<br \\>Snowfall Events: 7.0",
          "Jan-1998<br \\>Snowfall Events: 2.0",
          "Jan-1999<br \\>Snowfall Events: 4.0",
          "Jan-2000<br \\>Snowfall Events: 3.0",
          "Jan-2001<br \\>Snowfall Events: 7.0",
          "Jan-2002<br \\>Snowfall Events: 3.0",
          "Jan-2003<br \\>Snowfall Events: 2.0",
          "Jan-2004<br \\>Snowfall Events: 4.0",
          "Jan-2005<br \\>Snowfall Events: 7.0",
          "Jan-2006<br \\>Snowfall Events: 8.0",
          "Jan-2007<br \\>Snowfall Events: 15.0",
          "Jan-2008<br \\>Snowfall Events: 13.0",
          "Jan-2009<br \\>Snowfall Events: 8.0",
          "Jan-2010<br \\>Snowfall Events: 7.0",
          "Jan-2011<br \\>Snowfall Events: 11.0",
          "Jan-2012<br \\>Snowfall Events: 8.0",
          "Jan-2013<br \\>Snowfall Events: 15.0",
          "Jan-2014<br \\>Snowfall Events: 27.0",
          "Jan-2015<br \\>Snowfall Events: 13.0",
          "Jan-2016<br \\>Snowfall Events: 15.0",
          "Jan-2017<br \\>Snowfall Events: 28.0",
          "Jan-2018<br \\>Snowfall Events: 9.0",
          "Feb-1993<br \\>Snowfall Events: 11.0",
          "Feb-1994<br \\>Snowfall Events: 3.0",
          "Feb-1995<br \\>Snowfall Events: 8.0",
          "Feb-1996<br \\>Snowfall Events: 3.0",
          "Feb-1997<br \\>Snowfall Events: 9.0",
          "Feb-1998<br \\>Snowfall Events: 4.0",
          "Feb-1999<br \\>Snowfall Events: 2.0",
          "Feb-2000<br \\>Snowfall Events: 2.0",
          "Feb-2001<br \\>Snowfall Events: 8.0",
          "Feb-2002<br \\>Snowfall Events: 1.0",
          "Feb-2003<br \\>Snowfall Events: 7.0",
          "Feb-2004<br \\>Snowfall Events: 9.0",
          "Feb-2005<br \\>Snowfall Events: 2.0",
          "Feb-2006<br \\>Snowfall Events: 4.0",
          "Feb-2007<br \\>Snowfall Events: 7.0",
          "Feb-2008<br \\>Snowfall Events: 9.0",
          "Feb-2009<br \\>Snowfall Events: 2.0",
          "Feb-2010<br \\>Snowfall Events: 15.0",
          "Feb-2011<br \\>Snowfall Events: 11.0",
          "Feb-2012<br \\>Snowfall Events: 19.0",
          "Feb-2013<br \\>Snowfall Events: 17.0",
          "Feb-2014<br \\>Snowfall Events: 27.0",
          "Feb-2015<br \\>Snowfall Events: 30.0",
          "Feb-2016<br \\>Snowfall Events: 18.0",
          "Feb-2017<br \\>Snowfall Events: 8.0",
          "Feb-2018<br \\>Snowfall Events: 24.0",
          "Mar-1993<br \\>Snowfall Events: 7.0",
          "Mar-1994<br \\>Snowfall Events: 5.0",
          "Mar-1995<br \\>Snowfall Events: 12.0",
          "Mar-1996<br \\>Snowfall Events: 8.0",
          "Mar-1997<br \\>Snowfall Events: 1.0",
          "Mar-1998<br \\>Snowfall Events: 7.0",
          "Mar-1999<br \\>Snowfall Events: 6.0",
          "Mar-2000<br \\>Snowfall Events: 8.0",
          "Mar-2001<br \\>Snowfall Events: 6.0",
          "Mar-2002<br \\>Snowfall Events: 5.0",
          "Mar-2003<br \\>Snowfall Events: 2.0",
          "Mar-2004<br \\>Snowfall Events: 2.0",
          "Mar-2005<br \\>Snowfall Events: 6.0",
          "Mar-2006<br \\>Snowfall Events: 8.0",
          "Mar-2007<br \\>Snowfall Events: 2.0",
          "Mar-2008<br \\>Snowfall Events: 10.0",
          "Mar-2009<br \\>Snowfall Events: 10.0",
          "Mar-2010<br \\>Snowfall Events: 8.0",
          "Mar-2011<br \\>Snowfall Events: 13.0",
          "Mar-2012<br \\>Snowfall Events: 3.0",
          "Mar-2013<br \\>Snowfall Events: 15.0",
          "Mar-2014<br \\>Snowfall Events: 17.0",
          "Mar-2015<br \\>Snowfall Events: 7.0",
          "Mar-2016<br \\>Snowfall Events: 10.0",
          "Mar-2017<br \\>Snowfall Events: 2.0",
          "Mar-2018<br \\>Snowfall Events: 4.0",
          "Apr-1993<br \\>Snowfall Events: 2.0",
          "Apr-1994<br \\>Snowfall Events: 9.0",
          "Apr-1995<br \\>Snowfall Events: 8.0",
          "Apr-1996<br \\>Snowfall Events: 3.0",
          "Apr-1997<br \\>Snowfall Events: 5.0",
          "Apr-1998<br \\>Snowfall Events: 1.0",
          "Apr-1999<br \\>Snowfall Events: 5.0",
          "Apr-2000<br \\>Snowfall Events: 1.0",
          "Apr-2001<br \\>Snowfall Events: 4.0",
          "Apr-2003<br \\>Snowfall Events: 2.0",
          "Apr-2004<br \\>Snowfall Events: 2.0",
          "Apr-2005<br \\>Snowfall Events: 1.0",
          "Apr-2006<br \\>Snowfall Events: 1.0",
          "Apr-2007<br \\>Snowfall Events: 9.0",
          "Apr-2008<br \\>Snowfall Events: 4.0",
          "Apr-2009<br \\>Snowfall Events: 5.0",
          "Apr-2010<br \\>Snowfall Events: 3.0",
          "Apr-2011<br \\>Snowfall Events: 6.0",
          "Apr-2012<br \\>Snowfall Events: 6.0",
          "Apr-2013<br \\>Snowfall Events: 16.0",
          "Apr-2014<br \\>Snowfall Events: 11.0",
          "Apr-2015<br \\>Snowfall Events: 6.0",
          "Apr-2016<br \\>Snowfall Events: 10.0",
          "Apr-2017<br \\>Snowfall Events: 13.0",
          "Apr-2018<br \\>Snowfall Events: 8.0",
          "May-1995<br \\>Snowfall Events: 1.0",
          "May-2001<br \\>Snowfall Events: 1.0",
          "May-2003<br \\>Snowfall Events: 1.0",
          "May-2008<br \\>Snowfall Events: 2.0",
          "May-2011<br \\>Snowfall Events: 4.0",
          "May-2012<br \\>Snowfall Events: 4.0",
          "May-2013<br \\>Snowfall Events: 6.0",
          "May-2014<br \\>Snowfall Events: 5.0",
          "May-2015<br \\>Snowfall Events: 5.0",
          "May-2016<br \\>Snowfall Events: 3.0",
          "May-2017<br \\>Snowfall Events: 4.0",
          "Sep-1995<br \\>Snowfall Events: 1.0",
          "Sep-1996<br \\>Snowfall Events: 1.0",
          "Sep-1999<br \\>Snowfall Events: 2.0",
          "Oct-1992<br \\>Snowfall Events: 1.0",
          "Oct-1993<br \\>Snowfall Events: 1.0",
          "Oct-1995<br \\>Snowfall Events: 1.0",
          "Oct-1996<br \\>Snowfall Events: 1.0",
          "Oct-1997<br \\>Snowfall Events: 4.0",
          "Oct-2002<br \\>Snowfall Events: 1.0",
          "Oct-2006<br \\>Snowfall Events: 3.0",
          "Oct-2009<br \\>Snowfall Events: 10.0",
          "Oct-2010<br \\>Snowfall Events: 2.0",
          "Oct-2011<br \\>Snowfall Events: 6.0",
          "Oct-2012<br \\>Snowfall Events: 6.0",
          "Oct-2013<br \\>Snowfall Events: 4.0",
          "Oct-2015<br \\>Snowfall Events: 2.0",
          "Oct-2016<br \\>Snowfall Events: 1.0",
          "Oct-2017<br \\>Snowfall Events: 5.0",
          "Oct-2018<br \\>Snowfall Events: 6.0",
          "Nov-1992<br \\>Snowfall Events: 11.0",
          "Nov-1993<br \\>Snowfall Events: 4.0",
          "Nov-1994<br \\>Snowfall Events: 7.0",
          "Nov-1995<br \\>Snowfall Events: 2.0",
          "Nov-1996<br \\>Snowfall Events: 4.0",
          "Nov-1997<br \\>Snowfall Events: 5.0",
          "Nov-1998<br \\>Snowfall Events: 1.0",
          "Nov-1999<br \\>Snowfall Events: 3.0",
          "Nov-2000<br \\>Snowfall Events: 3.0",
          "Nov-2001<br \\>Snowfall Events: 2.0",
          "Nov-2002<br \\>Snowfall Events: 2.0",
          "Nov-2003<br \\>Snowfall Events: 3.0",
          "Nov-2004<br \\>Snowfall Events: 10.0",
          "Nov-2006<br \\>Snowfall Events: 4.0",
          "Nov-2007<br \\>Snowfall Events: 3.0",
          "Nov-2008<br \\>Snowfall Events: 5.0",
          "Nov-2009<br \\>Snowfall Events: 5.0",
          "Nov-2010<br \\>Snowfall Events: 12.0",
          "Nov-2011<br \\>Snowfall Events: 7.0",
          "Nov-2012<br \\>Snowfall Events: 2.0",
          "Nov-2013<br \\>Snowfall Events: 16.0",
          "Nov-2014<br \\>Snowfall Events: 15.0",
          "Nov-2015<br \\>Snowfall Events: 21.0",
          "Nov-2016<br \\>Snowfall Events: 3.0",
          "Nov-2017<br \\>Snowfall Events: 3.0",
          "Nov-2018<br \\>Snowfall Events: 14.0",
          "Dec-1992<br \\>Snowfall Events: 6.0",
          "Dec-1993<br \\>Snowfall Events: 5.0",
          "Dec-1994<br \\>Snowfall Events: 4.0",
          "Dec-1995<br \\>Snowfall Events: 2.0",
          "Dec-1996<br \\>Snowfall Events: 2.0",
          "Dec-1997<br \\>Snowfall Events: 11.0",
          "Dec-1998<br \\>Snowfall Events: 8.0",
          "Dec-1999<br \\>Snowfall Events: 2.0",
          "Dec-2000<br \\>Snowfall Events: 4.0",
          "Dec-2001<br \\>Snowfall Events: 2.0",
          "Dec-2002<br \\>Snowfall Events: 5.0",
          "Dec-2003<br \\>Snowfall Events: 4.0",
          "Dec-2004<br \\>Snowfall Events: 4.0",
          "Dec-2005<br \\>Snowfall Events: 7.0",
          "Dec-2006<br \\>Snowfall Events: 11.0",
          "Dec-2007<br \\>Snowfall Events: 21.0",
          "Dec-2008<br \\>Snowfall Events: 13.0",
          "Dec-2009<br \\>Snowfall Events: 16.0",
          "Dec-2010<br \\>Snowfall Events: 9.0",
          "Dec-2011<br \\>Snowfall Events: 25.0",
          "Dec-2012<br \\>Snowfall Events: 20.0",
          "Dec-2013<br \\>Snowfall Events: 18.0",
          "Dec-2014<br \\>Snowfall Events: 21.0",
          "Dec-2015<br \\>Snowfall Events: 28.0",
          "Dec-2016<br \\>Snowfall Events: 15.0",
          "Dec-2017<br \\>Snowfall Events: 13.0",
          "Dec-2018<br \\>Snowfall Events: 14.0"
         ],
         "type": "scatter",
         "x": [
          "8.0",
          "7.0",
          "3.0",
          "7.0",
          "7.0",
          "2.0",
          "4.0",
          "3.0",
          "7.0",
          "3.0",
          "2.0",
          "4.0",
          "7.0",
          "8.0",
          "15.0",
          "13.0",
          "8.0",
          "7.0",
          "11.0",
          "8.0",
          "15.0",
          "27.0",
          "13.0",
          "15.0",
          "28.0",
          "9.0",
          "11.0",
          "3.0",
          "8.0",
          "3.0",
          "9.0",
          "4.0",
          "2.0",
          "2.0",
          "8.0",
          "1.0",
          "7.0",
          "9.0",
          "2.0",
          "4.0",
          "7.0",
          "9.0",
          "2.0",
          "15.0",
          "11.0",
          "19.0",
          "17.0",
          "27.0",
          "30.0",
          "18.0",
          "8.0",
          "24.0",
          "7.0",
          "5.0",
          "12.0",
          "8.0",
          "1.0",
          "7.0",
          "6.0",
          "8.0",
          "6.0",
          "5.0",
          "2.0",
          "2.0",
          "6.0",
          "8.0",
          "2.0",
          "10.0",
          "10.0",
          "8.0",
          "13.0",
          "3.0",
          "15.0",
          "17.0",
          "7.0",
          "10.0",
          "2.0",
          "4.0",
          "2.0",
          "9.0",
          "8.0",
          "3.0",
          "5.0",
          "1.0",
          "5.0",
          "1.0",
          "4.0",
          "2.0",
          "2.0",
          "1.0",
          "1.0",
          "9.0",
          "4.0",
          "5.0",
          "3.0",
          "6.0",
          "6.0",
          "16.0",
          "11.0",
          "6.0",
          "10.0",
          "13.0",
          "8.0",
          "1.0",
          "1.0",
          "1.0",
          "2.0",
          "4.0",
          "4.0",
          "6.0",
          "5.0",
          "5.0",
          "3.0",
          "4.0",
          "1.0",
          "1.0",
          "2.0",
          "1.0",
          "1.0",
          "1.0",
          "1.0",
          "4.0",
          "1.0",
          "3.0",
          "10.0",
          "2.0",
          "6.0",
          "6.0",
          "4.0",
          "2.0",
          "1.0",
          "5.0",
          "6.0",
          "11.0",
          "4.0",
          "7.0",
          "2.0",
          "4.0",
          "5.0",
          "1.0",
          "3.0",
          "3.0",
          "2.0",
          "2.0",
          "3.0",
          "10.0",
          "4.0",
          "3.0",
          "5.0",
          "5.0",
          "12.0",
          "7.0",
          "2.0",
          "16.0",
          "15.0",
          "21.0",
          "3.0",
          "3.0",
          "14.0",
          "6.0",
          "5.0",
          "4.0",
          "2.0",
          "2.0",
          "11.0",
          "8.0",
          "2.0",
          "4.0",
          "2.0",
          "5.0",
          "4.0",
          "4.0",
          "7.0",
          "11.0",
          "21.0",
          "13.0",
          "16.0",
          "9.0",
          "25.0",
          "20.0",
          "18.0",
          "21.0",
          "28.0",
          "15.0",
          "13.0",
          "14.0"
         ],
         "y": [
          -0.32,
          -0.01,
          -0.87,
          -0.25,
          -0.59,
          -0.02,
          -0.07,
          -0.56,
          -1.36,
          -0.31,
          -0.22,
          -0.47,
          -0.33,
          -0.63,
          -0.68,
          -0.25,
          -0.13,
          -0.3,
          -0.15,
          -0.15,
          -0.59,
          -1.97,
          -0.6,
          0.04,
          -1.36,
          -1,
          -1.23,
          -0.16,
          -0.48,
          -0.07,
          -0.45,
          -0.07,
          -0.17,
          -0.52,
          -0.61,
          -0.07,
          -0.65,
          -0.53,
          -0.09,
          -0.08,
          0,
          -0.96,
          -0.08,
          -0.42,
          -0.78,
          -1.37,
          -0.67,
          -0.42,
          -2.47,
          -3.38,
          -0.11,
          -0.74,
          -0.62,
          -0.49,
          -0.87,
          -1.11,
          -0.06,
          -0.48,
          -0.62,
          -2.21,
          -1.23,
          -0.1,
          -2.07,
          -0.69,
          -0.01,
          -0.73,
          -0.15,
          -0.26,
          -1.18,
          0.12,
          -0.17,
          0,
          -2.15,
          -0.79,
          -0.36,
          -1.69,
          -1.07,
          -0.25,
          -0.38,
          -0.43,
          -0.94,
          0.53,
          -0.89,
          -0.08,
          -2.88,
          -1.74,
          -1.33,
          -2.71,
          -1.7,
          0.12,
          -0.01,
          -0.75,
          -0.47,
          -0.06,
          0.12,
          0.02,
          -0.75,
          -1.94,
          -2.08,
          -1.89,
          -2.46,
          -6.84,
          -1.41,
          0.69,
          -4.09,
          -4.19,
          -0.18,
          -0.51,
          -1.33,
          -0.44,
          -0.61,
          -2.67,
          -0.17,
          -4,
          0.28,
          -2.11,
          -2.06,
          -0.48,
          -1.65,
          -0.04,
          1.14,
          -2,
          -1.14,
          -0.93,
          -1.2,
          -0.14,
          -0.64,
          -0.56,
          -0.65,
          -1.07,
          -0.13,
          -0.81,
          -3.06,
          -0.45,
          -1.84,
          -1.18,
          0,
          0.07,
          -0.57,
          -1.05,
          -0.63,
          -0.57,
          -0.8,
          -0.29,
          -0.27,
          -1.14,
          -0.42,
          -0.1,
          -0.1,
          -0.12,
          -0.04,
          -0.48,
          0.04,
          -1.42,
          -1.41,
          -1.81,
          -0.7,
          -0.1,
          -0.86,
          -0.46,
          -0.51,
          -0.61,
          -0.05,
          -0.4,
          -1.33,
          -0.36,
          -0.59,
          -0.33,
          -0.19,
          -0.11,
          -0.21,
          -0.57,
          -0.23,
          -2.54,
          -2.85,
          -0.23,
          -1.45,
          -0.92,
          -1.75,
          -1.71,
          -0.98,
          -2.39,
          -2.22,
          -1.05,
          -0.27,
          -0.5
         ]
        }
       ],
       "layout": {
        "template": {
         "data": {
          "bar": [
           {
            "error_x": {
             "color": "#2a3f5f"
            },
            "error_y": {
             "color": "#2a3f5f"
            },
            "marker": {
             "line": {
              "color": "#E5ECF6",
              "width": 0.5
             }
            },
            "type": "bar"
           }
          ],
          "barpolar": [
           {
            "marker": {
             "line": {
              "color": "#E5ECF6",
              "width": 0.5
             }
            },
            "type": "barpolar"
           }
          ],
          "carpet": [
           {
            "aaxis": {
             "endlinecolor": "#2a3f5f",
             "gridcolor": "white",
             "linecolor": "white",
             "minorgridcolor": "white",
             "startlinecolor": "#2a3f5f"
            },
            "baxis": {
             "endlinecolor": "#2a3f5f",
             "gridcolor": "white",
             "linecolor": "white",
             "minorgridcolor": "white",
             "startlinecolor": "#2a3f5f"
            },
            "type": "carpet"
           }
          ],
          "choropleth": [
           {
            "colorbar": {
             "outlinewidth": 0,
             "ticks": ""
            },
            "type": "choropleth"
           }
          ],
          "contour": [
           {
            "colorbar": {
             "outlinewidth": 0,
             "ticks": ""
            },
            "colorscale": [
             [
              0,
              "#0d0887"
             ],
             [
              0.1111111111111111,
              "#46039f"
             ],
             [
              0.2222222222222222,
              "#7201a8"
             ],
             [
              0.3333333333333333,
              "#9c179e"
             ],
             [
              0.4444444444444444,
              "#bd3786"
             ],
             [
              0.5555555555555556,
              "#d8576b"
             ],
             [
              0.6666666666666666,
              "#ed7953"
             ],
             [
              0.7777777777777778,
              "#fb9f3a"
             ],
             [
              0.8888888888888888,
              "#fdca26"
             ],
             [
              1,
              "#f0f921"
             ]
            ],
            "type": "contour"
           }
          ],
          "contourcarpet": [
           {
            "colorbar": {
             "outlinewidth": 0,
             "ticks": ""
            },
            "type": "contourcarpet"
           }
          ],
          "heatmap": [
           {
            "colorbar": {
             "outlinewidth": 0,
             "ticks": ""
            },
            "colorscale": [
             [
              0,
              "#0d0887"
             ],
             [
              0.1111111111111111,
              "#46039f"
             ],
             [
              0.2222222222222222,
              "#7201a8"
             ],
             [
              0.3333333333333333,
              "#9c179e"
             ],
             [
              0.4444444444444444,
              "#bd3786"
             ],
             [
              0.5555555555555556,
              "#d8576b"
             ],
             [
              0.6666666666666666,
              "#ed7953"
             ],
             [
              0.7777777777777778,
              "#fb9f3a"
             ],
             [
              0.8888888888888888,
              "#fdca26"
             ],
             [
              1,
              "#f0f921"
             ]
            ],
            "type": "heatmap"
           }
          ],
          "heatmapgl": [
           {
            "colorbar": {
             "outlinewidth": 0,
             "ticks": ""
            },
            "colorscale": [
             [
              0,
              "#0d0887"
             ],
             [
              0.1111111111111111,
              "#46039f"
             ],
             [
              0.2222222222222222,
              "#7201a8"
             ],
             [
              0.3333333333333333,
              "#9c179e"
             ],
             [
              0.4444444444444444,
              "#bd3786"
             ],
             [
              0.5555555555555556,
              "#d8576b"
             ],
             [
              0.6666666666666666,
              "#ed7953"
             ],
             [
              0.7777777777777778,
              "#fb9f3a"
             ],
             [
              0.8888888888888888,
              "#fdca26"
             ],
             [
              1,
              "#f0f921"
             ]
            ],
            "type": "heatmapgl"
           }
          ],
          "histogram": [
           {
            "marker": {
             "colorbar": {
              "outlinewidth": 0,
              "ticks": ""
             }
            },
            "type": "histogram"
           }
          ],
          "histogram2d": [
           {
            "colorbar": {
             "outlinewidth": 0,
             "ticks": ""
            },
            "colorscale": [
             [
              0,
              "#0d0887"
             ],
             [
              0.1111111111111111,
              "#46039f"
             ],
             [
              0.2222222222222222,
              "#7201a8"
             ],
             [
              0.3333333333333333,
              "#9c179e"
             ],
             [
              0.4444444444444444,
              "#bd3786"
             ],
             [
              0.5555555555555556,
              "#d8576b"
             ],
             [
              0.6666666666666666,
              "#ed7953"
             ],
             [
              0.7777777777777778,
              "#fb9f3a"
             ],
             [
              0.8888888888888888,
              "#fdca26"
             ],
             [
              1,
              "#f0f921"
             ]
            ],
            "type": "histogram2d"
           }
          ],
          "histogram2dcontour": [
           {
            "colorbar": {
             "outlinewidth": 0,
             "ticks": ""
            },
            "colorscale": [
             [
              0,
              "#0d0887"
             ],
             [
              0.1111111111111111,
              "#46039f"
             ],
             [
              0.2222222222222222,
              "#7201a8"
             ],
             [
              0.3333333333333333,
              "#9c179e"
             ],
             [
              0.4444444444444444,
              "#bd3786"
             ],
             [
              0.5555555555555556,
              "#d8576b"
             ],
             [
              0.6666666666666666,
              "#ed7953"
             ],
             [
              0.7777777777777778,
              "#fb9f3a"
             ],
             [
              0.8888888888888888,
              "#fdca26"
             ],
             [
              1,
              "#f0f921"
             ]
            ],
            "type": "histogram2dcontour"
           }
          ],
          "mesh3d": [
           {
            "colorbar": {
             "outlinewidth": 0,
             "ticks": ""
            },
            "type": "mesh3d"
           }
          ],
          "parcoords": [
           {
            "line": {
             "colorbar": {
              "outlinewidth": 0,
              "ticks": ""
             }
            },
            "type": "parcoords"
           }
          ],
          "scatter": [
           {
            "marker": {
             "colorbar": {
              "outlinewidth": 0,
              "ticks": ""
             }
            },
            "type": "scatter"
           }
          ],
          "scatter3d": [
           {
            "line": {
             "colorbar": {
              "outlinewidth": 0,
              "ticks": ""
             }
            },
            "marker": {
             "colorbar": {
              "outlinewidth": 0,
              "ticks": ""
             }
            },
            "type": "scatter3d"
           }
          ],
          "scattercarpet": [
           {
            "marker": {
             "colorbar": {
              "outlinewidth": 0,
              "ticks": ""
             }
            },
            "type": "scattercarpet"
           }
          ],
          "scattergeo": [
           {
            "marker": {
             "colorbar": {
              "outlinewidth": 0,
              "ticks": ""
             }
            },
            "type": "scattergeo"
           }
          ],
          "scattergl": [
           {
            "marker": {
             "colorbar": {
              "outlinewidth": 0,
              "ticks": ""
             }
            },
            "type": "scattergl"
           }
          ],
          "scattermapbox": [
           {
            "marker": {
             "colorbar": {
              "outlinewidth": 0,
              "ticks": ""
             }
            },
            "type": "scattermapbox"
           }
          ],
          "scatterpolar": [
           {
            "marker": {
             "colorbar": {
              "outlinewidth": 0,
              "ticks": ""
             }
            },
            "type": "scatterpolar"
           }
          ],
          "scatterpolargl": [
           {
            "marker": {
             "colorbar": {
              "outlinewidth": 0,
              "ticks": ""
             }
            },
            "type": "scatterpolargl"
           }
          ],
          "scatterternary": [
           {
            "marker": {
             "colorbar": {
              "outlinewidth": 0,
              "ticks": ""
             }
            },
            "type": "scatterternary"
           }
          ],
          "surface": [
           {
            "colorbar": {
             "outlinewidth": 0,
             "ticks": ""
            },
            "colorscale": [
             [
              0,
              "#0d0887"
             ],
             [
              0.1111111111111111,
              "#46039f"
             ],
             [
              0.2222222222222222,
              "#7201a8"
             ],
             [
              0.3333333333333333,
              "#9c179e"
             ],
             [
              0.4444444444444444,
              "#bd3786"
             ],
             [
              0.5555555555555556,
              "#d8576b"
             ],
             [
              0.6666666666666666,
              "#ed7953"
             ],
             [
              0.7777777777777778,
              "#fb9f3a"
             ],
             [
              0.8888888888888888,
              "#fdca26"
             ],
             [
              1,
              "#f0f921"
             ]
            ],
            "type": "surface"
           }
          ],
          "table": [
           {
            "cells": {
             "fill": {
              "color": "#EBF0F8"
             },
             "line": {
              "color": "white"
             }
            },
            "header": {
             "fill": {
              "color": "#C8D4E3"
             },
             "line": {
              "color": "white"
             }
            },
            "type": "table"
           }
          ]
         },
         "layout": {
          "annotationdefaults": {
           "arrowcolor": "#2a3f5f",
           "arrowhead": 0,
           "arrowwidth": 1
          },
          "colorscale": {
           "diverging": [
            [
             0,
             "#8e0152"
            ],
            [
             0.1,
             "#c51b7d"
            ],
            [
             0.2,
             "#de77ae"
            ],
            [
             0.3,
             "#f1b6da"
            ],
            [
             0.4,
             "#fde0ef"
            ],
            [
             0.5,
             "#f7f7f7"
            ],
            [
             0.6,
             "#e6f5d0"
            ],
            [
             0.7,
             "#b8e186"
            ],
            [
             0.8,
             "#7fbc41"
            ],
            [
             0.9,
             "#4d9221"
            ],
            [
             1,
             "#276419"
            ]
           ],
           "sequential": [
            [
             0,
             "#0d0887"
            ],
            [
             0.1111111111111111,
             "#46039f"
            ],
            [
             0.2222222222222222,
             "#7201a8"
            ],
            [
             0.3333333333333333,
             "#9c179e"
            ],
            [
             0.4444444444444444,
             "#bd3786"
            ],
            [
             0.5555555555555556,
             "#d8576b"
            ],
            [
             0.6666666666666666,
             "#ed7953"
            ],
            [
             0.7777777777777778,
             "#fb9f3a"
            ],
            [
             0.8888888888888888,
             "#fdca26"
            ],
            [
             1,
             "#f0f921"
            ]
           ],
           "sequentialminus": [
            [
             0,
             "#0d0887"
            ],
            [
             0.1111111111111111,
             "#46039f"
            ],
            [
             0.2222222222222222,
             "#7201a8"
            ],
            [
             0.3333333333333333,
             "#9c179e"
            ],
            [
             0.4444444444444444,
             "#bd3786"
            ],
            [
             0.5555555555555556,
             "#d8576b"
            ],
            [
             0.6666666666666666,
             "#ed7953"
            ],
            [
             0.7777777777777778,
             "#fb9f3a"
            ],
            [
             0.8888888888888888,
             "#fdca26"
            ],
            [
             1,
             "#f0f921"
            ]
           ]
          },
          "colorway": [
           "#636efa",
           "#EF553B",
           "#00cc96",
           "#ab63fa",
           "#FFA15A",
           "#19d3f3",
           "#FF6692",
           "#B6E880",
           "#FF97FF",
           "#FECB52"
          ],
          "font": {
           "color": "#2a3f5f"
          },
          "geo": {
           "bgcolor": "white",
           "lakecolor": "white",
           "landcolor": "#E5ECF6",
           "showlakes": true,
           "showland": true,
           "subunitcolor": "white"
          },
          "hoverlabel": {
           "align": "left"
          },
          "hovermode": "closest",
          "mapbox": {
           "style": "light"
          },
          "paper_bgcolor": "white",
          "plot_bgcolor": "#E5ECF6",
          "polar": {
           "angularaxis": {
            "gridcolor": "white",
            "linecolor": "white",
            "ticks": ""
           },
           "bgcolor": "#E5ECF6",
           "radialaxis": {
            "gridcolor": "white",
            "linecolor": "white",
            "ticks": ""
           }
          },
          "scene": {
           "xaxis": {
            "backgroundcolor": "#E5ECF6",
            "gridcolor": "white",
            "gridwidth": 2,
            "linecolor": "white",
            "showbackground": true,
            "ticks": "",
            "zerolinecolor": "white"
           },
           "yaxis": {
            "backgroundcolor": "#E5ECF6",
            "gridcolor": "white",
            "gridwidth": 2,
            "linecolor": "white",
            "showbackground": true,
            "ticks": "",
            "zerolinecolor": "white"
           },
           "zaxis": {
            "backgroundcolor": "#E5ECF6",
            "gridcolor": "white",
            "gridwidth": 2,
            "linecolor": "white",
            "showbackground": true,
            "ticks": "",
            "zerolinecolor": "white"
           }
          },
          "shapedefaults": {
           "line": {
            "color": "#2a3f5f"
           }
          },
          "ternary": {
           "aaxis": {
            "gridcolor": "white",
            "linecolor": "white",
            "ticks": ""
           },
           "baxis": {
            "gridcolor": "white",
            "linecolor": "white",
            "ticks": ""
           },
           "bgcolor": "#E5ECF6",
           "caxis": {
            "gridcolor": "white",
            "linecolor": "white",
            "ticks": ""
           }
          },
          "title": {
           "x": 0.05
          },
          "xaxis": {
           "automargin": true,
           "gridcolor": "white",
           "linecolor": "white",
           "ticks": "",
           "zerolinecolor": "white",
           "zerolinewidth": 2
          },
          "yaxis": {
           "automargin": true,
           "gridcolor": "white",
           "linecolor": "white",
           "ticks": "",
           "zerolinecolor": "white",
           "zerolinewidth": 2
          }
         }
        },
        "title": {
         "text": "Monthly Precip Difference vs Monthly Snowfall (No Traces)"
        },
        "xaxis": {
         "title": {
          "text": "Snowfall (inches)"
         }
        },
        "yaxis": {
         "title": {
          "text": "Precip Difference (Inches)"
         }
        }
       }
      },
      "text/html": [
       "<div>\n",
       "        \n",
       "        \n",
       "            <div id=\"8ada427a-b624-4095-9108-c6b375184f96\" class=\"plotly-graph-div\" style=\"height:525px; width:100%;\"></div>\n",
       "            <script type=\"text/javascript\">\n",
       "                require([\"plotly\"], function(Plotly) {\n",
       "                    window.PLOTLYENV=window.PLOTLYENV || {};\n",
       "                    \n",
       "                if (document.getElementById(\"8ada427a-b624-4095-9108-c6b375184f96\")) {\n",
       "                    Plotly.newPlot(\n",
       "                        '8ada427a-b624-4095-9108-c6b375184f96',\n",
       "                        [{\"type\": \"scatter\"}, {\"mode\": \"markers\", \"text\": [\"Jan-1993<br \\\\>Snowfall Events: 8.0\", \"Jan-1994<br \\\\>Snowfall Events: 7.0\", \"Jan-1995<br \\\\>Snowfall Events: 3.0\", \"Jan-1996<br \\\\>Snowfall Events: 7.0\", \"Jan-1997<br \\\\>Snowfall Events: 7.0\", \"Jan-1998<br \\\\>Snowfall Events: 2.0\", \"Jan-1999<br \\\\>Snowfall Events: 4.0\", \"Jan-2000<br \\\\>Snowfall Events: 3.0\", \"Jan-2001<br \\\\>Snowfall Events: 7.0\", \"Jan-2002<br \\\\>Snowfall Events: 3.0\", \"Jan-2003<br \\\\>Snowfall Events: 2.0\", \"Jan-2004<br \\\\>Snowfall Events: 4.0\", \"Jan-2005<br \\\\>Snowfall Events: 7.0\", \"Jan-2006<br \\\\>Snowfall Events: 8.0\", \"Jan-2007<br \\\\>Snowfall Events: 15.0\", \"Jan-2008<br \\\\>Snowfall Events: 13.0\", \"Jan-2009<br \\\\>Snowfall Events: 8.0\", \"Jan-2010<br \\\\>Snowfall Events: 7.0\", \"Jan-2011<br \\\\>Snowfall Events: 11.0\", \"Jan-2012<br \\\\>Snowfall Events: 8.0\", \"Jan-2013<br \\\\>Snowfall Events: 15.0\", \"Jan-2014<br \\\\>Snowfall Events: 27.0\", \"Jan-2015<br \\\\>Snowfall Events: 13.0\", \"Jan-2016<br \\\\>Snowfall Events: 15.0\", \"Jan-2017<br \\\\>Snowfall Events: 28.0\", \"Jan-2018<br \\\\>Snowfall Events: 9.0\", \"Feb-1993<br \\\\>Snowfall Events: 11.0\", \"Feb-1994<br \\\\>Snowfall Events: 3.0\", \"Feb-1995<br \\\\>Snowfall Events: 8.0\", \"Feb-1996<br \\\\>Snowfall Events: 3.0\", \"Feb-1997<br \\\\>Snowfall Events: 9.0\", \"Feb-1998<br \\\\>Snowfall Events: 4.0\", \"Feb-1999<br \\\\>Snowfall Events: 2.0\", \"Feb-2000<br \\\\>Snowfall Events: 2.0\", \"Feb-2001<br \\\\>Snowfall Events: 8.0\", \"Feb-2002<br \\\\>Snowfall Events: 1.0\", \"Feb-2003<br \\\\>Snowfall Events: 7.0\", \"Feb-2004<br \\\\>Snowfall Events: 9.0\", \"Feb-2005<br \\\\>Snowfall Events: 2.0\", \"Feb-2006<br \\\\>Snowfall Events: 4.0\", \"Feb-2007<br \\\\>Snowfall Events: 7.0\", \"Feb-2008<br \\\\>Snowfall Events: 9.0\", \"Feb-2009<br \\\\>Snowfall Events: 2.0\", \"Feb-2010<br \\\\>Snowfall Events: 15.0\", \"Feb-2011<br \\\\>Snowfall Events: 11.0\", \"Feb-2012<br \\\\>Snowfall Events: 19.0\", \"Feb-2013<br \\\\>Snowfall Events: 17.0\", \"Feb-2014<br \\\\>Snowfall Events: 27.0\", \"Feb-2015<br \\\\>Snowfall Events: 30.0\", \"Feb-2016<br \\\\>Snowfall Events: 18.0\", \"Feb-2017<br \\\\>Snowfall Events: 8.0\", \"Feb-2018<br \\\\>Snowfall Events: 24.0\", \"Mar-1993<br \\\\>Snowfall Events: 7.0\", \"Mar-1994<br \\\\>Snowfall Events: 5.0\", \"Mar-1995<br \\\\>Snowfall Events: 12.0\", \"Mar-1996<br \\\\>Snowfall Events: 8.0\", \"Mar-1997<br \\\\>Snowfall Events: 1.0\", \"Mar-1998<br \\\\>Snowfall Events: 7.0\", \"Mar-1999<br \\\\>Snowfall Events: 6.0\", \"Mar-2000<br \\\\>Snowfall Events: 8.0\", \"Mar-2001<br \\\\>Snowfall Events: 6.0\", \"Mar-2002<br \\\\>Snowfall Events: 5.0\", \"Mar-2003<br \\\\>Snowfall Events: 2.0\", \"Mar-2004<br \\\\>Snowfall Events: 2.0\", \"Mar-2005<br \\\\>Snowfall Events: 6.0\", \"Mar-2006<br \\\\>Snowfall Events: 8.0\", \"Mar-2007<br \\\\>Snowfall Events: 2.0\", \"Mar-2008<br \\\\>Snowfall Events: 10.0\", \"Mar-2009<br \\\\>Snowfall Events: 10.0\", \"Mar-2010<br \\\\>Snowfall Events: 8.0\", \"Mar-2011<br \\\\>Snowfall Events: 13.0\", \"Mar-2012<br \\\\>Snowfall Events: 3.0\", \"Mar-2013<br \\\\>Snowfall Events: 15.0\", \"Mar-2014<br \\\\>Snowfall Events: 17.0\", \"Mar-2015<br \\\\>Snowfall Events: 7.0\", \"Mar-2016<br \\\\>Snowfall Events: 10.0\", \"Mar-2017<br \\\\>Snowfall Events: 2.0\", \"Mar-2018<br \\\\>Snowfall Events: 4.0\", \"Apr-1993<br \\\\>Snowfall Events: 2.0\", \"Apr-1994<br \\\\>Snowfall Events: 9.0\", \"Apr-1995<br \\\\>Snowfall Events: 8.0\", \"Apr-1996<br \\\\>Snowfall Events: 3.0\", \"Apr-1997<br \\\\>Snowfall Events: 5.0\", \"Apr-1998<br \\\\>Snowfall Events: 1.0\", \"Apr-1999<br \\\\>Snowfall Events: 5.0\", \"Apr-2000<br \\\\>Snowfall Events: 1.0\", \"Apr-2001<br \\\\>Snowfall Events: 4.0\", \"Apr-2003<br \\\\>Snowfall Events: 2.0\", \"Apr-2004<br \\\\>Snowfall Events: 2.0\", \"Apr-2005<br \\\\>Snowfall Events: 1.0\", \"Apr-2006<br \\\\>Snowfall Events: 1.0\", \"Apr-2007<br \\\\>Snowfall Events: 9.0\", \"Apr-2008<br \\\\>Snowfall Events: 4.0\", \"Apr-2009<br \\\\>Snowfall Events: 5.0\", \"Apr-2010<br \\\\>Snowfall Events: 3.0\", \"Apr-2011<br \\\\>Snowfall Events: 6.0\", \"Apr-2012<br \\\\>Snowfall Events: 6.0\", \"Apr-2013<br \\\\>Snowfall Events: 16.0\", \"Apr-2014<br \\\\>Snowfall Events: 11.0\", \"Apr-2015<br \\\\>Snowfall Events: 6.0\", \"Apr-2016<br \\\\>Snowfall Events: 10.0\", \"Apr-2017<br \\\\>Snowfall Events: 13.0\", \"Apr-2018<br \\\\>Snowfall Events: 8.0\", \"May-1995<br \\\\>Snowfall Events: 1.0\", \"May-2001<br \\\\>Snowfall Events: 1.0\", \"May-2003<br \\\\>Snowfall Events: 1.0\", \"May-2008<br \\\\>Snowfall Events: 2.0\", \"May-2011<br \\\\>Snowfall Events: 4.0\", \"May-2012<br \\\\>Snowfall Events: 4.0\", \"May-2013<br \\\\>Snowfall Events: 6.0\", \"May-2014<br \\\\>Snowfall Events: 5.0\", \"May-2015<br \\\\>Snowfall Events: 5.0\", \"May-2016<br \\\\>Snowfall Events: 3.0\", \"May-2017<br \\\\>Snowfall Events: 4.0\", \"Sep-1995<br \\\\>Snowfall Events: 1.0\", \"Sep-1996<br \\\\>Snowfall Events: 1.0\", \"Sep-1999<br \\\\>Snowfall Events: 2.0\", \"Oct-1992<br \\\\>Snowfall Events: 1.0\", \"Oct-1993<br \\\\>Snowfall Events: 1.0\", \"Oct-1995<br \\\\>Snowfall Events: 1.0\", \"Oct-1996<br \\\\>Snowfall Events: 1.0\", \"Oct-1997<br \\\\>Snowfall Events: 4.0\", \"Oct-2002<br \\\\>Snowfall Events: 1.0\", \"Oct-2006<br \\\\>Snowfall Events: 3.0\", \"Oct-2009<br \\\\>Snowfall Events: 10.0\", \"Oct-2010<br \\\\>Snowfall Events: 2.0\", \"Oct-2011<br \\\\>Snowfall Events: 6.0\", \"Oct-2012<br \\\\>Snowfall Events: 6.0\", \"Oct-2013<br \\\\>Snowfall Events: 4.0\", \"Oct-2015<br \\\\>Snowfall Events: 2.0\", \"Oct-2016<br \\\\>Snowfall Events: 1.0\", \"Oct-2017<br \\\\>Snowfall Events: 5.0\", \"Oct-2018<br \\\\>Snowfall Events: 6.0\", \"Nov-1992<br \\\\>Snowfall Events: 11.0\", \"Nov-1993<br \\\\>Snowfall Events: 4.0\", \"Nov-1994<br \\\\>Snowfall Events: 7.0\", \"Nov-1995<br \\\\>Snowfall Events: 2.0\", \"Nov-1996<br \\\\>Snowfall Events: 4.0\", \"Nov-1997<br \\\\>Snowfall Events: 5.0\", \"Nov-1998<br \\\\>Snowfall Events: 1.0\", \"Nov-1999<br \\\\>Snowfall Events: 3.0\", \"Nov-2000<br \\\\>Snowfall Events: 3.0\", \"Nov-2001<br \\\\>Snowfall Events: 2.0\", \"Nov-2002<br \\\\>Snowfall Events: 2.0\", \"Nov-2003<br \\\\>Snowfall Events: 3.0\", \"Nov-2004<br \\\\>Snowfall Events: 10.0\", \"Nov-2006<br \\\\>Snowfall Events: 4.0\", \"Nov-2007<br \\\\>Snowfall Events: 3.0\", \"Nov-2008<br \\\\>Snowfall Events: 5.0\", \"Nov-2009<br \\\\>Snowfall Events: 5.0\", \"Nov-2010<br \\\\>Snowfall Events: 12.0\", \"Nov-2011<br \\\\>Snowfall Events: 7.0\", \"Nov-2012<br \\\\>Snowfall Events: 2.0\", \"Nov-2013<br \\\\>Snowfall Events: 16.0\", \"Nov-2014<br \\\\>Snowfall Events: 15.0\", \"Nov-2015<br \\\\>Snowfall Events: 21.0\", \"Nov-2016<br \\\\>Snowfall Events: 3.0\", \"Nov-2017<br \\\\>Snowfall Events: 3.0\", \"Nov-2018<br \\\\>Snowfall Events: 14.0\", \"Dec-1992<br \\\\>Snowfall Events: 6.0\", \"Dec-1993<br \\\\>Snowfall Events: 5.0\", \"Dec-1994<br \\\\>Snowfall Events: 4.0\", \"Dec-1995<br \\\\>Snowfall Events: 2.0\", \"Dec-1996<br \\\\>Snowfall Events: 2.0\", \"Dec-1997<br \\\\>Snowfall Events: 11.0\", \"Dec-1998<br \\\\>Snowfall Events: 8.0\", \"Dec-1999<br \\\\>Snowfall Events: 2.0\", \"Dec-2000<br \\\\>Snowfall Events: 4.0\", \"Dec-2001<br \\\\>Snowfall Events: 2.0\", \"Dec-2002<br \\\\>Snowfall Events: 5.0\", \"Dec-2003<br \\\\>Snowfall Events: 4.0\", \"Dec-2004<br \\\\>Snowfall Events: 4.0\", \"Dec-2005<br \\\\>Snowfall Events: 7.0\", \"Dec-2006<br \\\\>Snowfall Events: 11.0\", \"Dec-2007<br \\\\>Snowfall Events: 21.0\", \"Dec-2008<br \\\\>Snowfall Events: 13.0\", \"Dec-2009<br \\\\>Snowfall Events: 16.0\", \"Dec-2010<br \\\\>Snowfall Events: 9.0\", \"Dec-2011<br \\\\>Snowfall Events: 25.0\", \"Dec-2012<br \\\\>Snowfall Events: 20.0\", \"Dec-2013<br \\\\>Snowfall Events: 18.0\", \"Dec-2014<br \\\\>Snowfall Events: 21.0\", \"Dec-2015<br \\\\>Snowfall Events: 28.0\", \"Dec-2016<br \\\\>Snowfall Events: 15.0\", \"Dec-2017<br \\\\>Snowfall Events: 13.0\", \"Dec-2018<br \\\\>Snowfall Events: 14.0\"], \"type\": \"scatter\", \"x\": [\"8.0\", \"7.0\", \"3.0\", \"7.0\", \"7.0\", \"2.0\", \"4.0\", \"3.0\", \"7.0\", \"3.0\", \"2.0\", \"4.0\", \"7.0\", \"8.0\", \"15.0\", \"13.0\", \"8.0\", \"7.0\", \"11.0\", \"8.0\", \"15.0\", \"27.0\", \"13.0\", \"15.0\", \"28.0\", \"9.0\", \"11.0\", \"3.0\", \"8.0\", \"3.0\", \"9.0\", \"4.0\", \"2.0\", \"2.0\", \"8.0\", \"1.0\", \"7.0\", \"9.0\", \"2.0\", \"4.0\", \"7.0\", \"9.0\", \"2.0\", \"15.0\", \"11.0\", \"19.0\", \"17.0\", \"27.0\", \"30.0\", \"18.0\", \"8.0\", \"24.0\", \"7.0\", \"5.0\", \"12.0\", \"8.0\", \"1.0\", \"7.0\", \"6.0\", \"8.0\", \"6.0\", \"5.0\", \"2.0\", \"2.0\", \"6.0\", \"8.0\", \"2.0\", \"10.0\", \"10.0\", \"8.0\", \"13.0\", \"3.0\", \"15.0\", \"17.0\", \"7.0\", \"10.0\", \"2.0\", \"4.0\", \"2.0\", \"9.0\", \"8.0\", \"3.0\", \"5.0\", \"1.0\", \"5.0\", \"1.0\", \"4.0\", \"2.0\", \"2.0\", \"1.0\", \"1.0\", \"9.0\", \"4.0\", \"5.0\", \"3.0\", \"6.0\", \"6.0\", \"16.0\", \"11.0\", \"6.0\", \"10.0\", \"13.0\", \"8.0\", \"1.0\", \"1.0\", \"1.0\", \"2.0\", \"4.0\", \"4.0\", \"6.0\", \"5.0\", \"5.0\", \"3.0\", \"4.0\", \"1.0\", \"1.0\", \"2.0\", \"1.0\", \"1.0\", \"1.0\", \"1.0\", \"4.0\", \"1.0\", \"3.0\", \"10.0\", \"2.0\", \"6.0\", \"6.0\", \"4.0\", \"2.0\", \"1.0\", \"5.0\", \"6.0\", \"11.0\", \"4.0\", \"7.0\", \"2.0\", \"4.0\", \"5.0\", \"1.0\", \"3.0\", \"3.0\", \"2.0\", \"2.0\", \"3.0\", \"10.0\", \"4.0\", \"3.0\", \"5.0\", \"5.0\", \"12.0\", \"7.0\", \"2.0\", \"16.0\", \"15.0\", \"21.0\", \"3.0\", \"3.0\", \"14.0\", \"6.0\", \"5.0\", \"4.0\", \"2.0\", \"2.0\", \"11.0\", \"8.0\", \"2.0\", \"4.0\", \"2.0\", \"5.0\", \"4.0\", \"4.0\", \"7.0\", \"11.0\", \"21.0\", \"13.0\", \"16.0\", \"9.0\", \"25.0\", \"20.0\", \"18.0\", \"21.0\", \"28.0\", \"15.0\", \"13.0\", \"14.0\"], \"y\": [-0.32, -0.01, -0.87, -0.25, -0.59, -0.02, -0.07, -0.56, -1.36, -0.31, -0.22, -0.47, -0.33, -0.63, -0.68, -0.25, -0.13, -0.3, -0.15, -0.15, -0.59, -1.97, -0.6, 0.04, -1.36, -1.0, -1.23, -0.16, -0.48, -0.07, -0.45, -0.07, -0.17, -0.52, -0.61, -0.07, -0.65, -0.53, -0.09, -0.08, 0.0, -0.96, -0.08, -0.42, -0.78, -1.37, -0.67, -0.42, -2.47, -3.38, -0.11, -0.74, -0.62, -0.49, -0.87, -1.11, -0.06, -0.48, -0.62, -2.21, -1.23, -0.1, -2.07, -0.69, -0.01, -0.73, -0.15, -0.26, -1.18, 0.12, -0.17, 0.0, -2.15, -0.79, -0.36, -1.69, -1.07, -0.25, -0.38, -0.43, -0.94, 0.53, -0.89, -0.08, -2.88, -1.74, -1.33, -2.71, -1.7, 0.12, -0.01, -0.75, -0.47, -0.06, 0.12, 0.02, -0.75, -1.94, -2.08, -1.89, -2.46, -6.84, -1.41, 0.69, -4.09, -4.19, -0.18, -0.51, -1.33, -0.44, -0.61, -2.67, -0.17, -4.0, 0.28, -2.11, -2.06, -0.48, -1.65, -0.04, 1.14, -2.0, -1.14, -0.93, -1.2, -0.14, -0.64, -0.56, -0.65, -1.07, -0.13, -0.81, -3.06, -0.45, -1.84, -1.18, 0.0, 0.07, -0.57, -1.05, -0.63, -0.57, -0.8, -0.29, -0.27, -1.14, -0.42, -0.1, -0.1, -0.12, -0.04, -0.48, 0.04, -1.42, -1.41, -1.81, -0.7, -0.1, -0.86, -0.46, -0.51, -0.61, -0.05, -0.4, -1.33, -0.36, -0.59, -0.33, -0.19, -0.11, -0.21, -0.57, -0.23, -2.54, -2.85, -0.23, -1.45, -0.92, -1.75, -1.71, -0.98, -2.39, -2.22, -1.05, -0.27, -0.5]}],\n",
       "                        {\"template\": {\"data\": {\"bar\": [{\"error_x\": {\"color\": \"#2a3f5f\"}, \"error_y\": {\"color\": \"#2a3f5f\"}, \"marker\": {\"line\": {\"color\": \"#E5ECF6\", \"width\": 0.5}}, \"type\": \"bar\"}], \"barpolar\": [{\"marker\": {\"line\": {\"color\": \"#E5ECF6\", \"width\": 0.5}}, \"type\": \"barpolar\"}], \"carpet\": [{\"aaxis\": {\"endlinecolor\": \"#2a3f5f\", \"gridcolor\": \"white\", \"linecolor\": \"white\", \"minorgridcolor\": \"white\", \"startlinecolor\": \"#2a3f5f\"}, \"baxis\": {\"endlinecolor\": \"#2a3f5f\", \"gridcolor\": \"white\", \"linecolor\": \"white\", \"minorgridcolor\": \"white\", \"startlinecolor\": \"#2a3f5f\"}, \"type\": \"carpet\"}], \"choropleth\": [{\"colorbar\": {\"outlinewidth\": 0, \"ticks\": \"\"}, \"type\": \"choropleth\"}], \"contour\": [{\"colorbar\": {\"outlinewidth\": 0, \"ticks\": \"\"}, \"colorscale\": [[0.0, \"#0d0887\"], [0.1111111111111111, \"#46039f\"], [0.2222222222222222, \"#7201a8\"], [0.3333333333333333, \"#9c179e\"], [0.4444444444444444, \"#bd3786\"], [0.5555555555555556, \"#d8576b\"], [0.6666666666666666, \"#ed7953\"], [0.7777777777777778, \"#fb9f3a\"], [0.8888888888888888, \"#fdca26\"], [1.0, \"#f0f921\"]], \"type\": \"contour\"}], \"contourcarpet\": [{\"colorbar\": {\"outlinewidth\": 0, \"ticks\": \"\"}, \"type\": \"contourcarpet\"}], \"heatmap\": [{\"colorbar\": {\"outlinewidth\": 0, \"ticks\": \"\"}, \"colorscale\": [[0.0, \"#0d0887\"], [0.1111111111111111, \"#46039f\"], [0.2222222222222222, \"#7201a8\"], [0.3333333333333333, \"#9c179e\"], [0.4444444444444444, \"#bd3786\"], [0.5555555555555556, \"#d8576b\"], [0.6666666666666666, \"#ed7953\"], [0.7777777777777778, \"#fb9f3a\"], [0.8888888888888888, \"#fdca26\"], [1.0, \"#f0f921\"]], \"type\": \"heatmap\"}], \"heatmapgl\": [{\"colorbar\": {\"outlinewidth\": 0, \"ticks\": \"\"}, \"colorscale\": [[0.0, \"#0d0887\"], [0.1111111111111111, \"#46039f\"], [0.2222222222222222, \"#7201a8\"], [0.3333333333333333, \"#9c179e\"], [0.4444444444444444, \"#bd3786\"], [0.5555555555555556, \"#d8576b\"], [0.6666666666666666, \"#ed7953\"], [0.7777777777777778, \"#fb9f3a\"], [0.8888888888888888, \"#fdca26\"], [1.0, \"#f0f921\"]], \"type\": \"heatmapgl\"}], \"histogram\": [{\"marker\": {\"colorbar\": {\"outlinewidth\": 0, \"ticks\": \"\"}}, \"type\": \"histogram\"}], \"histogram2d\": [{\"colorbar\": {\"outlinewidth\": 0, \"ticks\": \"\"}, \"colorscale\": [[0.0, \"#0d0887\"], [0.1111111111111111, \"#46039f\"], [0.2222222222222222, \"#7201a8\"], [0.3333333333333333, \"#9c179e\"], [0.4444444444444444, \"#bd3786\"], [0.5555555555555556, \"#d8576b\"], [0.6666666666666666, \"#ed7953\"], [0.7777777777777778, \"#fb9f3a\"], [0.8888888888888888, \"#fdca26\"], [1.0, \"#f0f921\"]], \"type\": \"histogram2d\"}], \"histogram2dcontour\": [{\"colorbar\": {\"outlinewidth\": 0, \"ticks\": \"\"}, \"colorscale\": [[0.0, \"#0d0887\"], [0.1111111111111111, \"#46039f\"], [0.2222222222222222, \"#7201a8\"], [0.3333333333333333, \"#9c179e\"], [0.4444444444444444, \"#bd3786\"], [0.5555555555555556, \"#d8576b\"], [0.6666666666666666, \"#ed7953\"], [0.7777777777777778, \"#fb9f3a\"], [0.8888888888888888, \"#fdca26\"], [1.0, \"#f0f921\"]], \"type\": \"histogram2dcontour\"}], \"mesh3d\": [{\"colorbar\": {\"outlinewidth\": 0, \"ticks\": \"\"}, \"type\": \"mesh3d\"}], \"parcoords\": [{\"line\": {\"colorbar\": {\"outlinewidth\": 0, \"ticks\": \"\"}}, \"type\": \"parcoords\"}], \"scatter\": [{\"marker\": {\"colorbar\": {\"outlinewidth\": 0, \"ticks\": \"\"}}, \"type\": \"scatter\"}], \"scatter3d\": [{\"line\": {\"colorbar\": {\"outlinewidth\": 0, \"ticks\": \"\"}}, \"marker\": {\"colorbar\": {\"outlinewidth\": 0, \"ticks\": \"\"}}, \"type\": \"scatter3d\"}], \"scattercarpet\": [{\"marker\": {\"colorbar\": {\"outlinewidth\": 0, \"ticks\": \"\"}}, \"type\": \"scattercarpet\"}], \"scattergeo\": [{\"marker\": {\"colorbar\": {\"outlinewidth\": 0, \"ticks\": \"\"}}, \"type\": \"scattergeo\"}], \"scattergl\": [{\"marker\": {\"colorbar\": {\"outlinewidth\": 0, \"ticks\": \"\"}}, \"type\": \"scattergl\"}], \"scattermapbox\": [{\"marker\": {\"colorbar\": {\"outlinewidth\": 0, \"ticks\": \"\"}}, \"type\": \"scattermapbox\"}], \"scatterpolar\": [{\"marker\": {\"colorbar\": {\"outlinewidth\": 0, \"ticks\": \"\"}}, \"type\": \"scatterpolar\"}], \"scatterpolargl\": [{\"marker\": {\"colorbar\": {\"outlinewidth\": 0, \"ticks\": \"\"}}, \"type\": \"scatterpolargl\"}], \"scatterternary\": [{\"marker\": {\"colorbar\": {\"outlinewidth\": 0, \"ticks\": \"\"}}, \"type\": \"scatterternary\"}], \"surface\": [{\"colorbar\": {\"outlinewidth\": 0, \"ticks\": \"\"}, \"colorscale\": [[0.0, \"#0d0887\"], [0.1111111111111111, \"#46039f\"], [0.2222222222222222, \"#7201a8\"], [0.3333333333333333, \"#9c179e\"], [0.4444444444444444, \"#bd3786\"], [0.5555555555555556, \"#d8576b\"], [0.6666666666666666, \"#ed7953\"], [0.7777777777777778, \"#fb9f3a\"], [0.8888888888888888, \"#fdca26\"], [1.0, \"#f0f921\"]], \"type\": \"surface\"}], \"table\": [{\"cells\": {\"fill\": {\"color\": \"#EBF0F8\"}, \"line\": {\"color\": \"white\"}}, \"header\": {\"fill\": {\"color\": \"#C8D4E3\"}, \"line\": {\"color\": \"white\"}}, \"type\": \"table\"}]}, \"layout\": {\"annotationdefaults\": {\"arrowcolor\": \"#2a3f5f\", \"arrowhead\": 0, \"arrowwidth\": 1}, \"colorscale\": {\"diverging\": [[0, \"#8e0152\"], [0.1, \"#c51b7d\"], [0.2, \"#de77ae\"], [0.3, \"#f1b6da\"], [0.4, \"#fde0ef\"], [0.5, \"#f7f7f7\"], [0.6, \"#e6f5d0\"], [0.7, \"#b8e186\"], [0.8, \"#7fbc41\"], [0.9, \"#4d9221\"], [1, \"#276419\"]], \"sequential\": [[0.0, \"#0d0887\"], [0.1111111111111111, \"#46039f\"], [0.2222222222222222, \"#7201a8\"], [0.3333333333333333, \"#9c179e\"], [0.4444444444444444, \"#bd3786\"], [0.5555555555555556, \"#d8576b\"], [0.6666666666666666, \"#ed7953\"], [0.7777777777777778, \"#fb9f3a\"], [0.8888888888888888, \"#fdca26\"], [1.0, \"#f0f921\"]], \"sequentialminus\": [[0.0, \"#0d0887\"], [0.1111111111111111, \"#46039f\"], [0.2222222222222222, \"#7201a8\"], [0.3333333333333333, \"#9c179e\"], [0.4444444444444444, \"#bd3786\"], [0.5555555555555556, \"#d8576b\"], [0.6666666666666666, \"#ed7953\"], [0.7777777777777778, \"#fb9f3a\"], [0.8888888888888888, \"#fdca26\"], [1.0, \"#f0f921\"]]}, \"colorway\": [\"#636efa\", \"#EF553B\", \"#00cc96\", \"#ab63fa\", \"#FFA15A\", \"#19d3f3\", \"#FF6692\", \"#B6E880\", \"#FF97FF\", \"#FECB52\"], \"font\": {\"color\": \"#2a3f5f\"}, \"geo\": {\"bgcolor\": \"white\", \"lakecolor\": \"white\", \"landcolor\": \"#E5ECF6\", \"showlakes\": true, \"showland\": true, \"subunitcolor\": \"white\"}, \"hoverlabel\": {\"align\": \"left\"}, \"hovermode\": \"closest\", \"mapbox\": {\"style\": \"light\"}, \"paper_bgcolor\": \"white\", \"plot_bgcolor\": \"#E5ECF6\", \"polar\": {\"angularaxis\": {\"gridcolor\": \"white\", \"linecolor\": \"white\", \"ticks\": \"\"}, \"bgcolor\": \"#E5ECF6\", \"radialaxis\": {\"gridcolor\": \"white\", \"linecolor\": \"white\", \"ticks\": \"\"}}, \"scene\": {\"xaxis\": {\"backgroundcolor\": \"#E5ECF6\", \"gridcolor\": \"white\", \"gridwidth\": 2, \"linecolor\": \"white\", \"showbackground\": true, \"ticks\": \"\", \"zerolinecolor\": \"white\"}, \"yaxis\": {\"backgroundcolor\": \"#E5ECF6\", \"gridcolor\": \"white\", \"gridwidth\": 2, \"linecolor\": \"white\", \"showbackground\": true, \"ticks\": \"\", \"zerolinecolor\": \"white\"}, \"zaxis\": {\"backgroundcolor\": \"#E5ECF6\", \"gridcolor\": \"white\", \"gridwidth\": 2, \"linecolor\": \"white\", \"showbackground\": true, \"ticks\": \"\", \"zerolinecolor\": \"white\"}}, \"shapedefaults\": {\"line\": {\"color\": \"#2a3f5f\"}}, \"ternary\": {\"aaxis\": {\"gridcolor\": \"white\", \"linecolor\": \"white\", \"ticks\": \"\"}, \"baxis\": {\"gridcolor\": \"white\", \"linecolor\": \"white\", \"ticks\": \"\"}, \"bgcolor\": \"#E5ECF6\", \"caxis\": {\"gridcolor\": \"white\", \"linecolor\": \"white\", \"ticks\": \"\"}}, \"title\": {\"x\": 0.05}, \"xaxis\": {\"automargin\": true, \"gridcolor\": \"white\", \"linecolor\": \"white\", \"ticks\": \"\", \"zerolinecolor\": \"white\", \"zerolinewidth\": 2}, \"yaxis\": {\"automargin\": true, \"gridcolor\": \"white\", \"linecolor\": \"white\", \"ticks\": \"\", \"zerolinecolor\": \"white\", \"zerolinewidth\": 2}}}, \"title\": {\"text\": \"Monthly Precip Difference vs Monthly Snowfall (No Traces)\"}, \"xaxis\": {\"title\": {\"text\": \"Snowfall (inches)\"}}, \"yaxis\": {\"title\": {\"text\": \"Precip Difference (Inches)\"}}},\n",
       "                        {\"responsive\": true}\n",
       "                    ).then(function(){\n",
       "                            \n",
       "var gd = document.getElementById('8ada427a-b624-4095-9108-c6b375184f96');\n",
       "var x = new MutationObserver(function (mutations, observer) {{\n",
       "        var display = window.getComputedStyle(gd).display;\n",
       "        if (!display || display === 'none') {{\n",
       "            console.log([gd, 'removed!']);\n",
       "            Plotly.purge(gd);\n",
       "            observer.disconnect();\n",
       "        }}\n",
       "}});\n",
       "\n",
       "// Listen for the removal of the full notebook cells\n",
       "var notebookContainer = gd.closest('#notebook-container');\n",
       "if (notebookContainer) {{\n",
       "    x.observe(notebookContainer, {childList: true});\n",
       "}}\n",
       "\n",
       "// Listen for the clearing of the current output cell\n",
       "var outputEl = gd.closest('.output');\n",
       "if (outputEl) {{\n",
       "    x.observe(outputEl, {childList: true});\n",
       "}}\n",
       "\n",
       "                        })\n",
       "                };\n",
       "                });\n",
       "            </script>\n",
       "        </div>"
      ]
     },
     "metadata": {},
     "output_type": "display_data"
    }
   ],
   "source": [
    "precip_comp_fig_no_trace = go.Figure(\n",
    "    data=[go.Scatter()],\n",
    "    layout=go.Layout(\n",
    "        title=go.layout.Title(\n",
    "            text='Monthly Precip Difference vs Monthly Snowfall (No Traces)'),\n",
    "    xaxis=go.layout.XAxis(\n",
    "        title=go.layout.xaxis.Title(text='Snowfall (inches)')),\n",
    "    yaxis=go.layout.YAxis(\n",
    "        title=go.layout.yaxis.Title(text='Precip Difference (Inches)'))))\n",
    "\n",
    "precip_comp_fig_no_trace.add_trace(\n",
    "    go.Scatter(x=monthly_no_trace_pp.snowfall,y=monthly_no_trace_pp.rez,\n",
    "              text=monthly_no_trace_pp.ym + '<br \\>' +\n",
    "              'Snowfall Events: ' + monthly_no_trace_pp.snowfall,\n",
    "              mode='markers'))"
   ]
  },
  {
   "cell_type": "code",
   "execution_count": null,
   "metadata": {},
   "outputs": [],
   "source": []
  }
 ],
 "metadata": {
  "kernelspec": {
   "display_name": "Python 3",
   "language": "python",
   "name": "python3"
  },
  "language_info": {
   "codemirror_mode": {
    "name": "ipython",
    "version": 3
   },
   "file_extension": ".py",
   "mimetype": "text/x-python",
   "name": "python",
   "nbconvert_exporter": "python",
   "pygments_lexer": "ipython3",
   "version": "3.7.3"
  },
  "toc": {
   "base_numbering": 1,
   "nav_menu": {},
   "number_sections": true,
   "sideBar": true,
   "skip_h1_title": false,
   "title_cell": "Table of Contents",
   "title_sidebar": "Contents",
   "toc_cell": false,
   "toc_position": {},
   "toc_section_display": true,
   "toc_window_display": false
  },
  "varInspector": {
   "cols": {
    "lenName": 16,
    "lenType": 16,
    "lenVar": 40
   },
   "kernels_config": {
    "python": {
     "delete_cmd_postfix": "",
     "delete_cmd_prefix": "del ",
     "library": "var_list.py",
     "varRefreshCmd": "print(var_dic_list())"
    },
    "r": {
     "delete_cmd_postfix": ") ",
     "delete_cmd_prefix": "rm(",
     "library": "var_list.r",
     "varRefreshCmd": "cat(var_dic_list()) "
    }
   },
   "types_to_exclude": [
    "module",
    "function",
    "builtin_function_or_method",
    "instance",
    "_Feature"
   ],
   "window_display": false
  }
 },
 "nbformat": 4,
 "nbformat_minor": 2
}
