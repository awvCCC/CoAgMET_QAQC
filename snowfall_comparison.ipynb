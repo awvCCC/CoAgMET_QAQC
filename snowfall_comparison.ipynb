{
 "cells": [
  {
   "cell_type": "code",
   "execution_count": 303,
   "metadata": {},
   "outputs": [],
   "source": [
    "import os\n",
    "import pandas as pd\n",
    "import numpy as np\n",
    "import urllib\n",
    "import plotly.graph_objects as go\n",
    "import calendar\n",
    "from scipy import stats"
   ]
  },
  {
   "cell_type": "code",
   "execution_count": 304,
   "metadata": {},
   "outputs": [],
   "source": [
    "path = r'C:\\Users\\student\\Documents\\Alistair CoAgMET Projects\\Pythonstuff\\PrecipComparison\\snowfall_comp'\n",
    "os.chdir(path)"
   ]
  },
  {
   "cell_type": "code",
   "execution_count": 305,
   "metadata": {},
   "outputs": [],
   "source": [
    "csv = path + r'\\csv.csv'\n",
    "f = open(csv,'w+')"
   ]
  },
  {
   "cell_type": "code",
   "execution_count": 306,
   "metadata": {},
   "outputs": [],
   "source": [
    "urllib.request.urlretrieve(\n",
    "    'http://coagmet.colostate.edu/cgi-bin/web_services.pl?type=hourly&sids=rfd01&sdate=1992-06-04' + \n",
    "    '&edate=2018-12-31&elems=pp',filename=csv)\n",
    "pp_df = pd.read_csv(csv)"
   ]
  },
  {
   "cell_type": "code",
   "execution_count": 307,
   "metadata": {},
   "outputs": [],
   "source": [
    "pp_df = pp_df.reset_index()"
   ]
  },
  {
   "cell_type": "code",
   "execution_count": 308,
   "metadata": {},
   "outputs": [],
   "source": [
    "pp_df.columns = ['station','datetime','precip']\n",
    "pp_df['datetime'] = pd.to_datetime(pp_df.datetime)"
   ]
  },
  {
   "cell_type": "code",
   "execution_count": 309,
   "metadata": {},
   "outputs": [],
   "source": [
    "r = pd.date_range(start=pp_df.datetime.min(),end=pp_df.datetime.max(),freq='H')\n",
    "pp_df = pp_df.set_index('datetime').reindex(r).fillna(np.nan).rename_axis('datetime').reset_index()"
   ]
  },
  {
   "cell_type": "code",
   "execution_count": 310,
   "metadata": {},
   "outputs": [],
   "source": [
    "pp_df['datetime'] = pd.to_datetime(pp_df.datetime)\n",
    "pp_df = pp_df.set_index(pp_df.datetime)\n",
    "pp_df = pp_df.resample(rule='24H',label='right',base=17).agg(pd.Series.sum, skipna=False)"
   ]
  },
  {
   "cell_type": "code",
   "execution_count": 311,
   "metadata": {},
   "outputs": [],
   "source": [
    "pp_df['date'] = pp_df.index.date\n",
    "pp_df['date'] = pd.to_datetime(pp_df.date)\n",
    "pp_df = pp_df.set_index(pp_df.date)\n"
   ]
  },
  {
   "cell_type": "code",
   "execution_count": 312,
   "metadata": {},
   "outputs": [],
   "source": [
    "pp_df.precip = pp_df.precip / 25.4"
   ]
  },
  {
   "cell_type": "code",
   "execution_count": 313,
   "metadata": {},
   "outputs": [],
   "source": [
    "urllib.request.urlretrieve(\n",
    "    'http://coagmet.colostate.edu/cgi-bin/web_services.pl?type=daily&sids=rfd01&sdate=1992-06-04' + \n",
    "    '&edate=2018-12-31&elems=tave,tmax,tmin,vp,sr',filename=csv)\n",
    "temp_rh_df = pd.read_csv(csv)"
   ]
  },
  {
   "cell_type": "code",
   "execution_count": 314,
   "metadata": {},
   "outputs": [],
   "source": [
    "temp_rh_df = temp_rh_df.reset_index()\n",
    "temp_rh_df.columns = ['station','date','tave','tmax','tmin','vp','sr']\n",
    "temp_rh_df['date'] = pd.to_datetime(temp_rh_df.date)"
   ]
  },
  {
   "cell_type": "code",
   "execution_count": 315,
   "metadata": {},
   "outputs": [],
   "source": [
    "r = pd.date_range(start=temp_rh_df.date.min(),end=temp_rh_df.date.max(),freq='D')\n",
    "temp_rh_df = temp_rh_df.set_index('date').reindex(r).fillna(np.nan).rename_axis('date').reset_index()\n",
    "temp_rh_df['date'] = pd.to_datetime(temp_rh_df.date)\n",
    "temp_rh_df = temp_rh_df.set_index(temp_rh_df.date)"
   ]
  },
  {
   "cell_type": "code",
   "execution_count": 316,
   "metadata": {},
   "outputs": [],
   "source": [
    "coag_df = pp_df.merge(temp_rh_df,left_on=pp_df.index,right_on=temp_rh_df.index)"
   ]
  },
  {
   "cell_type": "code",
   "execution_count": 317,
   "metadata": {},
   "outputs": [],
   "source": [
    "stuff = ['date_x','date_y']\n",
    "coag_df = coag_df.drop(stuff,axis=1)"
   ]
  },
  {
   "cell_type": "code",
   "execution_count": 318,
   "metadata": {},
   "outputs": [],
   "source": [
    "coag_df.columns = ['date','precip','station','tave','tmax','tmin','vp','sr']"
   ]
  },
  {
   "cell_type": "code",
   "execution_count": 319,
   "metadata": {},
   "outputs": [],
   "source": [
    "urllib.request.urlretrieve(\n",
    "    'http://data.rcc-acis.org/StnData?sid=057167&sdate=1992-06-04&edate=2018-12-31' + \n",
    "    '&elems=pcpn,snow,snwd&output=csv',filename=csv)\n",
    "coop_df = pd.read_csv(csv)"
   ]
  },
  {
   "cell_type": "code",
   "execution_count": 320,
   "metadata": {},
   "outputs": [],
   "source": [
    "coop_df = coop_df.reset_index()\n",
    "coop_df.columns = ['date','coop_precip','snow','snowdepth']"
   ]
  },
  {
   "cell_type": "code",
   "execution_count": 321,
   "metadata": {},
   "outputs": [],
   "source": [
    "coop_df['date'] = pd.to_datetime(coop_df.date)\n",
    "coop_df = coop_df.set_index(coop_df.date)"
   ]
  },
  {
   "cell_type": "code",
   "execution_count": 322,
   "metadata": {},
   "outputs": [
    {
     "data": {
      "text/html": [
       "<div>\n",
       "<style scoped>\n",
       "    .dataframe tbody tr th:only-of-type {\n",
       "        vertical-align: middle;\n",
       "    }\n",
       "\n",
       "    .dataframe tbody tr th {\n",
       "        vertical-align: top;\n",
       "    }\n",
       "\n",
       "    .dataframe thead th {\n",
       "        text-align: right;\n",
       "    }\n",
       "</style>\n",
       "<table border=\"1\" class=\"dataframe\">\n",
       "  <thead>\n",
       "    <tr style=\"text-align: right;\">\n",
       "      <th></th>\n",
       "      <th>key_0</th>\n",
       "      <th>date_x</th>\n",
       "      <th>precip</th>\n",
       "      <th>station</th>\n",
       "      <th>tave</th>\n",
       "      <th>tmax</th>\n",
       "      <th>tmin</th>\n",
       "      <th>vp</th>\n",
       "      <th>sr</th>\n",
       "      <th>date_y</th>\n",
       "      <th>coop_precip</th>\n",
       "      <th>snow</th>\n",
       "      <th>snowdepth</th>\n",
       "    </tr>\n",
       "  </thead>\n",
       "  <tbody>\n",
       "    <tr>\n",
       "      <th>0</th>\n",
       "      <td>1992-06-04</td>\n",
       "      <td>1992-06-04</td>\n",
       "      <td>NaN</td>\n",
       "      <td>rfd01</td>\n",
       "      <td>17.350</td>\n",
       "      <td>24.590</td>\n",
       "      <td>11.610</td>\n",
       "      <td>1.496</td>\n",
       "      <td>17.500</td>\n",
       "      <td>1992-06-04</td>\n",
       "      <td>T</td>\n",
       "      <td>0.0</td>\n",
       "      <td>0</td>\n",
       "    </tr>\n",
       "    <tr>\n",
       "      <th>1</th>\n",
       "      <td>1992-06-05</td>\n",
       "      <td>1992-06-05</td>\n",
       "      <td>0.090000</td>\n",
       "      <td>rfd01</td>\n",
       "      <td>18.990</td>\n",
       "      <td>29.640</td>\n",
       "      <td>12.160</td>\n",
       "      <td>1.587</td>\n",
       "      <td>22.810</td>\n",
       "      <td>1992-06-05</td>\n",
       "      <td>0.12</td>\n",
       "      <td>0.0</td>\n",
       "      <td>0</td>\n",
       "    </tr>\n",
       "    <tr>\n",
       "      <th>2</th>\n",
       "      <td>1992-06-06</td>\n",
       "      <td>1992-06-06</td>\n",
       "      <td>0.020000</td>\n",
       "      <td>rfd01</td>\n",
       "      <td>16.110</td>\n",
       "      <td>24.600</td>\n",
       "      <td>8.380</td>\n",
       "      <td>1.267</td>\n",
       "      <td>23.390</td>\n",
       "      <td>1992-06-06</td>\n",
       "      <td>0.03</td>\n",
       "      <td>0.0</td>\n",
       "      <td>0</td>\n",
       "    </tr>\n",
       "    <tr>\n",
       "      <th>3</th>\n",
       "      <td>1992-06-07</td>\n",
       "      <td>1992-06-07</td>\n",
       "      <td>0.090000</td>\n",
       "      <td>rfd01</td>\n",
       "      <td>19.690</td>\n",
       "      <td>29.420</td>\n",
       "      <td>11.550</td>\n",
       "      <td>1.466</td>\n",
       "      <td>21.150</td>\n",
       "      <td>1992-06-07</td>\n",
       "      <td>0.12</td>\n",
       "      <td>0.0</td>\n",
       "      <td>0</td>\n",
       "    </tr>\n",
       "    <tr>\n",
       "      <th>4</th>\n",
       "      <td>1992-06-08</td>\n",
       "      <td>1992-06-08</td>\n",
       "      <td>0.000000</td>\n",
       "      <td>rfd01</td>\n",
       "      <td>16.570</td>\n",
       "      <td>24.680</td>\n",
       "      <td>12.350</td>\n",
       "      <td>1.475</td>\n",
       "      <td>18.460</td>\n",
       "      <td>1992-06-08</td>\n",
       "      <td>0.00</td>\n",
       "      <td>0.0</td>\n",
       "      <td>0</td>\n",
       "    </tr>\n",
       "    <tr>\n",
       "      <th>5</th>\n",
       "      <td>1992-06-09</td>\n",
       "      <td>1992-06-09</td>\n",
       "      <td>0.560000</td>\n",
       "      <td>rfd01</td>\n",
       "      <td>15.200</td>\n",
       "      <td>20.290</td>\n",
       "      <td>10.780</td>\n",
       "      <td>1.497</td>\n",
       "      <td>15.700</td>\n",
       "      <td>1992-06-09</td>\n",
       "      <td>1.13</td>\n",
       "      <td>0.0</td>\n",
       "      <td>0</td>\n",
       "    </tr>\n",
       "    <tr>\n",
       "      <th>6</th>\n",
       "      <td>1992-06-10</td>\n",
       "      <td>1992-06-10</td>\n",
       "      <td>0.090000</td>\n",
       "      <td>rfd01</td>\n",
       "      <td>17.720</td>\n",
       "      <td>27.020</td>\n",
       "      <td>7.900</td>\n",
       "      <td>1.415</td>\n",
       "      <td>29.330</td>\n",
       "      <td>1992-06-10</td>\n",
       "      <td>0.00</td>\n",
       "      <td>0.0</td>\n",
       "      <td>0</td>\n",
       "    </tr>\n",
       "    <tr>\n",
       "      <th>7</th>\n",
       "      <td>1992-06-11</td>\n",
       "      <td>1992-06-11</td>\n",
       "      <td>0.030000</td>\n",
       "      <td>rfd01</td>\n",
       "      <td>17.630</td>\n",
       "      <td>25.510</td>\n",
       "      <td>11.690</td>\n",
       "      <td>1.697</td>\n",
       "      <td>23.930</td>\n",
       "      <td>1992-06-11</td>\n",
       "      <td>T</td>\n",
       "      <td>0.0</td>\n",
       "      <td>0</td>\n",
       "    </tr>\n",
       "    <tr>\n",
       "      <th>8</th>\n",
       "      <td>1992-06-12</td>\n",
       "      <td>1992-06-12</td>\n",
       "      <td>0.040000</td>\n",
       "      <td>rfd01</td>\n",
       "      <td>19.370</td>\n",
       "      <td>27.080</td>\n",
       "      <td>10.790</td>\n",
       "      <td>1.796</td>\n",
       "      <td>29.260</td>\n",
       "      <td>1992-06-12</td>\n",
       "      <td>0.80</td>\n",
       "      <td>0.0</td>\n",
       "      <td>0</td>\n",
       "    </tr>\n",
       "    <tr>\n",
       "      <th>9</th>\n",
       "      <td>1992-06-13</td>\n",
       "      <td>1992-06-13</td>\n",
       "      <td>0.020000</td>\n",
       "      <td>rfd01</td>\n",
       "      <td>21.520</td>\n",
       "      <td>31.490</td>\n",
       "      <td>13.860</td>\n",
       "      <td>1.722</td>\n",
       "      <td>29.540</td>\n",
       "      <td>1992-06-13</td>\n",
       "      <td>0.00</td>\n",
       "      <td>0.0</td>\n",
       "      <td>0</td>\n",
       "    </tr>\n",
       "    <tr>\n",
       "      <th>10</th>\n",
       "      <td>1992-06-14</td>\n",
       "      <td>1992-06-14</td>\n",
       "      <td>0.020000</td>\n",
       "      <td>rfd01</td>\n",
       "      <td>21.070</td>\n",
       "      <td>28.100</td>\n",
       "      <td>13.540</td>\n",
       "      <td>1.636</td>\n",
       "      <td>25.850</td>\n",
       "      <td>1992-06-14</td>\n",
       "      <td>0.00</td>\n",
       "      <td>0.0</td>\n",
       "      <td>0</td>\n",
       "    </tr>\n",
       "    <tr>\n",
       "      <th>11</th>\n",
       "      <td>1992-06-15</td>\n",
       "      <td>1992-06-15</td>\n",
       "      <td>0.000000</td>\n",
       "      <td>rfd01</td>\n",
       "      <td>24.240</td>\n",
       "      <td>30.710</td>\n",
       "      <td>13.560</td>\n",
       "      <td>0.659</td>\n",
       "      <td>30.670</td>\n",
       "      <td>1992-06-15</td>\n",
       "      <td>0.00</td>\n",
       "      <td>0.0</td>\n",
       "      <td>0</td>\n",
       "    </tr>\n",
       "    <tr>\n",
       "      <th>12</th>\n",
       "      <td>1992-06-16</td>\n",
       "      <td>1992-06-16</td>\n",
       "      <td>0.000000</td>\n",
       "      <td>rfd01</td>\n",
       "      <td>21.520</td>\n",
       "      <td>30.730</td>\n",
       "      <td>8.480</td>\n",
       "      <td>0.694</td>\n",
       "      <td>30.770</td>\n",
       "      <td>1992-06-16</td>\n",
       "      <td>0.00</td>\n",
       "      <td>0.0</td>\n",
       "      <td>0</td>\n",
       "    </tr>\n",
       "    <tr>\n",
       "      <th>13</th>\n",
       "      <td>1992-06-17</td>\n",
       "      <td>1992-06-17</td>\n",
       "      <td>0.000000</td>\n",
       "      <td>rfd01</td>\n",
       "      <td>20.670</td>\n",
       "      <td>29.110</td>\n",
       "      <td>8.920</td>\n",
       "      <td>0.764</td>\n",
       "      <td>29.350</td>\n",
       "      <td>1992-06-17</td>\n",
       "      <td>0.00</td>\n",
       "      <td>0.0</td>\n",
       "      <td>0</td>\n",
       "    </tr>\n",
       "    <tr>\n",
       "      <th>14</th>\n",
       "      <td>1992-06-18</td>\n",
       "      <td>1992-06-18</td>\n",
       "      <td>0.000000</td>\n",
       "      <td>rfd01</td>\n",
       "      <td>21.860</td>\n",
       "      <td>30.190</td>\n",
       "      <td>10.910</td>\n",
       "      <td>1.403</td>\n",
       "      <td>29.520</td>\n",
       "      <td>1992-06-18</td>\n",
       "      <td>0.00</td>\n",
       "      <td>0.0</td>\n",
       "      <td>0</td>\n",
       "    </tr>\n",
       "    <tr>\n",
       "      <th>15</th>\n",
       "      <td>1992-06-19</td>\n",
       "      <td>1992-06-19</td>\n",
       "      <td>0.000000</td>\n",
       "      <td>rfd01</td>\n",
       "      <td>21.700</td>\n",
       "      <td>28.660</td>\n",
       "      <td>15.070</td>\n",
       "      <td>1.983</td>\n",
       "      <td>22.700</td>\n",
       "      <td>1992-06-19</td>\n",
       "      <td>T</td>\n",
       "      <td>0.0</td>\n",
       "      <td>0</td>\n",
       "    </tr>\n",
       "    <tr>\n",
       "      <th>16</th>\n",
       "      <td>1992-06-20</td>\n",
       "      <td>1992-06-20</td>\n",
       "      <td>0.040000</td>\n",
       "      <td>rfd01</td>\n",
       "      <td>19.280</td>\n",
       "      <td>26.330</td>\n",
       "      <td>14.940</td>\n",
       "      <td>1.896</td>\n",
       "      <td>19.860</td>\n",
       "      <td>1992-06-20</td>\n",
       "      <td>0.05</td>\n",
       "      <td>0.0</td>\n",
       "      <td>0</td>\n",
       "    </tr>\n",
       "    <tr>\n",
       "      <th>17</th>\n",
       "      <td>1992-06-21</td>\n",
       "      <td>1992-06-21</td>\n",
       "      <td>0.110000</td>\n",
       "      <td>rfd01</td>\n",
       "      <td>19.700</td>\n",
       "      <td>28.330</td>\n",
       "      <td>14.500</td>\n",
       "      <td>1.803</td>\n",
       "      <td>20.290</td>\n",
       "      <td>1992-06-21</td>\n",
       "      <td>0.15</td>\n",
       "      <td>0.0</td>\n",
       "      <td>0</td>\n",
       "    </tr>\n",
       "    <tr>\n",
       "      <th>18</th>\n",
       "      <td>1992-06-22</td>\n",
       "      <td>1992-06-22</td>\n",
       "      <td>0.000000</td>\n",
       "      <td>rfd01</td>\n",
       "      <td>21.840</td>\n",
       "      <td>32.650</td>\n",
       "      <td>10.420</td>\n",
       "      <td>1.621</td>\n",
       "      <td>29.060</td>\n",
       "      <td>1992-06-22</td>\n",
       "      <td>T</td>\n",
       "      <td>0.0</td>\n",
       "      <td>0</td>\n",
       "    </tr>\n",
       "    <tr>\n",
       "      <th>19</th>\n",
       "      <td>1992-06-23</td>\n",
       "      <td>1992-06-23</td>\n",
       "      <td>0.000000</td>\n",
       "      <td>rfd01</td>\n",
       "      <td>23.910</td>\n",
       "      <td>30.950</td>\n",
       "      <td>14.600</td>\n",
       "      <td>1.699</td>\n",
       "      <td>27.400</td>\n",
       "      <td>1992-06-23</td>\n",
       "      <td>0.00</td>\n",
       "      <td>0.0</td>\n",
       "      <td>0</td>\n",
       "    </tr>\n",
       "    <tr>\n",
       "      <th>20</th>\n",
       "      <td>1992-06-24</td>\n",
       "      <td>1992-06-24</td>\n",
       "      <td>0.000000</td>\n",
       "      <td>rfd01</td>\n",
       "      <td>24.900</td>\n",
       "      <td>33.700</td>\n",
       "      <td>16.830</td>\n",
       "      <td>1.481</td>\n",
       "      <td>26.250</td>\n",
       "      <td>1992-06-24</td>\n",
       "      <td>T</td>\n",
       "      <td>0.0</td>\n",
       "      <td>0</td>\n",
       "    </tr>\n",
       "    <tr>\n",
       "      <th>21</th>\n",
       "      <td>1992-06-25</td>\n",
       "      <td>1992-06-25</td>\n",
       "      <td>0.000000</td>\n",
       "      <td>rfd01</td>\n",
       "      <td>19.680</td>\n",
       "      <td>27.070</td>\n",
       "      <td>14.440</td>\n",
       "      <td>1.752</td>\n",
       "      <td>22.090</td>\n",
       "      <td>1992-06-25</td>\n",
       "      <td>T</td>\n",
       "      <td>0.0</td>\n",
       "      <td>0</td>\n",
       "    </tr>\n",
       "    <tr>\n",
       "      <th>22</th>\n",
       "      <td>1992-06-26</td>\n",
       "      <td>1992-06-26</td>\n",
       "      <td>0.360000</td>\n",
       "      <td>rfd01</td>\n",
       "      <td>19.550</td>\n",
       "      <td>27.400</td>\n",
       "      <td>14.250</td>\n",
       "      <td>1.854</td>\n",
       "      <td>22.340</td>\n",
       "      <td>1992-06-26</td>\n",
       "      <td>0.40</td>\n",
       "      <td>0.0</td>\n",
       "      <td>0</td>\n",
       "    </tr>\n",
       "    <tr>\n",
       "      <th>23</th>\n",
       "      <td>1992-06-27</td>\n",
       "      <td>1992-06-27</td>\n",
       "      <td>0.220000</td>\n",
       "      <td>rfd01</td>\n",
       "      <td>19.300</td>\n",
       "      <td>27.010</td>\n",
       "      <td>14.360</td>\n",
       "      <td>1.810</td>\n",
       "      <td>20.350</td>\n",
       "      <td>1992-06-27</td>\n",
       "      <td>0.24</td>\n",
       "      <td>0.0</td>\n",
       "      <td>0</td>\n",
       "    </tr>\n",
       "    <tr>\n",
       "      <th>24</th>\n",
       "      <td>1992-06-28</td>\n",
       "      <td>1992-06-28</td>\n",
       "      <td>0.000000</td>\n",
       "      <td>rfd01</td>\n",
       "      <td>20.660</td>\n",
       "      <td>31.400</td>\n",
       "      <td>13.100</td>\n",
       "      <td>1.713</td>\n",
       "      <td>25.640</td>\n",
       "      <td>1992-06-28</td>\n",
       "      <td>0.00</td>\n",
       "      <td>0.0</td>\n",
       "      <td>0</td>\n",
       "    </tr>\n",
       "    <tr>\n",
       "      <th>25</th>\n",
       "      <td>1992-06-29</td>\n",
       "      <td>1992-06-29</td>\n",
       "      <td>0.629921</td>\n",
       "      <td>rfd01</td>\n",
       "      <td>21.600</td>\n",
       "      <td>28.900</td>\n",
       "      <td>13.450</td>\n",
       "      <td>1.950</td>\n",
       "      <td>27.400</td>\n",
       "      <td>1992-06-29</td>\n",
       "      <td>0.65</td>\n",
       "      <td>0.0</td>\n",
       "      <td>0</td>\n",
       "    </tr>\n",
       "    <tr>\n",
       "      <th>26</th>\n",
       "      <td>1992-06-30</td>\n",
       "      <td>1992-06-30</td>\n",
       "      <td>0.000000</td>\n",
       "      <td>rfd01</td>\n",
       "      <td>24.580</td>\n",
       "      <td>33.640</td>\n",
       "      <td>13.980</td>\n",
       "      <td>1.362</td>\n",
       "      <td>26.620</td>\n",
       "      <td>1992-06-30</td>\n",
       "      <td>T</td>\n",
       "      <td>0.0</td>\n",
       "      <td>0</td>\n",
       "    </tr>\n",
       "    <tr>\n",
       "      <th>27</th>\n",
       "      <td>1992-07-01</td>\n",
       "      <td>1992-07-01</td>\n",
       "      <td>0.000000</td>\n",
       "      <td>rfd01</td>\n",
       "      <td>23.860</td>\n",
       "      <td>32.460</td>\n",
       "      <td>14.060</td>\n",
       "      <td>1.422</td>\n",
       "      <td>29.460</td>\n",
       "      <td>1992-07-01</td>\n",
       "      <td>0.00</td>\n",
       "      <td>0.0</td>\n",
       "      <td>0</td>\n",
       "    </tr>\n",
       "    <tr>\n",
       "      <th>28</th>\n",
       "      <td>1992-07-02</td>\n",
       "      <td>1992-07-02</td>\n",
       "      <td>0.000000</td>\n",
       "      <td>rfd01</td>\n",
       "      <td>18.900</td>\n",
       "      <td>25.050</td>\n",
       "      <td>14.790</td>\n",
       "      <td>1.581</td>\n",
       "      <td>26.600</td>\n",
       "      <td>1992-07-02</td>\n",
       "      <td>0.00</td>\n",
       "      <td>0.0</td>\n",
       "      <td>0</td>\n",
       "    </tr>\n",
       "    <tr>\n",
       "      <th>29</th>\n",
       "      <td>1992-07-03</td>\n",
       "      <td>1992-07-03</td>\n",
       "      <td>0.250000</td>\n",
       "      <td>rfd01</td>\n",
       "      <td>20.120</td>\n",
       "      <td>28.630</td>\n",
       "      <td>12.020</td>\n",
       "      <td>1.710</td>\n",
       "      <td>28.660</td>\n",
       "      <td>1992-07-03</td>\n",
       "      <td>0.25</td>\n",
       "      <td>0.0</td>\n",
       "      <td>0</td>\n",
       "    </tr>\n",
       "    <tr>\n",
       "      <th>...</th>\n",
       "      <td>...</td>\n",
       "      <td>...</td>\n",
       "      <td>...</td>\n",
       "      <td>...</td>\n",
       "      <td>...</td>\n",
       "      <td>...</td>\n",
       "      <td>...</td>\n",
       "      <td>...</td>\n",
       "      <td>...</td>\n",
       "      <td>...</td>\n",
       "      <td>...</td>\n",
       "      <td>...</td>\n",
       "      <td>...</td>\n",
       "    </tr>\n",
       "    <tr>\n",
       "      <th>9677</th>\n",
       "      <td>2018-12-02</td>\n",
       "      <td>2018-12-02</td>\n",
       "      <td>0.000000</td>\n",
       "      <td>rfd01</td>\n",
       "      <td>-1.244</td>\n",
       "      <td>4.928</td>\n",
       "      <td>-10.170</td>\n",
       "      <td>0.356</td>\n",
       "      <td>6.814</td>\n",
       "      <td>2018-12-02</td>\n",
       "      <td>0.00</td>\n",
       "      <td>0.0</td>\n",
       "      <td>0</td>\n",
       "    </tr>\n",
       "    <tr>\n",
       "      <th>9678</th>\n",
       "      <td>2018-12-03</td>\n",
       "      <td>2018-12-03</td>\n",
       "      <td>0.000000</td>\n",
       "      <td>rfd01</td>\n",
       "      <td>-1.565</td>\n",
       "      <td>5.236</td>\n",
       "      <td>-9.800</td>\n",
       "      <td>0.377</td>\n",
       "      <td>9.650</td>\n",
       "      <td>2018-12-03</td>\n",
       "      <td>0.00</td>\n",
       "      <td>0.0</td>\n",
       "      <td>0</td>\n",
       "    </tr>\n",
       "    <tr>\n",
       "      <th>9679</th>\n",
       "      <td>2018-12-04</td>\n",
       "      <td>2018-12-04</td>\n",
       "      <td>0.000000</td>\n",
       "      <td>rfd01</td>\n",
       "      <td>-4.370</td>\n",
       "      <td>6.353</td>\n",
       "      <td>-11.790</td>\n",
       "      <td>0.219</td>\n",
       "      <td>10.740</td>\n",
       "      <td>2018-12-04</td>\n",
       "      <td>0.00</td>\n",
       "      <td>0.0</td>\n",
       "      <td>0</td>\n",
       "    </tr>\n",
       "    <tr>\n",
       "      <th>9680</th>\n",
       "      <td>2018-12-05</td>\n",
       "      <td>2018-12-05</td>\n",
       "      <td>0.000000</td>\n",
       "      <td>rfd01</td>\n",
       "      <td>-2.526</td>\n",
       "      <td>12.980</td>\n",
       "      <td>-14.020</td>\n",
       "      <td>0.236</td>\n",
       "      <td>9.890</td>\n",
       "      <td>2018-12-05</td>\n",
       "      <td>0.00</td>\n",
       "      <td>0.0</td>\n",
       "      <td>0</td>\n",
       "    </tr>\n",
       "    <tr>\n",
       "      <th>9681</th>\n",
       "      <td>2018-12-06</td>\n",
       "      <td>2018-12-06</td>\n",
       "      <td>0.000000</td>\n",
       "      <td>rfd01</td>\n",
       "      <td>-5.643</td>\n",
       "      <td>-0.300</td>\n",
       "      <td>-11.310</td>\n",
       "      <td>0.301</td>\n",
       "      <td>5.157</td>\n",
       "      <td>2018-12-06</td>\n",
       "      <td>0.00</td>\n",
       "      <td>0.0</td>\n",
       "      <td>0</td>\n",
       "    </tr>\n",
       "    <tr>\n",
       "      <th>9682</th>\n",
       "      <td>2018-12-07</td>\n",
       "      <td>2018-12-07</td>\n",
       "      <td>0.000000</td>\n",
       "      <td>rfd01</td>\n",
       "      <td>-3.893</td>\n",
       "      <td>7.267</td>\n",
       "      <td>-9.320</td>\n",
       "      <td>0.322</td>\n",
       "      <td>8.670</td>\n",
       "      <td>2018-12-07</td>\n",
       "      <td>0.00</td>\n",
       "      <td>0.0</td>\n",
       "      <td>0</td>\n",
       "    </tr>\n",
       "    <tr>\n",
       "      <th>9683</th>\n",
       "      <td>2018-12-08</td>\n",
       "      <td>2018-12-08</td>\n",
       "      <td>0.000000</td>\n",
       "      <td>rfd01</td>\n",
       "      <td>-4.058</td>\n",
       "      <td>6.793</td>\n",
       "      <td>-11.960</td>\n",
       "      <td>0.288</td>\n",
       "      <td>10.290</td>\n",
       "      <td>2018-12-08</td>\n",
       "      <td>0.00</td>\n",
       "      <td>0.0</td>\n",
       "      <td>0</td>\n",
       "    </tr>\n",
       "    <tr>\n",
       "      <th>9684</th>\n",
       "      <td>2018-12-09</td>\n",
       "      <td>2018-12-09</td>\n",
       "      <td>0.000000</td>\n",
       "      <td>rfd01</td>\n",
       "      <td>-3.076</td>\n",
       "      <td>9.850</td>\n",
       "      <td>-11.250</td>\n",
       "      <td>0.302</td>\n",
       "      <td>9.830</td>\n",
       "      <td>2018-12-09</td>\n",
       "      <td>0.00</td>\n",
       "      <td>0.0</td>\n",
       "      <td>0</td>\n",
       "    </tr>\n",
       "    <tr>\n",
       "      <th>9685</th>\n",
       "      <td>2018-12-10</td>\n",
       "      <td>2018-12-10</td>\n",
       "      <td>0.000000</td>\n",
       "      <td>rfd01</td>\n",
       "      <td>-2.767</td>\n",
       "      <td>14.190</td>\n",
       "      <td>-14.530</td>\n",
       "      <td>0.227</td>\n",
       "      <td>10.560</td>\n",
       "      <td>2018-12-10</td>\n",
       "      <td>0.00</td>\n",
       "      <td>0.0</td>\n",
       "      <td>0</td>\n",
       "    </tr>\n",
       "    <tr>\n",
       "      <th>9686</th>\n",
       "      <td>2018-12-11</td>\n",
       "      <td>2018-12-11</td>\n",
       "      <td>0.000000</td>\n",
       "      <td>rfd01</td>\n",
       "      <td>2.262</td>\n",
       "      <td>15.730</td>\n",
       "      <td>-8.410</td>\n",
       "      <td>0.231</td>\n",
       "      <td>8.040</td>\n",
       "      <td>2018-12-11</td>\n",
       "      <td>0.00</td>\n",
       "      <td>0.0</td>\n",
       "      <td>0</td>\n",
       "    </tr>\n",
       "    <tr>\n",
       "      <th>9687</th>\n",
       "      <td>2018-12-12</td>\n",
       "      <td>2018-12-12</td>\n",
       "      <td>0.000000</td>\n",
       "      <td>rfd01</td>\n",
       "      <td>3.314</td>\n",
       "      <td>18.660</td>\n",
       "      <td>-11.480</td>\n",
       "      <td>0.262</td>\n",
       "      <td>10.410</td>\n",
       "      <td>2018-12-12</td>\n",
       "      <td>0.00</td>\n",
       "      <td>0.0</td>\n",
       "      <td>0</td>\n",
       "    </tr>\n",
       "    <tr>\n",
       "      <th>9688</th>\n",
       "      <td>2018-12-13</td>\n",
       "      <td>2018-12-13</td>\n",
       "      <td>0.000000</td>\n",
       "      <td>rfd01</td>\n",
       "      <td>0.396</td>\n",
       "      <td>7.267</td>\n",
       "      <td>-11.250</td>\n",
       "      <td>0.250</td>\n",
       "      <td>10.300</td>\n",
       "      <td>2018-12-13</td>\n",
       "      <td>0.00</td>\n",
       "      <td>0.0</td>\n",
       "      <td>0</td>\n",
       "    </tr>\n",
       "    <tr>\n",
       "      <th>9689</th>\n",
       "      <td>2018-12-14</td>\n",
       "      <td>2018-12-14</td>\n",
       "      <td>0.000000</td>\n",
       "      <td>rfd01</td>\n",
       "      <td>-1.945</td>\n",
       "      <td>13.810</td>\n",
       "      <td>-12.570</td>\n",
       "      <td>0.237</td>\n",
       "      <td>10.280</td>\n",
       "      <td>2018-12-14</td>\n",
       "      <td>0.00</td>\n",
       "      <td>0.0</td>\n",
       "      <td>0</td>\n",
       "    </tr>\n",
       "    <tr>\n",
       "      <th>9690</th>\n",
       "      <td>2018-12-15</td>\n",
       "      <td>2018-12-15</td>\n",
       "      <td>0.000000</td>\n",
       "      <td>rfd01</td>\n",
       "      <td>-0.740</td>\n",
       "      <td>13.480</td>\n",
       "      <td>-9.990</td>\n",
       "      <td>0.328</td>\n",
       "      <td>5.105</td>\n",
       "      <td>2018-12-15</td>\n",
       "      <td>0.00</td>\n",
       "      <td>0.0</td>\n",
       "      <td>0</td>\n",
       "    </tr>\n",
       "    <tr>\n",
       "      <th>9691</th>\n",
       "      <td>2018-12-16</td>\n",
       "      <td>2018-12-16</td>\n",
       "      <td>0.000000</td>\n",
       "      <td>rfd01</td>\n",
       "      <td>1.010</td>\n",
       "      <td>16.880</td>\n",
       "      <td>-9.390</td>\n",
       "      <td>0.317</td>\n",
       "      <td>10.180</td>\n",
       "      <td>2018-12-16</td>\n",
       "      <td>0.00</td>\n",
       "      <td>0.0</td>\n",
       "      <td>0</td>\n",
       "    </tr>\n",
       "    <tr>\n",
       "      <th>9692</th>\n",
       "      <td>2018-12-17</td>\n",
       "      <td>2018-12-17</td>\n",
       "      <td>0.000000</td>\n",
       "      <td>rfd01</td>\n",
       "      <td>2.161</td>\n",
       "      <td>15.490</td>\n",
       "      <td>-9.830</td>\n",
       "      <td>0.360</td>\n",
       "      <td>7.481</td>\n",
       "      <td>2018-12-17</td>\n",
       "      <td>0.00</td>\n",
       "      <td>0.0</td>\n",
       "      <td>0</td>\n",
       "    </tr>\n",
       "    <tr>\n",
       "      <th>9693</th>\n",
       "      <td>2018-12-18</td>\n",
       "      <td>2018-12-18</td>\n",
       "      <td>0.000000</td>\n",
       "      <td>rfd01</td>\n",
       "      <td>4.087</td>\n",
       "      <td>16.370</td>\n",
       "      <td>-5.574</td>\n",
       "      <td>0.366</td>\n",
       "      <td>7.352</td>\n",
       "      <td>2018-12-18</td>\n",
       "      <td>0.00</td>\n",
       "      <td>0.0</td>\n",
       "      <td>0</td>\n",
       "    </tr>\n",
       "    <tr>\n",
       "      <th>9694</th>\n",
       "      <td>2018-12-19</td>\n",
       "      <td>2018-12-19</td>\n",
       "      <td>0.000000</td>\n",
       "      <td>rfd01</td>\n",
       "      <td>2.791</td>\n",
       "      <td>15.240</td>\n",
       "      <td>-7.707</td>\n",
       "      <td>0.396</td>\n",
       "      <td>7.143</td>\n",
       "      <td>2018-12-19</td>\n",
       "      <td>0.00</td>\n",
       "      <td>0.0</td>\n",
       "      <td>0</td>\n",
       "    </tr>\n",
       "    <tr>\n",
       "      <th>9695</th>\n",
       "      <td>2018-12-20</td>\n",
       "      <td>2018-12-20</td>\n",
       "      <td>0.000000</td>\n",
       "      <td>rfd01</td>\n",
       "      <td>-0.765</td>\n",
       "      <td>11.400</td>\n",
       "      <td>-9.670</td>\n",
       "      <td>0.292</td>\n",
       "      <td>10.040</td>\n",
       "      <td>2018-12-20</td>\n",
       "      <td>0.00</td>\n",
       "      <td>0.0</td>\n",
       "      <td>0</td>\n",
       "    </tr>\n",
       "    <tr>\n",
       "      <th>9696</th>\n",
       "      <td>2018-12-21</td>\n",
       "      <td>2018-12-21</td>\n",
       "      <td>0.000000</td>\n",
       "      <td>rfd01</td>\n",
       "      <td>2.727</td>\n",
       "      <td>20.630</td>\n",
       "      <td>-11.820</td>\n",
       "      <td>0.289</td>\n",
       "      <td>6.670</td>\n",
       "      <td>2018-12-21</td>\n",
       "      <td>0.00</td>\n",
       "      <td>0.0</td>\n",
       "      <td>0</td>\n",
       "    </tr>\n",
       "    <tr>\n",
       "      <th>9697</th>\n",
       "      <td>2018-12-22</td>\n",
       "      <td>2018-12-22</td>\n",
       "      <td>0.000000</td>\n",
       "      <td>rfd01</td>\n",
       "      <td>-1.306</td>\n",
       "      <td>8.740</td>\n",
       "      <td>-9.830</td>\n",
       "      <td>0.399</td>\n",
       "      <td>7.425</td>\n",
       "      <td>2018-12-22</td>\n",
       "      <td>0.00</td>\n",
       "      <td>0.0</td>\n",
       "      <td>0</td>\n",
       "    </tr>\n",
       "    <tr>\n",
       "      <th>9698</th>\n",
       "      <td>2018-12-23</td>\n",
       "      <td>2018-12-23</td>\n",
       "      <td>0.000000</td>\n",
       "      <td>rfd01</td>\n",
       "      <td>-3.750</td>\n",
       "      <td>2.545</td>\n",
       "      <td>-8.690</td>\n",
       "      <td>0.441</td>\n",
       "      <td>4.443</td>\n",
       "      <td>2018-12-23</td>\n",
       "      <td>0.00</td>\n",
       "      <td>0.0</td>\n",
       "      <td>0</td>\n",
       "    </tr>\n",
       "    <tr>\n",
       "      <th>9699</th>\n",
       "      <td>2018-12-24</td>\n",
       "      <td>2018-12-24</td>\n",
       "      <td>0.000000</td>\n",
       "      <td>rfd01</td>\n",
       "      <td>0.146</td>\n",
       "      <td>10.920</td>\n",
       "      <td>-8.780</td>\n",
       "      <td>0.366</td>\n",
       "      <td>9.610</td>\n",
       "      <td>2018-12-24</td>\n",
       "      <td>0.00</td>\n",
       "      <td>0.0</td>\n",
       "      <td>0</td>\n",
       "    </tr>\n",
       "    <tr>\n",
       "      <th>9700</th>\n",
       "      <td>2018-12-25</td>\n",
       "      <td>2018-12-25</td>\n",
       "      <td>0.000000</td>\n",
       "      <td>rfd01</td>\n",
       "      <td>0.991</td>\n",
       "      <td>12.270</td>\n",
       "      <td>-8.850</td>\n",
       "      <td>0.377</td>\n",
       "      <td>7.329</td>\n",
       "      <td>2018-12-25</td>\n",
       "      <td>0.00</td>\n",
       "      <td>0.0</td>\n",
       "      <td>0</td>\n",
       "    </tr>\n",
       "    <tr>\n",
       "      <th>9701</th>\n",
       "      <td>2018-12-26</td>\n",
       "      <td>2018-12-26</td>\n",
       "      <td>0.000000</td>\n",
       "      <td>rfd01</td>\n",
       "      <td>1.502</td>\n",
       "      <td>7.538</td>\n",
       "      <td>-4.061</td>\n",
       "      <td>0.524</td>\n",
       "      <td>5.495</td>\n",
       "      <td>2018-12-26</td>\n",
       "      <td>0.00</td>\n",
       "      <td>0.0</td>\n",
       "      <td>0</td>\n",
       "    </tr>\n",
       "    <tr>\n",
       "      <th>9702</th>\n",
       "      <td>2018-12-27</td>\n",
       "      <td>2018-12-27</td>\n",
       "      <td>0.000000</td>\n",
       "      <td>rfd01</td>\n",
       "      <td>-1.820</td>\n",
       "      <td>3.336</td>\n",
       "      <td>-6.248</td>\n",
       "      <td>0.247</td>\n",
       "      <td>10.030</td>\n",
       "      <td>2018-12-27</td>\n",
       "      <td>0.00</td>\n",
       "      <td>0.0</td>\n",
       "      <td>0</td>\n",
       "    </tr>\n",
       "    <tr>\n",
       "      <th>9703</th>\n",
       "      <td>2018-12-28</td>\n",
       "      <td>2018-12-28</td>\n",
       "      <td>0.000000</td>\n",
       "      <td>rfd01</td>\n",
       "      <td>-6.469</td>\n",
       "      <td>-0.972</td>\n",
       "      <td>-12.370</td>\n",
       "      <td>0.233</td>\n",
       "      <td>8.350</td>\n",
       "      <td>2018-12-28</td>\n",
       "      <td>0.00</td>\n",
       "      <td>0.0</td>\n",
       "      <td>0</td>\n",
       "    </tr>\n",
       "    <tr>\n",
       "      <th>9704</th>\n",
       "      <td>2018-12-29</td>\n",
       "      <td>2018-12-29</td>\n",
       "      <td>0.000000</td>\n",
       "      <td>rfd01</td>\n",
       "      <td>-8.490</td>\n",
       "      <td>3.694</td>\n",
       "      <td>-15.480</td>\n",
       "      <td>0.234</td>\n",
       "      <td>8.080</td>\n",
       "      <td>2018-12-29</td>\n",
       "      <td>0.00</td>\n",
       "      <td>0.0</td>\n",
       "      <td>0</td>\n",
       "    </tr>\n",
       "    <tr>\n",
       "      <th>9705</th>\n",
       "      <td>2018-12-30</td>\n",
       "      <td>2018-12-30</td>\n",
       "      <td>0.000000</td>\n",
       "      <td>rfd01</td>\n",
       "      <td>-1.678</td>\n",
       "      <td>15.100</td>\n",
       "      <td>-13.790</td>\n",
       "      <td>0.226</td>\n",
       "      <td>10.270</td>\n",
       "      <td>2018-12-30</td>\n",
       "      <td>0.00</td>\n",
       "      <td>0.0</td>\n",
       "      <td>0</td>\n",
       "    </tr>\n",
       "    <tr>\n",
       "      <th>9706</th>\n",
       "      <td>2018-12-31</td>\n",
       "      <td>2018-12-31</td>\n",
       "      <td>0.000000</td>\n",
       "      <td>rfd01</td>\n",
       "      <td>-5.876</td>\n",
       "      <td>0.942</td>\n",
       "      <td>-11.730</td>\n",
       "      <td>0.288</td>\n",
       "      <td>3.040</td>\n",
       "      <td>2018-12-31</td>\n",
       "      <td>0.02</td>\n",
       "      <td>1.5</td>\n",
       "      <td>1</td>\n",
       "    </tr>\n",
       "  </tbody>\n",
       "</table>\n",
       "<p>9707 rows × 13 columns</p>\n",
       "</div>"
      ],
      "text/plain": [
       "          key_0     date_x  precip station    tave    tmax    tmin     vp  \\\n",
       "0    1992-06-04 1992-06-04     NaN   rfd01  17.350  24.590  11.610  1.496   \n",
       "1    1992-06-05 1992-06-05    0.09   rfd01  18.990  29.640  12.160  1.587   \n",
       "2    1992-06-06 1992-06-06    0.02   rfd01  16.110  24.600   8.380  1.267   \n",
       "3    1992-06-07 1992-06-07    0.09   rfd01  19.690  29.420  11.550  1.466   \n",
       "4    1992-06-08 1992-06-08    0.00   rfd01  16.570  24.680  12.350  1.475   \n",
       "...         ...        ...     ...     ...     ...     ...     ...    ...   \n",
       "9702 2018-12-27 2018-12-27    0.00   rfd01  -1.820   3.336  -6.248  0.247   \n",
       "9703 2018-12-28 2018-12-28    0.00   rfd01  -6.469  -0.972 -12.370  0.233   \n",
       "9704 2018-12-29 2018-12-29    0.00   rfd01  -8.490   3.694 -15.480  0.234   \n",
       "9705 2018-12-30 2018-12-30    0.00   rfd01  -1.678  15.100 -13.790  0.226   \n",
       "9706 2018-12-31 2018-12-31    0.00   rfd01  -5.876   0.942 -11.730  0.288   \n",
       "\n",
       "         sr     date_y coop_precip snow snowdepth  \n",
       "0     17.50 1992-06-04           T  0.0         0  \n",
       "1     22.81 1992-06-05        0.12  0.0         0  \n",
       "2     23.39 1992-06-06        0.03  0.0         0  \n",
       "3     21.15 1992-06-07        0.12  0.0         0  \n",
       "4     18.46 1992-06-08        0.00  0.0         0  \n",
       "...     ...        ...         ...  ...       ...  \n",
       "9702  10.03 2018-12-27        0.00  0.0         0  \n",
       "9703   8.35 2018-12-28        0.00  0.0         0  \n",
       "9704   8.08 2018-12-29        0.00  0.0         0  \n",
       "9705  10.27 2018-12-30        0.00  0.0         0  \n",
       "9706   3.04 2018-12-31        0.02  1.5         1  \n",
       "\n",
       "[9707 rows x 13 columns]"
      ]
     },
     "execution_count": 322,
     "metadata": {},
     "output_type": "execute_result"
    }
   ],
   "source": [
    "coag_df['date'] = pd.to_datetime(coag_df.date)\n",
    "coop_df['date'] = pd.to_datetime(coop_df.date)\n",
    "df = coag_df.merge(coop_df, left_on=coag_df.date,right_on=coop_df.date)\n",
    "df"
   ]
  },
  {
   "cell_type": "code",
   "execution_count": 323,
   "metadata": {},
   "outputs": [],
   "source": [
    "stuff = ['date_x','date_y']\n",
    "df = df.drop(stuff, axis=1)\n",
    "df.columns = ['date','coag_precip','station','tave','tmax','tmin','vp','sr','coop_precip',\n",
    "             'snow','snowdepth']"
   ]
  },
  {
   "cell_type": "code",
   "execution_count": 324,
   "metadata": {},
   "outputs": [],
   "source": [
    "df.to_csv(path + r'\\rfd01_precip_snow_coopcomp.csv')"
   ]
  },
  {
   "cell_type": "code",
   "execution_count": 325,
   "metadata": {},
   "outputs": [
    {
     "name": "stderr",
     "output_type": "stream",
     "text": [
      "C:\\Users\\student\\Anaconda3\\lib\\site-packages\\ipykernel_launcher.py:15: SettingWithCopyWarning:\n",
      "\n",
      "\n",
      "A value is trying to be set on a copy of a slice from a DataFrame\n",
      "\n",
      "See the caveats in the documentation: http://pandas.pydata.org/pandas-docs/stable/user_guide/indexing.html#returning-a-view-versus-a-copy\n",
      "\n"
     ]
    },
    {
     "data": {
      "text/html": [
       "<div>\n",
       "<style scoped>\n",
       "    .dataframe tbody tr th:only-of-type {\n",
       "        vertical-align: middle;\n",
       "    }\n",
       "\n",
       "    .dataframe tbody tr th {\n",
       "        vertical-align: top;\n",
       "    }\n",
       "\n",
       "    .dataframe thead th {\n",
       "        text-align: right;\n",
       "    }\n",
       "</style>\n",
       "<table border=\"1\" class=\"dataframe\">\n",
       "  <thead>\n",
       "    <tr style=\"text-align: right;\">\n",
       "      <th></th>\n",
       "      <th>date</th>\n",
       "      <th>coag_precip</th>\n",
       "      <th>station</th>\n",
       "      <th>tave</th>\n",
       "      <th>tmax</th>\n",
       "      <th>tmin</th>\n",
       "      <th>vp</th>\n",
       "      <th>sr</th>\n",
       "      <th>coop_precip</th>\n",
       "      <th>snow</th>\n",
       "      <th>snowdepth</th>\n",
       "      <th>snowfall</th>\n",
       "      <th>tot_precip</th>\n",
       "    </tr>\n",
       "  </thead>\n",
       "  <tbody>\n",
       "    <tr>\n",
       "      <th>0</th>\n",
       "      <td>1992-06-04</td>\n",
       "      <td>NaN</td>\n",
       "      <td>rfd01</td>\n",
       "      <td>17.350</td>\n",
       "      <td>24.590</td>\n",
       "      <td>11.610</td>\n",
       "      <td>1.496</td>\n",
       "      <td>17.500</td>\n",
       "      <td>0.005</td>\n",
       "      <td>0.0</td>\n",
       "      <td>0</td>\n",
       "      <td>NaN</td>\n",
       "      <td>1</td>\n",
       "    </tr>\n",
       "    <tr>\n",
       "      <th>1</th>\n",
       "      <td>1992-06-05</td>\n",
       "      <td>0.090000</td>\n",
       "      <td>rfd01</td>\n",
       "      <td>18.990</td>\n",
       "      <td>29.640</td>\n",
       "      <td>12.160</td>\n",
       "      <td>1.587</td>\n",
       "      <td>22.810</td>\n",
       "      <td>0.120</td>\n",
       "      <td>0.0</td>\n",
       "      <td>0</td>\n",
       "      <td>NaN</td>\n",
       "      <td>1</td>\n",
       "    </tr>\n",
       "    <tr>\n",
       "      <th>2</th>\n",
       "      <td>1992-06-06</td>\n",
       "      <td>0.020000</td>\n",
       "      <td>rfd01</td>\n",
       "      <td>16.110</td>\n",
       "      <td>24.600</td>\n",
       "      <td>8.380</td>\n",
       "      <td>1.267</td>\n",
       "      <td>23.390</td>\n",
       "      <td>0.030</td>\n",
       "      <td>0.0</td>\n",
       "      <td>0</td>\n",
       "      <td>NaN</td>\n",
       "      <td>1</td>\n",
       "    </tr>\n",
       "    <tr>\n",
       "      <th>3</th>\n",
       "      <td>1992-06-07</td>\n",
       "      <td>0.090000</td>\n",
       "      <td>rfd01</td>\n",
       "      <td>19.690</td>\n",
       "      <td>29.420</td>\n",
       "      <td>11.550</td>\n",
       "      <td>1.466</td>\n",
       "      <td>21.150</td>\n",
       "      <td>0.120</td>\n",
       "      <td>0.0</td>\n",
       "      <td>0</td>\n",
       "      <td>NaN</td>\n",
       "      <td>1</td>\n",
       "    </tr>\n",
       "    <tr>\n",
       "      <th>4</th>\n",
       "      <td>1992-06-08</td>\n",
       "      <td>0.000000</td>\n",
       "      <td>rfd01</td>\n",
       "      <td>16.570</td>\n",
       "      <td>24.680</td>\n",
       "      <td>12.350</td>\n",
       "      <td>1.475</td>\n",
       "      <td>18.460</td>\n",
       "      <td>0.000</td>\n",
       "      <td>0.0</td>\n",
       "      <td>0</td>\n",
       "      <td>NaN</td>\n",
       "      <td>1</td>\n",
       "    </tr>\n",
       "    <tr>\n",
       "      <th>5</th>\n",
       "      <td>1992-06-09</td>\n",
       "      <td>0.560000</td>\n",
       "      <td>rfd01</td>\n",
       "      <td>15.200</td>\n",
       "      <td>20.290</td>\n",
       "      <td>10.780</td>\n",
       "      <td>1.497</td>\n",
       "      <td>15.700</td>\n",
       "      <td>1.130</td>\n",
       "      <td>0.0</td>\n",
       "      <td>0</td>\n",
       "      <td>NaN</td>\n",
       "      <td>1</td>\n",
       "    </tr>\n",
       "    <tr>\n",
       "      <th>6</th>\n",
       "      <td>1992-06-10</td>\n",
       "      <td>0.090000</td>\n",
       "      <td>rfd01</td>\n",
       "      <td>17.720</td>\n",
       "      <td>27.020</td>\n",
       "      <td>7.900</td>\n",
       "      <td>1.415</td>\n",
       "      <td>29.330</td>\n",
       "      <td>0.000</td>\n",
       "      <td>0.0</td>\n",
       "      <td>0</td>\n",
       "      <td>NaN</td>\n",
       "      <td>1</td>\n",
       "    </tr>\n",
       "    <tr>\n",
       "      <th>7</th>\n",
       "      <td>1992-06-11</td>\n",
       "      <td>0.030000</td>\n",
       "      <td>rfd01</td>\n",
       "      <td>17.630</td>\n",
       "      <td>25.510</td>\n",
       "      <td>11.690</td>\n",
       "      <td>1.697</td>\n",
       "      <td>23.930</td>\n",
       "      <td>0.005</td>\n",
       "      <td>0.0</td>\n",
       "      <td>0</td>\n",
       "      <td>NaN</td>\n",
       "      <td>1</td>\n",
       "    </tr>\n",
       "    <tr>\n",
       "      <th>8</th>\n",
       "      <td>1992-06-12</td>\n",
       "      <td>0.040000</td>\n",
       "      <td>rfd01</td>\n",
       "      <td>19.370</td>\n",
       "      <td>27.080</td>\n",
       "      <td>10.790</td>\n",
       "      <td>1.796</td>\n",
       "      <td>29.260</td>\n",
       "      <td>0.800</td>\n",
       "      <td>0.0</td>\n",
       "      <td>0</td>\n",
       "      <td>NaN</td>\n",
       "      <td>1</td>\n",
       "    </tr>\n",
       "    <tr>\n",
       "      <th>9</th>\n",
       "      <td>1992-06-13</td>\n",
       "      <td>0.020000</td>\n",
       "      <td>rfd01</td>\n",
       "      <td>21.520</td>\n",
       "      <td>31.490</td>\n",
       "      <td>13.860</td>\n",
       "      <td>1.722</td>\n",
       "      <td>29.540</td>\n",
       "      <td>0.000</td>\n",
       "      <td>0.0</td>\n",
       "      <td>0</td>\n",
       "      <td>NaN</td>\n",
       "      <td>1</td>\n",
       "    </tr>\n",
       "    <tr>\n",
       "      <th>10</th>\n",
       "      <td>1992-06-14</td>\n",
       "      <td>0.020000</td>\n",
       "      <td>rfd01</td>\n",
       "      <td>21.070</td>\n",
       "      <td>28.100</td>\n",
       "      <td>13.540</td>\n",
       "      <td>1.636</td>\n",
       "      <td>25.850</td>\n",
       "      <td>0.000</td>\n",
       "      <td>0.0</td>\n",
       "      <td>0</td>\n",
       "      <td>NaN</td>\n",
       "      <td>1</td>\n",
       "    </tr>\n",
       "    <tr>\n",
       "      <th>11</th>\n",
       "      <td>1992-06-15</td>\n",
       "      <td>0.000000</td>\n",
       "      <td>rfd01</td>\n",
       "      <td>24.240</td>\n",
       "      <td>30.710</td>\n",
       "      <td>13.560</td>\n",
       "      <td>0.659</td>\n",
       "      <td>30.670</td>\n",
       "      <td>0.000</td>\n",
       "      <td>0.0</td>\n",
       "      <td>0</td>\n",
       "      <td>NaN</td>\n",
       "      <td>1</td>\n",
       "    </tr>\n",
       "    <tr>\n",
       "      <th>12</th>\n",
       "      <td>1992-06-16</td>\n",
       "      <td>0.000000</td>\n",
       "      <td>rfd01</td>\n",
       "      <td>21.520</td>\n",
       "      <td>30.730</td>\n",
       "      <td>8.480</td>\n",
       "      <td>0.694</td>\n",
       "      <td>30.770</td>\n",
       "      <td>0.000</td>\n",
       "      <td>0.0</td>\n",
       "      <td>0</td>\n",
       "      <td>NaN</td>\n",
       "      <td>1</td>\n",
       "    </tr>\n",
       "    <tr>\n",
       "      <th>13</th>\n",
       "      <td>1992-06-17</td>\n",
       "      <td>0.000000</td>\n",
       "      <td>rfd01</td>\n",
       "      <td>20.670</td>\n",
       "      <td>29.110</td>\n",
       "      <td>8.920</td>\n",
       "      <td>0.764</td>\n",
       "      <td>29.350</td>\n",
       "      <td>0.000</td>\n",
       "      <td>0.0</td>\n",
       "      <td>0</td>\n",
       "      <td>NaN</td>\n",
       "      <td>1</td>\n",
       "    </tr>\n",
       "    <tr>\n",
       "      <th>14</th>\n",
       "      <td>1992-06-18</td>\n",
       "      <td>0.000000</td>\n",
       "      <td>rfd01</td>\n",
       "      <td>21.860</td>\n",
       "      <td>30.190</td>\n",
       "      <td>10.910</td>\n",
       "      <td>1.403</td>\n",
       "      <td>29.520</td>\n",
       "      <td>0.000</td>\n",
       "      <td>0.0</td>\n",
       "      <td>0</td>\n",
       "      <td>NaN</td>\n",
       "      <td>1</td>\n",
       "    </tr>\n",
       "    <tr>\n",
       "      <th>15</th>\n",
       "      <td>1992-06-19</td>\n",
       "      <td>0.000000</td>\n",
       "      <td>rfd01</td>\n",
       "      <td>21.700</td>\n",
       "      <td>28.660</td>\n",
       "      <td>15.070</td>\n",
       "      <td>1.983</td>\n",
       "      <td>22.700</td>\n",
       "      <td>0.005</td>\n",
       "      <td>0.0</td>\n",
       "      <td>0</td>\n",
       "      <td>NaN</td>\n",
       "      <td>1</td>\n",
       "    </tr>\n",
       "    <tr>\n",
       "      <th>16</th>\n",
       "      <td>1992-06-20</td>\n",
       "      <td>0.040000</td>\n",
       "      <td>rfd01</td>\n",
       "      <td>19.280</td>\n",
       "      <td>26.330</td>\n",
       "      <td>14.940</td>\n",
       "      <td>1.896</td>\n",
       "      <td>19.860</td>\n",
       "      <td>0.050</td>\n",
       "      <td>0.0</td>\n",
       "      <td>0</td>\n",
       "      <td>NaN</td>\n",
       "      <td>1</td>\n",
       "    </tr>\n",
       "    <tr>\n",
       "      <th>17</th>\n",
       "      <td>1992-06-21</td>\n",
       "      <td>0.110000</td>\n",
       "      <td>rfd01</td>\n",
       "      <td>19.700</td>\n",
       "      <td>28.330</td>\n",
       "      <td>14.500</td>\n",
       "      <td>1.803</td>\n",
       "      <td>20.290</td>\n",
       "      <td>0.150</td>\n",
       "      <td>0.0</td>\n",
       "      <td>0</td>\n",
       "      <td>NaN</td>\n",
       "      <td>1</td>\n",
       "    </tr>\n",
       "    <tr>\n",
       "      <th>18</th>\n",
       "      <td>1992-06-22</td>\n",
       "      <td>0.000000</td>\n",
       "      <td>rfd01</td>\n",
       "      <td>21.840</td>\n",
       "      <td>32.650</td>\n",
       "      <td>10.420</td>\n",
       "      <td>1.621</td>\n",
       "      <td>29.060</td>\n",
       "      <td>0.005</td>\n",
       "      <td>0.0</td>\n",
       "      <td>0</td>\n",
       "      <td>NaN</td>\n",
       "      <td>1</td>\n",
       "    </tr>\n",
       "    <tr>\n",
       "      <th>19</th>\n",
       "      <td>1992-06-23</td>\n",
       "      <td>0.000000</td>\n",
       "      <td>rfd01</td>\n",
       "      <td>23.910</td>\n",
       "      <td>30.950</td>\n",
       "      <td>14.600</td>\n",
       "      <td>1.699</td>\n",
       "      <td>27.400</td>\n",
       "      <td>0.000</td>\n",
       "      <td>0.0</td>\n",
       "      <td>0</td>\n",
       "      <td>NaN</td>\n",
       "      <td>1</td>\n",
       "    </tr>\n",
       "    <tr>\n",
       "      <th>20</th>\n",
       "      <td>1992-06-24</td>\n",
       "      <td>0.000000</td>\n",
       "      <td>rfd01</td>\n",
       "      <td>24.900</td>\n",
       "      <td>33.700</td>\n",
       "      <td>16.830</td>\n",
       "      <td>1.481</td>\n",
       "      <td>26.250</td>\n",
       "      <td>0.005</td>\n",
       "      <td>0.0</td>\n",
       "      <td>0</td>\n",
       "      <td>NaN</td>\n",
       "      <td>1</td>\n",
       "    </tr>\n",
       "    <tr>\n",
       "      <th>21</th>\n",
       "      <td>1992-06-25</td>\n",
       "      <td>0.000000</td>\n",
       "      <td>rfd01</td>\n",
       "      <td>19.680</td>\n",
       "      <td>27.070</td>\n",
       "      <td>14.440</td>\n",
       "      <td>1.752</td>\n",
       "      <td>22.090</td>\n",
       "      <td>0.005</td>\n",
       "      <td>0.0</td>\n",
       "      <td>0</td>\n",
       "      <td>NaN</td>\n",
       "      <td>1</td>\n",
       "    </tr>\n",
       "    <tr>\n",
       "      <th>22</th>\n",
       "      <td>1992-06-26</td>\n",
       "      <td>0.360000</td>\n",
       "      <td>rfd01</td>\n",
       "      <td>19.550</td>\n",
       "      <td>27.400</td>\n",
       "      <td>14.250</td>\n",
       "      <td>1.854</td>\n",
       "      <td>22.340</td>\n",
       "      <td>0.400</td>\n",
       "      <td>0.0</td>\n",
       "      <td>0</td>\n",
       "      <td>NaN</td>\n",
       "      <td>1</td>\n",
       "    </tr>\n",
       "    <tr>\n",
       "      <th>23</th>\n",
       "      <td>1992-06-27</td>\n",
       "      <td>0.220000</td>\n",
       "      <td>rfd01</td>\n",
       "      <td>19.300</td>\n",
       "      <td>27.010</td>\n",
       "      <td>14.360</td>\n",
       "      <td>1.810</td>\n",
       "      <td>20.350</td>\n",
       "      <td>0.240</td>\n",
       "      <td>0.0</td>\n",
       "      <td>0</td>\n",
       "      <td>NaN</td>\n",
       "      <td>1</td>\n",
       "    </tr>\n",
       "    <tr>\n",
       "      <th>24</th>\n",
       "      <td>1992-06-28</td>\n",
       "      <td>0.000000</td>\n",
       "      <td>rfd01</td>\n",
       "      <td>20.660</td>\n",
       "      <td>31.400</td>\n",
       "      <td>13.100</td>\n",
       "      <td>1.713</td>\n",
       "      <td>25.640</td>\n",
       "      <td>0.000</td>\n",
       "      <td>0.0</td>\n",
       "      <td>0</td>\n",
       "      <td>NaN</td>\n",
       "      <td>1</td>\n",
       "    </tr>\n",
       "    <tr>\n",
       "      <th>25</th>\n",
       "      <td>1992-06-29</td>\n",
       "      <td>0.629921</td>\n",
       "      <td>rfd01</td>\n",
       "      <td>21.600</td>\n",
       "      <td>28.900</td>\n",
       "      <td>13.450</td>\n",
       "      <td>1.950</td>\n",
       "      <td>27.400</td>\n",
       "      <td>0.650</td>\n",
       "      <td>0.0</td>\n",
       "      <td>0</td>\n",
       "      <td>NaN</td>\n",
       "      <td>1</td>\n",
       "    </tr>\n",
       "    <tr>\n",
       "      <th>26</th>\n",
       "      <td>1992-06-30</td>\n",
       "      <td>0.000000</td>\n",
       "      <td>rfd01</td>\n",
       "      <td>24.580</td>\n",
       "      <td>33.640</td>\n",
       "      <td>13.980</td>\n",
       "      <td>1.362</td>\n",
       "      <td>26.620</td>\n",
       "      <td>0.005</td>\n",
       "      <td>0.0</td>\n",
       "      <td>0</td>\n",
       "      <td>NaN</td>\n",
       "      <td>1</td>\n",
       "    </tr>\n",
       "    <tr>\n",
       "      <th>27</th>\n",
       "      <td>1992-07-01</td>\n",
       "      <td>0.000000</td>\n",
       "      <td>rfd01</td>\n",
       "      <td>23.860</td>\n",
       "      <td>32.460</td>\n",
       "      <td>14.060</td>\n",
       "      <td>1.422</td>\n",
       "      <td>29.460</td>\n",
       "      <td>0.000</td>\n",
       "      <td>0.0</td>\n",
       "      <td>0</td>\n",
       "      <td>NaN</td>\n",
       "      <td>1</td>\n",
       "    </tr>\n",
       "    <tr>\n",
       "      <th>28</th>\n",
       "      <td>1992-07-02</td>\n",
       "      <td>0.000000</td>\n",
       "      <td>rfd01</td>\n",
       "      <td>18.900</td>\n",
       "      <td>25.050</td>\n",
       "      <td>14.790</td>\n",
       "      <td>1.581</td>\n",
       "      <td>26.600</td>\n",
       "      <td>0.000</td>\n",
       "      <td>0.0</td>\n",
       "      <td>0</td>\n",
       "      <td>NaN</td>\n",
       "      <td>1</td>\n",
       "    </tr>\n",
       "    <tr>\n",
       "      <th>29</th>\n",
       "      <td>1992-07-03</td>\n",
       "      <td>0.250000</td>\n",
       "      <td>rfd01</td>\n",
       "      <td>20.120</td>\n",
       "      <td>28.630</td>\n",
       "      <td>12.020</td>\n",
       "      <td>1.710</td>\n",
       "      <td>28.660</td>\n",
       "      <td>0.250</td>\n",
       "      <td>0.0</td>\n",
       "      <td>0</td>\n",
       "      <td>NaN</td>\n",
       "      <td>1</td>\n",
       "    </tr>\n",
       "    <tr>\n",
       "      <th>...</th>\n",
       "      <td>...</td>\n",
       "      <td>...</td>\n",
       "      <td>...</td>\n",
       "      <td>...</td>\n",
       "      <td>...</td>\n",
       "      <td>...</td>\n",
       "      <td>...</td>\n",
       "      <td>...</td>\n",
       "      <td>...</td>\n",
       "      <td>...</td>\n",
       "      <td>...</td>\n",
       "      <td>...</td>\n",
       "      <td>...</td>\n",
       "    </tr>\n",
       "    <tr>\n",
       "      <th>9677</th>\n",
       "      <td>2018-12-02</td>\n",
       "      <td>0.000000</td>\n",
       "      <td>rfd01</td>\n",
       "      <td>-1.244</td>\n",
       "      <td>4.928</td>\n",
       "      <td>-10.170</td>\n",
       "      <td>0.356</td>\n",
       "      <td>6.814</td>\n",
       "      <td>0.000</td>\n",
       "      <td>0.0</td>\n",
       "      <td>0</td>\n",
       "      <td>NaN</td>\n",
       "      <td>1</td>\n",
       "    </tr>\n",
       "    <tr>\n",
       "      <th>9678</th>\n",
       "      <td>2018-12-03</td>\n",
       "      <td>0.000000</td>\n",
       "      <td>rfd01</td>\n",
       "      <td>-1.565</td>\n",
       "      <td>5.236</td>\n",
       "      <td>-9.800</td>\n",
       "      <td>0.377</td>\n",
       "      <td>9.650</td>\n",
       "      <td>0.000</td>\n",
       "      <td>0.0</td>\n",
       "      <td>0</td>\n",
       "      <td>NaN</td>\n",
       "      <td>1</td>\n",
       "    </tr>\n",
       "    <tr>\n",
       "      <th>9679</th>\n",
       "      <td>2018-12-04</td>\n",
       "      <td>0.000000</td>\n",
       "      <td>rfd01</td>\n",
       "      <td>-4.370</td>\n",
       "      <td>6.353</td>\n",
       "      <td>-11.790</td>\n",
       "      <td>0.219</td>\n",
       "      <td>10.740</td>\n",
       "      <td>0.000</td>\n",
       "      <td>0.0</td>\n",
       "      <td>0</td>\n",
       "      <td>NaN</td>\n",
       "      <td>1</td>\n",
       "    </tr>\n",
       "    <tr>\n",
       "      <th>9680</th>\n",
       "      <td>2018-12-05</td>\n",
       "      <td>0.000000</td>\n",
       "      <td>rfd01</td>\n",
       "      <td>-2.526</td>\n",
       "      <td>12.980</td>\n",
       "      <td>-14.020</td>\n",
       "      <td>0.236</td>\n",
       "      <td>9.890</td>\n",
       "      <td>0.000</td>\n",
       "      <td>0.0</td>\n",
       "      <td>0</td>\n",
       "      <td>NaN</td>\n",
       "      <td>1</td>\n",
       "    </tr>\n",
       "    <tr>\n",
       "      <th>9681</th>\n",
       "      <td>2018-12-06</td>\n",
       "      <td>0.000000</td>\n",
       "      <td>rfd01</td>\n",
       "      <td>-5.643</td>\n",
       "      <td>-0.300</td>\n",
       "      <td>-11.310</td>\n",
       "      <td>0.301</td>\n",
       "      <td>5.157</td>\n",
       "      <td>0.000</td>\n",
       "      <td>0.0</td>\n",
       "      <td>0</td>\n",
       "      <td>NaN</td>\n",
       "      <td>1</td>\n",
       "    </tr>\n",
       "    <tr>\n",
       "      <th>9682</th>\n",
       "      <td>2018-12-07</td>\n",
       "      <td>0.000000</td>\n",
       "      <td>rfd01</td>\n",
       "      <td>-3.893</td>\n",
       "      <td>7.267</td>\n",
       "      <td>-9.320</td>\n",
       "      <td>0.322</td>\n",
       "      <td>8.670</td>\n",
       "      <td>0.000</td>\n",
       "      <td>0.0</td>\n",
       "      <td>0</td>\n",
       "      <td>NaN</td>\n",
       "      <td>1</td>\n",
       "    </tr>\n",
       "    <tr>\n",
       "      <th>9683</th>\n",
       "      <td>2018-12-08</td>\n",
       "      <td>0.000000</td>\n",
       "      <td>rfd01</td>\n",
       "      <td>-4.058</td>\n",
       "      <td>6.793</td>\n",
       "      <td>-11.960</td>\n",
       "      <td>0.288</td>\n",
       "      <td>10.290</td>\n",
       "      <td>0.000</td>\n",
       "      <td>0.0</td>\n",
       "      <td>0</td>\n",
       "      <td>NaN</td>\n",
       "      <td>1</td>\n",
       "    </tr>\n",
       "    <tr>\n",
       "      <th>9684</th>\n",
       "      <td>2018-12-09</td>\n",
       "      <td>0.000000</td>\n",
       "      <td>rfd01</td>\n",
       "      <td>-3.076</td>\n",
       "      <td>9.850</td>\n",
       "      <td>-11.250</td>\n",
       "      <td>0.302</td>\n",
       "      <td>9.830</td>\n",
       "      <td>0.000</td>\n",
       "      <td>0.0</td>\n",
       "      <td>0</td>\n",
       "      <td>NaN</td>\n",
       "      <td>1</td>\n",
       "    </tr>\n",
       "    <tr>\n",
       "      <th>9685</th>\n",
       "      <td>2018-12-10</td>\n",
       "      <td>0.000000</td>\n",
       "      <td>rfd01</td>\n",
       "      <td>-2.767</td>\n",
       "      <td>14.190</td>\n",
       "      <td>-14.530</td>\n",
       "      <td>0.227</td>\n",
       "      <td>10.560</td>\n",
       "      <td>0.000</td>\n",
       "      <td>0.0</td>\n",
       "      <td>0</td>\n",
       "      <td>NaN</td>\n",
       "      <td>1</td>\n",
       "    </tr>\n",
       "    <tr>\n",
       "      <th>9686</th>\n",
       "      <td>2018-12-11</td>\n",
       "      <td>0.000000</td>\n",
       "      <td>rfd01</td>\n",
       "      <td>2.262</td>\n",
       "      <td>15.730</td>\n",
       "      <td>-8.410</td>\n",
       "      <td>0.231</td>\n",
       "      <td>8.040</td>\n",
       "      <td>0.000</td>\n",
       "      <td>0.0</td>\n",
       "      <td>0</td>\n",
       "      <td>NaN</td>\n",
       "      <td>1</td>\n",
       "    </tr>\n",
       "    <tr>\n",
       "      <th>9687</th>\n",
       "      <td>2018-12-12</td>\n",
       "      <td>0.000000</td>\n",
       "      <td>rfd01</td>\n",
       "      <td>3.314</td>\n",
       "      <td>18.660</td>\n",
       "      <td>-11.480</td>\n",
       "      <td>0.262</td>\n",
       "      <td>10.410</td>\n",
       "      <td>0.000</td>\n",
       "      <td>0.0</td>\n",
       "      <td>0</td>\n",
       "      <td>NaN</td>\n",
       "      <td>1</td>\n",
       "    </tr>\n",
       "    <tr>\n",
       "      <th>9688</th>\n",
       "      <td>2018-12-13</td>\n",
       "      <td>0.000000</td>\n",
       "      <td>rfd01</td>\n",
       "      <td>0.396</td>\n",
       "      <td>7.267</td>\n",
       "      <td>-11.250</td>\n",
       "      <td>0.250</td>\n",
       "      <td>10.300</td>\n",
       "      <td>0.000</td>\n",
       "      <td>0.0</td>\n",
       "      <td>0</td>\n",
       "      <td>NaN</td>\n",
       "      <td>1</td>\n",
       "    </tr>\n",
       "    <tr>\n",
       "      <th>9689</th>\n",
       "      <td>2018-12-14</td>\n",
       "      <td>0.000000</td>\n",
       "      <td>rfd01</td>\n",
       "      <td>-1.945</td>\n",
       "      <td>13.810</td>\n",
       "      <td>-12.570</td>\n",
       "      <td>0.237</td>\n",
       "      <td>10.280</td>\n",
       "      <td>0.000</td>\n",
       "      <td>0.0</td>\n",
       "      <td>0</td>\n",
       "      <td>NaN</td>\n",
       "      <td>1</td>\n",
       "    </tr>\n",
       "    <tr>\n",
       "      <th>9690</th>\n",
       "      <td>2018-12-15</td>\n",
       "      <td>0.000000</td>\n",
       "      <td>rfd01</td>\n",
       "      <td>-0.740</td>\n",
       "      <td>13.480</td>\n",
       "      <td>-9.990</td>\n",
       "      <td>0.328</td>\n",
       "      <td>5.105</td>\n",
       "      <td>0.000</td>\n",
       "      <td>0.0</td>\n",
       "      <td>0</td>\n",
       "      <td>NaN</td>\n",
       "      <td>1</td>\n",
       "    </tr>\n",
       "    <tr>\n",
       "      <th>9691</th>\n",
       "      <td>2018-12-16</td>\n",
       "      <td>0.000000</td>\n",
       "      <td>rfd01</td>\n",
       "      <td>1.010</td>\n",
       "      <td>16.880</td>\n",
       "      <td>-9.390</td>\n",
       "      <td>0.317</td>\n",
       "      <td>10.180</td>\n",
       "      <td>0.000</td>\n",
       "      <td>0.0</td>\n",
       "      <td>0</td>\n",
       "      <td>NaN</td>\n",
       "      <td>1</td>\n",
       "    </tr>\n",
       "    <tr>\n",
       "      <th>9692</th>\n",
       "      <td>2018-12-17</td>\n",
       "      <td>0.000000</td>\n",
       "      <td>rfd01</td>\n",
       "      <td>2.161</td>\n",
       "      <td>15.490</td>\n",
       "      <td>-9.830</td>\n",
       "      <td>0.360</td>\n",
       "      <td>7.481</td>\n",
       "      <td>0.000</td>\n",
       "      <td>0.0</td>\n",
       "      <td>0</td>\n",
       "      <td>NaN</td>\n",
       "      <td>1</td>\n",
       "    </tr>\n",
       "    <tr>\n",
       "      <th>9693</th>\n",
       "      <td>2018-12-18</td>\n",
       "      <td>0.000000</td>\n",
       "      <td>rfd01</td>\n",
       "      <td>4.087</td>\n",
       "      <td>16.370</td>\n",
       "      <td>-5.574</td>\n",
       "      <td>0.366</td>\n",
       "      <td>7.352</td>\n",
       "      <td>0.000</td>\n",
       "      <td>0.0</td>\n",
       "      <td>0</td>\n",
       "      <td>NaN</td>\n",
       "      <td>1</td>\n",
       "    </tr>\n",
       "    <tr>\n",
       "      <th>9694</th>\n",
       "      <td>2018-12-19</td>\n",
       "      <td>0.000000</td>\n",
       "      <td>rfd01</td>\n",
       "      <td>2.791</td>\n",
       "      <td>15.240</td>\n",
       "      <td>-7.707</td>\n",
       "      <td>0.396</td>\n",
       "      <td>7.143</td>\n",
       "      <td>0.000</td>\n",
       "      <td>0.0</td>\n",
       "      <td>0</td>\n",
       "      <td>NaN</td>\n",
       "      <td>1</td>\n",
       "    </tr>\n",
       "    <tr>\n",
       "      <th>9695</th>\n",
       "      <td>2018-12-20</td>\n",
       "      <td>0.000000</td>\n",
       "      <td>rfd01</td>\n",
       "      <td>-0.765</td>\n",
       "      <td>11.400</td>\n",
       "      <td>-9.670</td>\n",
       "      <td>0.292</td>\n",
       "      <td>10.040</td>\n",
       "      <td>0.000</td>\n",
       "      <td>0.0</td>\n",
       "      <td>0</td>\n",
       "      <td>NaN</td>\n",
       "      <td>1</td>\n",
       "    </tr>\n",
       "    <tr>\n",
       "      <th>9696</th>\n",
       "      <td>2018-12-21</td>\n",
       "      <td>0.000000</td>\n",
       "      <td>rfd01</td>\n",
       "      <td>2.727</td>\n",
       "      <td>20.630</td>\n",
       "      <td>-11.820</td>\n",
       "      <td>0.289</td>\n",
       "      <td>6.670</td>\n",
       "      <td>0.000</td>\n",
       "      <td>0.0</td>\n",
       "      <td>0</td>\n",
       "      <td>NaN</td>\n",
       "      <td>1</td>\n",
       "    </tr>\n",
       "    <tr>\n",
       "      <th>9697</th>\n",
       "      <td>2018-12-22</td>\n",
       "      <td>0.000000</td>\n",
       "      <td>rfd01</td>\n",
       "      <td>-1.306</td>\n",
       "      <td>8.740</td>\n",
       "      <td>-9.830</td>\n",
       "      <td>0.399</td>\n",
       "      <td>7.425</td>\n",
       "      <td>0.000</td>\n",
       "      <td>0.0</td>\n",
       "      <td>0</td>\n",
       "      <td>NaN</td>\n",
       "      <td>1</td>\n",
       "    </tr>\n",
       "    <tr>\n",
       "      <th>9698</th>\n",
       "      <td>2018-12-23</td>\n",
       "      <td>0.000000</td>\n",
       "      <td>rfd01</td>\n",
       "      <td>-3.750</td>\n",
       "      <td>2.545</td>\n",
       "      <td>-8.690</td>\n",
       "      <td>0.441</td>\n",
       "      <td>4.443</td>\n",
       "      <td>0.000</td>\n",
       "      <td>0.0</td>\n",
       "      <td>0</td>\n",
       "      <td>NaN</td>\n",
       "      <td>1</td>\n",
       "    </tr>\n",
       "    <tr>\n",
       "      <th>9699</th>\n",
       "      <td>2018-12-24</td>\n",
       "      <td>0.000000</td>\n",
       "      <td>rfd01</td>\n",
       "      <td>0.146</td>\n",
       "      <td>10.920</td>\n",
       "      <td>-8.780</td>\n",
       "      <td>0.366</td>\n",
       "      <td>9.610</td>\n",
       "      <td>0.000</td>\n",
       "      <td>0.0</td>\n",
       "      <td>0</td>\n",
       "      <td>NaN</td>\n",
       "      <td>1</td>\n",
       "    </tr>\n",
       "    <tr>\n",
       "      <th>9700</th>\n",
       "      <td>2018-12-25</td>\n",
       "      <td>0.000000</td>\n",
       "      <td>rfd01</td>\n",
       "      <td>0.991</td>\n",
       "      <td>12.270</td>\n",
       "      <td>-8.850</td>\n",
       "      <td>0.377</td>\n",
       "      <td>7.329</td>\n",
       "      <td>0.000</td>\n",
       "      <td>0.0</td>\n",
       "      <td>0</td>\n",
       "      <td>NaN</td>\n",
       "      <td>1</td>\n",
       "    </tr>\n",
       "    <tr>\n",
       "      <th>9701</th>\n",
       "      <td>2018-12-26</td>\n",
       "      <td>0.000000</td>\n",
       "      <td>rfd01</td>\n",
       "      <td>1.502</td>\n",
       "      <td>7.538</td>\n",
       "      <td>-4.061</td>\n",
       "      <td>0.524</td>\n",
       "      <td>5.495</td>\n",
       "      <td>0.000</td>\n",
       "      <td>0.0</td>\n",
       "      <td>0</td>\n",
       "      <td>NaN</td>\n",
       "      <td>1</td>\n",
       "    </tr>\n",
       "    <tr>\n",
       "      <th>9702</th>\n",
       "      <td>2018-12-27</td>\n",
       "      <td>0.000000</td>\n",
       "      <td>rfd01</td>\n",
       "      <td>-1.820</td>\n",
       "      <td>3.336</td>\n",
       "      <td>-6.248</td>\n",
       "      <td>0.247</td>\n",
       "      <td>10.030</td>\n",
       "      <td>0.000</td>\n",
       "      <td>0.0</td>\n",
       "      <td>0</td>\n",
       "      <td>NaN</td>\n",
       "      <td>1</td>\n",
       "    </tr>\n",
       "    <tr>\n",
       "      <th>9703</th>\n",
       "      <td>2018-12-28</td>\n",
       "      <td>0.000000</td>\n",
       "      <td>rfd01</td>\n",
       "      <td>-6.469</td>\n",
       "      <td>-0.972</td>\n",
       "      <td>-12.370</td>\n",
       "      <td>0.233</td>\n",
       "      <td>8.350</td>\n",
       "      <td>0.000</td>\n",
       "      <td>0.0</td>\n",
       "      <td>0</td>\n",
       "      <td>NaN</td>\n",
       "      <td>1</td>\n",
       "    </tr>\n",
       "    <tr>\n",
       "      <th>9704</th>\n",
       "      <td>2018-12-29</td>\n",
       "      <td>0.000000</td>\n",
       "      <td>rfd01</td>\n",
       "      <td>-8.490</td>\n",
       "      <td>3.694</td>\n",
       "      <td>-15.480</td>\n",
       "      <td>0.234</td>\n",
       "      <td>8.080</td>\n",
       "      <td>0.000</td>\n",
       "      <td>0.0</td>\n",
       "      <td>0</td>\n",
       "      <td>NaN</td>\n",
       "      <td>1</td>\n",
       "    </tr>\n",
       "    <tr>\n",
       "      <th>9705</th>\n",
       "      <td>2018-12-30</td>\n",
       "      <td>0.000000</td>\n",
       "      <td>rfd01</td>\n",
       "      <td>-1.678</td>\n",
       "      <td>15.100</td>\n",
       "      <td>-13.790</td>\n",
       "      <td>0.226</td>\n",
       "      <td>10.270</td>\n",
       "      <td>0.000</td>\n",
       "      <td>0.0</td>\n",
       "      <td>0</td>\n",
       "      <td>NaN</td>\n",
       "      <td>1</td>\n",
       "    </tr>\n",
       "    <tr>\n",
       "      <th>9706</th>\n",
       "      <td>2018-12-31</td>\n",
       "      <td>0.000000</td>\n",
       "      <td>rfd01</td>\n",
       "      <td>-5.876</td>\n",
       "      <td>0.942</td>\n",
       "      <td>-11.730</td>\n",
       "      <td>0.288</td>\n",
       "      <td>3.040</td>\n",
       "      <td>0.020</td>\n",
       "      <td>1.5</td>\n",
       "      <td>1</td>\n",
       "      <td>1.0</td>\n",
       "      <td>1</td>\n",
       "    </tr>\n",
       "  </tbody>\n",
       "</table>\n",
       "<p>9707 rows × 13 columns</p>\n",
       "</div>"
      ],
      "text/plain": [
       "           date  coag_precip station    tave    tmax    tmin     vp     sr  \\\n",
       "0    1992-06-04          NaN   rfd01  17.350  24.590  11.610  1.496  17.50   \n",
       "1    1992-06-05         0.09   rfd01  18.990  29.640  12.160  1.587  22.81   \n",
       "2    1992-06-06         0.02   rfd01  16.110  24.600   8.380  1.267  23.39   \n",
       "3    1992-06-07         0.09   rfd01  19.690  29.420  11.550  1.466  21.15   \n",
       "4    1992-06-08         0.00   rfd01  16.570  24.680  12.350  1.475  18.46   \n",
       "...         ...          ...     ...     ...     ...     ...    ...    ...   \n",
       "9702 2018-12-27         0.00   rfd01  -1.820   3.336  -6.248  0.247  10.03   \n",
       "9703 2018-12-28         0.00   rfd01  -6.469  -0.972 -12.370  0.233   8.35   \n",
       "9704 2018-12-29         0.00   rfd01  -8.490   3.694 -15.480  0.234   8.08   \n",
       "9705 2018-12-30         0.00   rfd01  -1.678  15.100 -13.790  0.226  10.27   \n",
       "9706 2018-12-31         0.00   rfd01  -5.876   0.942 -11.730  0.288   3.04   \n",
       "\n",
       "      coop_precip  snow snowdepth  snowfall  tot_precip  \n",
       "0           0.005   0.0         0       NaN           1  \n",
       "1           0.120   0.0         0       NaN           1  \n",
       "2           0.030   0.0         0       NaN           1  \n",
       "3           0.120   0.0         0       NaN           1  \n",
       "4           0.000   0.0         0       NaN           1  \n",
       "...           ...   ...       ...       ...         ...  \n",
       "9702        0.000   0.0         0       NaN           1  \n",
       "9703        0.000   0.0         0       NaN           1  \n",
       "9704        0.000   0.0         0       NaN           1  \n",
       "9705        0.000   0.0         0       NaN           1  \n",
       "9706        0.020   1.5         1       1.0           1  \n",
       "\n",
       "[9707 rows x 13 columns]"
      ]
     },
     "execution_count": 325,
     "metadata": {},
     "output_type": "execute_result"
    }
   ],
   "source": [
    "df = df.replace('M',np.nan,regex=True)\n",
    "df = df.replace('T',0.005,regex=True)\n",
    "\n",
    "df.coop_precip = df.coop_precip.astype(float)\n",
    "df.snow = df.snow.astype(float)\n",
    "\n",
    "df['snowfall'] = np.nan\n",
    "df['tot_precip'] = np.nan\n",
    "\n",
    "n = 0\n",
    "snowfall = 0 \n",
    "precip = 0\n",
    "for index,rows in df.iterrows():\n",
    "    if df.snow[n] > 0:\n",
    "        df['snowfall'][n] = 1\n",
    "    n = n + 1\n",
    "d = 0\n",
    "for index,rows in df.iterrows():\n",
    "    if df.coop_precip[d] > 0:\n",
    "        df['tot_precip'] = 1\n",
    "    d = d + 1\n",
    "df"
   ]
  },
  {
   "cell_type": "code",
   "execution_count": 326,
   "metadata": {},
   "outputs": [],
   "source": [
    "df['month'] = df.date.dt.month\n",
    "df['year'] = df.date.dt.year"
   ]
  },
  {
   "cell_type": "code",
   "execution_count": 327,
   "metadata": {},
   "outputs": [],
   "source": [
    "monthly_comp = df.groupby(['month','year']).sum().reset_index()\n",
    "cols = ['month','year','coag_precip','coop_precip','snow','snowfall']\n",
    "monthly_comp_precip = monthly_comp[cols]"
   ]
  },
  {
   "cell_type": "code",
   "execution_count": 328,
   "metadata": {},
   "outputs": [
    {
     "data": {
      "text/plain": [
       "date           datetime64[ns]\n",
       "coag_precip           float64\n",
       "station                object\n",
       "tave                  float64\n",
       "tmax                  float64\n",
       "tmin                  float64\n",
       "vp                    float64\n",
       "sr                    float64\n",
       "coop_precip           float64\n",
       "snow                  float64\n",
       "snowdepth              object\n",
       "snowfall              float64\n",
       "tot_precip              int64\n",
       "month                   int64\n",
       "year                    int64\n",
       "dtype: object"
      ]
     },
     "execution_count": 328,
     "metadata": {},
     "output_type": "execute_result"
    }
   ],
   "source": [
    "df.dtypes"
   ]
  },
  {
   "cell_type": "code",
   "execution_count": 329,
   "metadata": {},
   "outputs": [],
   "source": [
    "it_snowed = monthly_comp_precip.snow > 0\n",
    "monthly_comp_precip = monthly_comp_precip[it_snowed]\n",
    "monthly_comp_precip['month'] = monthly_comp_precip['month'].apply(lambda x:calendar.month_abbr[x])\n",
    "monthly_comp_precip['year'] = monthly_comp_precip.year.astype(str)\n",
    "monthly_comp_precip['ym'] = (monthly_comp_precip['month']) + '-' + (monthly_comp_precip['year'])\n",
    "monthly_comp_precip['snowfall'] = monthly_comp_precip.snowfall.astype(str)"
   ]
  },
  {
   "cell_type": "code",
   "execution_count": 330,
   "metadata": {},
   "outputs": [],
   "source": [
    "monthly_comp_precip['rez'] = monthly_comp_precip.coag_precip - monthly_comp_precip.coop_precip"
   ]
  },
  {
   "cell_type": "code",
   "execution_count": 331,
   "metadata": {},
   "outputs": [
    {
     "data": {
      "application/vnd.plotly.v1+json": {
       "config": {
        "plotlyServerURL": "https://plot.ly"
       },
       "data": [
        {
         "type": "scatter"
        },
        {
         "mode": "markers",
         "text": [
          "Jan-1993<br \\>Snowfall Events: 9.0",
          "Jan-1994<br \\>Snowfall Events: 2.0",
          "Jan-1995<br \\>Snowfall Events: 2.0",
          "Jan-1996<br \\>Snowfall Events: 5.0",
          "Jan-1997<br \\>Snowfall Events: 5.0",
          "Jan-1998<br \\>Snowfall Events: 1.0",
          "Jan-1999<br \\>Snowfall Events: 3.0",
          "Jan-2000<br \\>Snowfall Events: 3.0",
          "Jan-2001<br \\>Snowfall Events: 5.0",
          "Jan-2002<br \\>Snowfall Events: 6.0",
          "Jan-2004<br \\>Snowfall Events: 4.0",
          "Jan-2005<br \\>Snowfall Events: 7.0",
          "Jan-2006<br \\>Snowfall Events: 2.0",
          "Jan-2007<br \\>Snowfall Events: 8.0",
          "Jan-2008<br \\>Snowfall Events: 7.0",
          "Jan-2009<br \\>Snowfall Events: 2.0",
          "Jan-2010<br \\>Snowfall Events: 2.0",
          "Jan-2011<br \\>Snowfall Events: 4.0",
          "Jan-2012<br \\>Snowfall Events: 2.0",
          "Jan-2013<br \\>Snowfall Events: 1.0",
          "Jan-2014<br \\>Snowfall Events: 4.0",
          "Jan-2015<br \\>Snowfall Events: 4.0",
          "Jan-2016<br \\>Snowfall Events: 1.0",
          "Jan-2017<br \\>Snowfall Events: 5.0",
          "Jan-2018<br \\>Snowfall Events: 3.0",
          "Feb-1993<br \\>Snowfall Events: 5.0",
          "Feb-1994<br \\>Snowfall Events: 2.0",
          "Feb-1995<br \\>Snowfall Events: 5.0",
          "Feb-1996<br \\>Snowfall Events: 2.0",
          "Feb-1997<br \\>Snowfall Events: 8.0",
          "Feb-1998<br \\>Snowfall Events: 4.0",
          "Feb-1999<br \\>Snowfall Events: 1.0",
          "Feb-2000<br \\>Snowfall Events: 2.0",
          "Feb-2001<br \\>Snowfall Events: 5.0",
          "Feb-2002<br \\>Snowfall Events: 1.0",
          "Feb-2003<br \\>Snowfall Events: 6.0",
          "Feb-2004<br \\>Snowfall Events: 5.0",
          "Feb-2005<br \\>Snowfall Events: 2.0",
          "Feb-2006<br \\>Snowfall Events: 2.0",
          "Feb-2007<br \\>Snowfall Events: 6.0",
          "Feb-2008<br \\>Snowfall Events: 4.0",
          "Feb-2010<br \\>Snowfall Events: 5.0",
          "Feb-2011<br \\>Snowfall Events: 2.0",
          "Feb-2012<br \\>Snowfall Events: 2.0",
          "Feb-2013<br \\>Snowfall Events: 2.0",
          "Feb-2014<br \\>Snowfall Events: 5.0",
          "Feb-2015<br \\>Snowfall Events: 5.0",
          "Feb-2016<br \\>Snowfall Events: 3.0",
          "Feb-2018<br \\>Snowfall Events: 4.0",
          "Mar-1993<br \\>Snowfall Events: 5.0",
          "Mar-1994<br \\>Snowfall Events: 4.0",
          "Mar-1995<br \\>Snowfall Events: 7.0",
          "Mar-1996<br \\>Snowfall Events: 6.0",
          "Mar-1997<br \\>Snowfall Events: 1.0",
          "Mar-1998<br \\>Snowfall Events: 5.0",
          "Mar-1999<br \\>Snowfall Events: 4.0",
          "Mar-2000<br \\>Snowfall Events: 5.0",
          "Mar-2001<br \\>Snowfall Events: 2.0",
          "Mar-2002<br \\>Snowfall Events: 6.0",
          "Mar-2003<br \\>Snowfall Events: 2.0",
          "Mar-2005<br \\>Snowfall Events: 5.0",
          "Mar-2006<br \\>Snowfall Events: 3.0",
          "Mar-2007<br \\>Snowfall Events: 1.0",
          "Mar-2008<br \\>Snowfall Events: 5.0",
          "Mar-2009<br \\>Snowfall Events: 4.0",
          "Mar-2010<br \\>Snowfall Events: 3.0",
          "Mar-2011<br \\>Snowfall Events: 2.0",
          "Mar-2012<br \\>Snowfall Events: 1.0",
          "Mar-2013<br \\>Snowfall Events: 3.0",
          "Mar-2014<br \\>Snowfall Events: 3.0",
          "Mar-2015<br \\>Snowfall Events: 1.0",
          "Mar-2016<br \\>Snowfall Events: 3.0",
          "Apr-1993<br \\>Snowfall Events: 2.0",
          "Apr-1994<br \\>Snowfall Events: 5.0",
          "Apr-1995<br \\>Snowfall Events: 2.0",
          "Apr-1996<br \\>Snowfall Events: 1.0",
          "Apr-1997<br \\>Snowfall Events: 4.0",
          "Apr-1998<br \\>Snowfall Events: 1.0",
          "Apr-1999<br \\>Snowfall Events: 3.0",
          "Apr-2000<br \\>Snowfall Events: 2.0",
          "Apr-2001<br \\>Snowfall Events: 1.0",
          "Apr-2003<br \\>Snowfall Events: 1.0",
          "Apr-2004<br \\>Snowfall Events: 4.0",
          "Apr-2005<br \\>Snowfall Events: 2.0",
          "Apr-2007<br \\>Snowfall Events: 3.0",
          "Apr-2008<br \\>Snowfall Events: 1.0",
          "Apr-2009<br \\>Snowfall Events: 2.0",
          "Apr-2011<br \\>Snowfall Events: 1.0",
          "Apr-2012<br \\>Snowfall Events: 2.0",
          "Apr-2013<br \\>Snowfall Events: 2.0",
          "Apr-2014<br \\>Snowfall Events: 1.0",
          "Apr-2016<br \\>Snowfall Events: 1.0",
          "Apr-2017<br \\>Snowfall Events: 2.0",
          "Apr-2018<br \\>Snowfall Events: 1.0",
          "May-1999<br \\>Snowfall Events: 1.0",
          "May-2013<br \\>Snowfall Events: 1.0",
          "May-2015<br \\>Snowfall Events: 2.0",
          "May-2016<br \\>Snowfall Events: 1.0",
          "Jun-2010<br \\>Snowfall Events: 2.0",
          "Aug-2007<br \\>Snowfall Events: 1.0",
          "Aug-2016<br \\>Snowfall Events: 1.0",
          "Aug-2017<br \\>Snowfall Events: 2.0",
          "Sep-1995<br \\>Snowfall Events: 2.0",
          "Sep-1996<br \\>Snowfall Events: 1.0",
          "Sep-2009<br \\>Snowfall Events: 1.0",
          "Oct-1993<br \\>Snowfall Events: 1.0",
          "Oct-1996<br \\>Snowfall Events: 1.0",
          "Oct-1997<br \\>Snowfall Events: 3.0",
          "Oct-1998<br \\>Snowfall Events: 5.0",
          "Oct-1999<br \\>Snowfall Events: 1.0",
          "Oct-2002<br \\>Snowfall Events: 2.0",
          "Oct-2006<br \\>Snowfall Events: 1.0",
          "Oct-2009<br \\>Snowfall Events: 4.0",
          "Oct-2013<br \\>Snowfall Events: 1.0",
          "Nov-1992<br \\>Snowfall Events: 8.0",
          "Nov-1993<br \\>Snowfall Events: 2.0",
          "Nov-1994<br \\>Snowfall Events: 3.0",
          "Nov-1995<br \\>Snowfall Events: 3.0",
          "Nov-1996<br \\>Snowfall Events: 5.0",
          "Nov-1997<br \\>Snowfall Events: 7.0",
          "Nov-1998<br \\>Snowfall Events: 2.0",
          "Nov-1999<br \\>Snowfall Events: 1.0",
          "Nov-2000<br \\>Snowfall Events: 2.0",
          "Nov-2001<br \\>Snowfall Events: 2.0",
          "Nov-2002<br \\>Snowfall Events: 1.0",
          "Nov-2003<br \\>Snowfall Events: 2.0",
          "Nov-2004<br \\>Snowfall Events: 7.0",
          "Nov-2006<br \\>Snowfall Events: 3.0",
          "Nov-2007<br \\>Snowfall Events: 2.0",
          "Nov-2008<br \\>Snowfall Events: 2.0",
          "Nov-2009<br \\>Snowfall Events: 1.0",
          "Nov-2010<br \\>Snowfall Events: 1.0",
          "Nov-2011<br \\>Snowfall Events: 1.0",
          "Nov-2013<br \\>Snowfall Events: 4.0",
          "Nov-2014<br \\>Snowfall Events: 4.0",
          "Nov-2015<br \\>Snowfall Events: 2.0",
          "Nov-2018<br \\>Snowfall Events: 1.0",
          "Dec-1992<br \\>Snowfall Events: 5.0",
          "Dec-1993<br \\>Snowfall Events: 3.0",
          "Dec-1994<br \\>Snowfall Events: 2.0",
          "Dec-1995<br \\>Snowfall Events: 2.0",
          "Dec-1996<br \\>Snowfall Events: 4.0",
          "Dec-1997<br \\>Snowfall Events: 9.0",
          "Dec-1998<br \\>Snowfall Events: 5.0",
          "Dec-1999<br \\>Snowfall Events: 3.0",
          "Dec-2000<br \\>Snowfall Events: 3.0",
          "Dec-2001<br \\>Snowfall Events: 3.0",
          "Dec-2002<br \\>Snowfall Events: 5.0",
          "Dec-2003<br \\>Snowfall Events: 3.0",
          "Dec-2004<br \\>Snowfall Events: 2.0",
          "Dec-2005<br \\>Snowfall Events: 6.0",
          "Dec-2006<br \\>Snowfall Events: 4.0",
          "Dec-2007<br \\>Snowfall Events: 7.0",
          "Dec-2008<br \\>Snowfall Events: 3.0",
          "Dec-2009<br \\>Snowfall Events: 4.0",
          "Dec-2010<br \\>Snowfall Events: 2.0",
          "Dec-2011<br \\>Snowfall Events: 6.0",
          "Dec-2012<br \\>Snowfall Events: 2.0",
          "Dec-2013<br \\>Snowfall Events: 3.0",
          "Dec-2014<br \\>Snowfall Events: 2.0",
          "Dec-2015<br \\>Snowfall Events: 3.0",
          "Dec-2016<br \\>Snowfall Events: 3.0",
          "Dec-2017<br \\>Snowfall Events: 3.0",
          "Dec-2018<br \\>Snowfall Events: 1.0"
         ],
         "type": "scatter",
         "x": [
          3.22,
          5.5,
          0.7,
          2.5,
          7.51,
          1.5,
          0.51,
          4.5,
          15.1,
          6.02,
          4.31,
          6.41,
          8,
          11.71,
          7.02,
          0.01,
          6.2,
          3,
          0.5,
          1.2,
          5,
          6.01,
          2,
          10.3,
          1.01,
          9.5,
          0.3,
          4.01,
          2.5,
          9.02,
          0.52,
          0.7,
          0.01,
          3.21,
          1,
          6.01,
          5.4,
          2,
          0.01,
          2.72,
          5.52,
          6,
          4,
          0.01,
          2.5,
          7.8,
          12.5,
          8,
          4,
          7.7,
          9,
          9,
          8.02,
          3,
          7.4,
          7.5,
          7.8,
          2.5,
          2.02,
          0.01,
          5.5,
          5.11,
          0.5,
          5,
          17,
          10.5,
          4,
          0.5,
          3.5,
          4,
          1,
          0.02,
          3.5,
          8.1,
          7,
          1,
          3.51,
          0,
          2.01,
          2,
          1,
          0.5,
          0.02,
          0.01,
          5.5,
          0,
          1,
          1.5,
          0.2,
          7,
          3,
          0,
          11,
          0,
          0,
          1,
          1,
          0,
          0.01,
          0,
          0,
          0.01,
          0.01,
          2,
          0,
          2.7,
          2,
          20.01,
          0.02,
          0,
          0.5,
          5.5,
          7,
          0,
          10,
          8.5,
          3.6,
          0.02,
          2.9,
          7.52,
          0.01,
          2.5,
          2.5,
          0.5,
          0,
          2,
          5.91,
          2.51,
          1.2,
          0.5,
          3,
          0.5,
          3.5,
          4.51,
          12,
          2,
          2,
          4.61,
          0.6,
          2.5,
          0.01,
          4.51,
          14.02,
          8,
          2.51,
          3,
          7.5,
          4.3,
          4.2,
          2,
          4.01,
          23.51,
          5.51,
          1.81,
          5,
          5,
          20.3,
          2,
          1.01,
          6,
          2.01,
          4.01,
          0.02,
          1.5
         ],
         "y": [
          -0.12,
          -0.18,
          0,
          -0.08,
          -0.24,
          -0.02,
          -0.02,
          -0.34,
          -0.45,
          -0.25,
          -0.28,
          -0.1,
          -0.25,
          -0.01,
          0.04,
          -0.01,
          -0.2,
          -0.04,
          -0.02,
          -0.06,
          -0.21,
          -0.24,
          -0.04,
          -0.2,
          0.02,
          -0.69,
          -0.02,
          -0.18,
          -0.1,
          -0.38,
          -0.05,
          -0.02,
          -0.2,
          -0.2,
          0,
          -0.25,
          -0.03,
          -0.01,
          -0.01,
          -0.1,
          -0.38,
          -0.13,
          -0.1,
          0,
          0.01,
          -0.35,
          -0.91,
          -0.64,
          -0.2,
          -0.3,
          -0.46,
          -0.22,
          -0.83,
          -0.04,
          -0.42,
          -0.34,
          0.04,
          -0.24,
          -0.04,
          0.26,
          0.03,
          -0.46,
          -0.01,
          -0.14,
          -0.65,
          0.44,
          -0.04,
          0,
          -0.21,
          -0.13,
          -0.06,
          -0.09,
          -0.27,
          -0.3,
          -0.5,
          0.43,
          -0.71,
          -0.07,
          -0.63,
          -0.58,
          -0.02,
          -0.25,
          -0.34,
          0.03,
          -0.27,
          0,
          0.07,
          -0.09,
          -0.02,
          -0.55,
          -0.14,
          -0.43,
          -2.01,
          -0.01,
          -0.34,
          -0.02,
          -0.73,
          -0.14,
          -0.13,
          -0.18,
          -0.32,
          -0.22,
          -0.13,
          -2.11,
          0.01,
          -0.3,
          1.1,
          -1.25,
          -2.27,
          -0.49,
          -0.12,
          -0.45,
          -0.76,
          -0.07,
          0.16,
          -0.82,
          -0.34,
          -0.01,
          -0.01,
          -0.46,
          -1.06,
          -0.16,
          -0.12,
          -0.03,
          0.07,
          -0.16,
          -0.26,
          -0.16,
          0,
          -0.04,
          -0.12,
          -0.01,
          -0.18,
          -0.08,
          -0.57,
          -0.03,
          -0.06,
          -0.24,
          -0.02,
          -0.12,
          -0.02,
          -0.42,
          -0.94,
          -0.23,
          -0.05,
          -0.11,
          -0.19,
          -0.09,
          -0.02,
          -0.03,
          -0.11,
          -1.57,
          -0.15,
          -0.06,
          -0.05,
          -0.16,
          -1.28,
          -0.07,
          -0.05,
          -0.3,
          -0.12,
          -0.31,
          -0.02,
          -0.02
         ]
        }
       ],
       "layout": {
        "template": {
         "data": {
          "bar": [
           {
            "error_x": {
             "color": "#2a3f5f"
            },
            "error_y": {
             "color": "#2a3f5f"
            },
            "marker": {
             "line": {
              "color": "#E5ECF6",
              "width": 0.5
             }
            },
            "type": "bar"
           }
          ],
          "barpolar": [
           {
            "marker": {
             "line": {
              "color": "#E5ECF6",
              "width": 0.5
             }
            },
            "type": "barpolar"
           }
          ],
          "carpet": [
           {
            "aaxis": {
             "endlinecolor": "#2a3f5f",
             "gridcolor": "white",
             "linecolor": "white",
             "minorgridcolor": "white",
             "startlinecolor": "#2a3f5f"
            },
            "baxis": {
             "endlinecolor": "#2a3f5f",
             "gridcolor": "white",
             "linecolor": "white",
             "minorgridcolor": "white",
             "startlinecolor": "#2a3f5f"
            },
            "type": "carpet"
           }
          ],
          "choropleth": [
           {
            "colorbar": {
             "outlinewidth": 0,
             "ticks": ""
            },
            "type": "choropleth"
           }
          ],
          "contour": [
           {
            "colorbar": {
             "outlinewidth": 0,
             "ticks": ""
            },
            "colorscale": [
             [
              0,
              "#0d0887"
             ],
             [
              0.1111111111111111,
              "#46039f"
             ],
             [
              0.2222222222222222,
              "#7201a8"
             ],
             [
              0.3333333333333333,
              "#9c179e"
             ],
             [
              0.4444444444444444,
              "#bd3786"
             ],
             [
              0.5555555555555556,
              "#d8576b"
             ],
             [
              0.6666666666666666,
              "#ed7953"
             ],
             [
              0.7777777777777778,
              "#fb9f3a"
             ],
             [
              0.8888888888888888,
              "#fdca26"
             ],
             [
              1,
              "#f0f921"
             ]
            ],
            "type": "contour"
           }
          ],
          "contourcarpet": [
           {
            "colorbar": {
             "outlinewidth": 0,
             "ticks": ""
            },
            "type": "contourcarpet"
           }
          ],
          "heatmap": [
           {
            "colorbar": {
             "outlinewidth": 0,
             "ticks": ""
            },
            "colorscale": [
             [
              0,
              "#0d0887"
             ],
             [
              0.1111111111111111,
              "#46039f"
             ],
             [
              0.2222222222222222,
              "#7201a8"
             ],
             [
              0.3333333333333333,
              "#9c179e"
             ],
             [
              0.4444444444444444,
              "#bd3786"
             ],
             [
              0.5555555555555556,
              "#d8576b"
             ],
             [
              0.6666666666666666,
              "#ed7953"
             ],
             [
              0.7777777777777778,
              "#fb9f3a"
             ],
             [
              0.8888888888888888,
              "#fdca26"
             ],
             [
              1,
              "#f0f921"
             ]
            ],
            "type": "heatmap"
           }
          ],
          "heatmapgl": [
           {
            "colorbar": {
             "outlinewidth": 0,
             "ticks": ""
            },
            "colorscale": [
             [
              0,
              "#0d0887"
             ],
             [
              0.1111111111111111,
              "#46039f"
             ],
             [
              0.2222222222222222,
              "#7201a8"
             ],
             [
              0.3333333333333333,
              "#9c179e"
             ],
             [
              0.4444444444444444,
              "#bd3786"
             ],
             [
              0.5555555555555556,
              "#d8576b"
             ],
             [
              0.6666666666666666,
              "#ed7953"
             ],
             [
              0.7777777777777778,
              "#fb9f3a"
             ],
             [
              0.8888888888888888,
              "#fdca26"
             ],
             [
              1,
              "#f0f921"
             ]
            ],
            "type": "heatmapgl"
           }
          ],
          "histogram": [
           {
            "marker": {
             "colorbar": {
              "outlinewidth": 0,
              "ticks": ""
             }
            },
            "type": "histogram"
           }
          ],
          "histogram2d": [
           {
            "colorbar": {
             "outlinewidth": 0,
             "ticks": ""
            },
            "colorscale": [
             [
              0,
              "#0d0887"
             ],
             [
              0.1111111111111111,
              "#46039f"
             ],
             [
              0.2222222222222222,
              "#7201a8"
             ],
             [
              0.3333333333333333,
              "#9c179e"
             ],
             [
              0.4444444444444444,
              "#bd3786"
             ],
             [
              0.5555555555555556,
              "#d8576b"
             ],
             [
              0.6666666666666666,
              "#ed7953"
             ],
             [
              0.7777777777777778,
              "#fb9f3a"
             ],
             [
              0.8888888888888888,
              "#fdca26"
             ],
             [
              1,
              "#f0f921"
             ]
            ],
            "type": "histogram2d"
           }
          ],
          "histogram2dcontour": [
           {
            "colorbar": {
             "outlinewidth": 0,
             "ticks": ""
            },
            "colorscale": [
             [
              0,
              "#0d0887"
             ],
             [
              0.1111111111111111,
              "#46039f"
             ],
             [
              0.2222222222222222,
              "#7201a8"
             ],
             [
              0.3333333333333333,
              "#9c179e"
             ],
             [
              0.4444444444444444,
              "#bd3786"
             ],
             [
              0.5555555555555556,
              "#d8576b"
             ],
             [
              0.6666666666666666,
              "#ed7953"
             ],
             [
              0.7777777777777778,
              "#fb9f3a"
             ],
             [
              0.8888888888888888,
              "#fdca26"
             ],
             [
              1,
              "#f0f921"
             ]
            ],
            "type": "histogram2dcontour"
           }
          ],
          "mesh3d": [
           {
            "colorbar": {
             "outlinewidth": 0,
             "ticks": ""
            },
            "type": "mesh3d"
           }
          ],
          "parcoords": [
           {
            "line": {
             "colorbar": {
              "outlinewidth": 0,
              "ticks": ""
             }
            },
            "type": "parcoords"
           }
          ],
          "scatter": [
           {
            "marker": {
             "colorbar": {
              "outlinewidth": 0,
              "ticks": ""
             }
            },
            "type": "scatter"
           }
          ],
          "scatter3d": [
           {
            "line": {
             "colorbar": {
              "outlinewidth": 0,
              "ticks": ""
             }
            },
            "marker": {
             "colorbar": {
              "outlinewidth": 0,
              "ticks": ""
             }
            },
            "type": "scatter3d"
           }
          ],
          "scattercarpet": [
           {
            "marker": {
             "colorbar": {
              "outlinewidth": 0,
              "ticks": ""
             }
            },
            "type": "scattercarpet"
           }
          ],
          "scattergeo": [
           {
            "marker": {
             "colorbar": {
              "outlinewidth": 0,
              "ticks": ""
             }
            },
            "type": "scattergeo"
           }
          ],
          "scattergl": [
           {
            "marker": {
             "colorbar": {
              "outlinewidth": 0,
              "ticks": ""
             }
            },
            "type": "scattergl"
           }
          ],
          "scattermapbox": [
           {
            "marker": {
             "colorbar": {
              "outlinewidth": 0,
              "ticks": ""
             }
            },
            "type": "scattermapbox"
           }
          ],
          "scatterpolar": [
           {
            "marker": {
             "colorbar": {
              "outlinewidth": 0,
              "ticks": ""
             }
            },
            "type": "scatterpolar"
           }
          ],
          "scatterpolargl": [
           {
            "marker": {
             "colorbar": {
              "outlinewidth": 0,
              "ticks": ""
             }
            },
            "type": "scatterpolargl"
           }
          ],
          "scatterternary": [
           {
            "marker": {
             "colorbar": {
              "outlinewidth": 0,
              "ticks": ""
             }
            },
            "type": "scatterternary"
           }
          ],
          "surface": [
           {
            "colorbar": {
             "outlinewidth": 0,
             "ticks": ""
            },
            "colorscale": [
             [
              0,
              "#0d0887"
             ],
             [
              0.1111111111111111,
              "#46039f"
             ],
             [
              0.2222222222222222,
              "#7201a8"
             ],
             [
              0.3333333333333333,
              "#9c179e"
             ],
             [
              0.4444444444444444,
              "#bd3786"
             ],
             [
              0.5555555555555556,
              "#d8576b"
             ],
             [
              0.6666666666666666,
              "#ed7953"
             ],
             [
              0.7777777777777778,
              "#fb9f3a"
             ],
             [
              0.8888888888888888,
              "#fdca26"
             ],
             [
              1,
              "#f0f921"
             ]
            ],
            "type": "surface"
           }
          ],
          "table": [
           {
            "cells": {
             "fill": {
              "color": "#EBF0F8"
             },
             "line": {
              "color": "white"
             }
            },
            "header": {
             "fill": {
              "color": "#C8D4E3"
             },
             "line": {
              "color": "white"
             }
            },
            "type": "table"
           }
          ]
         },
         "layout": {
          "annotationdefaults": {
           "arrowcolor": "#2a3f5f",
           "arrowhead": 0,
           "arrowwidth": 1
          },
          "colorscale": {
           "diverging": [
            [
             0,
             "#8e0152"
            ],
            [
             0.1,
             "#c51b7d"
            ],
            [
             0.2,
             "#de77ae"
            ],
            [
             0.3,
             "#f1b6da"
            ],
            [
             0.4,
             "#fde0ef"
            ],
            [
             0.5,
             "#f7f7f7"
            ],
            [
             0.6,
             "#e6f5d0"
            ],
            [
             0.7,
             "#b8e186"
            ],
            [
             0.8,
             "#7fbc41"
            ],
            [
             0.9,
             "#4d9221"
            ],
            [
             1,
             "#276419"
            ]
           ],
           "sequential": [
            [
             0,
             "#0d0887"
            ],
            [
             0.1111111111111111,
             "#46039f"
            ],
            [
             0.2222222222222222,
             "#7201a8"
            ],
            [
             0.3333333333333333,
             "#9c179e"
            ],
            [
             0.4444444444444444,
             "#bd3786"
            ],
            [
             0.5555555555555556,
             "#d8576b"
            ],
            [
             0.6666666666666666,
             "#ed7953"
            ],
            [
             0.7777777777777778,
             "#fb9f3a"
            ],
            [
             0.8888888888888888,
             "#fdca26"
            ],
            [
             1,
             "#f0f921"
            ]
           ],
           "sequentialminus": [
            [
             0,
             "#0d0887"
            ],
            [
             0.1111111111111111,
             "#46039f"
            ],
            [
             0.2222222222222222,
             "#7201a8"
            ],
            [
             0.3333333333333333,
             "#9c179e"
            ],
            [
             0.4444444444444444,
             "#bd3786"
            ],
            [
             0.5555555555555556,
             "#d8576b"
            ],
            [
             0.6666666666666666,
             "#ed7953"
            ],
            [
             0.7777777777777778,
             "#fb9f3a"
            ],
            [
             0.8888888888888888,
             "#fdca26"
            ],
            [
             1,
             "#f0f921"
            ]
           ]
          },
          "colorway": [
           "#636efa",
           "#EF553B",
           "#00cc96",
           "#ab63fa",
           "#FFA15A",
           "#19d3f3",
           "#FF6692",
           "#B6E880",
           "#FF97FF",
           "#FECB52"
          ],
          "font": {
           "color": "#2a3f5f"
          },
          "geo": {
           "bgcolor": "white",
           "lakecolor": "white",
           "landcolor": "#E5ECF6",
           "showlakes": true,
           "showland": true,
           "subunitcolor": "white"
          },
          "hoverlabel": {
           "align": "left"
          },
          "hovermode": "closest",
          "mapbox": {
           "style": "light"
          },
          "paper_bgcolor": "white",
          "plot_bgcolor": "#E5ECF6",
          "polar": {
           "angularaxis": {
            "gridcolor": "white",
            "linecolor": "white",
            "ticks": ""
           },
           "bgcolor": "#E5ECF6",
           "radialaxis": {
            "gridcolor": "white",
            "linecolor": "white",
            "ticks": ""
           }
          },
          "scene": {
           "xaxis": {
            "backgroundcolor": "#E5ECF6",
            "gridcolor": "white",
            "gridwidth": 2,
            "linecolor": "white",
            "showbackground": true,
            "ticks": "",
            "zerolinecolor": "white"
           },
           "yaxis": {
            "backgroundcolor": "#E5ECF6",
            "gridcolor": "white",
            "gridwidth": 2,
            "linecolor": "white",
            "showbackground": true,
            "ticks": "",
            "zerolinecolor": "white"
           },
           "zaxis": {
            "backgroundcolor": "#E5ECF6",
            "gridcolor": "white",
            "gridwidth": 2,
            "linecolor": "white",
            "showbackground": true,
            "ticks": "",
            "zerolinecolor": "white"
           }
          },
          "shapedefaults": {
           "line": {
            "color": "#2a3f5f"
           }
          },
          "ternary": {
           "aaxis": {
            "gridcolor": "white",
            "linecolor": "white",
            "ticks": ""
           },
           "baxis": {
            "gridcolor": "white",
            "linecolor": "white",
            "ticks": ""
           },
           "bgcolor": "#E5ECF6",
           "caxis": {
            "gridcolor": "white",
            "linecolor": "white",
            "ticks": ""
           }
          },
          "title": {
           "x": 0.05
          },
          "xaxis": {
           "automargin": true,
           "gridcolor": "white",
           "linecolor": "white",
           "ticks": "",
           "zerolinecolor": "white",
           "zerolinewidth": 2
          },
          "yaxis": {
           "automargin": true,
           "gridcolor": "white",
           "linecolor": "white",
           "ticks": "",
           "zerolinecolor": "white",
           "zerolinewidth": 2
          }
         }
        },
        "title": {
         "text": "Monthly Precip Differece vs Monthly Snowfall"
        },
        "xaxis": {
         "title": {
          "text": "Snowfall (inches)"
         }
        },
        "yaxis": {
         "title": {
          "text": "Precip Difference (Inches)"
         }
        }
       }
      },
      "text/html": [
       "<div>\n",
       "        \n",
       "        \n",
       "            <div id=\"07fcbfcd-de46-4cce-b3d3-9f3bf3f566bb\" class=\"plotly-graph-div\" style=\"height:525px; width:100%;\"></div>\n",
       "            <script type=\"text/javascript\">\n",
       "                require([\"plotly\"], function(Plotly) {\n",
       "                    window.PLOTLYENV=window.PLOTLYENV || {};\n",
       "                    \n",
       "                if (document.getElementById(\"07fcbfcd-de46-4cce-b3d3-9f3bf3f566bb\")) {\n",
       "                    Plotly.newPlot(\n",
       "                        '07fcbfcd-de46-4cce-b3d3-9f3bf3f566bb',\n",
       "                        [{\"type\": \"scatter\"}, {\"mode\": \"markers\", \"text\": [\"Jan-1993<br \\\\>Snowfall Events: 9.0\", \"Jan-1994<br \\\\>Snowfall Events: 2.0\", \"Jan-1995<br \\\\>Snowfall Events: 2.0\", \"Jan-1996<br \\\\>Snowfall Events: 5.0\", \"Jan-1997<br \\\\>Snowfall Events: 5.0\", \"Jan-1998<br \\\\>Snowfall Events: 1.0\", \"Jan-1999<br \\\\>Snowfall Events: 3.0\", \"Jan-2000<br \\\\>Snowfall Events: 3.0\", \"Jan-2001<br \\\\>Snowfall Events: 5.0\", \"Jan-2002<br \\\\>Snowfall Events: 6.0\", \"Jan-2004<br \\\\>Snowfall Events: 4.0\", \"Jan-2005<br \\\\>Snowfall Events: 7.0\", \"Jan-2006<br \\\\>Snowfall Events: 2.0\", \"Jan-2007<br \\\\>Snowfall Events: 8.0\", \"Jan-2008<br \\\\>Snowfall Events: 7.0\", \"Jan-2009<br \\\\>Snowfall Events: 2.0\", \"Jan-2010<br \\\\>Snowfall Events: 2.0\", \"Jan-2011<br \\\\>Snowfall Events: 4.0\", \"Jan-2012<br \\\\>Snowfall Events: 2.0\", \"Jan-2013<br \\\\>Snowfall Events: 1.0\", \"Jan-2014<br \\\\>Snowfall Events: 4.0\", \"Jan-2015<br \\\\>Snowfall Events: 4.0\", \"Jan-2016<br \\\\>Snowfall Events: 1.0\", \"Jan-2017<br \\\\>Snowfall Events: 5.0\", \"Jan-2018<br \\\\>Snowfall Events: 3.0\", \"Feb-1993<br \\\\>Snowfall Events: 5.0\", \"Feb-1994<br \\\\>Snowfall Events: 2.0\", \"Feb-1995<br \\\\>Snowfall Events: 5.0\", \"Feb-1996<br \\\\>Snowfall Events: 2.0\", \"Feb-1997<br \\\\>Snowfall Events: 8.0\", \"Feb-1998<br \\\\>Snowfall Events: 4.0\", \"Feb-1999<br \\\\>Snowfall Events: 1.0\", \"Feb-2000<br \\\\>Snowfall Events: 2.0\", \"Feb-2001<br \\\\>Snowfall Events: 5.0\", \"Feb-2002<br \\\\>Snowfall Events: 1.0\", \"Feb-2003<br \\\\>Snowfall Events: 6.0\", \"Feb-2004<br \\\\>Snowfall Events: 5.0\", \"Feb-2005<br \\\\>Snowfall Events: 2.0\", \"Feb-2006<br \\\\>Snowfall Events: 2.0\", \"Feb-2007<br \\\\>Snowfall Events: 6.0\", \"Feb-2008<br \\\\>Snowfall Events: 4.0\", \"Feb-2010<br \\\\>Snowfall Events: 5.0\", \"Feb-2011<br \\\\>Snowfall Events: 2.0\", \"Feb-2012<br \\\\>Snowfall Events: 2.0\", \"Feb-2013<br \\\\>Snowfall Events: 2.0\", \"Feb-2014<br \\\\>Snowfall Events: 5.0\", \"Feb-2015<br \\\\>Snowfall Events: 5.0\", \"Feb-2016<br \\\\>Snowfall Events: 3.0\", \"Feb-2018<br \\\\>Snowfall Events: 4.0\", \"Mar-1993<br \\\\>Snowfall Events: 5.0\", \"Mar-1994<br \\\\>Snowfall Events: 4.0\", \"Mar-1995<br \\\\>Snowfall Events: 7.0\", \"Mar-1996<br \\\\>Snowfall Events: 6.0\", \"Mar-1997<br \\\\>Snowfall Events: 1.0\", \"Mar-1998<br \\\\>Snowfall Events: 5.0\", \"Mar-1999<br \\\\>Snowfall Events: 4.0\", \"Mar-2000<br \\\\>Snowfall Events: 5.0\", \"Mar-2001<br \\\\>Snowfall Events: 2.0\", \"Mar-2002<br \\\\>Snowfall Events: 6.0\", \"Mar-2003<br \\\\>Snowfall Events: 2.0\", \"Mar-2005<br \\\\>Snowfall Events: 5.0\", \"Mar-2006<br \\\\>Snowfall Events: 3.0\", \"Mar-2007<br \\\\>Snowfall Events: 1.0\", \"Mar-2008<br \\\\>Snowfall Events: 5.0\", \"Mar-2009<br \\\\>Snowfall Events: 4.0\", \"Mar-2010<br \\\\>Snowfall Events: 3.0\", \"Mar-2011<br \\\\>Snowfall Events: 2.0\", \"Mar-2012<br \\\\>Snowfall Events: 1.0\", \"Mar-2013<br \\\\>Snowfall Events: 3.0\", \"Mar-2014<br \\\\>Snowfall Events: 3.0\", \"Mar-2015<br \\\\>Snowfall Events: 1.0\", \"Mar-2016<br \\\\>Snowfall Events: 3.0\", \"Apr-1993<br \\\\>Snowfall Events: 2.0\", \"Apr-1994<br \\\\>Snowfall Events: 5.0\", \"Apr-1995<br \\\\>Snowfall Events: 2.0\", \"Apr-1996<br \\\\>Snowfall Events: 1.0\", \"Apr-1997<br \\\\>Snowfall Events: 4.0\", \"Apr-1998<br \\\\>Snowfall Events: 1.0\", \"Apr-1999<br \\\\>Snowfall Events: 3.0\", \"Apr-2000<br \\\\>Snowfall Events: 2.0\", \"Apr-2001<br \\\\>Snowfall Events: 1.0\", \"Apr-2003<br \\\\>Snowfall Events: 1.0\", \"Apr-2004<br \\\\>Snowfall Events: 4.0\", \"Apr-2005<br \\\\>Snowfall Events: 2.0\", \"Apr-2007<br \\\\>Snowfall Events: 3.0\", \"Apr-2008<br \\\\>Snowfall Events: 1.0\", \"Apr-2009<br \\\\>Snowfall Events: 2.0\", \"Apr-2011<br \\\\>Snowfall Events: 1.0\", \"Apr-2012<br \\\\>Snowfall Events: 2.0\", \"Apr-2013<br \\\\>Snowfall Events: 2.0\", \"Apr-2014<br \\\\>Snowfall Events: 1.0\", \"Apr-2016<br \\\\>Snowfall Events: 1.0\", \"Apr-2017<br \\\\>Snowfall Events: 2.0\", \"Apr-2018<br \\\\>Snowfall Events: 1.0\", \"May-1999<br \\\\>Snowfall Events: 1.0\", \"May-2013<br \\\\>Snowfall Events: 1.0\", \"May-2015<br \\\\>Snowfall Events: 2.0\", \"May-2016<br \\\\>Snowfall Events: 1.0\", \"Jun-2010<br \\\\>Snowfall Events: 2.0\", \"Aug-2007<br \\\\>Snowfall Events: 1.0\", \"Aug-2016<br \\\\>Snowfall Events: 1.0\", \"Aug-2017<br \\\\>Snowfall Events: 2.0\", \"Sep-1995<br \\\\>Snowfall Events: 2.0\", \"Sep-1996<br \\\\>Snowfall Events: 1.0\", \"Sep-2009<br \\\\>Snowfall Events: 1.0\", \"Oct-1993<br \\\\>Snowfall Events: 1.0\", \"Oct-1996<br \\\\>Snowfall Events: 1.0\", \"Oct-1997<br \\\\>Snowfall Events: 3.0\", \"Oct-1998<br \\\\>Snowfall Events: 5.0\", \"Oct-1999<br \\\\>Snowfall Events: 1.0\", \"Oct-2002<br \\\\>Snowfall Events: 2.0\", \"Oct-2006<br \\\\>Snowfall Events: 1.0\", \"Oct-2009<br \\\\>Snowfall Events: 4.0\", \"Oct-2013<br \\\\>Snowfall Events: 1.0\", \"Nov-1992<br \\\\>Snowfall Events: 8.0\", \"Nov-1993<br \\\\>Snowfall Events: 2.0\", \"Nov-1994<br \\\\>Snowfall Events: 3.0\", \"Nov-1995<br \\\\>Snowfall Events: 3.0\", \"Nov-1996<br \\\\>Snowfall Events: 5.0\", \"Nov-1997<br \\\\>Snowfall Events: 7.0\", \"Nov-1998<br \\\\>Snowfall Events: 2.0\", \"Nov-1999<br \\\\>Snowfall Events: 1.0\", \"Nov-2000<br \\\\>Snowfall Events: 2.0\", \"Nov-2001<br \\\\>Snowfall Events: 2.0\", \"Nov-2002<br \\\\>Snowfall Events: 1.0\", \"Nov-2003<br \\\\>Snowfall Events: 2.0\", \"Nov-2004<br \\\\>Snowfall Events: 7.0\", \"Nov-2006<br \\\\>Snowfall Events: 3.0\", \"Nov-2007<br \\\\>Snowfall Events: 2.0\", \"Nov-2008<br \\\\>Snowfall Events: 2.0\", \"Nov-2009<br \\\\>Snowfall Events: 1.0\", \"Nov-2010<br \\\\>Snowfall Events: 1.0\", \"Nov-2011<br \\\\>Snowfall Events: 1.0\", \"Nov-2013<br \\\\>Snowfall Events: 4.0\", \"Nov-2014<br \\\\>Snowfall Events: 4.0\", \"Nov-2015<br \\\\>Snowfall Events: 2.0\", \"Nov-2018<br \\\\>Snowfall Events: 1.0\", \"Dec-1992<br \\\\>Snowfall Events: 5.0\", \"Dec-1993<br \\\\>Snowfall Events: 3.0\", \"Dec-1994<br \\\\>Snowfall Events: 2.0\", \"Dec-1995<br \\\\>Snowfall Events: 2.0\", \"Dec-1996<br \\\\>Snowfall Events: 4.0\", \"Dec-1997<br \\\\>Snowfall Events: 9.0\", \"Dec-1998<br \\\\>Snowfall Events: 5.0\", \"Dec-1999<br \\\\>Snowfall Events: 3.0\", \"Dec-2000<br \\\\>Snowfall Events: 3.0\", \"Dec-2001<br \\\\>Snowfall Events: 3.0\", \"Dec-2002<br \\\\>Snowfall Events: 5.0\", \"Dec-2003<br \\\\>Snowfall Events: 3.0\", \"Dec-2004<br \\\\>Snowfall Events: 2.0\", \"Dec-2005<br \\\\>Snowfall Events: 6.0\", \"Dec-2006<br \\\\>Snowfall Events: 4.0\", \"Dec-2007<br \\\\>Snowfall Events: 7.0\", \"Dec-2008<br \\\\>Snowfall Events: 3.0\", \"Dec-2009<br \\\\>Snowfall Events: 4.0\", \"Dec-2010<br \\\\>Snowfall Events: 2.0\", \"Dec-2011<br \\\\>Snowfall Events: 6.0\", \"Dec-2012<br \\\\>Snowfall Events: 2.0\", \"Dec-2013<br \\\\>Snowfall Events: 3.0\", \"Dec-2014<br \\\\>Snowfall Events: 2.0\", \"Dec-2015<br \\\\>Snowfall Events: 3.0\", \"Dec-2016<br \\\\>Snowfall Events: 3.0\", \"Dec-2017<br \\\\>Snowfall Events: 3.0\", \"Dec-2018<br \\\\>Snowfall Events: 1.0\"], \"type\": \"scatter\", \"x\": [3.22, 5.5, 0.7, 2.5, 7.51, 1.5, 0.51, 4.5, 15.1, 6.02, 4.31, 6.41, 8.0, 11.71, 7.02, 0.01, 6.2, 3.0, 0.5, 1.2, 5.0, 6.01, 2.0, 10.3, 1.01, 9.5, 0.3, 4.01, 2.5, 9.02, 0.52, 0.7, 0.01, 3.21, 1.0, 6.01, 5.4, 2.0, 0.01, 2.72, 5.52, 6.0, 4.0, 0.01, 2.5, 7.8, 12.5, 8.0, 4.0, 7.7, 9.0, 9.0, 8.02, 3.0, 7.4, 7.5, 7.8, 2.5, 2.02, 0.01, 5.5, 5.11, 0.5, 5.0, 17.0, 10.5, 4.0, 0.5, 3.5, 4.0, 1.0, 0.02, 3.5, 8.1, 7.0, 1.0, 3.51, 0.0, 2.01, 2.0, 1.0, 0.5, 0.02, 0.01, 5.5, 0.0, 1.0, 1.5, 0.2, 7.0, 3.0, 0.0, 11.0, 0.0, 0.0, 1.0, 1.0, 0.0, 0.01, 0.0, 0.0, 0.01, 0.01, 2.0, 0.0, 2.7, 2.0, 20.01, 0.02, 0.0, 0.5, 5.5, 7.0, 0.0, 10.0, 8.5, 3.6, 0.02, 2.9, 7.52, 0.01, 2.5, 2.5, 0.5, 0.0, 2.0, 5.91, 2.51, 1.2, 0.5, 3.0, 0.5, 3.5, 4.51, 12.0, 2.0, 2.0, 4.61, 0.6, 2.5, 0.01, 4.51, 14.02, 8.0, 2.51, 3.0, 7.5, 4.3, 4.2, 2.0, 4.01, 23.51, 5.51, 1.81, 5.0, 5.0, 20.3, 2.0, 1.01, 6.0, 2.01, 4.01, 0.02, 1.5], \"y\": [-0.12, -0.18, 0.0, -0.08, -0.24, -0.02, -0.02, -0.34, -0.45, -0.25, -0.28, -0.1, -0.25, -0.01, 0.04, -0.01, -0.2, -0.04, -0.02, -0.06, -0.21, -0.24, -0.04, -0.2, 0.02, -0.69, -0.02, -0.18, -0.1, -0.38, -0.05, -0.02, -0.2, -0.2, 0.0, -0.25, -0.03, -0.01, -0.01, -0.1, -0.38, -0.13, -0.1, 0.0, 0.01, -0.35, -0.91, -0.64, -0.2, -0.3, -0.46, -0.22, -0.83, -0.04, -0.42, -0.34, 0.04, -0.24, -0.04, 0.26, 0.03, -0.46, -0.01, -0.14, -0.65, 0.44, -0.04, 0.0, -0.21, -0.13, -0.06, -0.09, -0.27, -0.3, -0.5, 0.43, -0.71, -0.07, -0.63, -0.58, -0.02, -0.25, -0.34, 0.03, -0.27, 0.0, 0.07, -0.09, -0.02, -0.55, -0.14, -0.43, -2.01, -0.01, -0.34, -0.02, -0.73, -0.14, -0.13, -0.18, -0.32, -0.22, -0.13, -2.11, 0.01, -0.3, 1.1, -1.25, -2.27, -0.49, -0.12, -0.45, -0.76, -0.07, 0.16, -0.82, -0.34, -0.01, -0.01, -0.46, -1.06, -0.16, -0.12, -0.03, 0.07, -0.16, -0.26, -0.16, -0.0, -0.04, -0.12, -0.01, -0.18, -0.08, -0.57, -0.03, -0.06, -0.24, -0.02, -0.12, -0.02, -0.42, -0.94, -0.23, -0.05, -0.11, -0.19, -0.09, -0.02, -0.03, -0.11, -1.57, -0.15, -0.06, -0.05, -0.16, -1.28, -0.07, -0.05, -0.3, -0.12, -0.31, -0.02, -0.02]}],\n",
       "                        {\"template\": {\"data\": {\"bar\": [{\"error_x\": {\"color\": \"#2a3f5f\"}, \"error_y\": {\"color\": \"#2a3f5f\"}, \"marker\": {\"line\": {\"color\": \"#E5ECF6\", \"width\": 0.5}}, \"type\": \"bar\"}], \"barpolar\": [{\"marker\": {\"line\": {\"color\": \"#E5ECF6\", \"width\": 0.5}}, \"type\": \"barpolar\"}], \"carpet\": [{\"aaxis\": {\"endlinecolor\": \"#2a3f5f\", \"gridcolor\": \"white\", \"linecolor\": \"white\", \"minorgridcolor\": \"white\", \"startlinecolor\": \"#2a3f5f\"}, \"baxis\": {\"endlinecolor\": \"#2a3f5f\", \"gridcolor\": \"white\", \"linecolor\": \"white\", \"minorgridcolor\": \"white\", \"startlinecolor\": \"#2a3f5f\"}, \"type\": \"carpet\"}], \"choropleth\": [{\"colorbar\": {\"outlinewidth\": 0, \"ticks\": \"\"}, \"type\": \"choropleth\"}], \"contour\": [{\"colorbar\": {\"outlinewidth\": 0, \"ticks\": \"\"}, \"colorscale\": [[0.0, \"#0d0887\"], [0.1111111111111111, \"#46039f\"], [0.2222222222222222, \"#7201a8\"], [0.3333333333333333, \"#9c179e\"], [0.4444444444444444, \"#bd3786\"], [0.5555555555555556, \"#d8576b\"], [0.6666666666666666, \"#ed7953\"], [0.7777777777777778, \"#fb9f3a\"], [0.8888888888888888, \"#fdca26\"], [1.0, \"#f0f921\"]], \"type\": \"contour\"}], \"contourcarpet\": [{\"colorbar\": {\"outlinewidth\": 0, \"ticks\": \"\"}, \"type\": \"contourcarpet\"}], \"heatmap\": [{\"colorbar\": {\"outlinewidth\": 0, \"ticks\": \"\"}, \"colorscale\": [[0.0, \"#0d0887\"], [0.1111111111111111, \"#46039f\"], [0.2222222222222222, \"#7201a8\"], [0.3333333333333333, \"#9c179e\"], [0.4444444444444444, \"#bd3786\"], [0.5555555555555556, \"#d8576b\"], [0.6666666666666666, \"#ed7953\"], [0.7777777777777778, \"#fb9f3a\"], [0.8888888888888888, \"#fdca26\"], [1.0, \"#f0f921\"]], \"type\": \"heatmap\"}], \"heatmapgl\": [{\"colorbar\": {\"outlinewidth\": 0, \"ticks\": \"\"}, \"colorscale\": [[0.0, \"#0d0887\"], [0.1111111111111111, \"#46039f\"], [0.2222222222222222, \"#7201a8\"], [0.3333333333333333, \"#9c179e\"], [0.4444444444444444, \"#bd3786\"], [0.5555555555555556, \"#d8576b\"], [0.6666666666666666, \"#ed7953\"], [0.7777777777777778, \"#fb9f3a\"], [0.8888888888888888, \"#fdca26\"], [1.0, \"#f0f921\"]], \"type\": \"heatmapgl\"}], \"histogram\": [{\"marker\": {\"colorbar\": {\"outlinewidth\": 0, \"ticks\": \"\"}}, \"type\": \"histogram\"}], \"histogram2d\": [{\"colorbar\": {\"outlinewidth\": 0, \"ticks\": \"\"}, \"colorscale\": [[0.0, \"#0d0887\"], [0.1111111111111111, \"#46039f\"], [0.2222222222222222, \"#7201a8\"], [0.3333333333333333, \"#9c179e\"], [0.4444444444444444, \"#bd3786\"], [0.5555555555555556, \"#d8576b\"], [0.6666666666666666, \"#ed7953\"], [0.7777777777777778, \"#fb9f3a\"], [0.8888888888888888, \"#fdca26\"], [1.0, \"#f0f921\"]], \"type\": \"histogram2d\"}], \"histogram2dcontour\": [{\"colorbar\": {\"outlinewidth\": 0, \"ticks\": \"\"}, \"colorscale\": [[0.0, \"#0d0887\"], [0.1111111111111111, \"#46039f\"], [0.2222222222222222, \"#7201a8\"], [0.3333333333333333, \"#9c179e\"], [0.4444444444444444, \"#bd3786\"], [0.5555555555555556, \"#d8576b\"], [0.6666666666666666, \"#ed7953\"], [0.7777777777777778, \"#fb9f3a\"], [0.8888888888888888, \"#fdca26\"], [1.0, \"#f0f921\"]], \"type\": \"histogram2dcontour\"}], \"mesh3d\": [{\"colorbar\": {\"outlinewidth\": 0, \"ticks\": \"\"}, \"type\": \"mesh3d\"}], \"parcoords\": [{\"line\": {\"colorbar\": {\"outlinewidth\": 0, \"ticks\": \"\"}}, \"type\": \"parcoords\"}], \"scatter\": [{\"marker\": {\"colorbar\": {\"outlinewidth\": 0, \"ticks\": \"\"}}, \"type\": \"scatter\"}], \"scatter3d\": [{\"line\": {\"colorbar\": {\"outlinewidth\": 0, \"ticks\": \"\"}}, \"marker\": {\"colorbar\": {\"outlinewidth\": 0, \"ticks\": \"\"}}, \"type\": \"scatter3d\"}], \"scattercarpet\": [{\"marker\": {\"colorbar\": {\"outlinewidth\": 0, \"ticks\": \"\"}}, \"type\": \"scattercarpet\"}], \"scattergeo\": [{\"marker\": {\"colorbar\": {\"outlinewidth\": 0, \"ticks\": \"\"}}, \"type\": \"scattergeo\"}], \"scattergl\": [{\"marker\": {\"colorbar\": {\"outlinewidth\": 0, \"ticks\": \"\"}}, \"type\": \"scattergl\"}], \"scattermapbox\": [{\"marker\": {\"colorbar\": {\"outlinewidth\": 0, \"ticks\": \"\"}}, \"type\": \"scattermapbox\"}], \"scatterpolar\": [{\"marker\": {\"colorbar\": {\"outlinewidth\": 0, \"ticks\": \"\"}}, \"type\": \"scatterpolar\"}], \"scatterpolargl\": [{\"marker\": {\"colorbar\": {\"outlinewidth\": 0, \"ticks\": \"\"}}, \"type\": \"scatterpolargl\"}], \"scatterternary\": [{\"marker\": {\"colorbar\": {\"outlinewidth\": 0, \"ticks\": \"\"}}, \"type\": \"scatterternary\"}], \"surface\": [{\"colorbar\": {\"outlinewidth\": 0, \"ticks\": \"\"}, \"colorscale\": [[0.0, \"#0d0887\"], [0.1111111111111111, \"#46039f\"], [0.2222222222222222, \"#7201a8\"], [0.3333333333333333, \"#9c179e\"], [0.4444444444444444, \"#bd3786\"], [0.5555555555555556, \"#d8576b\"], [0.6666666666666666, \"#ed7953\"], [0.7777777777777778, \"#fb9f3a\"], [0.8888888888888888, \"#fdca26\"], [1.0, \"#f0f921\"]], \"type\": \"surface\"}], \"table\": [{\"cells\": {\"fill\": {\"color\": \"#EBF0F8\"}, \"line\": {\"color\": \"white\"}}, \"header\": {\"fill\": {\"color\": \"#C8D4E3\"}, \"line\": {\"color\": \"white\"}}, \"type\": \"table\"}]}, \"layout\": {\"annotationdefaults\": {\"arrowcolor\": \"#2a3f5f\", \"arrowhead\": 0, \"arrowwidth\": 1}, \"colorscale\": {\"diverging\": [[0, \"#8e0152\"], [0.1, \"#c51b7d\"], [0.2, \"#de77ae\"], [0.3, \"#f1b6da\"], [0.4, \"#fde0ef\"], [0.5, \"#f7f7f7\"], [0.6, \"#e6f5d0\"], [0.7, \"#b8e186\"], [0.8, \"#7fbc41\"], [0.9, \"#4d9221\"], [1, \"#276419\"]], \"sequential\": [[0.0, \"#0d0887\"], [0.1111111111111111, \"#46039f\"], [0.2222222222222222, \"#7201a8\"], [0.3333333333333333, \"#9c179e\"], [0.4444444444444444, \"#bd3786\"], [0.5555555555555556, \"#d8576b\"], [0.6666666666666666, \"#ed7953\"], [0.7777777777777778, \"#fb9f3a\"], [0.8888888888888888, \"#fdca26\"], [1.0, \"#f0f921\"]], \"sequentialminus\": [[0.0, \"#0d0887\"], [0.1111111111111111, \"#46039f\"], [0.2222222222222222, \"#7201a8\"], [0.3333333333333333, \"#9c179e\"], [0.4444444444444444, \"#bd3786\"], [0.5555555555555556, \"#d8576b\"], [0.6666666666666666, \"#ed7953\"], [0.7777777777777778, \"#fb9f3a\"], [0.8888888888888888, \"#fdca26\"], [1.0, \"#f0f921\"]]}, \"colorway\": [\"#636efa\", \"#EF553B\", \"#00cc96\", \"#ab63fa\", \"#FFA15A\", \"#19d3f3\", \"#FF6692\", \"#B6E880\", \"#FF97FF\", \"#FECB52\"], \"font\": {\"color\": \"#2a3f5f\"}, \"geo\": {\"bgcolor\": \"white\", \"lakecolor\": \"white\", \"landcolor\": \"#E5ECF6\", \"showlakes\": true, \"showland\": true, \"subunitcolor\": \"white\"}, \"hoverlabel\": {\"align\": \"left\"}, \"hovermode\": \"closest\", \"mapbox\": {\"style\": \"light\"}, \"paper_bgcolor\": \"white\", \"plot_bgcolor\": \"#E5ECF6\", \"polar\": {\"angularaxis\": {\"gridcolor\": \"white\", \"linecolor\": \"white\", \"ticks\": \"\"}, \"bgcolor\": \"#E5ECF6\", \"radialaxis\": {\"gridcolor\": \"white\", \"linecolor\": \"white\", \"ticks\": \"\"}}, \"scene\": {\"xaxis\": {\"backgroundcolor\": \"#E5ECF6\", \"gridcolor\": \"white\", \"gridwidth\": 2, \"linecolor\": \"white\", \"showbackground\": true, \"ticks\": \"\", \"zerolinecolor\": \"white\"}, \"yaxis\": {\"backgroundcolor\": \"#E5ECF6\", \"gridcolor\": \"white\", \"gridwidth\": 2, \"linecolor\": \"white\", \"showbackground\": true, \"ticks\": \"\", \"zerolinecolor\": \"white\"}, \"zaxis\": {\"backgroundcolor\": \"#E5ECF6\", \"gridcolor\": \"white\", \"gridwidth\": 2, \"linecolor\": \"white\", \"showbackground\": true, \"ticks\": \"\", \"zerolinecolor\": \"white\"}}, \"shapedefaults\": {\"line\": {\"color\": \"#2a3f5f\"}}, \"ternary\": {\"aaxis\": {\"gridcolor\": \"white\", \"linecolor\": \"white\", \"ticks\": \"\"}, \"baxis\": {\"gridcolor\": \"white\", \"linecolor\": \"white\", \"ticks\": \"\"}, \"bgcolor\": \"#E5ECF6\", \"caxis\": {\"gridcolor\": \"white\", \"linecolor\": \"white\", \"ticks\": \"\"}}, \"title\": {\"x\": 0.05}, \"xaxis\": {\"automargin\": true, \"gridcolor\": \"white\", \"linecolor\": \"white\", \"ticks\": \"\", \"zerolinecolor\": \"white\", \"zerolinewidth\": 2}, \"yaxis\": {\"automargin\": true, \"gridcolor\": \"white\", \"linecolor\": \"white\", \"ticks\": \"\", \"zerolinecolor\": \"white\", \"zerolinewidth\": 2}}}, \"title\": {\"text\": \"Monthly Precip Differece vs Monthly Snowfall\"}, \"xaxis\": {\"title\": {\"text\": \"Snowfall (inches)\"}}, \"yaxis\": {\"title\": {\"text\": \"Precip Difference (Inches)\"}}},\n",
       "                        {\"responsive\": true}\n",
       "                    ).then(function(){\n",
       "                            \n",
       "var gd = document.getElementById('07fcbfcd-de46-4cce-b3d3-9f3bf3f566bb');\n",
       "var x = new MutationObserver(function (mutations, observer) {{\n",
       "        var display = window.getComputedStyle(gd).display;\n",
       "        if (!display || display === 'none') {{\n",
       "            console.log([gd, 'removed!']);\n",
       "            Plotly.purge(gd);\n",
       "            observer.disconnect();\n",
       "        }}\n",
       "}});\n",
       "\n",
       "// Listen for the removal of the full notebook cells\n",
       "var notebookContainer = gd.closest('#notebook-container');\n",
       "if (notebookContainer) {{\n",
       "    x.observe(notebookContainer, {childList: true});\n",
       "}}\n",
       "\n",
       "// Listen for the clearing of the current output cell\n",
       "var outputEl = gd.closest('.output');\n",
       "if (outputEl) {{\n",
       "    x.observe(outputEl, {childList: true});\n",
       "}}\n",
       "\n",
       "                        })\n",
       "                };\n",
       "                });\n",
       "            </script>\n",
       "        </div>"
      ]
     },
     "metadata": {},
     "output_type": "display_data"
    }
   ],
   "source": [
    "monthly_comp_precip = monthly_comp_precip.round(decimals=2)\n",
    "precip_comp_fig = go.Figure(data=[go.Scatter()],\n",
    "                           layout=go.Layout(title=go.layout.Title(text='Monthly Precip Differece vs Monthly Snowfall'),\n",
    "                                           xaxis=go.layout.XAxis(title=go.layout.xaxis.Title(text='Snowfall (inches)')),\n",
    "                                           yaxis=go.layout.YAxis(title=go.layout.yaxis.Title(text='Precip Difference (Inches)'))))\n",
    "\n",
    "precip_comp_fig.add_trace(\n",
    "    go.Scatter(x=monthly_comp_precip.snow,y=monthly_comp_precip.rez,\n",
    "              text=monthly_comp_precip.ym + '<br \\>'\n",
    "              + 'Snowfall Events: ' + monthly_comp_precip.snowfall,mode='markers'))"
   ]
  },
  {
   "cell_type": "code",
   "execution_count": 332,
   "metadata": {},
   "outputs": [],
   "source": [
    "trend = stats.linregress(monthly_comp_precip.snow,monthly_comp_precip.rez)"
   ]
  },
  {
   "cell_type": "code",
   "execution_count": 333,
   "metadata": {},
   "outputs": [
    {
     "data": {
      "application/vnd.plotly.v1+json": {
       "config": {
        "plotlyServerURL": "https://plot.ly"
       },
       "data": [
        {
         "type": "scatter"
        },
        {
         "mode": "markers",
         "text": [
          "Jan-1993<br \\>Snowfall Events: 9.0",
          "Jan-1994<br \\>Snowfall Events: 2.0",
          "Jan-1995<br \\>Snowfall Events: 2.0",
          "Jan-1996<br \\>Snowfall Events: 5.0",
          "Jan-1997<br \\>Snowfall Events: 5.0",
          "Jan-1998<br \\>Snowfall Events: 1.0",
          "Jan-1999<br \\>Snowfall Events: 3.0",
          "Jan-2000<br \\>Snowfall Events: 3.0",
          "Jan-2001<br \\>Snowfall Events: 5.0",
          "Jan-2002<br \\>Snowfall Events: 6.0",
          "Jan-2004<br \\>Snowfall Events: 4.0",
          "Jan-2005<br \\>Snowfall Events: 7.0",
          "Jan-2006<br \\>Snowfall Events: 2.0",
          "Jan-2007<br \\>Snowfall Events: 8.0",
          "Jan-2008<br \\>Snowfall Events: 7.0",
          "Jan-2009<br \\>Snowfall Events: 2.0",
          "Jan-2010<br \\>Snowfall Events: 2.0",
          "Jan-2011<br \\>Snowfall Events: 4.0",
          "Jan-2012<br \\>Snowfall Events: 2.0",
          "Jan-2013<br \\>Snowfall Events: 1.0",
          "Jan-2014<br \\>Snowfall Events: 4.0",
          "Jan-2015<br \\>Snowfall Events: 4.0",
          "Jan-2016<br \\>Snowfall Events: 1.0",
          "Jan-2017<br \\>Snowfall Events: 5.0",
          "Jan-2018<br \\>Snowfall Events: 3.0",
          "Feb-1993<br \\>Snowfall Events: 5.0",
          "Feb-1994<br \\>Snowfall Events: 2.0",
          "Feb-1995<br \\>Snowfall Events: 5.0",
          "Feb-1996<br \\>Snowfall Events: 2.0",
          "Feb-1997<br \\>Snowfall Events: 8.0",
          "Feb-1998<br \\>Snowfall Events: 4.0",
          "Feb-1999<br \\>Snowfall Events: 1.0",
          "Feb-2000<br \\>Snowfall Events: 2.0",
          "Feb-2001<br \\>Snowfall Events: 5.0",
          "Feb-2002<br \\>Snowfall Events: 1.0",
          "Feb-2003<br \\>Snowfall Events: 6.0",
          "Feb-2004<br \\>Snowfall Events: 5.0",
          "Feb-2005<br \\>Snowfall Events: 2.0",
          "Feb-2006<br \\>Snowfall Events: 2.0",
          "Feb-2007<br \\>Snowfall Events: 6.0",
          "Feb-2008<br \\>Snowfall Events: 4.0",
          "Feb-2010<br \\>Snowfall Events: 5.0",
          "Feb-2011<br \\>Snowfall Events: 2.0",
          "Feb-2012<br \\>Snowfall Events: 2.0",
          "Feb-2013<br \\>Snowfall Events: 2.0",
          "Feb-2014<br \\>Snowfall Events: 5.0",
          "Feb-2015<br \\>Snowfall Events: 5.0",
          "Feb-2016<br \\>Snowfall Events: 3.0",
          "Feb-2018<br \\>Snowfall Events: 4.0",
          "Mar-1993<br \\>Snowfall Events: 5.0",
          "Mar-1994<br \\>Snowfall Events: 4.0",
          "Mar-1995<br \\>Snowfall Events: 7.0",
          "Mar-1996<br \\>Snowfall Events: 6.0",
          "Mar-1997<br \\>Snowfall Events: 1.0",
          "Mar-1998<br \\>Snowfall Events: 5.0",
          "Mar-1999<br \\>Snowfall Events: 4.0",
          "Mar-2000<br \\>Snowfall Events: 5.0",
          "Mar-2001<br \\>Snowfall Events: 2.0",
          "Mar-2002<br \\>Snowfall Events: 6.0",
          "Mar-2003<br \\>Snowfall Events: 2.0",
          "Mar-2005<br \\>Snowfall Events: 5.0",
          "Mar-2006<br \\>Snowfall Events: 3.0",
          "Mar-2007<br \\>Snowfall Events: 1.0",
          "Mar-2008<br \\>Snowfall Events: 5.0",
          "Mar-2009<br \\>Snowfall Events: 4.0",
          "Mar-2010<br \\>Snowfall Events: 3.0",
          "Mar-2011<br \\>Snowfall Events: 2.0",
          "Mar-2012<br \\>Snowfall Events: 1.0",
          "Mar-2013<br \\>Snowfall Events: 3.0",
          "Mar-2014<br \\>Snowfall Events: 3.0",
          "Mar-2015<br \\>Snowfall Events: 1.0",
          "Mar-2016<br \\>Snowfall Events: 3.0",
          "Apr-1993<br \\>Snowfall Events: 2.0",
          "Apr-1994<br \\>Snowfall Events: 5.0",
          "Apr-1995<br \\>Snowfall Events: 2.0",
          "Apr-1996<br \\>Snowfall Events: 1.0",
          "Apr-1997<br \\>Snowfall Events: 4.0",
          "Apr-1998<br \\>Snowfall Events: 1.0",
          "Apr-1999<br \\>Snowfall Events: 3.0",
          "Apr-2000<br \\>Snowfall Events: 2.0",
          "Apr-2001<br \\>Snowfall Events: 1.0",
          "Apr-2003<br \\>Snowfall Events: 1.0",
          "Apr-2004<br \\>Snowfall Events: 4.0",
          "Apr-2005<br \\>Snowfall Events: 2.0",
          "Apr-2007<br \\>Snowfall Events: 3.0",
          "Apr-2008<br \\>Snowfall Events: 1.0",
          "Apr-2009<br \\>Snowfall Events: 2.0",
          "Apr-2011<br \\>Snowfall Events: 1.0",
          "Apr-2012<br \\>Snowfall Events: 2.0",
          "Apr-2013<br \\>Snowfall Events: 2.0",
          "Apr-2014<br \\>Snowfall Events: 1.0",
          "Apr-2016<br \\>Snowfall Events: 1.0",
          "Apr-2017<br \\>Snowfall Events: 2.0",
          "Apr-2018<br \\>Snowfall Events: 1.0",
          "May-1999<br \\>Snowfall Events: 1.0",
          "May-2013<br \\>Snowfall Events: 1.0",
          "May-2015<br \\>Snowfall Events: 2.0",
          "May-2016<br \\>Snowfall Events: 1.0",
          "Jun-2010<br \\>Snowfall Events: 2.0",
          "Aug-2007<br \\>Snowfall Events: 1.0",
          "Aug-2016<br \\>Snowfall Events: 1.0",
          "Aug-2017<br \\>Snowfall Events: 2.0",
          "Sep-1995<br \\>Snowfall Events: 2.0",
          "Sep-1996<br \\>Snowfall Events: 1.0",
          "Sep-2009<br \\>Snowfall Events: 1.0",
          "Oct-1993<br \\>Snowfall Events: 1.0",
          "Oct-1996<br \\>Snowfall Events: 1.0",
          "Oct-1997<br \\>Snowfall Events: 3.0",
          "Oct-1998<br \\>Snowfall Events: 5.0",
          "Oct-1999<br \\>Snowfall Events: 1.0",
          "Oct-2002<br \\>Snowfall Events: 2.0",
          "Oct-2006<br \\>Snowfall Events: 1.0",
          "Oct-2009<br \\>Snowfall Events: 4.0",
          "Oct-2013<br \\>Snowfall Events: 1.0",
          "Nov-1992<br \\>Snowfall Events: 8.0",
          "Nov-1993<br \\>Snowfall Events: 2.0",
          "Nov-1994<br \\>Snowfall Events: 3.0",
          "Nov-1995<br \\>Snowfall Events: 3.0",
          "Nov-1996<br \\>Snowfall Events: 5.0",
          "Nov-1997<br \\>Snowfall Events: 7.0",
          "Nov-1998<br \\>Snowfall Events: 2.0",
          "Nov-1999<br \\>Snowfall Events: 1.0",
          "Nov-2000<br \\>Snowfall Events: 2.0",
          "Nov-2001<br \\>Snowfall Events: 2.0",
          "Nov-2002<br \\>Snowfall Events: 1.0",
          "Nov-2003<br \\>Snowfall Events: 2.0",
          "Nov-2004<br \\>Snowfall Events: 7.0",
          "Nov-2006<br \\>Snowfall Events: 3.0",
          "Nov-2007<br \\>Snowfall Events: 2.0",
          "Nov-2008<br \\>Snowfall Events: 2.0",
          "Nov-2009<br \\>Snowfall Events: 1.0",
          "Nov-2010<br \\>Snowfall Events: 1.0",
          "Nov-2011<br \\>Snowfall Events: 1.0",
          "Nov-2013<br \\>Snowfall Events: 4.0",
          "Nov-2014<br \\>Snowfall Events: 4.0",
          "Nov-2015<br \\>Snowfall Events: 2.0",
          "Nov-2018<br \\>Snowfall Events: 1.0",
          "Dec-1992<br \\>Snowfall Events: 5.0",
          "Dec-1993<br \\>Snowfall Events: 3.0",
          "Dec-1994<br \\>Snowfall Events: 2.0",
          "Dec-1995<br \\>Snowfall Events: 2.0",
          "Dec-1996<br \\>Snowfall Events: 4.0",
          "Dec-1997<br \\>Snowfall Events: 9.0",
          "Dec-1998<br \\>Snowfall Events: 5.0",
          "Dec-1999<br \\>Snowfall Events: 3.0",
          "Dec-2000<br \\>Snowfall Events: 3.0",
          "Dec-2001<br \\>Snowfall Events: 3.0",
          "Dec-2002<br \\>Snowfall Events: 5.0",
          "Dec-2003<br \\>Snowfall Events: 3.0",
          "Dec-2004<br \\>Snowfall Events: 2.0",
          "Dec-2005<br \\>Snowfall Events: 6.0",
          "Dec-2006<br \\>Snowfall Events: 4.0",
          "Dec-2007<br \\>Snowfall Events: 7.0",
          "Dec-2008<br \\>Snowfall Events: 3.0",
          "Dec-2009<br \\>Snowfall Events: 4.0",
          "Dec-2010<br \\>Snowfall Events: 2.0",
          "Dec-2011<br \\>Snowfall Events: 6.0",
          "Dec-2012<br \\>Snowfall Events: 2.0",
          "Dec-2013<br \\>Snowfall Events: 3.0",
          "Dec-2014<br \\>Snowfall Events: 2.0",
          "Dec-2015<br \\>Snowfall Events: 3.0",
          "Dec-2016<br \\>Snowfall Events: 3.0",
          "Dec-2017<br \\>Snowfall Events: 3.0",
          "Dec-2018<br \\>Snowfall Events: 1.0"
         ],
         "type": "scatter",
         "x": [
          3.22,
          5.5,
          0.7,
          2.5,
          7.51,
          1.5,
          0.51,
          4.5,
          15.1,
          6.02,
          4.31,
          6.41,
          8,
          11.71,
          7.02,
          0.01,
          6.2,
          3,
          0.5,
          1.2,
          5,
          6.01,
          2,
          10.3,
          1.01,
          9.5,
          0.3,
          4.01,
          2.5,
          9.02,
          0.52,
          0.7,
          0.01,
          3.21,
          1,
          6.01,
          5.4,
          2,
          0.01,
          2.72,
          5.52,
          6,
          4,
          0.01,
          2.5,
          7.8,
          12.5,
          8,
          4,
          7.7,
          9,
          9,
          8.02,
          3,
          7.4,
          7.5,
          7.8,
          2.5,
          2.02,
          0.01,
          5.5,
          5.11,
          0.5,
          5,
          17,
          10.5,
          4,
          0.5,
          3.5,
          4,
          1,
          0.02,
          3.5,
          8.1,
          7,
          1,
          3.51,
          0,
          2.01,
          2,
          1,
          0.5,
          0.02,
          0.01,
          5.5,
          0,
          1,
          1.5,
          0.2,
          7,
          3,
          0,
          11,
          0,
          0,
          1,
          1,
          0,
          0.01,
          0,
          0,
          0.01,
          0.01,
          2,
          0,
          2.7,
          2,
          20.01,
          0.02,
          0,
          0.5,
          5.5,
          7,
          0,
          10,
          8.5,
          3.6,
          0.02,
          2.9,
          7.52,
          0.01,
          2.5,
          2.5,
          0.5,
          0,
          2,
          5.91,
          2.51,
          1.2,
          0.5,
          3,
          0.5,
          3.5,
          4.51,
          12,
          2,
          2,
          4.61,
          0.6,
          2.5,
          0.01,
          4.51,
          14.02,
          8,
          2.51,
          3,
          7.5,
          4.3,
          4.2,
          2,
          4.01,
          23.51,
          5.51,
          1.81,
          5,
          5,
          20.3,
          2,
          1.01,
          6,
          2.01,
          4.01,
          0.02,
          1.5
         ],
         "y": [
          -0.12,
          -0.18,
          0,
          -0.08,
          -0.24,
          -0.02,
          -0.02,
          -0.34,
          -0.45,
          -0.25,
          -0.28,
          -0.1,
          -0.25,
          -0.01,
          0.04,
          -0.01,
          -0.2,
          -0.04,
          -0.02,
          -0.06,
          -0.21,
          -0.24,
          -0.04,
          -0.2,
          0.02,
          -0.69,
          -0.02,
          -0.18,
          -0.1,
          -0.38,
          -0.05,
          -0.02,
          -0.2,
          -0.2,
          0,
          -0.25,
          -0.03,
          -0.01,
          -0.01,
          -0.1,
          -0.38,
          -0.13,
          -0.1,
          0,
          0.01,
          -0.35,
          -0.91,
          -0.64,
          -0.2,
          -0.3,
          -0.46,
          -0.22,
          -0.83,
          -0.04,
          -0.42,
          -0.34,
          0.04,
          -0.24,
          -0.04,
          0.26,
          0.03,
          -0.46,
          -0.01,
          -0.14,
          -0.65,
          0.44,
          -0.04,
          0,
          -0.21,
          -0.13,
          -0.06,
          -0.09,
          -0.27,
          -0.3,
          -0.5,
          0.43,
          -0.71,
          -0.07,
          -0.63,
          -0.58,
          -0.02,
          -0.25,
          -0.34,
          0.03,
          -0.27,
          0,
          0.07,
          -0.09,
          -0.02,
          -0.55,
          -0.14,
          -0.43,
          -2.01,
          -0.01,
          -0.34,
          -0.02,
          -0.73,
          -0.14,
          -0.13,
          -0.18,
          -0.32,
          -0.22,
          -0.13,
          -2.11,
          0.01,
          -0.3,
          1.1,
          -1.25,
          -2.27,
          -0.49,
          -0.12,
          -0.45,
          -0.76,
          -0.07,
          0.16,
          -0.82,
          -0.34,
          -0.01,
          -0.01,
          -0.46,
          -1.06,
          -0.16,
          -0.12,
          -0.03,
          0.07,
          -0.16,
          -0.26,
          -0.16,
          0,
          -0.04,
          -0.12,
          -0.01,
          -0.18,
          -0.08,
          -0.57,
          -0.03,
          -0.06,
          -0.24,
          -0.02,
          -0.12,
          -0.02,
          -0.42,
          -0.94,
          -0.23,
          -0.05,
          -0.11,
          -0.19,
          -0.09,
          -0.02,
          -0.03,
          -0.11,
          -1.57,
          -0.15,
          -0.06,
          -0.05,
          -0.16,
          -1.28,
          -0.07,
          -0.05,
          -0.3,
          -0.12,
          -0.31,
          -0.02,
          -0.02
         ]
        },
        {
         "mode": "lines",
         "name": "Trend",
         "type": "scatter",
         "x": [
          0,
          30
         ],
         "y": [
          -0.06709047599442719,
          -1.0705561295735908
         ]
        }
       ],
       "layout": {
        "template": {
         "data": {
          "bar": [
           {
            "error_x": {
             "color": "#2a3f5f"
            },
            "error_y": {
             "color": "#2a3f5f"
            },
            "marker": {
             "line": {
              "color": "#E5ECF6",
              "width": 0.5
             }
            },
            "type": "bar"
           }
          ],
          "barpolar": [
           {
            "marker": {
             "line": {
              "color": "#E5ECF6",
              "width": 0.5
             }
            },
            "type": "barpolar"
           }
          ],
          "carpet": [
           {
            "aaxis": {
             "endlinecolor": "#2a3f5f",
             "gridcolor": "white",
             "linecolor": "white",
             "minorgridcolor": "white",
             "startlinecolor": "#2a3f5f"
            },
            "baxis": {
             "endlinecolor": "#2a3f5f",
             "gridcolor": "white",
             "linecolor": "white",
             "minorgridcolor": "white",
             "startlinecolor": "#2a3f5f"
            },
            "type": "carpet"
           }
          ],
          "choropleth": [
           {
            "colorbar": {
             "outlinewidth": 0,
             "ticks": ""
            },
            "type": "choropleth"
           }
          ],
          "contour": [
           {
            "colorbar": {
             "outlinewidth": 0,
             "ticks": ""
            },
            "colorscale": [
             [
              0,
              "#0d0887"
             ],
             [
              0.1111111111111111,
              "#46039f"
             ],
             [
              0.2222222222222222,
              "#7201a8"
             ],
             [
              0.3333333333333333,
              "#9c179e"
             ],
             [
              0.4444444444444444,
              "#bd3786"
             ],
             [
              0.5555555555555556,
              "#d8576b"
             ],
             [
              0.6666666666666666,
              "#ed7953"
             ],
             [
              0.7777777777777778,
              "#fb9f3a"
             ],
             [
              0.8888888888888888,
              "#fdca26"
             ],
             [
              1,
              "#f0f921"
             ]
            ],
            "type": "contour"
           }
          ],
          "contourcarpet": [
           {
            "colorbar": {
             "outlinewidth": 0,
             "ticks": ""
            },
            "type": "contourcarpet"
           }
          ],
          "heatmap": [
           {
            "colorbar": {
             "outlinewidth": 0,
             "ticks": ""
            },
            "colorscale": [
             [
              0,
              "#0d0887"
             ],
             [
              0.1111111111111111,
              "#46039f"
             ],
             [
              0.2222222222222222,
              "#7201a8"
             ],
             [
              0.3333333333333333,
              "#9c179e"
             ],
             [
              0.4444444444444444,
              "#bd3786"
             ],
             [
              0.5555555555555556,
              "#d8576b"
             ],
             [
              0.6666666666666666,
              "#ed7953"
             ],
             [
              0.7777777777777778,
              "#fb9f3a"
             ],
             [
              0.8888888888888888,
              "#fdca26"
             ],
             [
              1,
              "#f0f921"
             ]
            ],
            "type": "heatmap"
           }
          ],
          "heatmapgl": [
           {
            "colorbar": {
             "outlinewidth": 0,
             "ticks": ""
            },
            "colorscale": [
             [
              0,
              "#0d0887"
             ],
             [
              0.1111111111111111,
              "#46039f"
             ],
             [
              0.2222222222222222,
              "#7201a8"
             ],
             [
              0.3333333333333333,
              "#9c179e"
             ],
             [
              0.4444444444444444,
              "#bd3786"
             ],
             [
              0.5555555555555556,
              "#d8576b"
             ],
             [
              0.6666666666666666,
              "#ed7953"
             ],
             [
              0.7777777777777778,
              "#fb9f3a"
             ],
             [
              0.8888888888888888,
              "#fdca26"
             ],
             [
              1,
              "#f0f921"
             ]
            ],
            "type": "heatmapgl"
           }
          ],
          "histogram": [
           {
            "marker": {
             "colorbar": {
              "outlinewidth": 0,
              "ticks": ""
             }
            },
            "type": "histogram"
           }
          ],
          "histogram2d": [
           {
            "colorbar": {
             "outlinewidth": 0,
             "ticks": ""
            },
            "colorscale": [
             [
              0,
              "#0d0887"
             ],
             [
              0.1111111111111111,
              "#46039f"
             ],
             [
              0.2222222222222222,
              "#7201a8"
             ],
             [
              0.3333333333333333,
              "#9c179e"
             ],
             [
              0.4444444444444444,
              "#bd3786"
             ],
             [
              0.5555555555555556,
              "#d8576b"
             ],
             [
              0.6666666666666666,
              "#ed7953"
             ],
             [
              0.7777777777777778,
              "#fb9f3a"
             ],
             [
              0.8888888888888888,
              "#fdca26"
             ],
             [
              1,
              "#f0f921"
             ]
            ],
            "type": "histogram2d"
           }
          ],
          "histogram2dcontour": [
           {
            "colorbar": {
             "outlinewidth": 0,
             "ticks": ""
            },
            "colorscale": [
             [
              0,
              "#0d0887"
             ],
             [
              0.1111111111111111,
              "#46039f"
             ],
             [
              0.2222222222222222,
              "#7201a8"
             ],
             [
              0.3333333333333333,
              "#9c179e"
             ],
             [
              0.4444444444444444,
              "#bd3786"
             ],
             [
              0.5555555555555556,
              "#d8576b"
             ],
             [
              0.6666666666666666,
              "#ed7953"
             ],
             [
              0.7777777777777778,
              "#fb9f3a"
             ],
             [
              0.8888888888888888,
              "#fdca26"
             ],
             [
              1,
              "#f0f921"
             ]
            ],
            "type": "histogram2dcontour"
           }
          ],
          "mesh3d": [
           {
            "colorbar": {
             "outlinewidth": 0,
             "ticks": ""
            },
            "type": "mesh3d"
           }
          ],
          "parcoords": [
           {
            "line": {
             "colorbar": {
              "outlinewidth": 0,
              "ticks": ""
             }
            },
            "type": "parcoords"
           }
          ],
          "scatter": [
           {
            "marker": {
             "colorbar": {
              "outlinewidth": 0,
              "ticks": ""
             }
            },
            "type": "scatter"
           }
          ],
          "scatter3d": [
           {
            "line": {
             "colorbar": {
              "outlinewidth": 0,
              "ticks": ""
             }
            },
            "marker": {
             "colorbar": {
              "outlinewidth": 0,
              "ticks": ""
             }
            },
            "type": "scatter3d"
           }
          ],
          "scattercarpet": [
           {
            "marker": {
             "colorbar": {
              "outlinewidth": 0,
              "ticks": ""
             }
            },
            "type": "scattercarpet"
           }
          ],
          "scattergeo": [
           {
            "marker": {
             "colorbar": {
              "outlinewidth": 0,
              "ticks": ""
             }
            },
            "type": "scattergeo"
           }
          ],
          "scattergl": [
           {
            "marker": {
             "colorbar": {
              "outlinewidth": 0,
              "ticks": ""
             }
            },
            "type": "scattergl"
           }
          ],
          "scattermapbox": [
           {
            "marker": {
             "colorbar": {
              "outlinewidth": 0,
              "ticks": ""
             }
            },
            "type": "scattermapbox"
           }
          ],
          "scatterpolar": [
           {
            "marker": {
             "colorbar": {
              "outlinewidth": 0,
              "ticks": ""
             }
            },
            "type": "scatterpolar"
           }
          ],
          "scatterpolargl": [
           {
            "marker": {
             "colorbar": {
              "outlinewidth": 0,
              "ticks": ""
             }
            },
            "type": "scatterpolargl"
           }
          ],
          "scatterternary": [
           {
            "marker": {
             "colorbar": {
              "outlinewidth": 0,
              "ticks": ""
             }
            },
            "type": "scatterternary"
           }
          ],
          "surface": [
           {
            "colorbar": {
             "outlinewidth": 0,
             "ticks": ""
            },
            "colorscale": [
             [
              0,
              "#0d0887"
             ],
             [
              0.1111111111111111,
              "#46039f"
             ],
             [
              0.2222222222222222,
              "#7201a8"
             ],
             [
              0.3333333333333333,
              "#9c179e"
             ],
             [
              0.4444444444444444,
              "#bd3786"
             ],
             [
              0.5555555555555556,
              "#d8576b"
             ],
             [
              0.6666666666666666,
              "#ed7953"
             ],
             [
              0.7777777777777778,
              "#fb9f3a"
             ],
             [
              0.8888888888888888,
              "#fdca26"
             ],
             [
              1,
              "#f0f921"
             ]
            ],
            "type": "surface"
           }
          ],
          "table": [
           {
            "cells": {
             "fill": {
              "color": "#EBF0F8"
             },
             "line": {
              "color": "white"
             }
            },
            "header": {
             "fill": {
              "color": "#C8D4E3"
             },
             "line": {
              "color": "white"
             }
            },
            "type": "table"
           }
          ]
         },
         "layout": {
          "annotationdefaults": {
           "arrowcolor": "#2a3f5f",
           "arrowhead": 0,
           "arrowwidth": 1
          },
          "colorscale": {
           "diverging": [
            [
             0,
             "#8e0152"
            ],
            [
             0.1,
             "#c51b7d"
            ],
            [
             0.2,
             "#de77ae"
            ],
            [
             0.3,
             "#f1b6da"
            ],
            [
             0.4,
             "#fde0ef"
            ],
            [
             0.5,
             "#f7f7f7"
            ],
            [
             0.6,
             "#e6f5d0"
            ],
            [
             0.7,
             "#b8e186"
            ],
            [
             0.8,
             "#7fbc41"
            ],
            [
             0.9,
             "#4d9221"
            ],
            [
             1,
             "#276419"
            ]
           ],
           "sequential": [
            [
             0,
             "#0d0887"
            ],
            [
             0.1111111111111111,
             "#46039f"
            ],
            [
             0.2222222222222222,
             "#7201a8"
            ],
            [
             0.3333333333333333,
             "#9c179e"
            ],
            [
             0.4444444444444444,
             "#bd3786"
            ],
            [
             0.5555555555555556,
             "#d8576b"
            ],
            [
             0.6666666666666666,
             "#ed7953"
            ],
            [
             0.7777777777777778,
             "#fb9f3a"
            ],
            [
             0.8888888888888888,
             "#fdca26"
            ],
            [
             1,
             "#f0f921"
            ]
           ],
           "sequentialminus": [
            [
             0,
             "#0d0887"
            ],
            [
             0.1111111111111111,
             "#46039f"
            ],
            [
             0.2222222222222222,
             "#7201a8"
            ],
            [
             0.3333333333333333,
             "#9c179e"
            ],
            [
             0.4444444444444444,
             "#bd3786"
            ],
            [
             0.5555555555555556,
             "#d8576b"
            ],
            [
             0.6666666666666666,
             "#ed7953"
            ],
            [
             0.7777777777777778,
             "#fb9f3a"
            ],
            [
             0.8888888888888888,
             "#fdca26"
            ],
            [
             1,
             "#f0f921"
            ]
           ]
          },
          "colorway": [
           "#636efa",
           "#EF553B",
           "#00cc96",
           "#ab63fa",
           "#FFA15A",
           "#19d3f3",
           "#FF6692",
           "#B6E880",
           "#FF97FF",
           "#FECB52"
          ],
          "font": {
           "color": "#2a3f5f"
          },
          "geo": {
           "bgcolor": "white",
           "lakecolor": "white",
           "landcolor": "#E5ECF6",
           "showlakes": true,
           "showland": true,
           "subunitcolor": "white"
          },
          "hoverlabel": {
           "align": "left"
          },
          "hovermode": "closest",
          "mapbox": {
           "style": "light"
          },
          "paper_bgcolor": "white",
          "plot_bgcolor": "#E5ECF6",
          "polar": {
           "angularaxis": {
            "gridcolor": "white",
            "linecolor": "white",
            "ticks": ""
           },
           "bgcolor": "#E5ECF6",
           "radialaxis": {
            "gridcolor": "white",
            "linecolor": "white",
            "ticks": ""
           }
          },
          "scene": {
           "xaxis": {
            "backgroundcolor": "#E5ECF6",
            "gridcolor": "white",
            "gridwidth": 2,
            "linecolor": "white",
            "showbackground": true,
            "ticks": "",
            "zerolinecolor": "white"
           },
           "yaxis": {
            "backgroundcolor": "#E5ECF6",
            "gridcolor": "white",
            "gridwidth": 2,
            "linecolor": "white",
            "showbackground": true,
            "ticks": "",
            "zerolinecolor": "white"
           },
           "zaxis": {
            "backgroundcolor": "#E5ECF6",
            "gridcolor": "white",
            "gridwidth": 2,
            "linecolor": "white",
            "showbackground": true,
            "ticks": "",
            "zerolinecolor": "white"
           }
          },
          "shapedefaults": {
           "line": {
            "color": "#2a3f5f"
           }
          },
          "ternary": {
           "aaxis": {
            "gridcolor": "white",
            "linecolor": "white",
            "ticks": ""
           },
           "baxis": {
            "gridcolor": "white",
            "linecolor": "white",
            "ticks": ""
           },
           "bgcolor": "#E5ECF6",
           "caxis": {
            "gridcolor": "white",
            "linecolor": "white",
            "ticks": ""
           }
          },
          "title": {
           "x": 0.05
          },
          "xaxis": {
           "automargin": true,
           "gridcolor": "white",
           "linecolor": "white",
           "ticks": "",
           "zerolinecolor": "white",
           "zerolinewidth": 2
          },
          "yaxis": {
           "automargin": true,
           "gridcolor": "white",
           "linecolor": "white",
           "ticks": "",
           "zerolinecolor": "white",
           "zerolinewidth": 2
          }
         }
        },
        "title": {
         "text": "Monthly Precip Differece vs Monthly Snowfall"
        },
        "xaxis": {
         "title": {
          "text": "Snowfall (inches)"
         }
        },
        "yaxis": {
         "title": {
          "text": "Precip Difference (Inches)"
         }
        }
       }
      },
      "text/html": [
       "<div>\n",
       "        \n",
       "        \n",
       "            <div id=\"e1910f5c-fd6d-436a-af91-03880c36df15\" class=\"plotly-graph-div\" style=\"height:525px; width:100%;\"></div>\n",
       "            <script type=\"text/javascript\">\n",
       "                require([\"plotly\"], function(Plotly) {\n",
       "                    window.PLOTLYENV=window.PLOTLYENV || {};\n",
       "                    \n",
       "                if (document.getElementById(\"e1910f5c-fd6d-436a-af91-03880c36df15\")) {\n",
       "                    Plotly.newPlot(\n",
       "                        'e1910f5c-fd6d-436a-af91-03880c36df15',\n",
       "                        [{\"type\": \"scatter\"}, {\"mode\": \"markers\", \"text\": [\"Jan-1993<br \\\\>Snowfall Events: 9.0\", \"Jan-1994<br \\\\>Snowfall Events: 2.0\", \"Jan-1995<br \\\\>Snowfall Events: 2.0\", \"Jan-1996<br \\\\>Snowfall Events: 5.0\", \"Jan-1997<br \\\\>Snowfall Events: 5.0\", \"Jan-1998<br \\\\>Snowfall Events: 1.0\", \"Jan-1999<br \\\\>Snowfall Events: 3.0\", \"Jan-2000<br \\\\>Snowfall Events: 3.0\", \"Jan-2001<br \\\\>Snowfall Events: 5.0\", \"Jan-2002<br \\\\>Snowfall Events: 6.0\", \"Jan-2004<br \\\\>Snowfall Events: 4.0\", \"Jan-2005<br \\\\>Snowfall Events: 7.0\", \"Jan-2006<br \\\\>Snowfall Events: 2.0\", \"Jan-2007<br \\\\>Snowfall Events: 8.0\", \"Jan-2008<br \\\\>Snowfall Events: 7.0\", \"Jan-2009<br \\\\>Snowfall Events: 2.0\", \"Jan-2010<br \\\\>Snowfall Events: 2.0\", \"Jan-2011<br \\\\>Snowfall Events: 4.0\", \"Jan-2012<br \\\\>Snowfall Events: 2.0\", \"Jan-2013<br \\\\>Snowfall Events: 1.0\", \"Jan-2014<br \\\\>Snowfall Events: 4.0\", \"Jan-2015<br \\\\>Snowfall Events: 4.0\", \"Jan-2016<br \\\\>Snowfall Events: 1.0\", \"Jan-2017<br \\\\>Snowfall Events: 5.0\", \"Jan-2018<br \\\\>Snowfall Events: 3.0\", \"Feb-1993<br \\\\>Snowfall Events: 5.0\", \"Feb-1994<br \\\\>Snowfall Events: 2.0\", \"Feb-1995<br \\\\>Snowfall Events: 5.0\", \"Feb-1996<br \\\\>Snowfall Events: 2.0\", \"Feb-1997<br \\\\>Snowfall Events: 8.0\", \"Feb-1998<br \\\\>Snowfall Events: 4.0\", \"Feb-1999<br \\\\>Snowfall Events: 1.0\", \"Feb-2000<br \\\\>Snowfall Events: 2.0\", \"Feb-2001<br \\\\>Snowfall Events: 5.0\", \"Feb-2002<br \\\\>Snowfall Events: 1.0\", \"Feb-2003<br \\\\>Snowfall Events: 6.0\", \"Feb-2004<br \\\\>Snowfall Events: 5.0\", \"Feb-2005<br \\\\>Snowfall Events: 2.0\", \"Feb-2006<br \\\\>Snowfall Events: 2.0\", \"Feb-2007<br \\\\>Snowfall Events: 6.0\", \"Feb-2008<br \\\\>Snowfall Events: 4.0\", \"Feb-2010<br \\\\>Snowfall Events: 5.0\", \"Feb-2011<br \\\\>Snowfall Events: 2.0\", \"Feb-2012<br \\\\>Snowfall Events: 2.0\", \"Feb-2013<br \\\\>Snowfall Events: 2.0\", \"Feb-2014<br \\\\>Snowfall Events: 5.0\", \"Feb-2015<br \\\\>Snowfall Events: 5.0\", \"Feb-2016<br \\\\>Snowfall Events: 3.0\", \"Feb-2018<br \\\\>Snowfall Events: 4.0\", \"Mar-1993<br \\\\>Snowfall Events: 5.0\", \"Mar-1994<br \\\\>Snowfall Events: 4.0\", \"Mar-1995<br \\\\>Snowfall Events: 7.0\", \"Mar-1996<br \\\\>Snowfall Events: 6.0\", \"Mar-1997<br \\\\>Snowfall Events: 1.0\", \"Mar-1998<br \\\\>Snowfall Events: 5.0\", \"Mar-1999<br \\\\>Snowfall Events: 4.0\", \"Mar-2000<br \\\\>Snowfall Events: 5.0\", \"Mar-2001<br \\\\>Snowfall Events: 2.0\", \"Mar-2002<br \\\\>Snowfall Events: 6.0\", \"Mar-2003<br \\\\>Snowfall Events: 2.0\", \"Mar-2005<br \\\\>Snowfall Events: 5.0\", \"Mar-2006<br \\\\>Snowfall Events: 3.0\", \"Mar-2007<br \\\\>Snowfall Events: 1.0\", \"Mar-2008<br \\\\>Snowfall Events: 5.0\", \"Mar-2009<br \\\\>Snowfall Events: 4.0\", \"Mar-2010<br \\\\>Snowfall Events: 3.0\", \"Mar-2011<br \\\\>Snowfall Events: 2.0\", \"Mar-2012<br \\\\>Snowfall Events: 1.0\", \"Mar-2013<br \\\\>Snowfall Events: 3.0\", \"Mar-2014<br \\\\>Snowfall Events: 3.0\", \"Mar-2015<br \\\\>Snowfall Events: 1.0\", \"Mar-2016<br \\\\>Snowfall Events: 3.0\", \"Apr-1993<br \\\\>Snowfall Events: 2.0\", \"Apr-1994<br \\\\>Snowfall Events: 5.0\", \"Apr-1995<br \\\\>Snowfall Events: 2.0\", \"Apr-1996<br \\\\>Snowfall Events: 1.0\", \"Apr-1997<br \\\\>Snowfall Events: 4.0\", \"Apr-1998<br \\\\>Snowfall Events: 1.0\", \"Apr-1999<br \\\\>Snowfall Events: 3.0\", \"Apr-2000<br \\\\>Snowfall Events: 2.0\", \"Apr-2001<br \\\\>Snowfall Events: 1.0\", \"Apr-2003<br \\\\>Snowfall Events: 1.0\", \"Apr-2004<br \\\\>Snowfall Events: 4.0\", \"Apr-2005<br \\\\>Snowfall Events: 2.0\", \"Apr-2007<br \\\\>Snowfall Events: 3.0\", \"Apr-2008<br \\\\>Snowfall Events: 1.0\", \"Apr-2009<br \\\\>Snowfall Events: 2.0\", \"Apr-2011<br \\\\>Snowfall Events: 1.0\", \"Apr-2012<br \\\\>Snowfall Events: 2.0\", \"Apr-2013<br \\\\>Snowfall Events: 2.0\", \"Apr-2014<br \\\\>Snowfall Events: 1.0\", \"Apr-2016<br \\\\>Snowfall Events: 1.0\", \"Apr-2017<br \\\\>Snowfall Events: 2.0\", \"Apr-2018<br \\\\>Snowfall Events: 1.0\", \"May-1999<br \\\\>Snowfall Events: 1.0\", \"May-2013<br \\\\>Snowfall Events: 1.0\", \"May-2015<br \\\\>Snowfall Events: 2.0\", \"May-2016<br \\\\>Snowfall Events: 1.0\", \"Jun-2010<br \\\\>Snowfall Events: 2.0\", \"Aug-2007<br \\\\>Snowfall Events: 1.0\", \"Aug-2016<br \\\\>Snowfall Events: 1.0\", \"Aug-2017<br \\\\>Snowfall Events: 2.0\", \"Sep-1995<br \\\\>Snowfall Events: 2.0\", \"Sep-1996<br \\\\>Snowfall Events: 1.0\", \"Sep-2009<br \\\\>Snowfall Events: 1.0\", \"Oct-1993<br \\\\>Snowfall Events: 1.0\", \"Oct-1996<br \\\\>Snowfall Events: 1.0\", \"Oct-1997<br \\\\>Snowfall Events: 3.0\", \"Oct-1998<br \\\\>Snowfall Events: 5.0\", \"Oct-1999<br \\\\>Snowfall Events: 1.0\", \"Oct-2002<br \\\\>Snowfall Events: 2.0\", \"Oct-2006<br \\\\>Snowfall Events: 1.0\", \"Oct-2009<br \\\\>Snowfall Events: 4.0\", \"Oct-2013<br \\\\>Snowfall Events: 1.0\", \"Nov-1992<br \\\\>Snowfall Events: 8.0\", \"Nov-1993<br \\\\>Snowfall Events: 2.0\", \"Nov-1994<br \\\\>Snowfall Events: 3.0\", \"Nov-1995<br \\\\>Snowfall Events: 3.0\", \"Nov-1996<br \\\\>Snowfall Events: 5.0\", \"Nov-1997<br \\\\>Snowfall Events: 7.0\", \"Nov-1998<br \\\\>Snowfall Events: 2.0\", \"Nov-1999<br \\\\>Snowfall Events: 1.0\", \"Nov-2000<br \\\\>Snowfall Events: 2.0\", \"Nov-2001<br \\\\>Snowfall Events: 2.0\", \"Nov-2002<br \\\\>Snowfall Events: 1.0\", \"Nov-2003<br \\\\>Snowfall Events: 2.0\", \"Nov-2004<br \\\\>Snowfall Events: 7.0\", \"Nov-2006<br \\\\>Snowfall Events: 3.0\", \"Nov-2007<br \\\\>Snowfall Events: 2.0\", \"Nov-2008<br \\\\>Snowfall Events: 2.0\", \"Nov-2009<br \\\\>Snowfall Events: 1.0\", \"Nov-2010<br \\\\>Snowfall Events: 1.0\", \"Nov-2011<br \\\\>Snowfall Events: 1.0\", \"Nov-2013<br \\\\>Snowfall Events: 4.0\", \"Nov-2014<br \\\\>Snowfall Events: 4.0\", \"Nov-2015<br \\\\>Snowfall Events: 2.0\", \"Nov-2018<br \\\\>Snowfall Events: 1.0\", \"Dec-1992<br \\\\>Snowfall Events: 5.0\", \"Dec-1993<br \\\\>Snowfall Events: 3.0\", \"Dec-1994<br \\\\>Snowfall Events: 2.0\", \"Dec-1995<br \\\\>Snowfall Events: 2.0\", \"Dec-1996<br \\\\>Snowfall Events: 4.0\", \"Dec-1997<br \\\\>Snowfall Events: 9.0\", \"Dec-1998<br \\\\>Snowfall Events: 5.0\", \"Dec-1999<br \\\\>Snowfall Events: 3.0\", \"Dec-2000<br \\\\>Snowfall Events: 3.0\", \"Dec-2001<br \\\\>Snowfall Events: 3.0\", \"Dec-2002<br \\\\>Snowfall Events: 5.0\", \"Dec-2003<br \\\\>Snowfall Events: 3.0\", \"Dec-2004<br \\\\>Snowfall Events: 2.0\", \"Dec-2005<br \\\\>Snowfall Events: 6.0\", \"Dec-2006<br \\\\>Snowfall Events: 4.0\", \"Dec-2007<br \\\\>Snowfall Events: 7.0\", \"Dec-2008<br \\\\>Snowfall Events: 3.0\", \"Dec-2009<br \\\\>Snowfall Events: 4.0\", \"Dec-2010<br \\\\>Snowfall Events: 2.0\", \"Dec-2011<br \\\\>Snowfall Events: 6.0\", \"Dec-2012<br \\\\>Snowfall Events: 2.0\", \"Dec-2013<br \\\\>Snowfall Events: 3.0\", \"Dec-2014<br \\\\>Snowfall Events: 2.0\", \"Dec-2015<br \\\\>Snowfall Events: 3.0\", \"Dec-2016<br \\\\>Snowfall Events: 3.0\", \"Dec-2017<br \\\\>Snowfall Events: 3.0\", \"Dec-2018<br \\\\>Snowfall Events: 1.0\"], \"type\": \"scatter\", \"x\": [3.22, 5.5, 0.7, 2.5, 7.51, 1.5, 0.51, 4.5, 15.1, 6.02, 4.31, 6.41, 8.0, 11.71, 7.02, 0.01, 6.2, 3.0, 0.5, 1.2, 5.0, 6.01, 2.0, 10.3, 1.01, 9.5, 0.3, 4.01, 2.5, 9.02, 0.52, 0.7, 0.01, 3.21, 1.0, 6.01, 5.4, 2.0, 0.01, 2.72, 5.52, 6.0, 4.0, 0.01, 2.5, 7.8, 12.5, 8.0, 4.0, 7.7, 9.0, 9.0, 8.02, 3.0, 7.4, 7.5, 7.8, 2.5, 2.02, 0.01, 5.5, 5.11, 0.5, 5.0, 17.0, 10.5, 4.0, 0.5, 3.5, 4.0, 1.0, 0.02, 3.5, 8.1, 7.0, 1.0, 3.51, 0.0, 2.01, 2.0, 1.0, 0.5, 0.02, 0.01, 5.5, 0.0, 1.0, 1.5, 0.2, 7.0, 3.0, 0.0, 11.0, 0.0, 0.0, 1.0, 1.0, 0.0, 0.01, 0.0, 0.0, 0.01, 0.01, 2.0, 0.0, 2.7, 2.0, 20.01, 0.02, 0.0, 0.5, 5.5, 7.0, 0.0, 10.0, 8.5, 3.6, 0.02, 2.9, 7.52, 0.01, 2.5, 2.5, 0.5, 0.0, 2.0, 5.91, 2.51, 1.2, 0.5, 3.0, 0.5, 3.5, 4.51, 12.0, 2.0, 2.0, 4.61, 0.6, 2.5, 0.01, 4.51, 14.02, 8.0, 2.51, 3.0, 7.5, 4.3, 4.2, 2.0, 4.01, 23.51, 5.51, 1.81, 5.0, 5.0, 20.3, 2.0, 1.01, 6.0, 2.01, 4.01, 0.02, 1.5], \"y\": [-0.12, -0.18, 0.0, -0.08, -0.24, -0.02, -0.02, -0.34, -0.45, -0.25, -0.28, -0.1, -0.25, -0.01, 0.04, -0.01, -0.2, -0.04, -0.02, -0.06, -0.21, -0.24, -0.04, -0.2, 0.02, -0.69, -0.02, -0.18, -0.1, -0.38, -0.05, -0.02, -0.2, -0.2, 0.0, -0.25, -0.03, -0.01, -0.01, -0.1, -0.38, -0.13, -0.1, 0.0, 0.01, -0.35, -0.91, -0.64, -0.2, -0.3, -0.46, -0.22, -0.83, -0.04, -0.42, -0.34, 0.04, -0.24, -0.04, 0.26, 0.03, -0.46, -0.01, -0.14, -0.65, 0.44, -0.04, 0.0, -0.21, -0.13, -0.06, -0.09, -0.27, -0.3, -0.5, 0.43, -0.71, -0.07, -0.63, -0.58, -0.02, -0.25, -0.34, 0.03, -0.27, 0.0, 0.07, -0.09, -0.02, -0.55, -0.14, -0.43, -2.01, -0.01, -0.34, -0.02, -0.73, -0.14, -0.13, -0.18, -0.32, -0.22, -0.13, -2.11, 0.01, -0.3, 1.1, -1.25, -2.27, -0.49, -0.12, -0.45, -0.76, -0.07, 0.16, -0.82, -0.34, -0.01, -0.01, -0.46, -1.06, -0.16, -0.12, -0.03, 0.07, -0.16, -0.26, -0.16, -0.0, -0.04, -0.12, -0.01, -0.18, -0.08, -0.57, -0.03, -0.06, -0.24, -0.02, -0.12, -0.02, -0.42, -0.94, -0.23, -0.05, -0.11, -0.19, -0.09, -0.02, -0.03, -0.11, -1.57, -0.15, -0.06, -0.05, -0.16, -1.28, -0.07, -0.05, -0.3, -0.12, -0.31, -0.02, -0.02]}, {\"mode\": \"lines\", \"name\": \"Trend\", \"type\": \"scatter\", \"x\": [0, 30], \"y\": [-0.06709047599442719, -1.0705561295735908]}],\n",
       "                        {\"template\": {\"data\": {\"bar\": [{\"error_x\": {\"color\": \"#2a3f5f\"}, \"error_y\": {\"color\": \"#2a3f5f\"}, \"marker\": {\"line\": {\"color\": \"#E5ECF6\", \"width\": 0.5}}, \"type\": \"bar\"}], \"barpolar\": [{\"marker\": {\"line\": {\"color\": \"#E5ECF6\", \"width\": 0.5}}, \"type\": \"barpolar\"}], \"carpet\": [{\"aaxis\": {\"endlinecolor\": \"#2a3f5f\", \"gridcolor\": \"white\", \"linecolor\": \"white\", \"minorgridcolor\": \"white\", \"startlinecolor\": \"#2a3f5f\"}, \"baxis\": {\"endlinecolor\": \"#2a3f5f\", \"gridcolor\": \"white\", \"linecolor\": \"white\", \"minorgridcolor\": \"white\", \"startlinecolor\": \"#2a3f5f\"}, \"type\": \"carpet\"}], \"choropleth\": [{\"colorbar\": {\"outlinewidth\": 0, \"ticks\": \"\"}, \"type\": \"choropleth\"}], \"contour\": [{\"colorbar\": {\"outlinewidth\": 0, \"ticks\": \"\"}, \"colorscale\": [[0.0, \"#0d0887\"], [0.1111111111111111, \"#46039f\"], [0.2222222222222222, \"#7201a8\"], [0.3333333333333333, \"#9c179e\"], [0.4444444444444444, \"#bd3786\"], [0.5555555555555556, \"#d8576b\"], [0.6666666666666666, \"#ed7953\"], [0.7777777777777778, \"#fb9f3a\"], [0.8888888888888888, \"#fdca26\"], [1.0, \"#f0f921\"]], \"type\": \"contour\"}], \"contourcarpet\": [{\"colorbar\": {\"outlinewidth\": 0, \"ticks\": \"\"}, \"type\": \"contourcarpet\"}], \"heatmap\": [{\"colorbar\": {\"outlinewidth\": 0, \"ticks\": \"\"}, \"colorscale\": [[0.0, \"#0d0887\"], [0.1111111111111111, \"#46039f\"], [0.2222222222222222, \"#7201a8\"], [0.3333333333333333, \"#9c179e\"], [0.4444444444444444, \"#bd3786\"], [0.5555555555555556, \"#d8576b\"], [0.6666666666666666, \"#ed7953\"], [0.7777777777777778, \"#fb9f3a\"], [0.8888888888888888, \"#fdca26\"], [1.0, \"#f0f921\"]], \"type\": \"heatmap\"}], \"heatmapgl\": [{\"colorbar\": {\"outlinewidth\": 0, \"ticks\": \"\"}, \"colorscale\": [[0.0, \"#0d0887\"], [0.1111111111111111, \"#46039f\"], [0.2222222222222222, \"#7201a8\"], [0.3333333333333333, \"#9c179e\"], [0.4444444444444444, \"#bd3786\"], [0.5555555555555556, \"#d8576b\"], [0.6666666666666666, \"#ed7953\"], [0.7777777777777778, \"#fb9f3a\"], [0.8888888888888888, \"#fdca26\"], [1.0, \"#f0f921\"]], \"type\": \"heatmapgl\"}], \"histogram\": [{\"marker\": {\"colorbar\": {\"outlinewidth\": 0, \"ticks\": \"\"}}, \"type\": \"histogram\"}], \"histogram2d\": [{\"colorbar\": {\"outlinewidth\": 0, \"ticks\": \"\"}, \"colorscale\": [[0.0, \"#0d0887\"], [0.1111111111111111, \"#46039f\"], [0.2222222222222222, \"#7201a8\"], [0.3333333333333333, \"#9c179e\"], [0.4444444444444444, \"#bd3786\"], [0.5555555555555556, \"#d8576b\"], [0.6666666666666666, \"#ed7953\"], [0.7777777777777778, \"#fb9f3a\"], [0.8888888888888888, \"#fdca26\"], [1.0, \"#f0f921\"]], \"type\": \"histogram2d\"}], \"histogram2dcontour\": [{\"colorbar\": {\"outlinewidth\": 0, \"ticks\": \"\"}, \"colorscale\": [[0.0, \"#0d0887\"], [0.1111111111111111, \"#46039f\"], [0.2222222222222222, \"#7201a8\"], [0.3333333333333333, \"#9c179e\"], [0.4444444444444444, \"#bd3786\"], [0.5555555555555556, \"#d8576b\"], [0.6666666666666666, \"#ed7953\"], [0.7777777777777778, \"#fb9f3a\"], [0.8888888888888888, \"#fdca26\"], [1.0, \"#f0f921\"]], \"type\": \"histogram2dcontour\"}], \"mesh3d\": [{\"colorbar\": {\"outlinewidth\": 0, \"ticks\": \"\"}, \"type\": \"mesh3d\"}], \"parcoords\": [{\"line\": {\"colorbar\": {\"outlinewidth\": 0, \"ticks\": \"\"}}, \"type\": \"parcoords\"}], \"scatter\": [{\"marker\": {\"colorbar\": {\"outlinewidth\": 0, \"ticks\": \"\"}}, \"type\": \"scatter\"}], \"scatter3d\": [{\"line\": {\"colorbar\": {\"outlinewidth\": 0, \"ticks\": \"\"}}, \"marker\": {\"colorbar\": {\"outlinewidth\": 0, \"ticks\": \"\"}}, \"type\": \"scatter3d\"}], \"scattercarpet\": [{\"marker\": {\"colorbar\": {\"outlinewidth\": 0, \"ticks\": \"\"}}, \"type\": \"scattercarpet\"}], \"scattergeo\": [{\"marker\": {\"colorbar\": {\"outlinewidth\": 0, \"ticks\": \"\"}}, \"type\": \"scattergeo\"}], \"scattergl\": [{\"marker\": {\"colorbar\": {\"outlinewidth\": 0, \"ticks\": \"\"}}, \"type\": \"scattergl\"}], \"scattermapbox\": [{\"marker\": {\"colorbar\": {\"outlinewidth\": 0, \"ticks\": \"\"}}, \"type\": \"scattermapbox\"}], \"scatterpolar\": [{\"marker\": {\"colorbar\": {\"outlinewidth\": 0, \"ticks\": \"\"}}, \"type\": \"scatterpolar\"}], \"scatterpolargl\": [{\"marker\": {\"colorbar\": {\"outlinewidth\": 0, \"ticks\": \"\"}}, \"type\": \"scatterpolargl\"}], \"scatterternary\": [{\"marker\": {\"colorbar\": {\"outlinewidth\": 0, \"ticks\": \"\"}}, \"type\": \"scatterternary\"}], \"surface\": [{\"colorbar\": {\"outlinewidth\": 0, \"ticks\": \"\"}, \"colorscale\": [[0.0, \"#0d0887\"], [0.1111111111111111, \"#46039f\"], [0.2222222222222222, \"#7201a8\"], [0.3333333333333333, \"#9c179e\"], [0.4444444444444444, \"#bd3786\"], [0.5555555555555556, \"#d8576b\"], [0.6666666666666666, \"#ed7953\"], [0.7777777777777778, \"#fb9f3a\"], [0.8888888888888888, \"#fdca26\"], [1.0, \"#f0f921\"]], \"type\": \"surface\"}], \"table\": [{\"cells\": {\"fill\": {\"color\": \"#EBF0F8\"}, \"line\": {\"color\": \"white\"}}, \"header\": {\"fill\": {\"color\": \"#C8D4E3\"}, \"line\": {\"color\": \"white\"}}, \"type\": \"table\"}]}, \"layout\": {\"annotationdefaults\": {\"arrowcolor\": \"#2a3f5f\", \"arrowhead\": 0, \"arrowwidth\": 1}, \"colorscale\": {\"diverging\": [[0, \"#8e0152\"], [0.1, \"#c51b7d\"], [0.2, \"#de77ae\"], [0.3, \"#f1b6da\"], [0.4, \"#fde0ef\"], [0.5, \"#f7f7f7\"], [0.6, \"#e6f5d0\"], [0.7, \"#b8e186\"], [0.8, \"#7fbc41\"], [0.9, \"#4d9221\"], [1, \"#276419\"]], \"sequential\": [[0.0, \"#0d0887\"], [0.1111111111111111, \"#46039f\"], [0.2222222222222222, \"#7201a8\"], [0.3333333333333333, \"#9c179e\"], [0.4444444444444444, \"#bd3786\"], [0.5555555555555556, \"#d8576b\"], [0.6666666666666666, \"#ed7953\"], [0.7777777777777778, \"#fb9f3a\"], [0.8888888888888888, \"#fdca26\"], [1.0, \"#f0f921\"]], \"sequentialminus\": [[0.0, \"#0d0887\"], [0.1111111111111111, \"#46039f\"], [0.2222222222222222, \"#7201a8\"], [0.3333333333333333, \"#9c179e\"], [0.4444444444444444, \"#bd3786\"], [0.5555555555555556, \"#d8576b\"], [0.6666666666666666, \"#ed7953\"], [0.7777777777777778, \"#fb9f3a\"], [0.8888888888888888, \"#fdca26\"], [1.0, \"#f0f921\"]]}, \"colorway\": [\"#636efa\", \"#EF553B\", \"#00cc96\", \"#ab63fa\", \"#FFA15A\", \"#19d3f3\", \"#FF6692\", \"#B6E880\", \"#FF97FF\", \"#FECB52\"], \"font\": {\"color\": \"#2a3f5f\"}, \"geo\": {\"bgcolor\": \"white\", \"lakecolor\": \"white\", \"landcolor\": \"#E5ECF6\", \"showlakes\": true, \"showland\": true, \"subunitcolor\": \"white\"}, \"hoverlabel\": {\"align\": \"left\"}, \"hovermode\": \"closest\", \"mapbox\": {\"style\": \"light\"}, \"paper_bgcolor\": \"white\", \"plot_bgcolor\": \"#E5ECF6\", \"polar\": {\"angularaxis\": {\"gridcolor\": \"white\", \"linecolor\": \"white\", \"ticks\": \"\"}, \"bgcolor\": \"#E5ECF6\", \"radialaxis\": {\"gridcolor\": \"white\", \"linecolor\": \"white\", \"ticks\": \"\"}}, \"scene\": {\"xaxis\": {\"backgroundcolor\": \"#E5ECF6\", \"gridcolor\": \"white\", \"gridwidth\": 2, \"linecolor\": \"white\", \"showbackground\": true, \"ticks\": \"\", \"zerolinecolor\": \"white\"}, \"yaxis\": {\"backgroundcolor\": \"#E5ECF6\", \"gridcolor\": \"white\", \"gridwidth\": 2, \"linecolor\": \"white\", \"showbackground\": true, \"ticks\": \"\", \"zerolinecolor\": \"white\"}, \"zaxis\": {\"backgroundcolor\": \"#E5ECF6\", \"gridcolor\": \"white\", \"gridwidth\": 2, \"linecolor\": \"white\", \"showbackground\": true, \"ticks\": \"\", \"zerolinecolor\": \"white\"}}, \"shapedefaults\": {\"line\": {\"color\": \"#2a3f5f\"}}, \"ternary\": {\"aaxis\": {\"gridcolor\": \"white\", \"linecolor\": \"white\", \"ticks\": \"\"}, \"baxis\": {\"gridcolor\": \"white\", \"linecolor\": \"white\", \"ticks\": \"\"}, \"bgcolor\": \"#E5ECF6\", \"caxis\": {\"gridcolor\": \"white\", \"linecolor\": \"white\", \"ticks\": \"\"}}, \"title\": {\"x\": 0.05}, \"xaxis\": {\"automargin\": true, \"gridcolor\": \"white\", \"linecolor\": \"white\", \"ticks\": \"\", \"zerolinecolor\": \"white\", \"zerolinewidth\": 2}, \"yaxis\": {\"automargin\": true, \"gridcolor\": \"white\", \"linecolor\": \"white\", \"ticks\": \"\", \"zerolinecolor\": \"white\", \"zerolinewidth\": 2}}}, \"title\": {\"text\": \"Monthly Precip Differece vs Monthly Snowfall\"}, \"xaxis\": {\"title\": {\"text\": \"Snowfall (inches)\"}}, \"yaxis\": {\"title\": {\"text\": \"Precip Difference (Inches)\"}}},\n",
       "                        {\"responsive\": true}\n",
       "                    ).then(function(){\n",
       "                            \n",
       "var gd = document.getElementById('e1910f5c-fd6d-436a-af91-03880c36df15');\n",
       "var x = new MutationObserver(function (mutations, observer) {{\n",
       "        var display = window.getComputedStyle(gd).display;\n",
       "        if (!display || display === 'none') {{\n",
       "            console.log([gd, 'removed!']);\n",
       "            Plotly.purge(gd);\n",
       "            observer.disconnect();\n",
       "        }}\n",
       "}});\n",
       "\n",
       "// Listen for the removal of the full notebook cells\n",
       "var notebookContainer = gd.closest('#notebook-container');\n",
       "if (notebookContainer) {{\n",
       "    x.observe(notebookContainer, {childList: true});\n",
       "}}\n",
       "\n",
       "// Listen for the clearing of the current output cell\n",
       "var outputEl = gd.closest('.output');\n",
       "if (outputEl) {{\n",
       "    x.observe(outputEl, {childList: true});\n",
       "}}\n",
       "\n",
       "                        })\n",
       "                };\n",
       "                });\n",
       "            </script>\n",
       "        </div>"
      ]
     },
     "metadata": {},
     "output_type": "display_data"
    }
   ],
   "source": [
    "trend_start = 0*trend.slope+trend.intercept\n",
    "trend_end = 23.51*trend.slope+trend.intercept\n",
    "precip_comp_fig.add_trace(go.Scatter(x=[0,30],y=[trend_start,trend_end],mode='lines',name='Trend'))\n",
    "precip_comp_fig.show()"
   ]
  },
  {
   "cell_type": "code",
   "execution_count": null,
   "metadata": {},
   "outputs": [],
   "source": [
    "snowfall_events_comp_fig = go.Figure(data=[go.Scatter()],\n",
    "                           layout=go.Layout(title=go.layout.Title(text='Monthly Precip Differece vs Monthly Snowfall'),\n",
    "                                           xaxis=go.layout.XAxis(title=go.layout.xaxis.Title(text='Snowfall Events (# of Occurences)')),\n",
    "                                           yaxis=go.layout.YAxis(title=go.layout.yaxis.Title(text='Precip Difference (Inches)'))))\n",
    "snowfall_events_comp_fi.add_trace(\n",
    "    go.Scatter(x=monthly_comp_precipy.snowfall,y=monthly_comp_precip.rez,\n",
    "              text=monthly_comp_precip.ym + '<b \\>'))\n"
   ]
  }
 ],
 "metadata": {
  "kernelspec": {
   "display_name": "Python 3",
   "language": "python",
   "name": "python3"
  },
  "language_info": {
   "codemirror_mode": {
    "name": "ipython",
    "version": 3
   },
   "file_extension": ".py",
   "mimetype": "text/x-python",
   "name": "python",
   "nbconvert_exporter": "python",
   "pygments_lexer": "ipython3",
   "version": "3.7.3"
  },
  "toc": {
   "base_numbering": 1,
   "nav_menu": {},
   "number_sections": true,
   "sideBar": true,
   "skip_h1_title": false,
   "title_cell": "Table of Contents",
   "title_sidebar": "Contents",
   "toc_cell": false,
   "toc_position": {},
   "toc_section_display": true,
   "toc_window_display": false
  },
  "varInspector": {
   "cols": {
    "lenName": 16,
    "lenType": 16,
    "lenVar": 40
   },
   "kernels_config": {
    "python": {
     "delete_cmd_postfix": "",
     "delete_cmd_prefix": "del ",
     "library": "var_list.py",
     "varRefreshCmd": "print(var_dic_list())"
    },
    "r": {
     "delete_cmd_postfix": ") ",
     "delete_cmd_prefix": "rm(",
     "library": "var_list.r",
     "varRefreshCmd": "cat(var_dic_list()) "
    }
   },
   "types_to_exclude": [
    "module",
    "function",
    "builtin_function_or_method",
    "instance",
    "_Feature"
   ],
   "window_display": false
  }
 },
 "nbformat": 4,
 "nbformat_minor": 2
}
