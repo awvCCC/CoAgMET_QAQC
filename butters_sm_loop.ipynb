{
 "cells": [
  {
   "cell_type": "code",
   "execution_count": 1,
   "metadata": {},
   "outputs": [],
   "source": [
    "import os\n",
    "import urllib\n",
    "import pandas as pd\n",
    "import numpy as np"
   ]
  },
  {
   "cell_type": "code",
   "execution_count": 3,
   "metadata": {},
   "outputs": [],
   "source": [
    "path = r'C:\\Users\\student\\Documents\\Alistair CoAgMET Projects\\Pythonstuff\\soilmoisture\\DrButters_data'\n",
    "os.chdir(path)\n",
    "\n",
    "csv = (r'C:\\Users\\student\\Documents\\Alistair CoAgMET Projects\\Pythonstuff\\soilmoisture\\DrButters_data' +\n",
    "       '\\csv.csv')\n",
    "\n",
    "f = open(csv,'w+')\n",
    "\n",
    "xl_file = (r'C:\\Users\\student\\Documents\\Alistair CoAgMET Projects\\Pythonstuff\\QC' + \n",
    "           '\\colocation_metadata.xlsx')"
   ]
  },
  {
   "cell_type": "code",
   "execution_count": 4,
   "metadata": {},
   "outputs": [],
   "source": [
    "xl = pd.ExcelFile(xl_file)\n",
    "\n",
    "meta = xl.parse('metadata')\n",
    "meta['sdate'] = meta.sdate.dt.date\n",
    "meta['edate'] = meta.edate.dt.date\n",
    "meta = meta.drop(meta.columns[3],axis=1)"
   ]
  },
  {
   "cell_type": "code",
   "execution_count": null,
   "metadata": {},
   "outputs": [],
   "source": [
    "n = 0\n",
    "for index,rows in meta.iterrows():\n",
    "    try:\n",
    "        print('Pulling meteorological data from ' + str(meta.ID[n]) + '...')\n",
    "        urllib.request.urlretrieve(\n",
    "            'http://coagmet.colostate.edu/cgi-bin/web_services.pl?type=soilmoisture_hourly&sids=' +\n",
    "            str(meta.ID[n]) + '&sdate=' + str(meta.sdate[n]) + '&edate=2018-12-31'\n",
    "            '&elems=tmean,rh,vp,st5,st15',filename=csv)\n",
    "        df = pd.read_csv(csv)\n",
    "        df = df.reset_index()\n",
    "        df.columns"
   ]
  }
 ],
 "metadata": {
  "kernelspec": {
   "display_name": "Python 3",
   "language": "python",
   "name": "python3"
  },
  "language_info": {
   "codemirror_mode": {
    "name": "ipython",
    "version": 3
   },
   "file_extension": ".py",
   "mimetype": "text/x-python",
   "name": "python",
   "nbconvert_exporter": "python",
   "pygments_lexer": "ipython3",
   "version": "3.7.3"
  },
  "toc": {
   "base_numbering": 1,
   "nav_menu": {},
   "number_sections": true,
   "sideBar": true,
   "skip_h1_title": false,
   "title_cell": "Table of Contents",
   "title_sidebar": "Contents",
   "toc_cell": false,
   "toc_position": {},
   "toc_section_display": true,
   "toc_window_display": false
  },
  "varInspector": {
   "cols": {
    "lenName": 16,
    "lenType": 16,
    "lenVar": 40
   },
   "kernels_config": {
    "python": {
     "delete_cmd_postfix": "",
     "delete_cmd_prefix": "del ",
     "library": "var_list.py",
     "varRefreshCmd": "print(var_dic_list())"
    },
    "r": {
     "delete_cmd_postfix": ") ",
     "delete_cmd_prefix": "rm(",
     "library": "var_list.r",
     "varRefreshCmd": "cat(var_dic_list()) "
    }
   },
   "types_to_exclude": [
    "module",
    "function",
    "builtin_function_or_method",
    "instance",
    "_Feature"
   ],
   "window_display": false
  }
 },
 "nbformat": 4,
 "nbformat_minor": 2
}
