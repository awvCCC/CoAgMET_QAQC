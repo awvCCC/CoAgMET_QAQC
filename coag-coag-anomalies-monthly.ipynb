{
 "cells": [
  {
   "cell_type": "code",
   "execution_count": 8,
   "metadata": {},
   "outputs": [],
   "source": [
    "import os\n",
    "import pandas as pd\n",
    "import numpy as np\n",
    "import urllib\n",
    "import seaborn as sns\n",
    "import matplotlib.pyplot as plt\n",
    "import calendar\n",
    "%matplotlib inline"
   ]
  },
  {
   "cell_type": "code",
   "execution_count": 9,
   "metadata": {},
   "outputs": [],
   "source": [
    "path = r'C:\\Users\\student\\Documents\\Alistair CoAgMET Projects\\Pythonstuff\\QC\\normals\\anomalies\\temperature_anomalies'\n",
    "\n",
    "avgt_figpath = r'C:\\Users\\student\\Documents\\Alistair CoAgMET Projects\\Pythonstuff\\QC\\normals\\anomalies\\temperature_anomalies\\figures\\monthly\\CoAg-CoAg'\n",
    "mint_figpath = r'C:\\Users\\student\\Documents\\Alistair CoAgMET Projects\\Pythonstuff\\QC\\minimums\\anomalies\\temperature_anomalies\\figures\\monthly\\CoAg-CoAg'\n",
    "maxt_figpath = r'C:\\Users\\student\\Documents\\Alistair CoAgMET Projects\\Pythonstuff\\QC\\maximums\\anomalies\\temperature_anomalies\\figures\\monthly\\CoAg-CoAg'\n",
    "\n",
    "avgt_tabpath = r'C:\\Users\\student\\Documents\\Alistair CoAgMET Projects\\Pythonstuff\\QC\\normals\\anomalies\\temperature_anomalies\\tables\\monthly\\CoAg-CoAg'\n",
    "mint_tabpath = r'C:\\Users\\student\\Documents\\Alistair CoAgMET Projects\\Pythonstuff\\QC\\minimums\\anomalies\\temperature_anomalies\\tables\\monthly\\CoAg-CoAg'\n",
    "maxt_tabpath = r'C:\\Users\\student\\Documents\\Alistair CoAgMET Projects\\Pythonstuff\\QC\\maximums\\anomalies\\temperature_anomalies\\tables\\monthly\\CoAg-CoAg'\n",
    "\n",
    "os.chdir(path)\n",
    "\n",
    "xl_file = r\"C:\\Users\\student\\Documents\\Alistair CoAgMET Projects\\Pythonstuff\\QC\\colocation_metadata.xlsx\"\n",
    "csv = r'C:\\Users\\student\\Documents\\Alistair CoAgMET Projects\\Pythonstuff\\QC\\normals\\anomalies\\temperature_anomalies\\vessel.csv'"
   ]
  },
  {
   "cell_type": "code",
   "execution_count": 10,
   "metadata": {},
   "outputs": [],
   "source": [
    "xl = pd.ExcelFile(xl_file)\n",
    "\n",
    "meta = xl.parse('metadata')\n",
    "meta['sdate'] = meta.sdate.dt.date\n",
    "meta['edate'] = meta.edate.dt.date\n",
    "meta = meta.drop(meta.columns[3],axis=1)"
   ]
  },
  {
   "cell_type": "code",
   "execution_count": 11,
   "metadata": {},
   "outputs": [
    {
     "name": "stdout",
     "output_type": "stream",
     "text": [
      "Grabbing CoAg data for AKR02\n",
      "Cleaning CoAg data for AKR02\n",
      "Calculating normals for AKR02\n",
      "Merging the observed data and normals for AKR02\n",
      "Cleaning up the merged dataset for AKR02\n",
      "Calculating average yearly anomalies for AKR02\n",
      "Storing average yearly anomaly tables for AKR02\n",
      "Visualizing and storing average yearly anomaly figures for AKR02\n",
      "Grabbing CoAg data for ALT01\n",
      "Cleaning CoAg data for ALT01\n",
      "Calculating normals for ALT01\n",
      "Merging the observed data and normals for ALT01\n",
      "Cleaning up the merged dataset for ALT01\n",
      "Calculating average yearly anomalies for ALT01\n",
      "Storing average yearly anomaly tables for ALT01\n",
      "Visualizing and storing average yearly anomaly figures for ALT01\n",
      "Grabbing CoAg data for AVN01\n",
      "Cleaning CoAg data for AVN01\n",
      "Calculating normals for AVN01\n",
      "Merging the observed data and normals for AVN01\n",
      "Cleaning up the merged dataset for AVN01\n",
      "Calculating average yearly anomalies for AVN01\n",
      "Storing average yearly anomaly tables for AVN01\n",
      "Visualizing and storing average yearly anomaly figures for AVN01\n",
      "Grabbing CoAg data for BNV01\n",
      "Cleaning CoAg data for BNV01\n",
      "Calculating normals for BNV01\n",
      "Merging the observed data and normals for BNV01\n",
      "Cleaning up the merged dataset for BNV01\n",
      "Calculating average yearly anomalies for BNV01\n",
      "Storing average yearly anomaly tables for BNV01\n",
      "Visualizing and storing average yearly anomaly figures for BNV01\n",
      "Grabbing CoAg data for BRG01\n",
      "Cleaning CoAg data for BRG01\n",
      "Calculating normals for BRG01\n",
      "Merging the observed data and normals for BRG01\n",
      "Cleaning up the merged dataset for BRG01\n",
      "Calculating average yearly anomalies for BRG01\n",
      "Storing average yearly anomaly tables for BRG01\n",
      "Visualizing and storing average yearly anomaly figures for BRG01\n",
      "Grabbing CoAg data for BRK01\n",
      "Cleaning CoAg data for BRK01\n",
      "Calculating normals for BRK01\n",
      "Merging the observed data and normals for BRK01\n",
      "Cleaning up the merged dataset for BRK01\n",
      "Calculating average yearly anomalies for BRK01\n",
      "Storing average yearly anomaly tables for BRK01\n",
      "Visualizing and storing average yearly anomaly figures for BRK01\n",
      "Grabbing CoAg data for BRL02\n",
      "Cleaning CoAg data for BRL02\n",
      "Calculating normals for BRL02\n",
      "Merging the observed data and normals for BRL02\n",
      "Cleaning up the merged dataset for BRL02\n",
      "Calculating average yearly anomalies for BRL02\n",
      "Storing average yearly anomaly tables for BRL02\n",
      "Visualizing and storing average yearly anomaly figures for BRL02\n",
      "Grabbing CoAg data for BRL03\n",
      "Cleaning CoAg data for BRL03\n",
      "Calculating normals for BRL03\n",
      "Merging the observed data and normals for BRL03\n",
      "Cleaning up the merged dataset for BRL03\n",
      "Calculating average yearly anomalies for BRL03\n",
      "Storing average yearly anomaly tables for BRL03\n",
      "Visualizing and storing average yearly anomaly figures for BRL03\n",
      "Grabbing CoAg data for CBL01\n",
      "Cleaning CoAg data for CBL01\n",
      "Calculating normals for CBL01\n",
      "Merging the observed data and normals for CBL01\n",
      "Cleaning up the merged dataset for CBL01\n",
      "Calculating average yearly anomalies for CBL01\n",
      "Storing average yearly anomaly tables for CBL01\n",
      "Visualizing and storing average yearly anomaly figures for CBL01\n",
      "Grabbing CoAg data for CKP01\n",
      "Cleaning CoAg data for CKP01\n",
      "Calculating normals for CKP01\n",
      "Merging the observed data and normals for CKP01\n",
      "Cleaning up the merged dataset for CKP01\n",
      "Calculating average yearly anomalies for CKP01\n",
      "Storing average yearly anomaly tables for CKP01\n",
      "Visualizing and storing average yearly anomaly figures for CKP01\n",
      "Grabbing CoAg data for CNN01\n",
      "Cleaning CoAg data for CNN01\n",
      "Calculating normals for CNN01\n",
      "Merging the observed data and normals for CNN01\n",
      "Cleaning up the merged dataset for CNN01\n",
      "Calculating average yearly anomalies for CNN01\n",
      "Storing average yearly anomaly tables for CNN01\n",
      "Visualizing and storing average yearly anomaly figures for CNN01\n",
      "Grabbing CoAg data for COW01\n",
      "Cleaning CoAg data for COW01\n",
      "Calculating normals for COW01\n",
      "Merging the observed data and normals for COW01\n",
      "Cleaning up the merged dataset for COW01\n",
      "Calculating average yearly anomalies for COW01\n",
      "Storing average yearly anomaly tables for COW01\n",
      "Visualizing and storing average yearly anomaly figures for COW01\n",
      "Grabbing CoAg data for CTR01\n",
      "Cleaning CoAg data for CTR01\n",
      "Calculating normals for CTR01\n",
      "Merging the observed data and normals for CTR01\n",
      "Cleaning up the merged dataset for CTR01\n",
      "Calculating average yearly anomalies for CTR01\n",
      "Storing average yearly anomaly tables for CTR01\n",
      "Visualizing and storing average yearly anomaly figures for CTR01\n",
      "Grabbing CoAg data for CTR02\n",
      "Cleaning CoAg data for CTR02\n",
      "Calculating normals for CTR02\n",
      "Merging the observed data and normals for CTR02\n",
      "Cleaning up the merged dataset for CTR02\n",
      "Calculating average yearly anomalies for CTR02\n",
      "Storing average yearly anomaly tables for CTR02\n",
      "Visualizing and storing average yearly anomaly figures for CTR02\n",
      "Grabbing CoAg data for CTZ01\n",
      "Cleaning CoAg data for CTZ01\n",
      "Calculating normals for CTZ01\n",
      "Merging the observed data and normals for CTZ01\n",
      "Cleaning up the merged dataset for CTZ01\n",
      "Calculating average yearly anomalies for CTZ01\n",
      "Storing average yearly anomaly tables for CTZ01\n",
      "Visualizing and storing average yearly anomaly figures for CTZ01\n",
      "Grabbing CoAg data for DLT01\n",
      "Cleaning CoAg data for DLT01\n",
      "Calculating normals for DLT01\n",
      "Merging the observed data and normals for DLT01\n",
      "Cleaning up the merged dataset for DLT01\n",
      "Calculating average yearly anomalies for DLT01\n",
      "Storing average yearly anomaly tables for DLT01\n",
      "Visualizing and storing average yearly anomaly figures for DLT01\n",
      "Grabbing CoAg data for DVC01\n",
      "Cleaning CoAg data for DVC01\n",
      "Calculating normals for DVC01\n",
      "Merging the observed data and normals for DVC01\n",
      "Cleaning up the merged dataset for DVC01\n",
      "Calculating average yearly anomalies for DVC01\n",
      "Storing average yearly anomaly tables for DVC01\n",
      "Visualizing and storing average yearly anomaly figures for DVC01\n",
      "Grabbing CoAg data for EAC01\n",
      "Cleaning CoAg data for EAC01\n",
      "Calculating normals for EAC01\n",
      "Merging the observed data and normals for EAC01\n",
      "Cleaning up the merged dataset for EAC01\n",
      "Calculating average yearly anomalies for EAC01\n",
      "Storing average yearly anomaly tables for EAC01\n",
      "Visualizing and storing average yearly anomaly figures for EAC01\n",
      "Grabbing CoAg data for EKT01\n",
      "Cleaning CoAg data for EKT01\n",
      "Calculating normals for EKT01\n",
      "Merging the observed data and normals for EKT01\n",
      "Cleaning up the merged dataset for EKT01\n",
      "Calculating average yearly anomalies for EKT01\n",
      "Storing average yearly anomaly tables for EKT01\n",
      "Visualizing and storing average yearly anomaly figures for EKT01\n",
      "Grabbing CoAg data for FRT02\n",
      "Cleaning CoAg data for FRT02\n",
      "Calculating normals for FRT02\n",
      "Merging the observed data and normals for FRT02\n",
      "Cleaning up the merged dataset for FRT02\n",
      "Calculating average yearly anomalies for FRT02\n",
      "Storing average yearly anomaly tables for FRT02\n",
      "Visualizing and storing average yearly anomaly figures for FRT02\n",
      "Grabbing CoAg data for FTC01\n",
      "Cleaning CoAg data for FTC01\n",
      "Calculating normals for FTC01\n",
      "Merging the observed data and normals for FTC01\n",
      "Cleaning up the merged dataset for FTC01\n",
      "Calculating average yearly anomalies for FTC01\n",
      "Storing average yearly anomaly tables for FTC01\n",
      "Visualizing and storing average yearly anomaly figures for FTC01\n",
      "Grabbing CoAg data for FTC03\n",
      "Cleaning CoAg data for FTC03\n",
      "Calculating normals for FTC03\n",
      "Merging the observed data and normals for FTC03\n",
      "Cleaning up the merged dataset for FTC03\n",
      "Calculating average yearly anomalies for FTC03\n",
      "Storing average yearly anomaly tables for FTC03\n",
      "Visualizing and storing average yearly anomaly figures for FTC03\n",
      "Grabbing CoAg data for FTL01\n",
      "Cleaning CoAg data for FTL01\n",
      "Calculating normals for FTL01\n",
      "Merging the observed data and normals for FTL01\n",
      "Cleaning up the merged dataset for FTL01\n",
      "Calculating average yearly anomalies for FTL01\n",
      "Storing average yearly anomaly tables for FTL01\n",
      "Visualizing and storing average yearly anomaly figures for FTL01\n",
      "Grabbing CoAg data for FWL01\n",
      "Cleaning CoAg data for FWL01\n",
      "Calculating normals for FWL01\n",
      "Merging the observed data and normals for FWL01\n",
      "Cleaning up the merged dataset for FWL01\n",
      "Calculating average yearly anomalies for FWL01\n",
      "Storing average yearly anomaly tables for FWL01\n",
      "Visualizing and storing average yearly anomaly figures for FWL01\n",
      "Grabbing CoAg data for GLY04\n",
      "Cleaning CoAg data for GLY04\n",
      "Calculating normals for GLY04\n",
      "Merging the observed data and normals for GLY04\n",
      "Cleaning up the merged dataset for GLY04\n",
      "Calculating average yearly anomalies for GLY04\n",
      "Storing average yearly anomaly tables for GLY04\n",
      "Visualizing and storing average yearly anomaly figures for GLY04\n"
     ]
    },
    {
     "name": "stdout",
     "output_type": "stream",
     "text": [
      "Grabbing CoAg data for GUN01\n",
      "Cleaning CoAg data for GUN01\n",
      "Calculating normals for GUN01\n",
      "Merging the observed data and normals for GUN01\n",
      "Cleaning up the merged dataset for GUN01\n",
      "Calculating average yearly anomalies for GUN01\n",
      "Storing average yearly anomaly tables for GUN01\n",
      "Visualizing and storing average yearly anomaly figures for GUN01\n",
      "Grabbing CoAg data for HEB01\n",
      "Cleaning CoAg data for HEB01\n",
      "Calculating normals for HEB01\n",
      "Merging the observed data and normals for HEB01\n",
      "Cleaning up the merged dataset for HEB01\n",
      "Calculating average yearly anomalies for HEB01\n",
      "Storing average yearly anomaly tables for HEB01\n",
      "Visualizing and storing average yearly anomaly figures for HEB01\n",
      "Grabbing CoAg data for HLY01\n",
      "Cleaning CoAg data for HLY01\n",
      "Calculating normals for HLY01\n",
      "Merging the observed data and normals for HLY01\n",
      "Cleaning up the merged dataset for HLY01\n",
      "Calculating average yearly anomalies for HLY01\n",
      "Storing average yearly anomaly tables for HLY01\n",
      "Visualizing and storing average yearly anomaly figures for HLY01\n",
      "Grabbing CoAg data for HLY02\n",
      "Cleaning CoAg data for HLY02\n",
      "Calculating normals for HLY02\n",
      "Merging the observed data and normals for HLY02\n",
      "Cleaning up the merged dataset for HLY02\n",
      "Calculating average yearly anomalies for HLY02\n",
      "Storing average yearly anomaly tables for HLY02\n",
      "Visualizing and storing average yearly anomaly figures for HLY02\n",
      "Grabbing CoAg data for HNE01\n",
      "Cleaning CoAg data for HNE01\n",
      "Calculating normals for HNE01\n",
      "Merging the observed data and normals for HNE01\n",
      "Cleaning up the merged dataset for HNE01\n",
      "Calculating average yearly anomalies for HNE01\n",
      "Storing average yearly anomaly tables for HNE01\n",
      "Visualizing and storing average yearly anomaly figures for HNE01\n",
      "Grabbing CoAg data for HOT01\n",
      "Cleaning CoAg data for HOT01\n",
      "Calculating normals for HOT01\n",
      "Merging the observed data and normals for HOT01\n",
      "Cleaning up the merged dataset for HOT01\n",
      "Calculating average yearly anomalies for HOT01\n",
      "Storing average yearly anomaly tables for HOT01\n",
      "Visualizing and storing average yearly anomaly figures for HOT01\n",
      "Grabbing CoAg data for HXT01\n",
      "Cleaning CoAg data for HXT01\n",
      "Calculating normals for HXT01\n",
      "Merging the observed data and normals for HXT01\n",
      "Cleaning up the merged dataset for HXT01\n",
      "Calculating average yearly anomalies for HXT01\n",
      "Storing average yearly anomaly tables for HXT01\n",
      "Visualizing and storing average yearly anomaly figures for HXT01\n",
      "Grabbing CoAg data for HYD01\n",
      "Cleaning CoAg data for HYD01\n",
      "Calculating normals for HYD01\n",
      "Merging the observed data and normals for HYD01\n",
      "Cleaning up the merged dataset for HYD01\n",
      "Calculating average yearly anomalies for HYD01\n",
      "Storing average yearly anomaly tables for HYD01\n",
      "Visualizing and storing average yearly anomaly figures for HYD01\n",
      "Grabbing CoAg data for HYK02\n",
      "Cleaning CoAg data for HYK02\n",
      "Calculating normals for HYK02\n",
      "Merging the observed data and normals for HYK02\n",
      "Cleaning up the merged dataset for HYK02\n",
      "Calculating average yearly anomalies for HYK02\n",
      "Storing average yearly anomaly tables for HYK02\n",
      "Visualizing and storing average yearly anomaly figures for HYK02\n",
      "Grabbing CoAg data for IDL01\n",
      "Cleaning CoAg data for IDL01\n",
      "Calculating normals for IDL01\n",
      "Merging the observed data and normals for IDL01\n",
      "Cleaning up the merged dataset for IDL01\n",
      "Calculating average yearly anomalies for IDL01\n",
      "Storing average yearly anomaly tables for IDL01\n",
      "Visualizing and storing average yearly anomaly figures for IDL01\n",
      "Grabbing CoAg data for ILF01\n",
      "Cleaning CoAg data for ILF01\n",
      "Calculating normals for ILF01\n",
      "Merging the observed data and normals for ILF01\n",
      "Cleaning up the merged dataset for ILF01\n",
      "Calculating average yearly anomalies for ILF01\n",
      "Storing average yearly anomaly tables for ILF01\n",
      "Visualizing and storing average yearly anomaly figures for ILF01\n",
      "Grabbing CoAg data for JFN01\n",
      "Cleaning CoAg data for JFN01\n",
      "Calculating normals for JFN01\n",
      "Merging the observed data and normals for JFN01\n",
      "Cleaning up the merged dataset for JFN01\n",
      "Calculating average yearly anomalies for JFN01\n",
      "Storing average yearly anomaly tables for JFN01\n",
      "Visualizing and storing average yearly anomaly figures for JFN01\n",
      "Grabbing CoAg data for KRK01\n",
      "Cleaning CoAg data for KRK01\n",
      "Calculating normals for KRK01\n",
      "Merging the observed data and normals for KRK01\n",
      "Cleaning up the merged dataset for KRK01\n",
      "Calculating average yearly anomalies for KRK01\n",
      "Storing average yearly anomaly tables for KRK01\n",
      "Visualizing and storing average yearly anomaly figures for KRK01\n",
      "Grabbing CoAg data for KSY01\n",
      "Cleaning CoAg data for KSY01\n",
      "Calculating normals for KSY01\n",
      "Merging the observed data and normals for KSY01\n",
      "Cleaning up the merged dataset for KSY01\n",
      "Calculating average yearly anomalies for KSY01\n",
      "Storing average yearly anomaly tables for KSY01\n",
      "Visualizing and storing average yearly anomaly figures for KSY01\n",
      "Grabbing CoAg data for KSY02\n",
      "Cleaning CoAg data for KSY02\n",
      "Calculating normals for KSY02\n",
      "Merging the observed data and normals for KSY02\n",
      "Cleaning up the merged dataset for KSY02\n",
      "Calculating average yearly anomalies for KSY02\n",
      "Storing average yearly anomaly tables for KSY02\n",
      "Visualizing and storing average yearly anomaly figures for KSY02\n",
      "Grabbing CoAg data for LAM01\n",
      "Cleaning CoAg data for LAM01\n",
      "Calculating normals for LAM01\n",
      "Merging the observed data and normals for LAM01\n",
      "Cleaning up the merged dataset for LAM01\n",
      "Calculating average yearly anomalies for LAM01\n",
      "Storing average yearly anomaly tables for LAM01\n",
      "Visualizing and storing average yearly anomaly figures for LAM01\n",
      "Grabbing CoAg data for LAM03\n",
      "Cleaning CoAg data for LAM03\n",
      "Calculating normals for LAM03\n",
      "Merging the observed data and normals for LAM03\n",
      "Cleaning up the merged dataset for LAM03\n",
      "Calculating average yearly anomalies for LAM03\n",
      "Storing average yearly anomaly tables for LAM03\n",
      "Visualizing and storing average yearly anomaly figures for LAM03\n",
      "Grabbing CoAg data for LAM04\n",
      "Cleaning CoAg data for LAM04\n",
      "Calculating normals for LAM04\n",
      "Merging the observed data and normals for LAM04\n",
      "Cleaning up the merged dataset for LAM04\n",
      "Calculating average yearly anomalies for LAM04\n",
      "Storing average yearly anomaly tables for LAM04\n",
      "Visualizing and storing average yearly anomaly figures for LAM04\n",
      "Grabbing CoAg data for LAR01\n",
      "Cleaning CoAg data for LAR01\n",
      "Calculating normals for LAR01\n",
      "Merging the observed data and normals for LAR01\n",
      "Cleaning up the merged dataset for LAR01\n",
      "Calculating average yearly anomalies for LAR01\n",
      "Storing average yearly anomaly tables for LAR01\n",
      "Visualizing and storing average yearly anomaly figures for LAR01\n",
      "Grabbing CoAg data for LCN01\n",
      "Cleaning CoAg data for LCN01\n",
      "Calculating normals for LCN01\n",
      "Merging the observed data and normals for LCN01\n",
      "Cleaning up the merged dataset for LCN01\n",
      "Calculating average yearly anomalies for LCN01\n",
      "Storing average yearly anomaly tables for LCN01\n",
      "Visualizing and storing average yearly anomaly figures for LCN01\n",
      "Grabbing CoAg data for LJR01\n",
      "Cleaning CoAg data for LJR01\n",
      "Calculating normals for LJR01\n",
      "Merging the observed data and normals for LJR01\n",
      "Cleaning up the merged dataset for LJR01\n",
      "Calculating average yearly anomalies for LJR01\n",
      "Storing average yearly anomaly tables for LJR01\n",
      "Visualizing and storing average yearly anomaly figures for LJR01\n",
      "Grabbing CoAg data for LJT01\n",
      "Cleaning CoAg data for LJT01\n",
      "Calculating normals for LJT01\n",
      "Merging the observed data and normals for LJT01\n",
      "Cleaning up the merged dataset for LJT01\n",
      "Calculating average yearly anomalies for LJT01\n",
      "Storing average yearly anomaly tables for LJT01\n",
      "Visualizing and storing average yearly anomaly figures for LJT01\n",
      "Grabbing CoAg data for LSL01\n",
      "Cleaning CoAg data for LSL01\n",
      "Calculating normals for LSL01\n",
      "Merging the observed data and normals for LSL01\n",
      "Cleaning up the merged dataset for LSL01\n",
      "Calculating average yearly anomalies for LSL01\n",
      "Storing average yearly anomaly tables for LSL01\n",
      "Visualizing and storing average yearly anomaly figures for LSL01\n",
      "Grabbing CoAg data for MCL01\n",
      "Cleaning CoAg data for MCL01\n",
      "Calculating normals for MCL01\n",
      "Merging the observed data and normals for MCL01\n",
      "Cleaning up the merged dataset for MCL01\n",
      "Calculating average yearly anomalies for MCL01\n",
      "Storing average yearly anomaly tables for MCL01\n",
      "Visualizing and storing average yearly anomaly figures for MCL01\n",
      "Grabbing CoAg data for MNC01\n",
      "Cleaning CoAg data for MNC01\n",
      "Calculating normals for MNC01\n",
      "Merging the observed data and normals for MNC01\n",
      "Cleaning up the merged dataset for MNC01\n",
      "Calculating average yearly anomalies for MNC01\n",
      "Storing average yearly anomaly tables for MNC01\n",
      "Visualizing and storing average yearly anomaly figures for MNC01\n"
     ]
    },
    {
     "name": "stdout",
     "output_type": "stream",
     "text": [
      "Grabbing CoAg data for MTR01\n",
      "Cleaning CoAg data for MTR01\n",
      "Calculating normals for MTR01\n",
      "Merging the observed data and normals for MTR01\n",
      "Cleaning up the merged dataset for MTR01\n",
      "Calculating average yearly anomalies for MTR01\n",
      "Storing average yearly anomaly tables for MTR01\n",
      "Visualizing and storing average yearly anomaly figures for MTR01\n",
      "Grabbing CoAg data for ORM01\n",
      "Cleaning CoAg data for ORM01\n",
      "Calculating normals for ORM01\n",
      "Merging the observed data and normals for ORM01\n",
      "Cleaning up the merged dataset for ORM01\n",
      "Calculating average yearly anomalies for ORM01\n",
      "Storing average yearly anomaly tables for ORM01\n",
      "Visualizing and storing average yearly anomaly figures for ORM01\n",
      "Grabbing CoAg data for OTH01\n",
      "Cleaning CoAg data for OTH01\n",
      "Calculating normals for OTH01\n",
      "Merging the observed data and normals for OTH01\n",
      "Cleaning up the merged dataset for OTH01\n",
      "Calculating average yearly anomalies for OTH01\n",
      "Storing average yearly anomaly tables for OTH01\n",
      "Visualizing and storing average yearly anomaly figures for OTH01\n",
      "Grabbing CoAg data for PAI01\n",
      "Cleaning CoAg data for PAI01\n",
      "Calculating normals for PAI01\n",
      "Merging the observed data and normals for PAI01\n",
      "Cleaning up the merged dataset for PAI01\n",
      "Calculating average yearly anomalies for PAI01\n",
      "Storing average yearly anomaly tables for PAI01\n",
      "Visualizing and storing average yearly anomaly figures for PAI01\n",
      "Grabbing CoAg data for PKH01\n",
      "Cleaning CoAg data for PKH01\n",
      "Calculating normals for PKH01\n",
      "Merging the observed data and normals for PKH01\n",
      "Cleaning up the merged dataset for PKH01\n",
      "Calculating average yearly anomalies for PKH01\n",
      "Storing average yearly anomaly tables for PKH01\n",
      "Visualizing and storing average yearly anomaly figures for PKH01\n",
      "Grabbing CoAg data for PKR01\n",
      "Cleaning CoAg data for PKR01\n",
      "Calculating normals for PKR01\n",
      "Merging the observed data and normals for PKR01\n",
      "Cleaning up the merged dataset for PKR01\n",
      "Calculating average yearly anomalies for PKR01\n",
      "Storing average yearly anomaly tables for PKR01\n",
      "Visualizing and storing average yearly anomaly figures for PKR01\n",
      "Grabbing CoAg data for PNR01\n",
      "Cleaning CoAg data for PNR01\n",
      "Calculating normals for PNR01\n",
      "Merging the observed data and normals for PNR01\n",
      "Cleaning up the merged dataset for PNR01\n",
      "Calculating average yearly anomalies for PNR01\n",
      "Storing average yearly anomaly tables for PNR01\n",
      "Visualizing and storing average yearly anomaly figures for PNR01\n",
      "Grabbing CoAg data for RFD01\n",
      "Cleaning CoAg data for RFD01\n",
      "Calculating normals for RFD01\n",
      "Merging the observed data and normals for RFD01\n",
      "Cleaning up the merged dataset for RFD01\n",
      "Calculating average yearly anomalies for RFD01\n",
      "Storing average yearly anomaly tables for RFD01\n",
      "Visualizing and storing average yearly anomaly figures for RFD01\n",
      "Grabbing CoAg data for SAN01\n",
      "Cleaning CoAg data for SAN01\n",
      "Calculating normals for SAN01\n",
      "Merging the observed data and normals for SAN01\n",
      "Cleaning up the merged dataset for SAN01\n",
      "Calculating average yearly anomalies for SAN01\n",
      "Storing average yearly anomaly tables for SAN01\n",
      "Visualizing and storing average yearly anomaly figures for SAN01\n",
      "Grabbing CoAg data for SBT01\n",
      "Cleaning CoAg data for SBT01\n",
      "Calculating normals for SBT01\n",
      "Merging the observed data and normals for SBT01\n",
      "Cleaning up the merged dataset for SBT01\n",
      "Calculating average yearly anomalies for SBT01\n",
      "Storing average yearly anomaly tables for SBT01\n",
      "Visualizing and storing average yearly anomaly figures for SBT01\n",
      "Grabbing CoAg data for SCM01\n",
      "Cleaning CoAg data for SCM01\n",
      "Calculating normals for SCM01\n",
      "Merging the observed data and normals for SCM01\n",
      "Cleaning up the merged dataset for SCM01\n",
      "Calculating average yearly anomalies for SCM01\n",
      "Storing average yearly anomaly tables for SCM01\n",
      "Visualizing and storing average yearly anomaly figures for SCM01\n",
      "Grabbing CoAg data for SLD01\n",
      "Cleaning CoAg data for SLD01\n",
      "Calculating normals for SLD01\n",
      "Merging the observed data and normals for SLD01\n",
      "Cleaning up the merged dataset for SLD01\n",
      "Calculating average yearly anomalies for SLD01\n",
      "Storing average yearly anomaly tables for SLD01\n",
      "Visualizing and storing average yearly anomaly figures for SLD01\n",
      "Grabbing CoAg data for SLT01\n",
      "Cleaning CoAg data for SLT01\n",
      "Calculating normals for SLT01\n",
      "Merging the observed data and normals for SLT01\n",
      "Cleaning up the merged dataset for SLT01\n",
      "Calculating average yearly anomalies for SLT01\n",
      "Storing average yearly anomaly tables for SLT01\n",
      "Visualizing and storing average yearly anomaly figures for SLT01\n",
      "Grabbing CoAg data for STG01\n",
      "Cleaning CoAg data for STG01\n",
      "Calculating normals for STG01\n",
      "Merging the observed data and normals for STG01\n",
      "Cleaning up the merged dataset for STG01\n",
      "Calculating average yearly anomalies for STG01\n",
      "Storing average yearly anomaly tables for STG01\n",
      "Visualizing and storing average yearly anomaly figures for STG01\n",
      "Grabbing CoAg data for STN01\n",
      "Cleaning CoAg data for STN01\n",
      "Calculating normals for STN01\n",
      "Merging the observed data and normals for STN01\n",
      "Cleaning up the merged dataset for STN01\n",
      "Calculating average yearly anomalies for STN01\n",
      "Storing average yearly anomaly tables for STN01\n",
      "Visualizing and storing average yearly anomaly figures for STN01\n",
      "Grabbing CoAg data for WCF01\n",
      "Cleaning CoAg data for WCF01\n",
      "Calculating normals for WCF01\n",
      "Merging the observed data and normals for WCF01\n",
      "Cleaning up the merged dataset for WCF01\n",
      "Calculating average yearly anomalies for WCF01\n",
      "Storing average yearly anomaly tables for WCF01\n",
      "Visualizing and storing average yearly anomaly figures for WCF01\n",
      "Grabbing CoAg data for WFD01\n",
      "Cleaning CoAg data for WFD01\n",
      "Calculating normals for WFD01\n",
      "Merging the observed data and normals for WFD01\n",
      "Cleaning up the merged dataset for WFD01\n",
      "Calculating average yearly anomalies for WFD01\n",
      "Storing average yearly anomaly tables for WFD01\n",
      "Visualizing and storing average yearly anomaly figures for WFD01\n",
      "Grabbing CoAg data for WLS01\n",
      "Cleaning CoAg data for WLS01\n",
      "Calculating normals for WLS01\n",
      "Merging the observed data and normals for WLS01\n",
      "Cleaning up the merged dataset for WLS01\n",
      "Calculating average yearly anomalies for WLS01\n",
      "Storing average yearly anomaly tables for WLS01\n",
      "Visualizing and storing average yearly anomaly figures for WLS01\n",
      "Grabbing CoAg data for YJK01\n",
      "Cleaning CoAg data for YJK01\n",
      "Calculating normals for YJK01\n",
      "Merging the observed data and normals for YJK01\n",
      "Cleaning up the merged dataset for YJK01\n",
      "Calculating average yearly anomalies for YJK01\n",
      "Storing average yearly anomaly tables for YJK01\n",
      "Visualizing and storing average yearly anomaly figures for YJK01\n",
      "Grabbing CoAg data for YUC01\n",
      "Cleaning CoAg data for YUC01\n",
      "Calculating normals for YUC01\n",
      "Merging the observed data and normals for YUC01\n",
      "Cleaning up the merged dataset for YUC01\n",
      "Calculating average yearly anomalies for YUC01\n",
      "Storing average yearly anomaly tables for YUC01\n",
      "Visualizing and storing average yearly anomaly figures for YUC01\n",
      "Grabbing CoAg data for YUM02\n",
      "Cleaning CoAg data for YUM02\n",
      "Calculating normals for YUM02\n",
      "Merging the observed data and normals for YUM02\n",
      "Cleaning up the merged dataset for YUM02\n",
      "Calculating average yearly anomalies for YUM02\n",
      "Storing average yearly anomaly tables for YUM02\n",
      "Visualizing and storing average yearly anomaly figures for YUM02\n"
     ]
    },
    {
     "data": {
      "text/plain": [
       "<Figure size 842.4x595.44 with 0 Axes>"
      ]
     },
     "metadata": {},
     "output_type": "display_data"
    },
    {
     "data": {
      "text/plain": [
       "<Figure size 842.4x595.44 with 0 Axes>"
      ]
     },
     "metadata": {},
     "output_type": "display_data"
    },
    {
     "data": {
      "text/plain": [
       "<Figure size 842.4x595.44 with 0 Axes>"
      ]
     },
     "metadata": {},
     "output_type": "display_data"
    },
    {
     "data": {
      "text/plain": [
       "<Figure size 842.4x595.44 with 0 Axes>"
      ]
     },
     "metadata": {},
     "output_type": "display_data"
    },
    {
     "data": {
      "text/plain": [
       "<Figure size 842.4x595.44 with 0 Axes>"
      ]
     },
     "metadata": {},
     "output_type": "display_data"
    },
    {
     "data": {
      "text/plain": [
       "<Figure size 842.4x595.44 with 0 Axes>"
      ]
     },
     "metadata": {},
     "output_type": "display_data"
    },
    {
     "data": {
      "text/plain": [
       "<Figure size 842.4x595.44 with 0 Axes>"
      ]
     },
     "metadata": {},
     "output_type": "display_data"
    },
    {
     "data": {
      "text/plain": [
       "<Figure size 842.4x595.44 with 0 Axes>"
      ]
     },
     "metadata": {},
     "output_type": "display_data"
    },
    {
     "data": {
      "text/plain": [
       "<Figure size 842.4x595.44 with 0 Axes>"
      ]
     },
     "metadata": {},
     "output_type": "display_data"
    },
    {
     "data": {
      "text/plain": [
       "<Figure size 842.4x595.44 with 0 Axes>"
      ]
     },
     "metadata": {},
     "output_type": "display_data"
    },
    {
     "data": {
      "text/plain": [
       "<Figure size 842.4x595.44 with 0 Axes>"
      ]
     },
     "metadata": {},
     "output_type": "display_data"
    },
    {
     "data": {
      "text/plain": [
       "<Figure size 842.4x595.44 with 0 Axes>"
      ]
     },
     "metadata": {},
     "output_type": "display_data"
    },
    {
     "data": {
      "text/plain": [
       "<Figure size 842.4x595.44 with 0 Axes>"
      ]
     },
     "metadata": {},
     "output_type": "display_data"
    },
    {
     "data": {
      "text/plain": [
       "<Figure size 842.4x595.44 with 0 Axes>"
      ]
     },
     "metadata": {},
     "output_type": "display_data"
    },
    {
     "data": {
      "text/plain": [
       "<Figure size 842.4x595.44 with 0 Axes>"
      ]
     },
     "metadata": {},
     "output_type": "display_data"
    },
    {
     "data": {
      "text/plain": [
       "<Figure size 842.4x595.44 with 0 Axes>"
      ]
     },
     "metadata": {},
     "output_type": "display_data"
    },
    {
     "data": {
      "text/plain": [
       "<Figure size 842.4x595.44 with 0 Axes>"
      ]
     },
     "metadata": {},
     "output_type": "display_data"
    },
    {
     "data": {
      "text/plain": [
       "<Figure size 842.4x595.44 with 0 Axes>"
      ]
     },
     "metadata": {},
     "output_type": "display_data"
    },
    {
     "data": {
      "text/plain": [
       "<Figure size 842.4x595.44 with 0 Axes>"
      ]
     },
     "metadata": {},
     "output_type": "display_data"
    },
    {
     "data": {
      "text/plain": [
       "<Figure size 842.4x595.44 with 0 Axes>"
      ]
     },
     "metadata": {},
     "output_type": "display_data"
    },
    {
     "data": {
      "text/plain": [
       "<Figure size 842.4x595.44 with 0 Axes>"
      ]
     },
     "metadata": {},
     "output_type": "display_data"
    },
    {
     "data": {
      "text/plain": [
       "<Figure size 842.4x595.44 with 0 Axes>"
      ]
     },
     "metadata": {},
     "output_type": "display_data"
    },
    {
     "data": {
      "text/plain": [
       "<Figure size 842.4x595.44 with 0 Axes>"
      ]
     },
     "metadata": {},
     "output_type": "display_data"
    },
    {
     "data": {
      "text/plain": [
       "<Figure size 842.4x595.44 with 0 Axes>"
      ]
     },
     "metadata": {},
     "output_type": "display_data"
    },
    {
     "data": {
      "text/plain": [
       "<Figure size 842.4x595.44 with 0 Axes>"
      ]
     },
     "metadata": {},
     "output_type": "display_data"
    },
    {
     "data": {
      "text/plain": [
       "<Figure size 842.4x595.44 with 0 Axes>"
      ]
     },
     "metadata": {},
     "output_type": "display_data"
    },
    {
     "data": {
      "text/plain": [
       "<Figure size 842.4x595.44 with 0 Axes>"
      ]
     },
     "metadata": {},
     "output_type": "display_data"
    },
    {
     "data": {
      "text/plain": [
       "<Figure size 842.4x595.44 with 0 Axes>"
      ]
     },
     "metadata": {},
     "output_type": "display_data"
    },
    {
     "data": {
      "text/plain": [
       "<Figure size 842.4x595.44 with 0 Axes>"
      ]
     },
     "metadata": {},
     "output_type": "display_data"
    },
    {
     "data": {
      "text/plain": [
       "<Figure size 842.4x595.44 with 0 Axes>"
      ]
     },
     "metadata": {},
     "output_type": "display_data"
    },
    {
     "data": {
      "text/plain": [
       "<Figure size 842.4x595.44 with 0 Axes>"
      ]
     },
     "metadata": {},
     "output_type": "display_data"
    },
    {
     "data": {
      "text/plain": [
       "<Figure size 842.4x595.44 with 0 Axes>"
      ]
     },
     "metadata": {},
     "output_type": "display_data"
    },
    {
     "data": {
      "text/plain": [
       "<Figure size 842.4x595.44 with 0 Axes>"
      ]
     },
     "metadata": {},
     "output_type": "display_data"
    },
    {
     "data": {
      "text/plain": [
       "<Figure size 842.4x595.44 with 0 Axes>"
      ]
     },
     "metadata": {},
     "output_type": "display_data"
    },
    {
     "data": {
      "text/plain": [
       "<Figure size 842.4x595.44 with 0 Axes>"
      ]
     },
     "metadata": {},
     "output_type": "display_data"
    },
    {
     "data": {
      "text/plain": [
       "<Figure size 842.4x595.44 with 0 Axes>"
      ]
     },
     "metadata": {},
     "output_type": "display_data"
    },
    {
     "data": {
      "text/plain": [
       "<Figure size 842.4x595.44 with 0 Axes>"
      ]
     },
     "metadata": {},
     "output_type": "display_data"
    },
    {
     "data": {
      "text/plain": [
       "<Figure size 842.4x595.44 with 0 Axes>"
      ]
     },
     "metadata": {},
     "output_type": "display_data"
    },
    {
     "data": {
      "text/plain": [
       "<Figure size 842.4x595.44 with 0 Axes>"
      ]
     },
     "metadata": {},
     "output_type": "display_data"
    },
    {
     "data": {
      "text/plain": [
       "<Figure size 842.4x595.44 with 0 Axes>"
      ]
     },
     "metadata": {},
     "output_type": "display_data"
    },
    {
     "data": {
      "text/plain": [
       "<Figure size 842.4x595.44 with 0 Axes>"
      ]
     },
     "metadata": {},
     "output_type": "display_data"
    },
    {
     "data": {
      "text/plain": [
       "<Figure size 842.4x595.44 with 0 Axes>"
      ]
     },
     "metadata": {},
     "output_type": "display_data"
    },
    {
     "data": {
      "text/plain": [
       "<Figure size 842.4x595.44 with 0 Axes>"
      ]
     },
     "metadata": {},
     "output_type": "display_data"
    },
    {
     "data": {
      "text/plain": [
       "<Figure size 842.4x595.44 with 0 Axes>"
      ]
     },
     "metadata": {},
     "output_type": "display_data"
    },
    {
     "data": {
      "text/plain": [
       "<Figure size 842.4x595.44 with 0 Axes>"
      ]
     },
     "metadata": {},
     "output_type": "display_data"
    },
    {
     "data": {
      "text/plain": [
       "<Figure size 842.4x595.44 with 0 Axes>"
      ]
     },
     "metadata": {},
     "output_type": "display_data"
    },
    {
     "data": {
      "text/plain": [
       "<Figure size 842.4x595.44 with 0 Axes>"
      ]
     },
     "metadata": {},
     "output_type": "display_data"
    },
    {
     "data": {
      "text/plain": [
       "<Figure size 842.4x595.44 with 0 Axes>"
      ]
     },
     "metadata": {},
     "output_type": "display_data"
    },
    {
     "data": {
      "text/plain": [
       "<Figure size 842.4x595.44 with 0 Axes>"
      ]
     },
     "metadata": {},
     "output_type": "display_data"
    },
    {
     "data": {
      "text/plain": [
       "<Figure size 842.4x595.44 with 0 Axes>"
      ]
     },
     "metadata": {},
     "output_type": "display_data"
    },
    {
     "data": {
      "text/plain": [
       "<Figure size 842.4x595.44 with 0 Axes>"
      ]
     },
     "metadata": {},
     "output_type": "display_data"
    },
    {
     "data": {
      "text/plain": [
       "<Figure size 842.4x595.44 with 0 Axes>"
      ]
     },
     "metadata": {},
     "output_type": "display_data"
    },
    {
     "data": {
      "text/plain": [
       "<Figure size 842.4x595.44 with 0 Axes>"
      ]
     },
     "metadata": {},
     "output_type": "display_data"
    },
    {
     "data": {
      "text/plain": [
       "<Figure size 842.4x595.44 with 0 Axes>"
      ]
     },
     "metadata": {},
     "output_type": "display_data"
    },
    {
     "data": {
      "text/plain": [
       "<Figure size 842.4x595.44 with 0 Axes>"
      ]
     },
     "metadata": {},
     "output_type": "display_data"
    },
    {
     "data": {
      "text/plain": [
       "<Figure size 842.4x595.44 with 0 Axes>"
      ]
     },
     "metadata": {},
     "output_type": "display_data"
    },
    {
     "data": {
      "text/plain": [
       "<Figure size 842.4x595.44 with 0 Axes>"
      ]
     },
     "metadata": {},
     "output_type": "display_data"
    },
    {
     "data": {
      "text/plain": [
       "<Figure size 842.4x595.44 with 0 Axes>"
      ]
     },
     "metadata": {},
     "output_type": "display_data"
    },
    {
     "data": {
      "text/plain": [
       "<Figure size 842.4x595.44 with 0 Axes>"
      ]
     },
     "metadata": {},
     "output_type": "display_data"
    },
    {
     "data": {
      "text/plain": [
       "<Figure size 842.4x595.44 with 0 Axes>"
      ]
     },
     "metadata": {},
     "output_type": "display_data"
    },
    {
     "data": {
      "text/plain": [
       "<Figure size 842.4x595.44 with 0 Axes>"
      ]
     },
     "metadata": {},
     "output_type": "display_data"
    },
    {
     "data": {
      "text/plain": [
       "<Figure size 842.4x595.44 with 0 Axes>"
      ]
     },
     "metadata": {},
     "output_type": "display_data"
    },
    {
     "data": {
      "text/plain": [
       "<Figure size 842.4x595.44 with 0 Axes>"
      ]
     },
     "metadata": {},
     "output_type": "display_data"
    },
    {
     "data": {
      "text/plain": [
       "<Figure size 842.4x595.44 with 0 Axes>"
      ]
     },
     "metadata": {},
     "output_type": "display_data"
    },
    {
     "data": {
      "text/plain": [
       "<Figure size 842.4x595.44 with 0 Axes>"
      ]
     },
     "metadata": {},
     "output_type": "display_data"
    },
    {
     "data": {
      "text/plain": [
       "<Figure size 842.4x595.44 with 0 Axes>"
      ]
     },
     "metadata": {},
     "output_type": "display_data"
    },
    {
     "data": {
      "text/plain": [
       "<Figure size 842.4x595.44 with 0 Axes>"
      ]
     },
     "metadata": {},
     "output_type": "display_data"
    },
    {
     "data": {
      "text/plain": [
       "<Figure size 842.4x595.44 with 0 Axes>"
      ]
     },
     "metadata": {},
     "output_type": "display_data"
    },
    {
     "data": {
      "text/plain": [
       "<Figure size 842.4x595.44 with 0 Axes>"
      ]
     },
     "metadata": {},
     "output_type": "display_data"
    },
    {
     "data": {
      "text/plain": [
       "<Figure size 842.4x595.44 with 0 Axes>"
      ]
     },
     "metadata": {},
     "output_type": "display_data"
    },
    {
     "data": {
      "text/plain": [
       "<Figure size 842.4x595.44 with 0 Axes>"
      ]
     },
     "metadata": {},
     "output_type": "display_data"
    },
    {
     "data": {
      "text/plain": [
       "<Figure size 842.4x595.44 with 0 Axes>"
      ]
     },
     "metadata": {},
     "output_type": "display_data"
    },
    {
     "data": {
      "text/plain": [
       "<Figure size 842.4x595.44 with 0 Axes>"
      ]
     },
     "metadata": {},
     "output_type": "display_data"
    },
    {
     "data": {
      "text/plain": [
       "<Figure size 842.4x595.44 with 0 Axes>"
      ]
     },
     "metadata": {},
     "output_type": "display_data"
    },
    {
     "data": {
      "text/plain": [
       "<Figure size 842.4x595.44 with 0 Axes>"
      ]
     },
     "metadata": {},
     "output_type": "display_data"
    },
    {
     "data": {
      "text/plain": [
       "<Figure size 842.4x595.44 with 0 Axes>"
      ]
     },
     "metadata": {},
     "output_type": "display_data"
    },
    {
     "data": {
      "text/plain": [
       "<Figure size 842.4x595.44 with 0 Axes>"
      ]
     },
     "metadata": {},
     "output_type": "display_data"
    },
    {
     "data": {
      "text/plain": [
       "<Figure size 842.4x595.44 with 0 Axes>"
      ]
     },
     "metadata": {},
     "output_type": "display_data"
    },
    {
     "data": {
      "text/plain": [
       "<Figure size 842.4x595.44 with 0 Axes>"
      ]
     },
     "metadata": {},
     "output_type": "display_data"
    },
    {
     "data": {
      "text/plain": [
       "<Figure size 842.4x595.44 with 0 Axes>"
      ]
     },
     "metadata": {},
     "output_type": "display_data"
    },
    {
     "data": {
      "text/plain": [
       "<Figure size 842.4x595.44 with 0 Axes>"
      ]
     },
     "metadata": {},
     "output_type": "display_data"
    },
    {
     "data": {
      "text/plain": [
       "<Figure size 842.4x595.44 with 0 Axes>"
      ]
     },
     "metadata": {},
     "output_type": "display_data"
    },
    {
     "data": {
      "text/plain": [
       "<Figure size 842.4x595.44 with 0 Axes>"
      ]
     },
     "metadata": {},
     "output_type": "display_data"
    },
    {
     "data": {
      "text/plain": [
       "<Figure size 842.4x595.44 with 0 Axes>"
      ]
     },
     "metadata": {},
     "output_type": "display_data"
    },
    {
     "data": {
      "text/plain": [
       "<Figure size 842.4x595.44 with 0 Axes>"
      ]
     },
     "metadata": {},
     "output_type": "display_data"
    },
    {
     "data": {
      "text/plain": [
       "<Figure size 842.4x595.44 with 0 Axes>"
      ]
     },
     "metadata": {},
     "output_type": "display_data"
    },
    {
     "data": {
      "text/plain": [
       "<Figure size 842.4x595.44 with 0 Axes>"
      ]
     },
     "metadata": {},
     "output_type": "display_data"
    },
    {
     "data": {
      "text/plain": [
       "<Figure size 842.4x595.44 with 0 Axes>"
      ]
     },
     "metadata": {},
     "output_type": "display_data"
    },
    {
     "data": {
      "text/plain": [
       "<Figure size 842.4x595.44 with 0 Axes>"
      ]
     },
     "metadata": {},
     "output_type": "display_data"
    },
    {
     "data": {
      "text/plain": [
       "<Figure size 842.4x595.44 with 0 Axes>"
      ]
     },
     "metadata": {},
     "output_type": "display_data"
    },
    {
     "data": {
      "text/plain": [
       "<Figure size 842.4x595.44 with 0 Axes>"
      ]
     },
     "metadata": {},
     "output_type": "display_data"
    },
    {
     "data": {
      "text/plain": [
       "<Figure size 842.4x595.44 with 0 Axes>"
      ]
     },
     "metadata": {},
     "output_type": "display_data"
    },
    {
     "data": {
      "text/plain": [
       "<Figure size 842.4x595.44 with 0 Axes>"
      ]
     },
     "metadata": {},
     "output_type": "display_data"
    },
    {
     "data": {
      "text/plain": [
       "<Figure size 842.4x595.44 with 0 Axes>"
      ]
     },
     "metadata": {},
     "output_type": "display_data"
    },
    {
     "data": {
      "text/plain": [
       "<Figure size 842.4x595.44 with 0 Axes>"
      ]
     },
     "metadata": {},
     "output_type": "display_data"
    },
    {
     "data": {
      "text/plain": [
       "<Figure size 842.4x595.44 with 0 Axes>"
      ]
     },
     "metadata": {},
     "output_type": "display_data"
    },
    {
     "data": {
      "text/plain": [
       "<Figure size 842.4x595.44 with 0 Axes>"
      ]
     },
     "metadata": {},
     "output_type": "display_data"
    },
    {
     "data": {
      "text/plain": [
       "<Figure size 842.4x595.44 with 0 Axes>"
      ]
     },
     "metadata": {},
     "output_type": "display_data"
    },
    {
     "data": {
      "text/plain": [
       "<Figure size 842.4x595.44 with 0 Axes>"
      ]
     },
     "metadata": {},
     "output_type": "display_data"
    },
    {
     "data": {
      "text/plain": [
       "<Figure size 842.4x595.44 with 0 Axes>"
      ]
     },
     "metadata": {},
     "output_type": "display_data"
    },
    {
     "data": {
      "text/plain": [
       "<Figure size 842.4x595.44 with 0 Axes>"
      ]
     },
     "metadata": {},
     "output_type": "display_data"
    },
    {
     "data": {
      "text/plain": [
       "<Figure size 842.4x595.44 with 0 Axes>"
      ]
     },
     "metadata": {},
     "output_type": "display_data"
    },
    {
     "data": {
      "text/plain": [
       "<Figure size 842.4x595.44 with 0 Axes>"
      ]
     },
     "metadata": {},
     "output_type": "display_data"
    },
    {
     "data": {
      "text/plain": [
       "<Figure size 842.4x595.44 with 0 Axes>"
      ]
     },
     "metadata": {},
     "output_type": "display_data"
    },
    {
     "data": {
      "text/plain": [
       "<Figure size 842.4x595.44 with 0 Axes>"
      ]
     },
     "metadata": {},
     "output_type": "display_data"
    },
    {
     "data": {
      "text/plain": [
       "<Figure size 842.4x595.44 with 0 Axes>"
      ]
     },
     "metadata": {},
     "output_type": "display_data"
    },
    {
     "data": {
      "text/plain": [
       "<Figure size 842.4x595.44 with 0 Axes>"
      ]
     },
     "metadata": {},
     "output_type": "display_data"
    },
    {
     "data": {
      "text/plain": [
       "<Figure size 842.4x595.44 with 0 Axes>"
      ]
     },
     "metadata": {},
     "output_type": "display_data"
    },
    {
     "data": {
      "text/plain": [
       "<Figure size 842.4x595.44 with 0 Axes>"
      ]
     },
     "metadata": {},
     "output_type": "display_data"
    },
    {
     "data": {
      "text/plain": [
       "<Figure size 842.4x595.44 with 0 Axes>"
      ]
     },
     "metadata": {},
     "output_type": "display_data"
    },
    {
     "data": {
      "text/plain": [
       "<Figure size 842.4x595.44 with 0 Axes>"
      ]
     },
     "metadata": {},
     "output_type": "display_data"
    },
    {
     "data": {
      "text/plain": [
       "<Figure size 842.4x595.44 with 0 Axes>"
      ]
     },
     "metadata": {},
     "output_type": "display_data"
    },
    {
     "data": {
      "text/plain": [
       "<Figure size 842.4x595.44 with 0 Axes>"
      ]
     },
     "metadata": {},
     "output_type": "display_data"
    },
    {
     "data": {
      "text/plain": [
       "<Figure size 842.4x595.44 with 0 Axes>"
      ]
     },
     "metadata": {},
     "output_type": "display_data"
    },
    {
     "data": {
      "text/plain": [
       "<Figure size 842.4x595.44 with 0 Axes>"
      ]
     },
     "metadata": {},
     "output_type": "display_data"
    },
    {
     "data": {
      "text/plain": [
       "<Figure size 842.4x595.44 with 0 Axes>"
      ]
     },
     "metadata": {},
     "output_type": "display_data"
    },
    {
     "data": {
      "text/plain": [
       "<Figure size 842.4x595.44 with 0 Axes>"
      ]
     },
     "metadata": {},
     "output_type": "display_data"
    },
    {
     "data": {
      "text/plain": [
       "<Figure size 842.4x595.44 with 0 Axes>"
      ]
     },
     "metadata": {},
     "output_type": "display_data"
    },
    {
     "data": {
      "text/plain": [
       "<Figure size 842.4x595.44 with 0 Axes>"
      ]
     },
     "metadata": {},
     "output_type": "display_data"
    },
    {
     "data": {
      "text/plain": [
       "<Figure size 842.4x595.44 with 0 Axes>"
      ]
     },
     "metadata": {},
     "output_type": "display_data"
    },
    {
     "data": {
      "text/plain": [
       "<Figure size 842.4x595.44 with 0 Axes>"
      ]
     },
     "metadata": {},
     "output_type": "display_data"
    },
    {
     "data": {
      "text/plain": [
       "<Figure size 842.4x595.44 with 0 Axes>"
      ]
     },
     "metadata": {},
     "output_type": "display_data"
    },
    {
     "data": {
      "text/plain": [
       "<Figure size 842.4x595.44 with 0 Axes>"
      ]
     },
     "metadata": {},
     "output_type": "display_data"
    },
    {
     "data": {
      "text/plain": [
       "<Figure size 842.4x595.44 with 0 Axes>"
      ]
     },
     "metadata": {},
     "output_type": "display_data"
    },
    {
     "data": {
      "text/plain": [
       "<Figure size 842.4x595.44 with 0 Axes>"
      ]
     },
     "metadata": {},
     "output_type": "display_data"
    },
    {
     "data": {
      "text/plain": [
       "<Figure size 842.4x595.44 with 0 Axes>"
      ]
     },
     "metadata": {},
     "output_type": "display_data"
    },
    {
     "data": {
      "text/plain": [
       "<Figure size 842.4x595.44 with 0 Axes>"
      ]
     },
     "metadata": {},
     "output_type": "display_data"
    },
    {
     "data": {
      "text/plain": [
       "<Figure size 842.4x595.44 with 0 Axes>"
      ]
     },
     "metadata": {},
     "output_type": "display_data"
    },
    {
     "data": {
      "text/plain": [
       "<Figure size 842.4x595.44 with 0 Axes>"
      ]
     },
     "metadata": {},
     "output_type": "display_data"
    },
    {
     "data": {
      "text/plain": [
       "<Figure size 842.4x595.44 with 0 Axes>"
      ]
     },
     "metadata": {},
     "output_type": "display_data"
    },
    {
     "data": {
      "text/plain": [
       "<Figure size 842.4x595.44 with 0 Axes>"
      ]
     },
     "metadata": {},
     "output_type": "display_data"
    },
    {
     "data": {
      "text/plain": [
       "<Figure size 842.4x595.44 with 0 Axes>"
      ]
     },
     "metadata": {},
     "output_type": "display_data"
    },
    {
     "data": {
      "text/plain": [
       "<Figure size 842.4x595.44 with 0 Axes>"
      ]
     },
     "metadata": {},
     "output_type": "display_data"
    },
    {
     "data": {
      "text/plain": [
       "<Figure size 842.4x595.44 with 0 Axes>"
      ]
     },
     "metadata": {},
     "output_type": "display_data"
    },
    {
     "data": {
      "text/plain": [
       "<Figure size 842.4x595.44 with 0 Axes>"
      ]
     },
     "metadata": {},
     "output_type": "display_data"
    },
    {
     "data": {
      "text/plain": [
       "<Figure size 842.4x595.44 with 0 Axes>"
      ]
     },
     "metadata": {},
     "output_type": "display_data"
    },
    {
     "data": {
      "text/plain": [
       "<Figure size 842.4x595.44 with 0 Axes>"
      ]
     },
     "metadata": {},
     "output_type": "display_data"
    },
    {
     "data": {
      "text/plain": [
       "<Figure size 842.4x595.44 with 0 Axes>"
      ]
     },
     "metadata": {},
     "output_type": "display_data"
    },
    {
     "data": {
      "text/plain": [
       "<Figure size 842.4x595.44 with 0 Axes>"
      ]
     },
     "metadata": {},
     "output_type": "display_data"
    },
    {
     "data": {
      "text/plain": [
       "<Figure size 842.4x595.44 with 0 Axes>"
      ]
     },
     "metadata": {},
     "output_type": "display_data"
    },
    {
     "data": {
      "text/plain": [
       "<Figure size 842.4x595.44 with 0 Axes>"
      ]
     },
     "metadata": {},
     "output_type": "display_data"
    },
    {
     "data": {
      "text/plain": [
       "<Figure size 842.4x595.44 with 0 Axes>"
      ]
     },
     "metadata": {},
     "output_type": "display_data"
    }
   ],
   "source": [
    "sns.set_style('dark')\n",
    "n=0\n",
    "for index,rows in meta.iterrows():\n",
    "    try:\n",
    "        print('Grabbing CoAg data for ' + str(meta.ID[n]))\n",
    "        urllib.request.urlretrieve(\n",
    "            'http://coagmet.colostate.edu/cgi-bin/web_services.pl?type=daily&sids=' + str(meta.ID[n]) + '&sdate=' + str(meta.sdate[n]) + '&edate=' + str(meta.edate[n]) + '&elems=tave,tmax,tmin',\n",
    "            filename=csv)\n",
    "        coag = pd.read_csv(csv)\n",
    "        coag = coag.reset_index()\n",
    "    except Exception as e:\n",
    "        print('Something went wrong while calling the CoAg data for ' + str(meta.ID[n]) + ': ' + e.args[0])\n",
    "    try:\n",
    "        print('Cleaning CoAg data for ' + str(meta.ID[n]))\n",
    "        coag.columns.values[0] = 'station'\n",
    "        coag.columns.values[1] = 'date'\n",
    "        coag.columns.values[2] = 'CoAg_tmean'\n",
    "        coag.columns.values[3] = 'CoAg_tmax'\n",
    "        coag.columns.values[4] = 'CoAg_tmin'\n",
    "\n",
    "        coag['date'] = pd.to_datetime(coag.date)\n",
    "        coag['julian'] = coag.date.dt.strftime('%j')\n",
    "\n",
    "        coag.CoAg_tmean = coag.CoAg_tmean.astype(float)\n",
    "        coag.CoAg_tmax = coag.CoAg_tmax.astype(float)\n",
    "        coag.CoAg_tmin = coag.CoAg_tmin.astype(float)\n",
    "\n",
    "        coag.CoAg_tmean = 32 + (coag.CoAg_tmean * (9/5))\n",
    "        coag.CoAg_tmax = 32 + (coag.CoAg_tmax * (9/5))\n",
    "        coag.CoAg_tmin = 32 + (coag.CoAg_tmin * (9/5))\n",
    "\n",
    "        coag=coag[:-1]\n",
    "    except Exception as e:\n",
    "        print('Something went wrong while cleaning the CoAg data for ' + str(meta.ID[n]) + ': ' + e.args[0])\n",
    "    try:\n",
    "        print('Calculating normals for ' + str(meta.ID[n]))\n",
    "        normal = coag.groupby(['julian']).mean().reset_index()\n",
    "    except Exception as e:\n",
    "        print('Something went wrong while calculating normals for ' + str(meta.ID[n]) + ': ' + e.args[0])\n",
    "    try:\n",
    "        print('Merging the observed data and normals for ' + str(meta.ID[n]))\n",
    "        anomaly = coag.merge(normal,'outer',left_on='julian',right_on='julian',suffixes=('_observed','_normal'))\n",
    "    except Exception as e:\n",
    "        print('Something went wrong while merging the observed data and normals for ' + str(meta.ID[n]) + ': ' + e.args[0])\n",
    "    try:\n",
    "        print('Cleaning up the merged dataset for ' + str(meta.ID[n]))\n",
    "        avgt_only = ['CoAg_tmax_observed','CoAg_tmin_observed','CoAg_tmax_normal','CoAg_tmin_normal']\n",
    "        maxt_only = ['CoAg_tmean_observed','CoAg_tmin_observed','CoAg_tmean_normal','CoAg_tmin_normal']\n",
    "        mint_only = ['CoAg_tmean_observed','CoAg_tmax_observed','CoAg_tmean_normal','CoAg_tmax_normal']\n",
    "\n",
    "        avgt_anomaly = anomaly.drop(avgt_only, axis=1)\n",
    "        maxt_anomaly = anomaly.drop(maxt_only, axis=1)\n",
    "        mint_anomaly = anomaly.drop(mint_only, axis=1)\n",
    "\n",
    "        avgt_anomaly = avgt_anomaly[['date','julian','CoAg_tmean_observed','CoAg_tmean_normal']]\n",
    "        maxt_anomaly = maxt_anomaly[['date','julian','CoAg_tmax_observed','CoAg_tmax_normal']]\n",
    "        mint_anomaly = mint_anomaly[['date','julian','CoAg_tmin_observed','CoAg_tmin_normal']]\n",
    "\n",
    "        avgt_anomaly['anomaly'] = avgt_anomaly['CoAg_tmean_observed'] - avgt_anomaly['CoAg_tmean_normal']\n",
    "        maxt_anomaly['anomaly'] = maxt_anomaly['CoAg_tmax_observed'] - maxt_anomaly['CoAg_tmax_normal']\n",
    "        mint_anomaly['anomaly'] = mint_anomaly['CoAg_tmin_observed'] - mint_anomaly['CoAg_tmin_normal']\n",
    "\n",
    "        avgt_anomaly['date'] = pd.to_datetime(avgt_anomaly.date)\n",
    "        maxt_anomaly['date'] = pd.to_datetime(maxt_anomaly.date)\n",
    "        mint_anomaly['date'] = pd.to_datetime(mint_anomaly.date)\n",
    "        \n",
    "        avgt_anomaly['year'] = avgt_anomaly.date.dt.year\n",
    "        maxt_anomaly['year'] = maxt_anomaly.date.dt.year\n",
    "        mint_anomaly['year'] = mint_anomaly.date.dt.year\n",
    "        \n",
    "        avgt_anomaly['month'] = avgt_anomaly.date.dt.month\n",
    "        maxt_anomaly['month'] = maxt_anomaly.date.dt.month\n",
    "        mint_anomaly['month'] = mint_anomaly.date.dt.month\n",
    "        \n",
    "        avgt_anomaly['month'] = avgt_anomaly['month'].apply(lambda x: calendar.month_abbr[x])\n",
    "        maxt_anomaly['month'] = maxt_anomaly['month'].apply(lambda x: calendar.month_abbr[x])\n",
    "        mint_anomaly['month'] = mint_anomaly['month'].apply(lambda x: calendar.month_abbr[x])\n",
    "    except Exception as e:\n",
    "        print('Something went wrong while cleaning up the merged dataset for ' + str(meta.ID[n]) + ': ' + e.args[0])\n",
    "    try:\n",
    "        print('Calculating average yearly anomalies for ' + str(meta.ID[n]))\n",
    "        ya_avgt_anomaly = avgt_anomaly.groupby(['month']).mean().reset_index()\n",
    "        ya_maxt_anomaly = maxt_anomaly.groupby(['month']).mean().reset_index()\n",
    "        ya_mint_anomaly = mint_anomaly.groupby(['month']).mean().reset_index()\n",
    "    except Exception as e:\n",
    "        print('Something went wrong while calculating average yearly anomalies for ' + str(meta.ID[n]) + ': ' + e.args[0])\n",
    "    try:\n",
    "        print('Storing average yearly anomaly tables for ' + str(meta.ID[n]))\n",
    "        ya_avgt_anomaly.to_csv(avgt_tabpath + r'\\CoAg-CoAg_' + str(meta.ID[n]) + '_avgt_monthly_anomaly.csv')\n",
    "        ya_maxt_anomaly.to_csv(maxt_tabpath + r'\\CoAg-CoAg_' + str(meta.ID[n]) + '_maxt_monthly_anomaly.csv')\n",
    "        ya_mint_anomaly.to_csv(mint_tabpath + r'\\CoAg-CoAg_' + str(meta.ID[n]) + '_mint_monthly_anomaly.csv')\n",
    "    except Exception as e:\n",
    "        print('Something went wrong while storing the average yearly anomaly tables for ' + str(meta.ID[n]) + ': ' + e.args[0])\n",
    "    try:\n",
    "        print('Visualizing and storing average yearly anomaly figures for ' + str(meta.ID[n]))\n",
    "        avgt_ax = sns.catplot(x='month',y='anomaly',data=ya_avgt_anomaly,kind='bar',palette='colorblind',height=8.27,aspect=11.7/8.27)\n",
    "        plt.title(str(meta.ID[n]) + ' - Monthly Average Daily Temperature Anomaly')\n",
    "        plt.ylabel('Monthly Deviation from Daily Average Temperature Normals (°F)')\n",
    "        plt.xlabel('Month')\n",
    "        plt.savefig(avgt_figpath + r'\\CoAg-CoAg_' + str(meta.ID[n]) + '_avgt_monthly_anomaly.png',bbox_inches='tight')\n",
    "        plt.clf()\n",
    "        maxt_ax = sns.catplot(x='month',y='anomaly', data=ya_maxt_anomaly,kind='bar',palette='colorblind',height=8.27,aspect=11.7/8.27)\n",
    "        plt.title(str(meta.ID[n]) + ' - Monthly Average Maximum Temperature Anomaly')\n",
    "        plt.ylabel('Monthly Deviation from Daily Maximum Temperature Normals (°F)')\n",
    "        plt.xlabel('Month')\n",
    "        plt.savefig(maxt_figpath + r'\\CoAg-CoAg_' + str(meta.ID[n]) + '_maxt_monthly_anomaly.png', bbox_inches='tight')\n",
    "        plt.clf()\n",
    "        mint_ax = sns.catplot(x='month',y='anomaly',data=ya_mint_anomaly,kind='bar',palette='colorblind',height=8.27,aspect=11.7/8.27)\n",
    "        plt.title(str(meta.ID[n]) + ' - Monthly Average Minimum Temperature Anomaly')\n",
    "        plt.ylabel('Monthly Deviation from Daily Minimum Temperature Normals (°F)')\n",
    "        plt.xlabel('Month')\n",
    "        plt.savefig(mint_figpath + r'\\CoAg-CoAg_' + str(meta.ID[n]) + '_mint_monthly_anomaly.png',bbox_inches='tight')\n",
    "        plt.close()\n",
    "    except Exception as e:\n",
    "        print('Something went wrong while visualizing and storing the anomaly data for ' + str(meta.ID[n]) + ': ' + e.args[0])\n",
    "    n=n+1"
   ]
  },
  {
   "cell_type": "code",
   "execution_count": null,
   "metadata": {},
   "outputs": [],
   "source": []
  },
  {
   "cell_type": "code",
   "execution_count": null,
   "metadata": {},
   "outputs": [],
   "source": []
  }
 ],
 "metadata": {
  "kernelspec": {
   "display_name": "Python 3",
   "language": "python",
   "name": "python3"
  },
  "language_info": {
   "codemirror_mode": {
    "name": "ipython",
    "version": 3
   },
   "file_extension": ".py",
   "mimetype": "text/x-python",
   "name": "python",
   "nbconvert_exporter": "python",
   "pygments_lexer": "ipython3",
   "version": "3.7.3"
  }
 },
 "nbformat": 4,
 "nbformat_minor": 2
}
