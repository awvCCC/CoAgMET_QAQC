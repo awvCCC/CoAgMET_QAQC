{
 "cells": [
  {
   "cell_type": "code",
   "execution_count": 1,
   "metadata": {},
   "outputs": [],
   "source": [
    "import os\n",
    "import urllib\n",
    "import pandas as pd\n",
    "import numpy as np"
   ]
  },
  {
   "cell_type": "code",
   "execution_count": 1,
   "metadata": {},
   "outputs": [],
   "source": [
    "def Rso (J,lat,z):\n",
    "    '''Calculates daily clear sky radiation for a given julian(n), latitude(decimal degrees), \n",
    "    and elevation (meters above sea level)'''\n",
    "    \n",
    "    soco = 0.082\n",
    "    # solar constant = 0.0820 MJ m-2 min-1\n",
    "    \n",
    "    latrad = (np.pi / 180) * lat\n",
    "    # converts decimal degrees to radians\n",
    "    \n",
    "    inv_rel_d = 1 + (0.033 * np.cos(((2 * np.pi) / 365) * J))\n",
    "    # calculates Earth-Sun inverse relative distance\n",
    "    \n",
    "    sodec = 0.409 * np.sin((((2 * np.pi) / 365) * (J - 1.39)))\n",
    "    # calculates solar declination\n",
    "     \n",
    "    sha = np.arccos((-np.tan(latrad)) * (np.tan(sodec)))\n",
    "    # calculates sunset hour angle\n",
    "    \n",
    "    Ra = (((24 * 60) / np.pi) * soco * inv_rel_d * (\n",
    "        (sha * np.sin(latrad) * np.sin(sodec)) + (np.cos(latrad) * np.cos(sha))))\n",
    "    # Calculates daily shortwave radiation (MJ m-2 day-1)\n",
    "    \n",
    "    \n",
    "    Rso = (0.75 + (2e-5 * z)) * Ra  \n",
    "    # Calculates daily clear sky solar radiation (MJ m-2 day-1)\n",
    "    \n",
    "    return Rso"
   ]
  }
 ],
 "metadata": {
  "kernelspec": {
   "display_name": "Python 3",
   "language": "python",
   "name": "python3"
  },
  "language_info": {
   "codemirror_mode": {
    "name": "ipython",
    "version": 3
   },
   "file_extension": ".py",
   "mimetype": "text/x-python",
   "name": "python",
   "nbconvert_exporter": "python",
   "pygments_lexer": "ipython3",
   "version": "3.7.3"
  },
  "toc": {
   "base_numbering": 1,
   "nav_menu": {},
   "number_sections": true,
   "sideBar": true,
   "skip_h1_title": false,
   "title_cell": "Table of Contents",
   "title_sidebar": "Contents",
   "toc_cell": false,
   "toc_position": {},
   "toc_section_display": true,
   "toc_window_display": false
  },
  "varInspector": {
   "cols": {
    "lenName": 16,
    "lenType": 16,
    "lenVar": 40
   },
   "kernels_config": {
    "python": {
     "delete_cmd_postfix": "",
     "delete_cmd_prefix": "del ",
     "library": "var_list.py",
     "varRefreshCmd": "print(var_dic_list())"
    },
    "r": {
     "delete_cmd_postfix": ") ",
     "delete_cmd_prefix": "rm(",
     "library": "var_list.r",
     "varRefreshCmd": "cat(var_dic_list()) "
    }
   },
   "types_to_exclude": [
    "module",
    "function",
    "builtin_function_or_method",
    "instance",
    "_Feature"
   ],
   "window_display": false
  }
 },
 "nbformat": 4,
 "nbformat_minor": 2
}
