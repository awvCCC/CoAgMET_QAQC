{
 "cells": [
  {
   "cell_type": "code",
   "execution_count": 4,
   "metadata": {},
   "outputs": [],
   "source": [
    "import os\n",
    "import pandas as pd"
   ]
  },
  {
   "cell_type": "code",
   "execution_count": 5,
   "metadata": {},
   "outputs": [],
   "source": [
    "xl_file = r\"C:\\Users\\student\\Documents\\Alistair CoAgMET Projects\\Pythonstuff\\QC\\colocation_metadata.xlsx\"\n",
    "xl = pd.ExcelFile(xl_file)\n",
    "path = r'C:\\Users\\student\\Documents\\Alistair CoAgMET Projects\\Pythonstuff\\QC\\windQC'\n",
    "\n",
    "\n",
    "meta = xl.parse('metadata')\n",
    "meta['sdate'] = meta.sdate.dt.date\n",
    "meta['edate'] = meta.edate.dt.date\n",
    "meat = meta.drop(meta.columns[3],axis=1)"
   ]
  },
  {
   "cell_type": "code",
   "execution_count": 9,
   "metadata": {},
   "outputs": [],
   "source": [
    "n=0\n",
    "for index,rows in meta.iterrows():\n",
    "    os.mkdir(path + r'\\windqc_' + str(meta.ID[n]))\n",
    "    n=n+1"
   ]
  },
  {
   "cell_type": "code",
   "execution_count": null,
   "metadata": {},
   "outputs": [],
   "source": []
  }
 ],
 "metadata": {
  "kernelspec": {
   "display_name": "Python 3",
   "language": "python",
   "name": "python3"
  },
  "language_info": {
   "codemirror_mode": {
    "name": "ipython",
    "version": 3
   },
   "file_extension": ".py",
   "mimetype": "text/x-python",
   "name": "python",
   "nbconvert_exporter": "python",
   "pygments_lexer": "ipython3",
   "version": "3.7.3"
  }
 },
 "nbformat": 4,
 "nbformat_minor": 2
}
