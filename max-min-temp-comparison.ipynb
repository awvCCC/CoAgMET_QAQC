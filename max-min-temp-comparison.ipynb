{
 "cells": [
  {
   "cell_type": "code",
   "execution_count": 89,
   "metadata": {},
   "outputs": [],
   "source": [
    "import os\n",
    "import urllib\n",
    "import pandas as pd\n",
    "import numpy as np\n",
    "import plotly.graph_objects as go\n",
    "import calendar"
   ]
  },
  {
   "cell_type": "code",
   "execution_count": 90,
   "metadata": {},
   "outputs": [],
   "source": [
    "path = r'C:\\Users\\student\\Documents\\Alistair CoAgMET Projects\\Pythonstuff\\TempComparison'\n",
    "os.chdir(path)\n",
    "\n",
    "csv = (path + r'\\csv.csv')\n",
    "f = open(csv,'w+')"
   ]
  },
  {
   "cell_type": "code",
   "execution_count": 91,
   "metadata": {},
   "outputs": [],
   "source": [
    "urllib.request.urlretrieve(\n",
    "    'http://coagmet.colostate.edu/cgi-bin/web_services.pl?type=daily&sids=akr02&sdate=1992-07-01' +\n",
    "    '&edate=2018-12-31&elems=tave,tmax,tmin',filename=csv)\n",
    "coag_df = pd.read_csv(csv)\n",
    "coag_df = coag_df.reset_index()\n",
    "coag_df.columns = ['station','date','tave','tmax','tmin']\n",
    "coag_df['date'] = pd.to_datetime(coag_df.date,errors='coerce')\n",
    "\n",
    "coag_df.tave = 32 + (coag_df.tave * (9/5))\n",
    "coag_df.tmax = 32 + (coag_df.tmax * (9/5))\n",
    "coag_df.tmin = 32 + (coag_df.tmin * (9/5))"
   ]
  },
  {
   "cell_type": "code",
   "execution_count": 92,
   "metadata": {},
   "outputs": [],
   "source": [
    "urllib.request.urlretrieve(\n",
    "    'http://data.rcc-acis.org/StnData?sid=050109&sdate=1992-07-01&edate=2018-12-31' + \n",
    "    '&elems=avgt,maxt,mint&output=csv',filename=csv)\n",
    "coop_df = pd.read_csv(csv)\n",
    "coop_df = coop_df.reset_index()\n",
    "coop_df.columns = ['date','avgt','maxt','mint']\n",
    "coop_df['date'] = pd.to_datetime(coop_df.date,errors='coerce')\n",
    "coop_df = coop_df.replace('M',np.nan,regex=True)"
   ]
  },
  {
   "cell_type": "code",
   "execution_count": 93,
   "metadata": {},
   "outputs": [],
   "source": [
    "df = coop_df.merge(coag_df,left_index=True,right_index=True)\n",
    "stuff = ['date_y','station']\n",
    "df = df.drop(stuff,axis=1)\n",
    "df.columns = ['date','avgt','maxt','mint','tave','tmax','tmin']\n"
   ]
  },
  {
   "cell_type": "code",
   "execution_count": 94,
   "metadata": {},
   "outputs": [],
   "source": [
    "stuff = ['avgt','tave']\n",
    "maxmin_df = df.drop(stuff,axis=1)\n",
    "maxmin_df = maxmin_df.dropna()"
   ]
  },
  {
   "cell_type": "code",
   "execution_count": 95,
   "metadata": {},
   "outputs": [
    {
     "data": {
      "text/html": [
       "<div>\n",
       "<style scoped>\n",
       "    .dataframe tbody tr th:only-of-type {\n",
       "        vertical-align: middle;\n",
       "    }\n",
       "\n",
       "    .dataframe tbody tr th {\n",
       "        vertical-align: top;\n",
       "    }\n",
       "\n",
       "    .dataframe thead th {\n",
       "        text-align: right;\n",
       "    }\n",
       "</style>\n",
       "<table border=\"1\" class=\"dataframe\">\n",
       "  <thead>\n",
       "    <tr style=\"text-align: right;\">\n",
       "      <th></th>\n",
       "      <th>date</th>\n",
       "      <th>maxt</th>\n",
       "      <th>mint</th>\n",
       "      <th>tmax</th>\n",
       "      <th>tmin</th>\n",
       "      <th>min_temp_diff</th>\n",
       "      <th>max_temp_diff</th>\n",
       "      <th>station</th>\n",
       "    </tr>\n",
       "  </thead>\n",
       "  <tbody>\n",
       "    <tr>\n",
       "      <th>31</th>\n",
       "      <td>1992-08-01</td>\n",
       "      <td>91</td>\n",
       "      <td>51</td>\n",
       "      <td>92.8580</td>\n",
       "      <td>52.7000</td>\n",
       "      <td>1.7000</td>\n",
       "      <td>1.8580</td>\n",
       "      <td>akr02</td>\n",
       "    </tr>\n",
       "    <tr>\n",
       "      <th>32</th>\n",
       "      <td>1992-08-02</td>\n",
       "      <td>90</td>\n",
       "      <td>58</td>\n",
       "      <td>85.6220</td>\n",
       "      <td>60.3860</td>\n",
       "      <td>2.3860</td>\n",
       "      <td>-4.3780</td>\n",
       "      <td>akr02</td>\n",
       "    </tr>\n",
       "    <tr>\n",
       "      <th>33</th>\n",
       "      <td>1992-08-03</td>\n",
       "      <td>84</td>\n",
       "      <td>60</td>\n",
       "      <td>86.0540</td>\n",
       "      <td>59.0900</td>\n",
       "      <td>-0.9100</td>\n",
       "      <td>2.0540</td>\n",
       "      <td>akr02</td>\n",
       "    </tr>\n",
       "    <tr>\n",
       "      <th>34</th>\n",
       "      <td>1992-08-04</td>\n",
       "      <td>83</td>\n",
       "      <td>55</td>\n",
       "      <td>92.0120</td>\n",
       "      <td>56.8400</td>\n",
       "      <td>1.8400</td>\n",
       "      <td>9.0120</td>\n",
       "      <td>akr02</td>\n",
       "    </tr>\n",
       "    <tr>\n",
       "      <th>35</th>\n",
       "      <td>1992-08-05</td>\n",
       "      <td>89</td>\n",
       "      <td>53</td>\n",
       "      <td>80.2580</td>\n",
       "      <td>54.8240</td>\n",
       "      <td>1.8240</td>\n",
       "      <td>-8.7420</td>\n",
       "      <td>akr02</td>\n",
       "    </tr>\n",
       "    <tr>\n",
       "      <th>36</th>\n",
       "      <td>1992-08-06</td>\n",
       "      <td>80</td>\n",
       "      <td>62</td>\n",
       "      <td>90.1040</td>\n",
       "      <td>60.4760</td>\n",
       "      <td>-1.5240</td>\n",
       "      <td>10.1040</td>\n",
       "      <td>akr02</td>\n",
       "    </tr>\n",
       "    <tr>\n",
       "      <th>37</th>\n",
       "      <td>1992-08-07</td>\n",
       "      <td>90</td>\n",
       "      <td>56</td>\n",
       "      <td>100.2920</td>\n",
       "      <td>61.1600</td>\n",
       "      <td>5.1600</td>\n",
       "      <td>10.2920</td>\n",
       "      <td>akr02</td>\n",
       "    </tr>\n",
       "    <tr>\n",
       "      <th>38</th>\n",
       "      <td>1992-08-08</td>\n",
       "      <td>95</td>\n",
       "      <td>60</td>\n",
       "      <td>77.5580</td>\n",
       "      <td>60.0080</td>\n",
       "      <td>0.0080</td>\n",
       "      <td>-17.4420</td>\n",
       "      <td>akr02</td>\n",
       "    </tr>\n",
       "    <tr>\n",
       "      <th>39</th>\n",
       "      <td>1992-08-09</td>\n",
       "      <td>94</td>\n",
       "      <td>59</td>\n",
       "      <td>81.2480</td>\n",
       "      <td>53.7980</td>\n",
       "      <td>-5.2020</td>\n",
       "      <td>-12.7520</td>\n",
       "      <td>akr02</td>\n",
       "    </tr>\n",
       "    <tr>\n",
       "      <th>40</th>\n",
       "      <td>1992-08-10</td>\n",
       "      <td>98</td>\n",
       "      <td>62</td>\n",
       "      <td>69.8720</td>\n",
       "      <td>54.8960</td>\n",
       "      <td>-7.1040</td>\n",
       "      <td>-28.1280</td>\n",
       "      <td>akr02</td>\n",
       "    </tr>\n",
       "    <tr>\n",
       "      <th>41</th>\n",
       "      <td>1992-08-11</td>\n",
       "      <td>77</td>\n",
       "      <td>52</td>\n",
       "      <td>82.6700</td>\n",
       "      <td>57.4340</td>\n",
       "      <td>5.4340</td>\n",
       "      <td>5.6700</td>\n",
       "      <td>akr02</td>\n",
       "    </tr>\n",
       "    <tr>\n",
       "      <th>42</th>\n",
       "      <td>1992-08-12</td>\n",
       "      <td>82</td>\n",
       "      <td>54</td>\n",
       "      <td>75.7760</td>\n",
       "      <td>52.1240</td>\n",
       "      <td>-1.8760</td>\n",
       "      <td>-6.2240</td>\n",
       "      <td>akr02</td>\n",
       "    </tr>\n",
       "    <tr>\n",
       "      <th>43</th>\n",
       "      <td>1992-08-13</td>\n",
       "      <td>70</td>\n",
       "      <td>56</td>\n",
       "      <td>91.8860</td>\n",
       "      <td>54.0860</td>\n",
       "      <td>-1.9140</td>\n",
       "      <td>21.8860</td>\n",
       "      <td>akr02</td>\n",
       "    </tr>\n",
       "    <tr>\n",
       "      <th>44</th>\n",
       "      <td>1992-08-14</td>\n",
       "      <td>81</td>\n",
       "      <td>51</td>\n",
       "      <td>79.6640</td>\n",
       "      <td>55.4180</td>\n",
       "      <td>4.4180</td>\n",
       "      <td>-1.3360</td>\n",
       "      <td>akr02</td>\n",
       "    </tr>\n",
       "    <tr>\n",
       "      <th>45</th>\n",
       "      <td>1992-08-15</td>\n",
       "      <td>74</td>\n",
       "      <td>51</td>\n",
       "      <td>67.8560</td>\n",
       "      <td>56.5340</td>\n",
       "      <td>5.5340</td>\n",
       "      <td>-6.1440</td>\n",
       "      <td>akr02</td>\n",
       "    </tr>\n",
       "    <tr>\n",
       "      <th>46</th>\n",
       "      <td>1992-08-16</td>\n",
       "      <td>90</td>\n",
       "      <td>53</td>\n",
       "      <td>76.8920</td>\n",
       "      <td>58.6400</td>\n",
       "      <td>5.6400</td>\n",
       "      <td>-13.1080</td>\n",
       "      <td>akr02</td>\n",
       "    </tr>\n",
       "    <tr>\n",
       "      <th>47</th>\n",
       "      <td>1992-08-17</td>\n",
       "      <td>79</td>\n",
       "      <td>57</td>\n",
       "      <td>88.5020</td>\n",
       "      <td>52.4120</td>\n",
       "      <td>-4.5880</td>\n",
       "      <td>9.5020</td>\n",
       "      <td>akr02</td>\n",
       "    </tr>\n",
       "    <tr>\n",
       "      <th>48</th>\n",
       "      <td>1992-08-18</td>\n",
       "      <td>68</td>\n",
       "      <td>53</td>\n",
       "      <td>92.9840</td>\n",
       "      <td>59.0180</td>\n",
       "      <td>6.0180</td>\n",
       "      <td>24.9840</td>\n",
       "      <td>akr02</td>\n",
       "    </tr>\n",
       "    <tr>\n",
       "      <th>49</th>\n",
       "      <td>1992-08-19</td>\n",
       "      <td>76</td>\n",
       "      <td>51</td>\n",
       "      <td>89.2940</td>\n",
       "      <td>54.8240</td>\n",
       "      <td>3.8240</td>\n",
       "      <td>13.2940</td>\n",
       "      <td>akr02</td>\n",
       "    </tr>\n",
       "    <tr>\n",
       "      <th>50</th>\n",
       "      <td>1992-08-20</td>\n",
       "      <td>86</td>\n",
       "      <td>57</td>\n",
       "      <td>96.1340</td>\n",
       "      <td>60.0800</td>\n",
       "      <td>3.0800</td>\n",
       "      <td>10.1340</td>\n",
       "      <td>akr02</td>\n",
       "    </tr>\n",
       "    <tr>\n",
       "      <th>51</th>\n",
       "      <td>1992-08-21</td>\n",
       "      <td>90</td>\n",
       "      <td>52</td>\n",
       "      <td>79.5740</td>\n",
       "      <td>55.7960</td>\n",
       "      <td>3.7960</td>\n",
       "      <td>-10.4260</td>\n",
       "      <td>akr02</td>\n",
       "    </tr>\n",
       "    <tr>\n",
       "      <th>52</th>\n",
       "      <td>1992-08-22</td>\n",
       "      <td>89</td>\n",
       "      <td>58</td>\n",
       "      <td>55.7960</td>\n",
       "      <td>48.2360</td>\n",
       "      <td>-9.7640</td>\n",
       "      <td>-33.2040</td>\n",
       "      <td>akr02</td>\n",
       "    </tr>\n",
       "    <tr>\n",
       "      <th>53</th>\n",
       "      <td>1992-08-23</td>\n",
       "      <td>96</td>\n",
       "      <td>57</td>\n",
       "      <td>62.7980</td>\n",
       "      <td>46.0220</td>\n",
       "      <td>-10.9780</td>\n",
       "      <td>-33.2020</td>\n",
       "      <td>akr02</td>\n",
       "    </tr>\n",
       "    <tr>\n",
       "      <th>54</th>\n",
       "      <td>1992-08-24</td>\n",
       "      <td>78</td>\n",
       "      <td>52</td>\n",
       "      <td>67.5320</td>\n",
       "      <td>46.8140</td>\n",
       "      <td>-5.1860</td>\n",
       "      <td>-10.4680</td>\n",
       "      <td>akr02</td>\n",
       "    </tr>\n",
       "    <tr>\n",
       "      <th>55</th>\n",
       "      <td>1992-08-25</td>\n",
       "      <td>53</td>\n",
       "      <td>45</td>\n",
       "      <td>78.8900</td>\n",
       "      <td>44.8340</td>\n",
       "      <td>-0.1660</td>\n",
       "      <td>25.8900</td>\n",
       "      <td>akr02</td>\n",
       "    </tr>\n",
       "    <tr>\n",
       "      <th>56</th>\n",
       "      <td>1992-08-26</td>\n",
       "      <td>63</td>\n",
       "      <td>45</td>\n",
       "      <td>85.1900</td>\n",
       "      <td>49.4420</td>\n",
       "      <td>4.4420</td>\n",
       "      <td>22.1900</td>\n",
       "      <td>akr02</td>\n",
       "    </tr>\n",
       "    <tr>\n",
       "      <th>57</th>\n",
       "      <td>1992-08-27</td>\n",
       "      <td>66</td>\n",
       "      <td>43</td>\n",
       "      <td>72.7160</td>\n",
       "      <td>55.2020</td>\n",
       "      <td>12.2020</td>\n",
       "      <td>6.7160</td>\n",
       "      <td>akr02</td>\n",
       "    </tr>\n",
       "    <tr>\n",
       "      <th>58</th>\n",
       "      <td>1992-08-28</td>\n",
       "      <td>78</td>\n",
       "      <td>47</td>\n",
       "      <td>74.9480</td>\n",
       "      <td>49.8020</td>\n",
       "      <td>2.8020</td>\n",
       "      <td>-3.0520</td>\n",
       "      <td>akr02</td>\n",
       "    </tr>\n",
       "    <tr>\n",
       "      <th>59</th>\n",
       "      <td>1992-08-29</td>\n",
       "      <td>85</td>\n",
       "      <td>52</td>\n",
       "      <td>74.4980</td>\n",
       "      <td>48.6680</td>\n",
       "      <td>-3.3320</td>\n",
       "      <td>-10.5020</td>\n",
       "      <td>akr02</td>\n",
       "    </tr>\n",
       "    <tr>\n",
       "      <th>60</th>\n",
       "      <td>1992-08-30</td>\n",
       "      <td>69</td>\n",
       "      <td>46</td>\n",
       "      <td>76.8920</td>\n",
       "      <td>53.7260</td>\n",
       "      <td>7.7260</td>\n",
       "      <td>7.8920</td>\n",
       "      <td>akr02</td>\n",
       "    </tr>\n",
       "    <tr>\n",
       "      <th>...</th>\n",
       "      <td>...</td>\n",
       "      <td>...</td>\n",
       "      <td>...</td>\n",
       "      <td>...</td>\n",
       "      <td>...</td>\n",
       "      <td>...</td>\n",
       "      <td>...</td>\n",
       "      <td>...</td>\n",
       "    </tr>\n",
       "    <tr>\n",
       "      <th>7420</th>\n",
       "      <td>2012-10-24</td>\n",
       "      <td>81</td>\n",
       "      <td>40</td>\n",
       "      <td>34.4498</td>\n",
       "      <td>18.0176</td>\n",
       "      <td>-21.9824</td>\n",
       "      <td>-46.5502</td>\n",
       "      <td>akr02</td>\n",
       "    </tr>\n",
       "    <tr>\n",
       "      <th>7421</th>\n",
       "      <td>2012-10-25</td>\n",
       "      <td>54</td>\n",
       "      <td>23</td>\n",
       "      <td>35.0312</td>\n",
       "      <td>12.6860</td>\n",
       "      <td>-10.3140</td>\n",
       "      <td>-18.9688</td>\n",
       "      <td>akr02</td>\n",
       "    </tr>\n",
       "    <tr>\n",
       "      <th>7422</th>\n",
       "      <td>2012-10-26</td>\n",
       "      <td>34</td>\n",
       "      <td>23</td>\n",
       "      <td>36.8708</td>\n",
       "      <td>10.3820</td>\n",
       "      <td>-12.6180</td>\n",
       "      <td>2.8708</td>\n",
       "      <td>akr02</td>\n",
       "    </tr>\n",
       "    <tr>\n",
       "      <th>7423</th>\n",
       "      <td>2012-10-27</td>\n",
       "      <td>35</td>\n",
       "      <td>24</td>\n",
       "      <td>42.0602</td>\n",
       "      <td>8.2220</td>\n",
       "      <td>-15.7780</td>\n",
       "      <td>7.0602</td>\n",
       "      <td>akr02</td>\n",
       "    </tr>\n",
       "    <tr>\n",
       "      <th>7424</th>\n",
       "      <td>2012-10-28</td>\n",
       "      <td>48</td>\n",
       "      <td>28</td>\n",
       "      <td>29.6222</td>\n",
       "      <td>18.0176</td>\n",
       "      <td>-9.9824</td>\n",
       "      <td>-18.3778</td>\n",
       "      <td>akr02</td>\n",
       "    </tr>\n",
       "    <tr>\n",
       "      <th>7425</th>\n",
       "      <td>2012-10-29</td>\n",
       "      <td>63</td>\n",
       "      <td>36</td>\n",
       "      <td>41.0648</td>\n",
       "      <td>14.9900</td>\n",
       "      <td>-21.0100</td>\n",
       "      <td>-21.9352</td>\n",
       "      <td>akr02</td>\n",
       "    </tr>\n",
       "    <tr>\n",
       "      <th>7426</th>\n",
       "      <td>2012-10-30</td>\n",
       "      <td>73</td>\n",
       "      <td>41</td>\n",
       "      <td>50.7200</td>\n",
       "      <td>13.5320</td>\n",
       "      <td>-27.4680</td>\n",
       "      <td>-22.2800</td>\n",
       "      <td>akr02</td>\n",
       "    </tr>\n",
       "    <tr>\n",
       "      <th>7427</th>\n",
       "      <td>2012-10-31</td>\n",
       "      <td>72</td>\n",
       "      <td>39</td>\n",
       "      <td>45.1832</td>\n",
       "      <td>13.4240</td>\n",
       "      <td>-25.5760</td>\n",
       "      <td>-26.8168</td>\n",
       "      <td>akr02</td>\n",
       "    </tr>\n",
       "    <tr>\n",
       "      <th>7428</th>\n",
       "      <td>2012-11-01</td>\n",
       "      <td>73</td>\n",
       "      <td>37</td>\n",
       "      <td>57.7400</td>\n",
       "      <td>13.0640</td>\n",
       "      <td>-23.9360</td>\n",
       "      <td>-15.2600</td>\n",
       "      <td>akr02</td>\n",
       "    </tr>\n",
       "    <tr>\n",
       "      <th>7429</th>\n",
       "      <td>2012-11-02</td>\n",
       "      <td>74</td>\n",
       "      <td>42</td>\n",
       "      <td>55.9400</td>\n",
       "      <td>18.4856</td>\n",
       "      <td>-23.5144</td>\n",
       "      <td>-18.0600</td>\n",
       "      <td>akr02</td>\n",
       "    </tr>\n",
       "    <tr>\n",
       "      <th>7430</th>\n",
       "      <td>2012-11-03</td>\n",
       "      <td>60</td>\n",
       "      <td>32</td>\n",
       "      <td>54.4820</td>\n",
       "      <td>21.2954</td>\n",
       "      <td>-10.7046</td>\n",
       "      <td>-5.5180</td>\n",
       "      <td>akr02</td>\n",
       "    </tr>\n",
       "    <tr>\n",
       "      <th>7431</th>\n",
       "      <td>2012-11-04</td>\n",
       "      <td>63</td>\n",
       "      <td>34</td>\n",
       "      <td>41.2124</td>\n",
       "      <td>16.9160</td>\n",
       "      <td>-17.0840</td>\n",
       "      <td>-21.7876</td>\n",
       "      <td>akr02</td>\n",
       "    </tr>\n",
       "    <tr>\n",
       "      <th>7432</th>\n",
       "      <td>2012-11-05</td>\n",
       "      <td>65</td>\n",
       "      <td>35</td>\n",
       "      <td>52.1780</td>\n",
       "      <td>17.1680</td>\n",
       "      <td>-17.8320</td>\n",
       "      <td>-12.8220</td>\n",
       "      <td>akr02</td>\n",
       "    </tr>\n",
       "    <tr>\n",
       "      <th>7433</th>\n",
       "      <td>2012-11-06</td>\n",
       "      <td>63</td>\n",
       "      <td>33</td>\n",
       "      <td>58.7120</td>\n",
       "      <td>18.3812</td>\n",
       "      <td>-14.6188</td>\n",
       "      <td>-4.2880</td>\n",
       "      <td>akr02</td>\n",
       "    </tr>\n",
       "    <tr>\n",
       "      <th>7434</th>\n",
       "      <td>2012-11-07</td>\n",
       "      <td>64</td>\n",
       "      <td>37</td>\n",
       "      <td>61.2140</td>\n",
       "      <td>21.5348</td>\n",
       "      <td>-15.4652</td>\n",
       "      <td>-2.7860</td>\n",
       "      <td>akr02</td>\n",
       "    </tr>\n",
       "    <tr>\n",
       "      <th>7435</th>\n",
       "      <td>2012-11-08</td>\n",
       "      <td>77</td>\n",
       "      <td>36</td>\n",
       "      <td>59.9000</td>\n",
       "      <td>22.1234</td>\n",
       "      <td>-13.8766</td>\n",
       "      <td>-17.1000</td>\n",
       "      <td>akr02</td>\n",
       "    </tr>\n",
       "    <tr>\n",
       "      <th>7436</th>\n",
       "      <td>2012-11-09</td>\n",
       "      <td>60</td>\n",
       "      <td>28</td>\n",
       "      <td>58.2080</td>\n",
       "      <td>26.6036</td>\n",
       "      <td>-1.3964</td>\n",
       "      <td>-1.7920</td>\n",
       "      <td>akr02</td>\n",
       "    </tr>\n",
       "    <tr>\n",
       "      <th>7437</th>\n",
       "      <td>2012-11-10</td>\n",
       "      <td>61</td>\n",
       "      <td>29</td>\n",
       "      <td>49.0640</td>\n",
       "      <td>26.8556</td>\n",
       "      <td>-2.1444</td>\n",
       "      <td>-11.9360</td>\n",
       "      <td>akr02</td>\n",
       "    </tr>\n",
       "    <tr>\n",
       "      <th>7438</th>\n",
       "      <td>2012-11-11</td>\n",
       "      <td>44</td>\n",
       "      <td>11</td>\n",
       "      <td>46.1534</td>\n",
       "      <td>21.6590</td>\n",
       "      <td>10.6590</td>\n",
       "      <td>2.1534</td>\n",
       "      <td>akr02</td>\n",
       "    </tr>\n",
       "    <tr>\n",
       "      <th>7439</th>\n",
       "      <td>2012-11-12</td>\n",
       "      <td>29</td>\n",
       "      <td>6</td>\n",
       "      <td>59.6840</td>\n",
       "      <td>23.8316</td>\n",
       "      <td>17.8316</td>\n",
       "      <td>30.6840</td>\n",
       "      <td>akr02</td>\n",
       "    </tr>\n",
       "    <tr>\n",
       "      <th>7440</th>\n",
       "      <td>2012-11-13</td>\n",
       "      <td>48</td>\n",
       "      <td>20</td>\n",
       "      <td>38.3306</td>\n",
       "      <td>10.8680</td>\n",
       "      <td>-9.1320</td>\n",
       "      <td>-9.6694</td>\n",
       "      <td>akr02</td>\n",
       "    </tr>\n",
       "    <tr>\n",
       "      <th>7441</th>\n",
       "      <td>2012-11-14</td>\n",
       "      <td>52</td>\n",
       "      <td>23</td>\n",
       "      <td>51.6920</td>\n",
       "      <td>10.8680</td>\n",
       "      <td>-12.1320</td>\n",
       "      <td>-0.3080</td>\n",
       "      <td>akr02</td>\n",
       "    </tr>\n",
       "    <tr>\n",
       "      <th>7442</th>\n",
       "      <td>2012-11-15</td>\n",
       "      <td>56</td>\n",
       "      <td>30</td>\n",
       "      <td>49.5500</td>\n",
       "      <td>20.3090</td>\n",
       "      <td>-9.6910</td>\n",
       "      <td>-6.4500</td>\n",
       "      <td>akr02</td>\n",
       "    </tr>\n",
       "    <tr>\n",
       "      <th>7443</th>\n",
       "      <td>2012-11-16</td>\n",
       "      <td>51</td>\n",
       "      <td>27</td>\n",
       "      <td>51.0980</td>\n",
       "      <td>17.4020</td>\n",
       "      <td>-9.5980</td>\n",
       "      <td>0.0980</td>\n",
       "      <td>akr02</td>\n",
       "    </tr>\n",
       "    <tr>\n",
       "      <th>7444</th>\n",
       "      <td>2012-11-17</td>\n",
       "      <td>61</td>\n",
       "      <td>29</td>\n",
       "      <td>34.5704</td>\n",
       "      <td>22.1234</td>\n",
       "      <td>-6.8766</td>\n",
       "      <td>-26.4296</td>\n",
       "      <td>akr02</td>\n",
       "    </tr>\n",
       "    <tr>\n",
       "      <th>7445</th>\n",
       "      <td>2012-11-18</td>\n",
       "      <td>65</td>\n",
       "      <td>29</td>\n",
       "      <td>26.0060</td>\n",
       "      <td>15.7100</td>\n",
       "      <td>-13.2900</td>\n",
       "      <td>-38.9940</td>\n",
       "      <td>akr02</td>\n",
       "    </tr>\n",
       "    <tr>\n",
       "      <th>7446</th>\n",
       "      <td>2012-11-19</td>\n",
       "      <td>67</td>\n",
       "      <td>31</td>\n",
       "      <td>22.8488</td>\n",
       "      <td>3.9740</td>\n",
       "      <td>-27.0260</td>\n",
       "      <td>-44.1512</td>\n",
       "      <td>akr02</td>\n",
       "    </tr>\n",
       "    <tr>\n",
       "      <th>7447</th>\n",
       "      <td>2012-11-20</td>\n",
       "      <td>63</td>\n",
       "      <td>28</td>\n",
       "      <td>36.6188</td>\n",
       "      <td>3.7400</td>\n",
       "      <td>-24.2600</td>\n",
       "      <td>-26.3812</td>\n",
       "      <td>akr02</td>\n",
       "    </tr>\n",
       "    <tr>\n",
       "      <th>7448</th>\n",
       "      <td>2012-11-21</td>\n",
       "      <td>69</td>\n",
       "      <td>32</td>\n",
       "      <td>53.3840</td>\n",
       "      <td>20.6870</td>\n",
       "      <td>-11.3130</td>\n",
       "      <td>-15.6160</td>\n",
       "      <td>akr02</td>\n",
       "    </tr>\n",
       "    <tr>\n",
       "      <th>7449</th>\n",
       "      <td>2012-11-22</td>\n",
       "      <td>71</td>\n",
       "      <td>34</td>\n",
       "      <td>30.8264</td>\n",
       "      <td>2.2820</td>\n",
       "      <td>-31.7180</td>\n",
       "      <td>-40.1736</td>\n",
       "      <td>akr02</td>\n",
       "    </tr>\n",
       "  </tbody>\n",
       "</table>\n",
       "<p>7298 rows × 8 columns</p>\n",
       "</div>"
      ],
      "text/plain": [
       "           date maxt mint     tmax    tmin  min_temp_diff  max_temp_diff  \\\n",
       "31   1992-08-01   91   51  92.8580  52.700          1.700         1.8580   \n",
       "32   1992-08-02   90   58  85.6220  60.386          2.386        -4.3780   \n",
       "33   1992-08-03   84   60  86.0540  59.090         -0.910         2.0540   \n",
       "34   1992-08-04   83   55  92.0120  56.840          1.840         9.0120   \n",
       "35   1992-08-05   89   53  80.2580  54.824          1.824        -8.7420   \n",
       "...         ...  ...  ...      ...     ...            ...            ...   \n",
       "7445 2012-11-18   65   29  26.0060  15.710        -13.290       -38.9940   \n",
       "7446 2012-11-19   67   31  22.8488   3.974        -27.026       -44.1512   \n",
       "7447 2012-11-20   63   28  36.6188   3.740        -24.260       -26.3812   \n",
       "7448 2012-11-21   69   32  53.3840  20.687        -11.313       -15.6160   \n",
       "7449 2012-11-22   71   34  30.8264   2.282        -31.718       -40.1736   \n",
       "\n",
       "     station  \n",
       "31     akr02  \n",
       "32     akr02  \n",
       "33     akr02  \n",
       "34     akr02  \n",
       "35     akr02  \n",
       "...      ...  \n",
       "7445   akr02  \n",
       "7446   akr02  \n",
       "7447   akr02  \n",
       "7448   akr02  \n",
       "7449   akr02  \n",
       "\n",
       "[7298 rows x 8 columns]"
      ]
     },
     "execution_count": 95,
     "metadata": {},
     "output_type": "execute_result"
    }
   ],
   "source": [
    "maxmin_df['min_temp_diff'] = (maxmin_df.tmin.astype(float) - maxmin_df.mint.astype(float))\n",
    "maxmin_df['max_temp_diff'] = (maxmin_df.tmax.astype(float) - maxmin_df.maxt.astype(float))\n",
    "maxmin_df['station'] = 'akr02'\n",
    "maxmin_df"
   ]
  },
  {
   "cell_type": "code",
   "execution_count": 96,
   "metadata": {},
   "outputs": [],
   "source": [
    "maxmin_df['month'] = maxmin_df.date.dt.month\n",
    "maxmin_df['year'] = maxmin_df.date.dt.year\n",
    "\n",
    "maxmin_df['maxt'] = maxmin_df.maxt.astype(float)\n",
    "maxmin_df['mint'] = maxmin_df.mint.astype(float)\n",
    "\n",
    "maxmin_df.to_csv(path + r'\\akr02-coop_tempcomparison.csv')"
   ]
  },
  {
   "cell_type": "code",
   "execution_count": 9,
   "metadata": {},
   "outputs": [
    {
     "data": {
      "text/html": [
       "<div>\n",
       "<style scoped>\n",
       "    .dataframe tbody tr th:only-of-type {\n",
       "        vertical-align: middle;\n",
       "    }\n",
       "\n",
       "    .dataframe tbody tr th {\n",
       "        vertical-align: top;\n",
       "    }\n",
       "\n",
       "    .dataframe thead th {\n",
       "        text-align: right;\n",
       "    }\n",
       "</style>\n",
       "<table border=\"1\" class=\"dataframe\">\n",
       "  <thead>\n",
       "    <tr style=\"text-align: right;\">\n",
       "      <th></th>\n",
       "      <th>month</th>\n",
       "      <th>maxt</th>\n",
       "      <th>mint</th>\n",
       "      <th>tmax</th>\n",
       "      <th>tmin</th>\n",
       "      <th>min_temp_diff</th>\n",
       "      <th>max_temp_diff</th>\n",
       "      <th>year</th>\n",
       "      <th>station</th>\n",
       "    </tr>\n",
       "  </thead>\n",
       "  <tbody>\n",
       "    <tr>\n",
       "      <th>0</th>\n",
       "      <td>Jan</td>\n",
       "      <td>41.435216</td>\n",
       "      <td>15.375415</td>\n",
       "      <td>44.829966</td>\n",
       "      <td>17.262022</td>\n",
       "      <td>1.886606</td>\n",
       "      <td>3.394750</td>\n",
       "      <td>2002.571429</td>\n",
       "      <td>akr02</td>\n",
       "    </tr>\n",
       "    <tr>\n",
       "      <th>1</th>\n",
       "      <td>Feb</td>\n",
       "      <td>43.625899</td>\n",
       "      <td>17.298561</td>\n",
       "      <td>54.166744</td>\n",
       "      <td>23.967257</td>\n",
       "      <td>6.668696</td>\n",
       "      <td>10.540845</td>\n",
       "      <td>2002.571942</td>\n",
       "      <td>akr02</td>\n",
       "    </tr>\n",
       "    <tr>\n",
       "      <th>2</th>\n",
       "      <td>Mar</td>\n",
       "      <td>54.157635</td>\n",
       "      <td>25.302135</td>\n",
       "      <td>60.204803</td>\n",
       "      <td>31.304287</td>\n",
       "      <td>6.002152</td>\n",
       "      <td>6.047167</td>\n",
       "      <td>2002.530378</td>\n",
       "      <td>akr02</td>\n",
       "    </tr>\n",
       "    <tr>\n",
       "      <th>3</th>\n",
       "      <td>Apr</td>\n",
       "      <td>61.482993</td>\n",
       "      <td>32.396259</td>\n",
       "      <td>68.700344</td>\n",
       "      <td>41.045903</td>\n",
       "      <td>8.649645</td>\n",
       "      <td>7.217351</td>\n",
       "      <td>2002.554422</td>\n",
       "      <td>akr02</td>\n",
       "    </tr>\n",
       "    <tr>\n",
       "      <th>4</th>\n",
       "      <td>May</td>\n",
       "      <td>71.245528</td>\n",
       "      <td>42.531707</td>\n",
       "      <td>82.041668</td>\n",
       "      <td>51.831677</td>\n",
       "      <td>9.299970</td>\n",
       "      <td>10.796140</td>\n",
       "      <td>2002.518699</td>\n",
       "      <td>akr02</td>\n",
       "    </tr>\n",
       "    <tr>\n",
       "      <th>5</th>\n",
       "      <td>Jun</td>\n",
       "      <td>82.546531</td>\n",
       "      <td>52.231810</td>\n",
       "      <td>88.092569</td>\n",
       "      <td>58.032447</td>\n",
       "      <td>5.800636</td>\n",
       "      <td>5.546037</td>\n",
       "      <td>2002.524535</td>\n",
       "      <td>akr02</td>\n",
       "    </tr>\n",
       "    <tr>\n",
       "      <th>6</th>\n",
       "      <td>Jul</td>\n",
       "      <td>90.224194</td>\n",
       "      <td>58.987097</td>\n",
       "      <td>87.930732</td>\n",
       "      <td>57.622065</td>\n",
       "      <td>-1.365032</td>\n",
       "      <td>-2.293461</td>\n",
       "      <td>2002.500000</td>\n",
       "      <td>akr02</td>\n",
       "    </tr>\n",
       "    <tr>\n",
       "      <th>7</th>\n",
       "      <td>Aug</td>\n",
       "      <td>87.524845</td>\n",
       "      <td>56.866460</td>\n",
       "      <td>79.543084</td>\n",
       "      <td>49.765558</td>\n",
       "      <td>-7.100901</td>\n",
       "      <td>-7.981761</td>\n",
       "      <td>2001.978261</td>\n",
       "      <td>akr02</td>\n",
       "    </tr>\n",
       "    <tr>\n",
       "      <th>8</th>\n",
       "      <td>Sep</td>\n",
       "      <td>78.683121</td>\n",
       "      <td>47.466561</td>\n",
       "      <td>67.302798</td>\n",
       "      <td>37.346837</td>\n",
       "      <td>-10.119724</td>\n",
       "      <td>-11.380323</td>\n",
       "      <td>2001.998408</td>\n",
       "      <td>akr02</td>\n",
       "    </tr>\n",
       "    <tr>\n",
       "      <th>9</th>\n",
       "      <td>Oct</td>\n",
       "      <td>65.126183</td>\n",
       "      <td>35.022082</td>\n",
       "      <td>54.634566</td>\n",
       "      <td>25.514705</td>\n",
       "      <td>-9.507377</td>\n",
       "      <td>-10.491617</td>\n",
       "      <td>2002.026814</td>\n",
       "      <td>akr02</td>\n",
       "    </tr>\n",
       "    <tr>\n",
       "      <th>10</th>\n",
       "      <td>Nov</td>\n",
       "      <td>51.483660</td>\n",
       "      <td>24.202614</td>\n",
       "      <td>42.233247</td>\n",
       "      <td>15.312603</td>\n",
       "      <td>-8.890011</td>\n",
       "      <td>-9.250413</td>\n",
       "      <td>2001.946078</td>\n",
       "      <td>akr02</td>\n",
       "    </tr>\n",
       "    <tr>\n",
       "      <th>11</th>\n",
       "      <td>Dec</td>\n",
       "      <td>41.706177</td>\n",
       "      <td>15.464107</td>\n",
       "      <td>42.545043</td>\n",
       "      <td>15.676332</td>\n",
       "      <td>0.212225</td>\n",
       "      <td>0.838866</td>\n",
       "      <td>2001.490818</td>\n",
       "      <td>akr02</td>\n",
       "    </tr>\n",
       "  </tbody>\n",
       "</table>\n",
       "</div>"
      ],
      "text/plain": [
       "   month       maxt       mint       tmax       tmin  min_temp_diff  \\\n",
       "0    Jan  41.435216  15.375415  44.829966  17.262022       1.886606   \n",
       "1    Feb  43.625899  17.298561  54.166744  23.967257       6.668696   \n",
       "2    Mar  54.157635  25.302135  60.204803  31.304287       6.002152   \n",
       "3    Apr  61.482993  32.396259  68.700344  41.045903       8.649645   \n",
       "4    May  71.245528  42.531707  82.041668  51.831677       9.299970   \n",
       "5    Jun  82.546531  52.231810  88.092569  58.032447       5.800636   \n",
       "6    Jul  90.224194  58.987097  87.930732  57.622065      -1.365032   \n",
       "7    Aug  87.524845  56.866460  79.543084  49.765558      -7.100901   \n",
       "8    Sep  78.683121  47.466561  67.302798  37.346837     -10.119724   \n",
       "9    Oct  65.126183  35.022082  54.634566  25.514705      -9.507377   \n",
       "10   Nov  51.483660  24.202614  42.233247  15.312603      -8.890011   \n",
       "11   Dec  41.706177  15.464107  42.545043  15.676332       0.212225   \n",
       "\n",
       "    max_temp_diff         year station  \n",
       "0        3.394750  2002.571429   akr02  \n",
       "1       10.540845  2002.571942   akr02  \n",
       "2        6.047167  2002.530378   akr02  \n",
       "3        7.217351  2002.554422   akr02  \n",
       "4       10.796140  2002.518699   akr02  \n",
       "5        5.546037  2002.524535   akr02  \n",
       "6       -2.293461  2002.500000   akr02  \n",
       "7       -7.981761  2001.978261   akr02  \n",
       "8      -11.380323  2001.998408   akr02  \n",
       "9      -10.491617  2002.026814   akr02  \n",
       "10      -9.250413  2001.946078   akr02  \n",
       "11       0.838866  2001.490818   akr02  "
      ]
     },
     "execution_count": 9,
     "metadata": {},
     "output_type": "execute_result"
    }
   ],
   "source": [
    "monthly = maxmin_df.groupby(['month']).mean().reset_index()\n",
    "\n",
    "monthly['month'] = monthly['month'].apply(lambda x: calendar.month_abbr[x])\n",
    "monthly"
   ]
  },
  {
   "cell_type": "code",
   "execution_count": 59,
   "metadata": {},
   "outputs": [
    {
     "data": {
      "application/vnd.plotly.v1+json": {
       "config": {
        "plotlyServerURL": "https://plot.ly"
       },
       "data": [
        {
         "type": "bar"
        },
        {
         "name": "AKR02",
         "type": "bar",
         "x": [
          "Jan",
          "Feb",
          "Mar",
          "Apr",
          "May",
          "Jun",
          "Jul",
          "Aug",
          "Sep",
          "Oct",
          "Nov",
          "Dec"
         ],
         "y": [
          17.262021594684384,
          23.967257194244613,
          31.304286699507397,
          41.045903061224465,
          51.831677073170724,
          58.03244670050759,
          57.622065161290315,
          49.765558385093144,
          37.3468369426752,
          25.51470504731863,
          15.312602941176483,
          15.67633188647744
         ]
        },
        {
         "name": "Akron A 4 E",
         "type": "bar",
         "x": [
          "Jan",
          "Feb",
          "Mar",
          "Apr",
          "May",
          "Jun",
          "Jul",
          "Aug",
          "Sep",
          "Oct",
          "Nov",
          "Dec"
         ],
         "y": [
          15.375415282392026,
          17.298561151079138,
          25.302134646962234,
          32.39625850340136,
          42.53170731707317,
          52.23181049069374,
          58.987096774193546,
          56.86645962732919,
          47.46656050955414,
          35.02208201892744,
          24.202614379084967,
          15.464106844741236
         ]
        }
       ],
       "layout": {
        "template": {
         "data": {
          "bar": [
           {
            "error_x": {
             "color": "#2a3f5f"
            },
            "error_y": {
             "color": "#2a3f5f"
            },
            "marker": {
             "line": {
              "color": "#E5ECF6",
              "width": 0.5
             }
            },
            "type": "bar"
           }
          ],
          "barpolar": [
           {
            "marker": {
             "line": {
              "color": "#E5ECF6",
              "width": 0.5
             }
            },
            "type": "barpolar"
           }
          ],
          "carpet": [
           {
            "aaxis": {
             "endlinecolor": "#2a3f5f",
             "gridcolor": "white",
             "linecolor": "white",
             "minorgridcolor": "white",
             "startlinecolor": "#2a3f5f"
            },
            "baxis": {
             "endlinecolor": "#2a3f5f",
             "gridcolor": "white",
             "linecolor": "white",
             "minorgridcolor": "white",
             "startlinecolor": "#2a3f5f"
            },
            "type": "carpet"
           }
          ],
          "choropleth": [
           {
            "colorbar": {
             "outlinewidth": 0,
             "ticks": ""
            },
            "type": "choropleth"
           }
          ],
          "contour": [
           {
            "colorbar": {
             "outlinewidth": 0,
             "ticks": ""
            },
            "colorscale": [
             [
              0,
              "#0d0887"
             ],
             [
              0.1111111111111111,
              "#46039f"
             ],
             [
              0.2222222222222222,
              "#7201a8"
             ],
             [
              0.3333333333333333,
              "#9c179e"
             ],
             [
              0.4444444444444444,
              "#bd3786"
             ],
             [
              0.5555555555555556,
              "#d8576b"
             ],
             [
              0.6666666666666666,
              "#ed7953"
             ],
             [
              0.7777777777777778,
              "#fb9f3a"
             ],
             [
              0.8888888888888888,
              "#fdca26"
             ],
             [
              1,
              "#f0f921"
             ]
            ],
            "type": "contour"
           }
          ],
          "contourcarpet": [
           {
            "colorbar": {
             "outlinewidth": 0,
             "ticks": ""
            },
            "type": "contourcarpet"
           }
          ],
          "heatmap": [
           {
            "colorbar": {
             "outlinewidth": 0,
             "ticks": ""
            },
            "colorscale": [
             [
              0,
              "#0d0887"
             ],
             [
              0.1111111111111111,
              "#46039f"
             ],
             [
              0.2222222222222222,
              "#7201a8"
             ],
             [
              0.3333333333333333,
              "#9c179e"
             ],
             [
              0.4444444444444444,
              "#bd3786"
             ],
             [
              0.5555555555555556,
              "#d8576b"
             ],
             [
              0.6666666666666666,
              "#ed7953"
             ],
             [
              0.7777777777777778,
              "#fb9f3a"
             ],
             [
              0.8888888888888888,
              "#fdca26"
             ],
             [
              1,
              "#f0f921"
             ]
            ],
            "type": "heatmap"
           }
          ],
          "heatmapgl": [
           {
            "colorbar": {
             "outlinewidth": 0,
             "ticks": ""
            },
            "colorscale": [
             [
              0,
              "#0d0887"
             ],
             [
              0.1111111111111111,
              "#46039f"
             ],
             [
              0.2222222222222222,
              "#7201a8"
             ],
             [
              0.3333333333333333,
              "#9c179e"
             ],
             [
              0.4444444444444444,
              "#bd3786"
             ],
             [
              0.5555555555555556,
              "#d8576b"
             ],
             [
              0.6666666666666666,
              "#ed7953"
             ],
             [
              0.7777777777777778,
              "#fb9f3a"
             ],
             [
              0.8888888888888888,
              "#fdca26"
             ],
             [
              1,
              "#f0f921"
             ]
            ],
            "type": "heatmapgl"
           }
          ],
          "histogram": [
           {
            "marker": {
             "colorbar": {
              "outlinewidth": 0,
              "ticks": ""
             }
            },
            "type": "histogram"
           }
          ],
          "histogram2d": [
           {
            "colorbar": {
             "outlinewidth": 0,
             "ticks": ""
            },
            "colorscale": [
             [
              0,
              "#0d0887"
             ],
             [
              0.1111111111111111,
              "#46039f"
             ],
             [
              0.2222222222222222,
              "#7201a8"
             ],
             [
              0.3333333333333333,
              "#9c179e"
             ],
             [
              0.4444444444444444,
              "#bd3786"
             ],
             [
              0.5555555555555556,
              "#d8576b"
             ],
             [
              0.6666666666666666,
              "#ed7953"
             ],
             [
              0.7777777777777778,
              "#fb9f3a"
             ],
             [
              0.8888888888888888,
              "#fdca26"
             ],
             [
              1,
              "#f0f921"
             ]
            ],
            "type": "histogram2d"
           }
          ],
          "histogram2dcontour": [
           {
            "colorbar": {
             "outlinewidth": 0,
             "ticks": ""
            },
            "colorscale": [
             [
              0,
              "#0d0887"
             ],
             [
              0.1111111111111111,
              "#46039f"
             ],
             [
              0.2222222222222222,
              "#7201a8"
             ],
             [
              0.3333333333333333,
              "#9c179e"
             ],
             [
              0.4444444444444444,
              "#bd3786"
             ],
             [
              0.5555555555555556,
              "#d8576b"
             ],
             [
              0.6666666666666666,
              "#ed7953"
             ],
             [
              0.7777777777777778,
              "#fb9f3a"
             ],
             [
              0.8888888888888888,
              "#fdca26"
             ],
             [
              1,
              "#f0f921"
             ]
            ],
            "type": "histogram2dcontour"
           }
          ],
          "mesh3d": [
           {
            "colorbar": {
             "outlinewidth": 0,
             "ticks": ""
            },
            "type": "mesh3d"
           }
          ],
          "parcoords": [
           {
            "line": {
             "colorbar": {
              "outlinewidth": 0,
              "ticks": ""
             }
            },
            "type": "parcoords"
           }
          ],
          "scatter": [
           {
            "marker": {
             "colorbar": {
              "outlinewidth": 0,
              "ticks": ""
             }
            },
            "type": "scatter"
           }
          ],
          "scatter3d": [
           {
            "line": {
             "colorbar": {
              "outlinewidth": 0,
              "ticks": ""
             }
            },
            "marker": {
             "colorbar": {
              "outlinewidth": 0,
              "ticks": ""
             }
            },
            "type": "scatter3d"
           }
          ],
          "scattercarpet": [
           {
            "marker": {
             "colorbar": {
              "outlinewidth": 0,
              "ticks": ""
             }
            },
            "type": "scattercarpet"
           }
          ],
          "scattergeo": [
           {
            "marker": {
             "colorbar": {
              "outlinewidth": 0,
              "ticks": ""
             }
            },
            "type": "scattergeo"
           }
          ],
          "scattergl": [
           {
            "marker": {
             "colorbar": {
              "outlinewidth": 0,
              "ticks": ""
             }
            },
            "type": "scattergl"
           }
          ],
          "scattermapbox": [
           {
            "marker": {
             "colorbar": {
              "outlinewidth": 0,
              "ticks": ""
             }
            },
            "type": "scattermapbox"
           }
          ],
          "scatterpolar": [
           {
            "marker": {
             "colorbar": {
              "outlinewidth": 0,
              "ticks": ""
             }
            },
            "type": "scatterpolar"
           }
          ],
          "scatterpolargl": [
           {
            "marker": {
             "colorbar": {
              "outlinewidth": 0,
              "ticks": ""
             }
            },
            "type": "scatterpolargl"
           }
          ],
          "scatterternary": [
           {
            "marker": {
             "colorbar": {
              "outlinewidth": 0,
              "ticks": ""
             }
            },
            "type": "scatterternary"
           }
          ],
          "surface": [
           {
            "colorbar": {
             "outlinewidth": 0,
             "ticks": ""
            },
            "colorscale": [
             [
              0,
              "#0d0887"
             ],
             [
              0.1111111111111111,
              "#46039f"
             ],
             [
              0.2222222222222222,
              "#7201a8"
             ],
             [
              0.3333333333333333,
              "#9c179e"
             ],
             [
              0.4444444444444444,
              "#bd3786"
             ],
             [
              0.5555555555555556,
              "#d8576b"
             ],
             [
              0.6666666666666666,
              "#ed7953"
             ],
             [
              0.7777777777777778,
              "#fb9f3a"
             ],
             [
              0.8888888888888888,
              "#fdca26"
             ],
             [
              1,
              "#f0f921"
             ]
            ],
            "type": "surface"
           }
          ],
          "table": [
           {
            "cells": {
             "fill": {
              "color": "#EBF0F8"
             },
             "line": {
              "color": "white"
             }
            },
            "header": {
             "fill": {
              "color": "#C8D4E3"
             },
             "line": {
              "color": "white"
             }
            },
            "type": "table"
           }
          ]
         },
         "layout": {
          "annotationdefaults": {
           "arrowcolor": "#2a3f5f",
           "arrowhead": 0,
           "arrowwidth": 1
          },
          "colorscale": {
           "diverging": [
            [
             0,
             "#8e0152"
            ],
            [
             0.1,
             "#c51b7d"
            ],
            [
             0.2,
             "#de77ae"
            ],
            [
             0.3,
             "#f1b6da"
            ],
            [
             0.4,
             "#fde0ef"
            ],
            [
             0.5,
             "#f7f7f7"
            ],
            [
             0.6,
             "#e6f5d0"
            ],
            [
             0.7,
             "#b8e186"
            ],
            [
             0.8,
             "#7fbc41"
            ],
            [
             0.9,
             "#4d9221"
            ],
            [
             1,
             "#276419"
            ]
           ],
           "sequential": [
            [
             0,
             "#0d0887"
            ],
            [
             0.1111111111111111,
             "#46039f"
            ],
            [
             0.2222222222222222,
             "#7201a8"
            ],
            [
             0.3333333333333333,
             "#9c179e"
            ],
            [
             0.4444444444444444,
             "#bd3786"
            ],
            [
             0.5555555555555556,
             "#d8576b"
            ],
            [
             0.6666666666666666,
             "#ed7953"
            ],
            [
             0.7777777777777778,
             "#fb9f3a"
            ],
            [
             0.8888888888888888,
             "#fdca26"
            ],
            [
             1,
             "#f0f921"
            ]
           ],
           "sequentialminus": [
            [
             0,
             "#0d0887"
            ],
            [
             0.1111111111111111,
             "#46039f"
            ],
            [
             0.2222222222222222,
             "#7201a8"
            ],
            [
             0.3333333333333333,
             "#9c179e"
            ],
            [
             0.4444444444444444,
             "#bd3786"
            ],
            [
             0.5555555555555556,
             "#d8576b"
            ],
            [
             0.6666666666666666,
             "#ed7953"
            ],
            [
             0.7777777777777778,
             "#fb9f3a"
            ],
            [
             0.8888888888888888,
             "#fdca26"
            ],
            [
             1,
             "#f0f921"
            ]
           ]
          },
          "colorway": [
           "#636efa",
           "#EF553B",
           "#00cc96",
           "#ab63fa",
           "#FFA15A",
           "#19d3f3",
           "#FF6692",
           "#B6E880",
           "#FF97FF",
           "#FECB52"
          ],
          "font": {
           "color": "#2a3f5f"
          },
          "geo": {
           "bgcolor": "white",
           "lakecolor": "white",
           "landcolor": "#E5ECF6",
           "showlakes": true,
           "showland": true,
           "subunitcolor": "white"
          },
          "hoverlabel": {
           "align": "left"
          },
          "hovermode": "closest",
          "mapbox": {
           "style": "light"
          },
          "paper_bgcolor": "white",
          "plot_bgcolor": "#E5ECF6",
          "polar": {
           "angularaxis": {
            "gridcolor": "white",
            "linecolor": "white",
            "ticks": ""
           },
           "bgcolor": "#E5ECF6",
           "radialaxis": {
            "gridcolor": "white",
            "linecolor": "white",
            "ticks": ""
           }
          },
          "scene": {
           "xaxis": {
            "backgroundcolor": "#E5ECF6",
            "gridcolor": "white",
            "gridwidth": 2,
            "linecolor": "white",
            "showbackground": true,
            "ticks": "",
            "zerolinecolor": "white"
           },
           "yaxis": {
            "backgroundcolor": "#E5ECF6",
            "gridcolor": "white",
            "gridwidth": 2,
            "linecolor": "white",
            "showbackground": true,
            "ticks": "",
            "zerolinecolor": "white"
           },
           "zaxis": {
            "backgroundcolor": "#E5ECF6",
            "gridcolor": "white",
            "gridwidth": 2,
            "linecolor": "white",
            "showbackground": true,
            "ticks": "",
            "zerolinecolor": "white"
           }
          },
          "shapedefaults": {
           "line": {
            "color": "#2a3f5f"
           }
          },
          "ternary": {
           "aaxis": {
            "gridcolor": "white",
            "linecolor": "white",
            "ticks": ""
           },
           "baxis": {
            "gridcolor": "white",
            "linecolor": "white",
            "ticks": ""
           },
           "bgcolor": "#E5ECF6",
           "caxis": {
            "gridcolor": "white",
            "linecolor": "white",
            "ticks": ""
           }
          },
          "title": {
           "x": 0.05
          },
          "xaxis": {
           "automargin": true,
           "gridcolor": "white",
           "linecolor": "white",
           "ticks": "",
           "zerolinecolor": "white",
           "zerolinewidth": 2
          },
          "yaxis": {
           "automargin": true,
           "gridcolor": "white",
           "linecolor": "white",
           "ticks": "",
           "zerolinecolor": "white",
           "zerolinewidth": 2
          }
         }
        },
        "title": {
         "text": "Min Temp Comparison"
        },
        "xaxis": {
         "title": {
          "text": "Month"
         }
        },
        "yaxis": {
         "title": {
          "text": "Temperature (°F)"
         }
        }
       }
      },
      "text/html": [
       "<div>\n",
       "        \n",
       "        \n",
       "            <div id=\"3a909f73-2191-47a9-b971-eeaae2460078\" class=\"plotly-graph-div\" style=\"height:525px; width:100%;\"></div>\n",
       "            <script type=\"text/javascript\">\n",
       "                require([\"plotly\"], function(Plotly) {\n",
       "                    window.PLOTLYENV=window.PLOTLYENV || {};\n",
       "                    \n",
       "                if (document.getElementById(\"3a909f73-2191-47a9-b971-eeaae2460078\")) {\n",
       "                    Plotly.newPlot(\n",
       "                        '3a909f73-2191-47a9-b971-eeaae2460078',\n",
       "                        [{\"type\": \"bar\"}, {\"name\": \"AKR02\", \"type\": \"bar\", \"x\": [\"Jan\", \"Feb\", \"Mar\", \"Apr\", \"May\", \"Jun\", \"Jul\", \"Aug\", \"Sep\", \"Oct\", \"Nov\", \"Dec\"], \"y\": [17.262021594684384, 23.967257194244613, 31.304286699507397, 41.045903061224465, 51.831677073170724, 58.03244670050759, 57.622065161290315, 49.765558385093144, 37.3468369426752, 25.51470504731863, 15.312602941176483, 15.67633188647744]}, {\"name\": \"Akron A 4 E\", \"type\": \"bar\", \"x\": [\"Jan\", \"Feb\", \"Mar\", \"Apr\", \"May\", \"Jun\", \"Jul\", \"Aug\", \"Sep\", \"Oct\", \"Nov\", \"Dec\"], \"y\": [15.375415282392026, 17.298561151079138, 25.302134646962234, 32.39625850340136, 42.53170731707317, 52.23181049069374, 58.987096774193546, 56.86645962732919, 47.46656050955414, 35.02208201892744, 24.202614379084967, 15.464106844741236]}],\n",
       "                        {\"template\": {\"data\": {\"bar\": [{\"error_x\": {\"color\": \"#2a3f5f\"}, \"error_y\": {\"color\": \"#2a3f5f\"}, \"marker\": {\"line\": {\"color\": \"#E5ECF6\", \"width\": 0.5}}, \"type\": \"bar\"}], \"barpolar\": [{\"marker\": {\"line\": {\"color\": \"#E5ECF6\", \"width\": 0.5}}, \"type\": \"barpolar\"}], \"carpet\": [{\"aaxis\": {\"endlinecolor\": \"#2a3f5f\", \"gridcolor\": \"white\", \"linecolor\": \"white\", \"minorgridcolor\": \"white\", \"startlinecolor\": \"#2a3f5f\"}, \"baxis\": {\"endlinecolor\": \"#2a3f5f\", \"gridcolor\": \"white\", \"linecolor\": \"white\", \"minorgridcolor\": \"white\", \"startlinecolor\": \"#2a3f5f\"}, \"type\": \"carpet\"}], \"choropleth\": [{\"colorbar\": {\"outlinewidth\": 0, \"ticks\": \"\"}, \"type\": \"choropleth\"}], \"contour\": [{\"colorbar\": {\"outlinewidth\": 0, \"ticks\": \"\"}, \"colorscale\": [[0.0, \"#0d0887\"], [0.1111111111111111, \"#46039f\"], [0.2222222222222222, \"#7201a8\"], [0.3333333333333333, \"#9c179e\"], [0.4444444444444444, \"#bd3786\"], [0.5555555555555556, \"#d8576b\"], [0.6666666666666666, \"#ed7953\"], [0.7777777777777778, \"#fb9f3a\"], [0.8888888888888888, \"#fdca26\"], [1.0, \"#f0f921\"]], \"type\": \"contour\"}], \"contourcarpet\": [{\"colorbar\": {\"outlinewidth\": 0, \"ticks\": \"\"}, \"type\": \"contourcarpet\"}], \"heatmap\": [{\"colorbar\": {\"outlinewidth\": 0, \"ticks\": \"\"}, \"colorscale\": [[0.0, \"#0d0887\"], [0.1111111111111111, \"#46039f\"], [0.2222222222222222, \"#7201a8\"], [0.3333333333333333, \"#9c179e\"], [0.4444444444444444, \"#bd3786\"], [0.5555555555555556, \"#d8576b\"], [0.6666666666666666, \"#ed7953\"], [0.7777777777777778, \"#fb9f3a\"], [0.8888888888888888, \"#fdca26\"], [1.0, \"#f0f921\"]], \"type\": \"heatmap\"}], \"heatmapgl\": [{\"colorbar\": {\"outlinewidth\": 0, \"ticks\": \"\"}, \"colorscale\": [[0.0, \"#0d0887\"], [0.1111111111111111, \"#46039f\"], [0.2222222222222222, \"#7201a8\"], [0.3333333333333333, \"#9c179e\"], [0.4444444444444444, \"#bd3786\"], [0.5555555555555556, \"#d8576b\"], [0.6666666666666666, \"#ed7953\"], [0.7777777777777778, \"#fb9f3a\"], [0.8888888888888888, \"#fdca26\"], [1.0, \"#f0f921\"]], \"type\": \"heatmapgl\"}], \"histogram\": [{\"marker\": {\"colorbar\": {\"outlinewidth\": 0, \"ticks\": \"\"}}, \"type\": \"histogram\"}], \"histogram2d\": [{\"colorbar\": {\"outlinewidth\": 0, \"ticks\": \"\"}, \"colorscale\": [[0.0, \"#0d0887\"], [0.1111111111111111, \"#46039f\"], [0.2222222222222222, \"#7201a8\"], [0.3333333333333333, \"#9c179e\"], [0.4444444444444444, \"#bd3786\"], [0.5555555555555556, \"#d8576b\"], [0.6666666666666666, \"#ed7953\"], [0.7777777777777778, \"#fb9f3a\"], [0.8888888888888888, \"#fdca26\"], [1.0, \"#f0f921\"]], \"type\": \"histogram2d\"}], \"histogram2dcontour\": [{\"colorbar\": {\"outlinewidth\": 0, \"ticks\": \"\"}, \"colorscale\": [[0.0, \"#0d0887\"], [0.1111111111111111, \"#46039f\"], [0.2222222222222222, \"#7201a8\"], [0.3333333333333333, \"#9c179e\"], [0.4444444444444444, \"#bd3786\"], [0.5555555555555556, \"#d8576b\"], [0.6666666666666666, \"#ed7953\"], [0.7777777777777778, \"#fb9f3a\"], [0.8888888888888888, \"#fdca26\"], [1.0, \"#f0f921\"]], \"type\": \"histogram2dcontour\"}], \"mesh3d\": [{\"colorbar\": {\"outlinewidth\": 0, \"ticks\": \"\"}, \"type\": \"mesh3d\"}], \"parcoords\": [{\"line\": {\"colorbar\": {\"outlinewidth\": 0, \"ticks\": \"\"}}, \"type\": \"parcoords\"}], \"scatter\": [{\"marker\": {\"colorbar\": {\"outlinewidth\": 0, \"ticks\": \"\"}}, \"type\": \"scatter\"}], \"scatter3d\": [{\"line\": {\"colorbar\": {\"outlinewidth\": 0, \"ticks\": \"\"}}, \"marker\": {\"colorbar\": {\"outlinewidth\": 0, \"ticks\": \"\"}}, \"type\": \"scatter3d\"}], \"scattercarpet\": [{\"marker\": {\"colorbar\": {\"outlinewidth\": 0, \"ticks\": \"\"}}, \"type\": \"scattercarpet\"}], \"scattergeo\": [{\"marker\": {\"colorbar\": {\"outlinewidth\": 0, \"ticks\": \"\"}}, \"type\": \"scattergeo\"}], \"scattergl\": [{\"marker\": {\"colorbar\": {\"outlinewidth\": 0, \"ticks\": \"\"}}, \"type\": \"scattergl\"}], \"scattermapbox\": [{\"marker\": {\"colorbar\": {\"outlinewidth\": 0, \"ticks\": \"\"}}, \"type\": \"scattermapbox\"}], \"scatterpolar\": [{\"marker\": {\"colorbar\": {\"outlinewidth\": 0, \"ticks\": \"\"}}, \"type\": \"scatterpolar\"}], \"scatterpolargl\": [{\"marker\": {\"colorbar\": {\"outlinewidth\": 0, \"ticks\": \"\"}}, \"type\": \"scatterpolargl\"}], \"scatterternary\": [{\"marker\": {\"colorbar\": {\"outlinewidth\": 0, \"ticks\": \"\"}}, \"type\": \"scatterternary\"}], \"surface\": [{\"colorbar\": {\"outlinewidth\": 0, \"ticks\": \"\"}, \"colorscale\": [[0.0, \"#0d0887\"], [0.1111111111111111, \"#46039f\"], [0.2222222222222222, \"#7201a8\"], [0.3333333333333333, \"#9c179e\"], [0.4444444444444444, \"#bd3786\"], [0.5555555555555556, \"#d8576b\"], [0.6666666666666666, \"#ed7953\"], [0.7777777777777778, \"#fb9f3a\"], [0.8888888888888888, \"#fdca26\"], [1.0, \"#f0f921\"]], \"type\": \"surface\"}], \"table\": [{\"cells\": {\"fill\": {\"color\": \"#EBF0F8\"}, \"line\": {\"color\": \"white\"}}, \"header\": {\"fill\": {\"color\": \"#C8D4E3\"}, \"line\": {\"color\": \"white\"}}, \"type\": \"table\"}]}, \"layout\": {\"annotationdefaults\": {\"arrowcolor\": \"#2a3f5f\", \"arrowhead\": 0, \"arrowwidth\": 1}, \"colorscale\": {\"diverging\": [[0, \"#8e0152\"], [0.1, \"#c51b7d\"], [0.2, \"#de77ae\"], [0.3, \"#f1b6da\"], [0.4, \"#fde0ef\"], [0.5, \"#f7f7f7\"], [0.6, \"#e6f5d0\"], [0.7, \"#b8e186\"], [0.8, \"#7fbc41\"], [0.9, \"#4d9221\"], [1, \"#276419\"]], \"sequential\": [[0.0, \"#0d0887\"], [0.1111111111111111, \"#46039f\"], [0.2222222222222222, \"#7201a8\"], [0.3333333333333333, \"#9c179e\"], [0.4444444444444444, \"#bd3786\"], [0.5555555555555556, \"#d8576b\"], [0.6666666666666666, \"#ed7953\"], [0.7777777777777778, \"#fb9f3a\"], [0.8888888888888888, \"#fdca26\"], [1.0, \"#f0f921\"]], \"sequentialminus\": [[0.0, \"#0d0887\"], [0.1111111111111111, \"#46039f\"], [0.2222222222222222, \"#7201a8\"], [0.3333333333333333, \"#9c179e\"], [0.4444444444444444, \"#bd3786\"], [0.5555555555555556, \"#d8576b\"], [0.6666666666666666, \"#ed7953\"], [0.7777777777777778, \"#fb9f3a\"], [0.8888888888888888, \"#fdca26\"], [1.0, \"#f0f921\"]]}, \"colorway\": [\"#636efa\", \"#EF553B\", \"#00cc96\", \"#ab63fa\", \"#FFA15A\", \"#19d3f3\", \"#FF6692\", \"#B6E880\", \"#FF97FF\", \"#FECB52\"], \"font\": {\"color\": \"#2a3f5f\"}, \"geo\": {\"bgcolor\": \"white\", \"lakecolor\": \"white\", \"landcolor\": \"#E5ECF6\", \"showlakes\": true, \"showland\": true, \"subunitcolor\": \"white\"}, \"hoverlabel\": {\"align\": \"left\"}, \"hovermode\": \"closest\", \"mapbox\": {\"style\": \"light\"}, \"paper_bgcolor\": \"white\", \"plot_bgcolor\": \"#E5ECF6\", \"polar\": {\"angularaxis\": {\"gridcolor\": \"white\", \"linecolor\": \"white\", \"ticks\": \"\"}, \"bgcolor\": \"#E5ECF6\", \"radialaxis\": {\"gridcolor\": \"white\", \"linecolor\": \"white\", \"ticks\": \"\"}}, \"scene\": {\"xaxis\": {\"backgroundcolor\": \"#E5ECF6\", \"gridcolor\": \"white\", \"gridwidth\": 2, \"linecolor\": \"white\", \"showbackground\": true, \"ticks\": \"\", \"zerolinecolor\": \"white\"}, \"yaxis\": {\"backgroundcolor\": \"#E5ECF6\", \"gridcolor\": \"white\", \"gridwidth\": 2, \"linecolor\": \"white\", \"showbackground\": true, \"ticks\": \"\", \"zerolinecolor\": \"white\"}, \"zaxis\": {\"backgroundcolor\": \"#E5ECF6\", \"gridcolor\": \"white\", \"gridwidth\": 2, \"linecolor\": \"white\", \"showbackground\": true, \"ticks\": \"\", \"zerolinecolor\": \"white\"}}, \"shapedefaults\": {\"line\": {\"color\": \"#2a3f5f\"}}, \"ternary\": {\"aaxis\": {\"gridcolor\": \"white\", \"linecolor\": \"white\", \"ticks\": \"\"}, \"baxis\": {\"gridcolor\": \"white\", \"linecolor\": \"white\", \"ticks\": \"\"}, \"bgcolor\": \"#E5ECF6\", \"caxis\": {\"gridcolor\": \"white\", \"linecolor\": \"white\", \"ticks\": \"\"}}, \"title\": {\"x\": 0.05}, \"xaxis\": {\"automargin\": true, \"gridcolor\": \"white\", \"linecolor\": \"white\", \"ticks\": \"\", \"zerolinecolor\": \"white\", \"zerolinewidth\": 2}, \"yaxis\": {\"automargin\": true, \"gridcolor\": \"white\", \"linecolor\": \"white\", \"ticks\": \"\", \"zerolinecolor\": \"white\", \"zerolinewidth\": 2}}}, \"title\": {\"text\": \"Min Temp Comparison\"}, \"xaxis\": {\"title\": {\"text\": \"Month\"}}, \"yaxis\": {\"title\": {\"text\": \"Temperature (\\u00b0F)\"}}},\n",
       "                        {\"responsive\": true}\n",
       "                    ).then(function(){\n",
       "                            \n",
       "var gd = document.getElementById('3a909f73-2191-47a9-b971-eeaae2460078');\n",
       "var x = new MutationObserver(function (mutations, observer) {{\n",
       "        var display = window.getComputedStyle(gd).display;\n",
       "        if (!display || display === 'none') {{\n",
       "            console.log([gd, 'removed!']);\n",
       "            Plotly.purge(gd);\n",
       "            observer.disconnect();\n",
       "        }}\n",
       "}});\n",
       "\n",
       "// Listen for the removal of the full notebook cells\n",
       "var notebookContainer = gd.closest('#notebook-container');\n",
       "if (notebookContainer) {{\n",
       "    x.observe(notebookContainer, {childList: true});\n",
       "}}\n",
       "\n",
       "// Listen for the clearing of the current output cell\n",
       "var outputEl = gd.closest('.output');\n",
       "if (outputEl) {{\n",
       "    x.observe(outputEl, {childList: true});\n",
       "}}\n",
       "\n",
       "                        })\n",
       "                };\n",
       "                });\n",
       "            </script>\n",
       "        </div>"
      ]
     },
     "metadata": {},
     "output_type": "display_data"
    }
   ],
   "source": [
    "tmin_fig = go.Figure(data=[go.Bar()],\n",
    "                    layout=go.Layout(title=go.layout.Title(text='Min Temp Comparison'),\n",
    "                                    xaxis=go.layout.XAxis(title=go.layout.xaxis.Title(text='Month')),\n",
    "                                    yaxis=go.layout.YAxis(title=go.layout.yaxis.Title(text='Temperature (°F)'))))\n",
    "\n",
    "tmin_fig.add_trace(go.Bar(x=monthly.month,y=monthly.tmin,name='AKR02'))\n",
    "tmin_fig.add_trace(go.Bar(x=monthly.month,y=monthly.mint,name='Akron A 4 E'))\n",
    "\n",
    "tmin_fig.show()"
   ]
  },
  {
   "cell_type": "code",
   "execution_count": null,
   "metadata": {},
   "outputs": [],
   "source": []
  }
 ],
 "metadata": {
  "kernelspec": {
   "display_name": "Python 3",
   "language": "python",
   "name": "python3"
  },
  "language_info": {
   "codemirror_mode": {
    "name": "ipython",
    "version": 3
   },
   "file_extension": ".py",
   "mimetype": "text/x-python",
   "name": "python",
   "nbconvert_exporter": "python",
   "pygments_lexer": "ipython3",
   "version": "3.7.3"
  },
  "toc": {
   "base_numbering": 1,
   "nav_menu": {},
   "number_sections": true,
   "sideBar": true,
   "skip_h1_title": false,
   "title_cell": "Table of Contents",
   "title_sidebar": "Contents",
   "toc_cell": false,
   "toc_position": {},
   "toc_section_display": true,
   "toc_window_display": false
  },
  "varInspector": {
   "cols": {
    "lenName": 16,
    "lenType": 16,
    "lenVar": 40
   },
   "kernels_config": {
    "python": {
     "delete_cmd_postfix": "",
     "delete_cmd_prefix": "del ",
     "library": "var_list.py",
     "varRefreshCmd": "print(var_dic_list())"
    },
    "r": {
     "delete_cmd_postfix": ") ",
     "delete_cmd_prefix": "rm(",
     "library": "var_list.r",
     "varRefreshCmd": "cat(var_dic_list()) "
    }
   },
   "types_to_exclude": [
    "module",
    "function",
    "builtin_function_or_method",
    "instance",
    "_Feature"
   ],
   "window_display": false
  }
 },
 "nbformat": 4,
 "nbformat_minor": 2
}
