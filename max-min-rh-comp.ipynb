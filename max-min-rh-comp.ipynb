{
 "cells": [
  {
   "cell_type": "code",
   "execution_count": 1,
   "metadata": {},
   "outputs": [],
   "source": [
    "import os\n",
    "import urllib\n",
    "import pandas as pd\n",
    "import plotly.graph_objects as go"
   ]
  },
  {
   "cell_type": "code",
   "execution_count": 3,
   "metadata": {},
   "outputs": [],
   "source": [
    "path = r'C:\\Users\\student\\Documents\\Alistair CoAgMET Projects\\Pythonstuff\\QC\\relative_humidity'\n",
    "os.chdir(path)\n",
    "\n",
    "fmcsv = (path + r'\\fm_csv.csv')\n",
    "dycsv = (path + r'\\dy_csv.csv')\n",
    "\n",
    "f = open(fmcsv,'w+')\n",
    "d = open(fmcsv,'w+')"
   ]
  },
  {
   "cell_type": "code",
   "execution_count": 6,
   "metadata": {},
   "outputs": [],
   "source": [
    "urllib.request.urlretrieve('http://coagmet.colostate.edu/cgi-bin/web_services.pl?type=five_minute' + \n",
    "                          '&sids=rfd01&sdate=1992-06-04&edate=2018-12-31' +\n",
    "                          '&elems=tmean,rh,vp,sr,ws,wind_vec,pp,st5,st15,gust,gustdir',\n",
    "                          filename=fmcsv)\n",
    "fmdf = pd.read_csv(fmcsv)"
   ]
  },
  {
   "cell_type": "code",
   "execution_count": 8,
   "metadata": {},
   "outputs": [],
   "source": [
    "fmdf = fmdf.reset_index()\n",
    "fmdf.columns = ['station','datetime','tmean','rh','vp','sr','ws','wind_vec','pp','st5','st15',\n",
    "               'gust','gustdir']"
   ]
  },
  {
   "cell_type": "code",
   "execution_count": 9,
   "metadata": {},
   "outputs": [],
   "source": [
    "fmdf['datetime'] = pd.to_datetime(fmdf.datetime,errors='coerce')\n",
    "\n",
    "idx_max = fmdf.groupby(fmdf.datetime.dt.date,sort=False)['rh'].idxmax()\n",
    "idx_min = fmdf.groupby(fmdf.datetime.dt.date,sort=False)['rh'].idxmin()\n",
    "\n",
    "fmdf_max = fmdf.loc[idx_max,]\n",
    "fmdf_min = fmdf.loc[idx_min,]"
   ]
  },
  {
   "cell_type": "code",
   "execution_count": null,
   "metadata": {},
   "outputs": [],
   "source": []
  }
 ],
 "metadata": {
  "kernelspec": {
   "display_name": "Python 3",
   "language": "python",
   "name": "python3"
  },
  "language_info": {
   "codemirror_mode": {
    "name": "ipython",
    "version": 3
   },
   "file_extension": ".py",
   "mimetype": "text/x-python",
   "name": "python",
   "nbconvert_exporter": "python",
   "pygments_lexer": "ipython3",
   "version": "3.7.3"
  },
  "toc": {
   "base_numbering": 1,
   "nav_menu": {},
   "number_sections": true,
   "sideBar": true,
   "skip_h1_title": false,
   "title_cell": "Table of Contents",
   "title_sidebar": "Contents",
   "toc_cell": false,
   "toc_position": {},
   "toc_section_display": true,
   "toc_window_display": false
  },
  "varInspector": {
   "cols": {
    "lenName": 16,
    "lenType": 16,
    "lenVar": 40
   },
   "kernels_config": {
    "python": {
     "delete_cmd_postfix": "",
     "delete_cmd_prefix": "del ",
     "library": "var_list.py",
     "varRefreshCmd": "print(var_dic_list())"
    },
    "r": {
     "delete_cmd_postfix": ") ",
     "delete_cmd_prefix": "rm(",
     "library": "var_list.r",
     "varRefreshCmd": "cat(var_dic_list()) "
    }
   },
   "types_to_exclude": [
    "module",
    "function",
    "builtin_function_or_method",
    "instance",
    "_Feature"
   ],
   "window_display": false
  }
 },
 "nbformat": 4,
 "nbformat_minor": 2
}
